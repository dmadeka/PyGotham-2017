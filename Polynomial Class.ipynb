{
 "cells": [
  {
   "cell_type": "code",
   "execution_count": 18,
   "metadata": {
    "collapsed": true
   },
   "outputs": [],
   "source": [
    "import numpy as np\n",
    "from polynomial import FitPolynomial"
   ]
  },
  {
   "cell_type": "code",
   "execution_count": 19,
   "metadata": {
    "collapsed": true
   },
   "outputs": [],
   "source": [
    "x_train = np.linspace(-0.8, 0.8, 10)\n",
    "y_train = 1.1 * (x_train ** 2) + .3 * np.random.randn(x_train.shape[0])"
   ]
  },
  {
   "cell_type": "code",
   "execution_count": 20,
   "metadata": {
    "scrolled": false
   },
   "outputs": [
    {
     "data": {
      "application/vnd.jupyter.widget-view+json": {
       "model_id": "9d547f7c3a744785a1f7cdd2a2eebb9d",
       "version_major": "2",
       "version_minor": "0"
      },
      "text/plain": [
       "A Jupyter Widget"
      ]
     },
     "metadata": {},
     "output_type": "display_data"
    },
    {
     "name": "stderr",
     "output_type": "stream",
     "text": [
      "/Users/maded/dev/SciPy2017/polynomial.py:84: RankWarning: Polyfit may be poorly conditioned\n",
      "  self.y_test = np.polyval(np.polyfit(self.x_train, self.y_train, self.order_slider.value), self.x_test)\n",
      "/Users/maded/dev/SciPy2017/polynomial.py:84: RankWarning: Polyfit may be poorly conditioned\n",
      "  self.y_test = np.polyval(np.polyfit(self.x_train, self.y_train, self.order_slider.value), self.x_test)\n",
      "/Users/maded/dev/SciPy2017/polynomial.py:84: RankWarning: Polyfit may be poorly conditioned\n",
      "  self.y_test = np.polyval(np.polyfit(self.x_train, self.y_train, self.order_slider.value), self.x_test)\n",
      "/Users/maded/dev/SciPy2017/polynomial.py:84: RankWarning: Polyfit may be poorly conditioned\n",
      "  self.y_test = np.polyval(np.polyfit(self.x_train, self.y_train, self.order_slider.value), self.x_test)\n",
      "/Users/maded/dev/SciPy2017/polynomial.py:84: RankWarning: Polyfit may be poorly conditioned\n",
      "  self.y_test = np.polyval(np.polyfit(self.x_train, self.y_train, self.order_slider.value), self.x_test)\n"
     ]
    }
   ],
   "source": [
    "a = FitPolynomial(x_train, y_train)\n",
    "a"
   ]
  },
  {
   "cell_type": "code",
   "execution_count": 21,
   "metadata": {
    "scrolled": true
   },
   "outputs": [],
   "source": [
    "a.x_train = np.linspace(-0.1, 0.1, 10)"
   ]
  },
  {
   "cell_type": "code",
   "execution_count": 22,
   "metadata": {
    "collapsed": true
   },
   "outputs": [],
   "source": [
    "x_train = np.linspace(-0.1, 0.1, 10)\n",
    "y_train = 1.1 * (x_train ** 2) + .3 * np.random.randn(x_train.shape[0])"
   ]
  },
  {
   "cell_type": "code",
   "execution_count": 23,
   "metadata": {},
   "outputs": [
    {
     "data": {
      "application/vnd.jupyter.widget-view+json": {
       "model_id": "8d9796e305ba46009b4f9b87771e21dc",
       "version_major": "2",
       "version_minor": "0"
      },
      "text/plain": [
       "A Jupyter Widget"
      ]
     },
     "metadata": {},
     "output_type": "display_data"
    }
   ],
   "source": [
    "FitPolynomial(x_train, y_train)"
   ]
  },
  {
   "cell_type": "code",
   "execution_count": null,
   "metadata": {
    "collapsed": true
   },
   "outputs": [],
   "source": []
  }
 ],
 "metadata": {
  "kernelspec": {
   "display_name": "Python 3",
   "language": "python",
   "name": "python3"
  },
  "language_info": {
   "codemirror_mode": {
    "name": "ipython",
    "version": 3
   },
   "file_extension": ".py",
   "mimetype": "text/x-python",
   "name": "python",
   "nbconvert_exporter": "python",
   "pygments_lexer": "ipython3",
   "version": "3.6.1"
  }
 },
 "nbformat": 4,
 "nbformat_minor": 2
}
