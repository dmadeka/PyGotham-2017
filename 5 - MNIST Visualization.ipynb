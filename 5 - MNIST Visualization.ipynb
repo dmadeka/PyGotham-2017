{
 "cells": [
  {
   "cell_type": "code",
   "execution_count": 1,
   "metadata": {},
   "outputs": [
    {
     "name": "stderr",
     "output_type": "stream",
     "text": [
      "Using TensorFlow backend.\n"
     ]
    }
   ],
   "source": [
    "from __future__ import print_function\n",
    "from keras.datasets import mnist"
   ]
  },
  {
   "cell_type": "code",
   "execution_count": 2,
   "metadata": {
    "collapsed": true
   },
   "outputs": [],
   "source": [
    "from bqplot import pyplot as plt\n",
    "from bqplot import ColorScale, OrdinalScale, OrdinalColorScale, CATEGORY10\n",
    "from ipywidgets import HBox, VBox, Layout, FloatProgress, Label, IntSlider, Dropdown\n",
    "from IPython.display import display\n",
    "import numpy as np"
   ]
  },
  {
   "cell_type": "code",
   "execution_count": 3,
   "metadata": {
    "collapsed": true
   },
   "outputs": [],
   "source": [
    "batch_size = 128\n",
    "num_classes = 10\n",
    "epochs = 20\n",
    "\n",
    "# input image dimensions\n",
    "img_rows, img_cols = 28, 28\n",
    "\n",
    "# the data, shuffled and split between train and test sets\n",
    "(x_train, y_train), (x_test, y_test) = mnist.load_data()"
   ]
  },
  {
   "cell_type": "code",
   "execution_count": 4,
   "metadata": {},
   "outputs": [
    {
     "name": "stdout",
     "output_type": "stream",
     "text": [
      "x_train shape: (60000, 28, 28)\n",
      "60000 train samples\n",
      "10000 test samples\n"
     ]
    }
   ],
   "source": [
    "x_train = x_train.astype('float32')\n",
    "x_test = x_test.astype('float32')\n",
    "x_train /= 255\n",
    "x_test /= 255\n",
    "print('x_train shape:', x_train.shape)\n",
    "print(x_train.shape[0], 'train samples')\n",
    "print(x_test.shape[0], 'test samples')"
   ]
  },
  {
   "cell_type": "code",
   "execution_count": 5,
   "metadata": {
    "collapsed": true
   },
   "outputs": [],
   "source": [
    "train_test_dd = Dropdown(options=['Train', 'Test'])\n",
    "sel_slid = IntSlider(min=0, max=x_train.shape[0]-1, value=0, description='Index')\n",
    "fig_map = plt.figure()\n",
    "heat_map = plt.heatmap(color=x_train[0][::-1], scales={'color': ColorScale(scheme='Greys')},\n",
    "                      axes_options={'x': {'visible': False},\n",
    "                                    'y': {'visible': False},\n",
    "                                    'color': {'visible': False}})\n",
    "\n",
    "def slid_changed(change):\n",
    "    heat_map.color = x_train[sel_slid.value][::-1]\n",
    "    \n",
    "def dd_changed(change):\n",
    "    sel_slid.value = 0\n",
    "    if train_test_dd.value == 'Train':\n",
    "        sel_slid.max = x_train.shape[0] - 1\n",
    "    else:\n",
    "        sel_slid.max = x_test.shape[0] - 1\n",
    "    \n",
    "    slid_changed(None)\n",
    "    \n",
    "sel_slid.observe(slid_changed, 'value')\n",
    "train_test_dd.observe(dd_changed, 'value')"
   ]
  },
  {
   "cell_type": "code",
   "execution_count": 6,
   "metadata": {},
   "outputs": [
    {
     "data": {
      "application/vnd.jupyter.widget-view+json": {
       "model_id": "d077e9cd284b457c85092957a740761d",
       "version_major": "2",
       "version_minor": "0"
      },
      "text/plain": [
       "A Jupyter Widget"
      ]
     },
     "metadata": {},
     "output_type": "display_data"
    }
   ],
   "source": [
    "VBox([HBox([train_test_dd, sel_slid]), fig_map])"
   ]
  },
  {
   "cell_type": "code",
   "execution_count": 7,
   "metadata": {
    "collapsed": true
   },
   "outputs": [],
   "source": [
    "from sklearn.manifold import TSNE"
   ]
  },
  {
   "cell_type": "code",
   "execution_count": 8,
   "metadata": {
    "collapsed": true
   },
   "outputs": [],
   "source": [
    "n = 500\n",
    "tsne_x = x_train[:n, :, :].reshape(n, 784)"
   ]
  },
  {
   "cell_type": "code",
   "execution_count": 9,
   "metadata": {
    "collapsed": true
   },
   "outputs": [],
   "source": [
    "axes_opt = {'x': {'visible': False},'y': {'visible': False}, 'color': {'visible': False}}"
   ]
  },
  {
   "cell_type": "code",
   "execution_count": 10,
   "metadata": {
    "collapsed": true
   },
   "outputs": [],
   "source": [
    "tsn = TSNE(method='exact')\n",
    "low_x = tsn.fit_transform(tsne_x)"
   ]
  },
  {
   "cell_type": "code",
   "execution_count": 11,
   "metadata": {
    "collapsed": true
   },
   "outputs": [],
   "source": [
    "tt_fig = plt.figure()\n",
    "hmap_sc = ColorScale(scheme='Greys')\n",
    "hmap = plt.heatmap(x_train[0][::-1], scales={'color': hmap_sc}, axes_options=axes_opt)"
   ]
  },
  {
   "cell_type": "code",
   "execution_count": 12,
   "metadata": {
    "collapsed": true
   },
   "outputs": [],
   "source": [
    "fig = plt.figure(title='TSNE with Hover')\n",
    "ind = 1000\n",
    "ord_sc = OrdinalColorScale(colors=CATEGORY10, domain=list(range(10)))\n",
    "scat = plt.scatter(low_x[:ind, 0], low_x[:ind, 1], color=y_train[:ind], tooltip=tt_fig, scales={'color':ord_sc},\n",
    "                  stroke='Black')"
   ]
  },
  {
   "cell_type": "code",
   "execution_count": 13,
   "metadata": {
    "collapsed": true
   },
   "outputs": [],
   "source": [
    "def hovered(name, value):\n",
    "    if scat.hovered_point is not None:\n",
    "        hmap.color = x_train[scat.hovered_point, :, :][::-1]\n",
    "    \n",
    "scat.on_hover(hovered)"
   ]
  },
  {
   "cell_type": "code",
   "execution_count": 14,
   "metadata": {},
   "outputs": [
    {
     "data": {
      "application/vnd.jupyter.widget-view+json": {
       "model_id": "48226a71227e4c3da01784440db8f73e",
       "version_major": "2",
       "version_minor": "0"
      },
      "text/plain": [
       "A Jupyter Widget"
      ]
     },
     "metadata": {},
     "output_type": "display_data"
    }
   ],
   "source": [
    "fig"
   ]
  },
  {
   "cell_type": "code",
   "execution_count": null,
   "metadata": {
    "collapsed": true
   },
   "outputs": [],
   "source": []
  }
 ],
 "metadata": {
  "kernelspec": {
   "display_name": "Python 3",
   "language": "python",
   "name": "python3"
  },
  "language_info": {
   "codemirror_mode": {
    "name": "ipython",
    "version": 3
   },
   "file_extension": ".py",
   "mimetype": "text/x-python",
   "name": "python",
   "nbconvert_exporter": "python",
   "pygments_lexer": "ipython3",
   "version": "3.6.1"
  }
 },
 "nbformat": 4,
 "nbformat_minor": 2
}
