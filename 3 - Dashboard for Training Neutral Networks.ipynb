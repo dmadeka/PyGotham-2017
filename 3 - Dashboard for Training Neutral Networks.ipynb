{
 "cells": [
  {
   "cell_type": "code",
   "execution_count": 1,
   "metadata": {
    "collapsed": true
   },
   "outputs": [],
   "source": [
    "import numpy as np\n",
    "from bqplot import *\n",
    "from bqplot.marks import Graph\n",
    "from ipywidgets import IntSlider, Dropdown, RadioButtons, HBox, VBox, Button, Layout\n",
    "from bqplot import pyplot as plt\n",
    "from bqplot import OrdinalScale\n",
    "\n",
    "from IPython.display import display"
   ]
  },
  {
   "cell_type": "code",
   "execution_count": 2,
   "metadata": {
    "collapsed": true
   },
   "outputs": [],
   "source": [
    "import pandas as pd\n",
    "import numpy as np\n",
    "\n",
    "from sklearn.model_selection import train_test_split\n",
    "\n",
    "np.random.seed(7)\n",
    "data_df_total = pd.read_csv('./data_files/credit-training.csv', index_col=0)\n",
    "result_column = 'SeriousDlqin2yrs'\n",
    "\n",
    "train_idx, test_idx = train_test_split(data_df_total.index.values, test_size=0.3,\n",
    "                                       stratify=data_df_total[result_column])\n",
    "train_data = data_df_total.loc[train_idx]\n",
    "test_data = data_df_total.loc[test_idx]"
   ]
  },
  {
   "cell_type": "code",
   "execution_count": 16,
   "metadata": {
    "scrolled": true
   },
   "outputs": [],
   "source": [
    "X_train = pd.read_csv('data_files/cleaned_train.csv')\n",
    "X_test = pd.read_csv('data_files/cleaned_test.csv')"
   ]
  },
  {
   "cell_type": "code",
   "execution_count": 17,
   "metadata": {
    "collapsed": true
   },
   "outputs": [],
   "source": [
    "y_train = X_train['label']\n",
    "y_test = X_test['label']\n",
    "\n",
    "X_train = X_train.drop('label', axis=1)\n",
    "X_test = X_test.drop('label', axis=1)"
   ]
  },
  {
   "cell_type": "code",
   "execution_count": 6,
   "metadata": {
    "collapsed": true
   },
   "outputs": [],
   "source": [
    "from sklearn.metrics import roc_auc_score, precision_score, recall_score, accuracy_score\n",
    "## Utility functions for model evaluation.\n",
    "def eval_preds(y_true, y_probs, y_preds):\n",
    "    return {'precision': precision_score(y_true, y_preds),\n",
    "            'accuracy': accuracy_score(y_true, y_preds),\n",
    "            'recall': recall_score(y_true, y_preds),\n",
    "            'auc': roc_auc_score(y_true, y_probs)}\n",
    "\n",
    "def get_model_eval(true_train, train_predictions, true_test=None, test_predictions=None):\n",
    "    train_eval = eval_preds(true_train, *train_predictions)\n",
    "    if true_test is None:\n",
    "        return pd.Series(train_eval)\n",
    "    else:\n",
    "        test_eval = eval_preds(true_test, *test_predictions)\n",
    "        return pd.DataFrame([train_eval, test_eval], index=['Train', 'Test'])\n",
    "\n",
    "def probas_to_classes(probas):\n",
    "    return (probas >= 0.5).astype(float)"
   ]
  },
  {
   "cell_type": "code",
   "execution_count": 7,
   "metadata": {
    "scrolled": false
   },
   "outputs": [
    {
     "name": "stderr",
     "output_type": "stream",
     "text": [
      "Using TensorFlow backend.\n"
     ]
    },
    {
     "data": {
      "application/vnd.jupyter.widget-view+json": {
       "model_id": "d85ec18822084aae928bda4559611439",
       "version_major": "2",
       "version_minor": "0"
      },
      "text/plain": [
       "A Jupyter Widget"
      ]
     },
     "metadata": {},
     "output_type": "display_data"
    },
    {
     "name": "stdout",
     "output_type": "stream",
     "text": [
      "Epoch 1/15\n",
      "5s - loss: 0.5777 - acc: 0.7807\n",
      "Epoch 2/15\n",
      "3s - loss: 0.4434 - acc: 0.9150\n",
      "Epoch 3/15\n",
      "3s - loss: 0.3591 - acc: 0.9309\n",
      "Epoch 4/15\n",
      "3s - loss: 0.3059 - acc: 0.9330\n",
      "Epoch 5/15\n",
      "4s - loss: 0.2703 - acc: 0.9338\n",
      "Epoch 6/15\n",
      "3s - loss: 0.2457 - acc: 0.9340\n",
      "Epoch 7/15\n",
      "5s - loss: 0.2301 - acc: 0.9335\n",
      "Epoch 8/15\n",
      "4s - loss: 0.2196 - acc: 0.9336\n",
      "Epoch 9/15\n",
      "3s - loss: 0.2121 - acc: 0.9340\n",
      "Epoch 10/15\n",
      "7s - loss: 0.2074 - acc: 0.9344\n",
      "Epoch 11/15\n",
      "3s - loss: 0.2036 - acc: 0.9342\n",
      "Epoch 12/15\n",
      "3s - loss: 0.2008 - acc: 0.9344\n",
      "Epoch 13/15\n",
      "3s - loss: 0.1984 - acc: 0.9348\n",
      "Epoch 14/15\n",
      "3s - loss: 0.1974 - acc: 0.9346\n",
      "Epoch 15/15\n",
      "3s - loss: 0.1955 - acc: 0.9350\n",
      "       accuracy       auc  precision    recall\n",
      "Train  0.935971  0.832089   0.579258  0.153605\n",
      "Test   0.937067  0.831639   0.602088  0.172540\n"
     ]
    }
   ],
   "source": [
    "## Training the model.\n",
    "num_epochs = 15\n",
    "batch_size = 5000\n",
    "\n",
    "from keras.models import Sequential\n",
    "from keras.layers import Dense\n",
    "from keras.layers import Dropout\n",
    "from keras import regularizers\n",
    "\n",
    "import keras\n",
    "import pandas as pd\n",
    "import keras.backend as K\n",
    "\n",
    "import tensorflow as tf\n",
    "sess = tf.InteractiveSession()\n",
    "K.set_session(sess)\n",
    "\n",
    "sample_weights = np.ones(X_train.shape[0])\n",
    "\n",
    "## callback to compute the gradients\n",
    "class WeightsGradientsCallback(keras.callbacks.Callback):\n",
    "    def __init__(self):\n",
    "        self.gradients = []\n",
    "        self.train_auc = []\n",
    "        self.test_auc = []\n",
    "        self.weights = []\n",
    "    \n",
    "    def on_epoch_end(self, epoch, logs={}):\n",
    "        input_values = [X_train_norm, sample_weights, y_train.values.reshape(-1, 1), 0]\n",
    "        gradient_values = compute_gradients(input_values)\n",
    "        self.gradients.append(gradient_values)\n",
    "        \n",
    "        self.train_auc.append(roc_auc_score(y_train.values.flatten(), \n",
    "                                            self.model.predict(X_train_norm)))\n",
    "        self.test_auc.append(roc_auc_score(y_test.values.flatten(), \n",
    "                                           self.model.predict(X_test_norm)))\n",
    "        \n",
    "        auc_line.x = np.arange(0, epoch + 1)\n",
    "        auc_line.y = [self.train_auc, self.test_auc]\n",
    "        \n",
    "        weights = list(range(len(self.model.layers)))\n",
    "        for i, l in enumerate(self.model.layers):\n",
    "            weights[i] = l.get_weights()\n",
    "        self.weights.append(weights)\n",
    "        \n",
    "class LayerEvalsCallsback(keras.callbacks.Callback):\n",
    "    def __init__(self):\n",
    "        self.train_activs = []\n",
    "        self.test_activs = []\n",
    "        \n",
    "    def on_epoch_end(self, epoch, logs={}):\n",
    "        train_activs = layer_evaluator([X_train_norm, 1.])\n",
    "        test_activs = layer_evaluator([X_test_norm, 1.])\n",
    "        \n",
    "        self.train_activs.append(train_activs)\n",
    "        self.test_activs.append(test_activs)\n",
    "\n",
    "weights_callback = WeightsGradientsCallback()\n",
    "activs_callback = LayerEvalsCallsback()\n",
    "\n",
    "from sklearn.preprocessing import StandardScaler\n",
    "scaler = StandardScaler()\n",
    "\n",
    "X_train_norm = scaler.fit_transform(X_train.values.astype('float'))\n",
    "X_test_norm = scaler.transform(X_test.values.astype('float'))\n",
    "dropout_prob = 0.2\n",
    "\n",
    "model = Sequential()\n",
    "model.add(Dense(20, input_dim=X_train_norm.shape[1], activation='relu'))\n",
    "model.add(Dropout(dropout_prob))\n",
    "\n",
    "model.add(Dense(10, activation='tanh'))\n",
    "model.add(Dense(1, activation='sigmoid'))\n",
    "\n",
    "model.compile(loss='binary_crossentropy', optimizer='adam', \n",
    "              metrics=['accuracy'])\n",
    "\n",
    "## variables for WeightsGradientsCallback:\n",
    "gradients = model.optimizer.get_gradients(model.model.total_loss, \n",
    "                                          model.trainable_weights)\n",
    "input_tensors = [model.model.inputs[0], model.model.sample_weights[0], \n",
    "                 model.model.targets[0], K.learning_phase()]\n",
    "compute_gradients = K.function(inputs=input_tensors, outputs=gradients)   \n",
    "\n",
    "## display figure for WeightsGradientsCallback\n",
    "auc_fig = plt.figure(title='Train and Test AUC vs epoch', legend_location='top-left')\n",
    "auc_line = plt.plot([0], [0], marker='circle', marker_size=32, colors=['DeepSkyBlue', 'Red'], \n",
    "                              labels=['Training', 'Test'], display_legend=True)\n",
    "display(auc_fig)\n",
    "\n",
    "## variables for LayerEvalsCallback\n",
    "inp = model.input                                          \n",
    "outputs = [layer.output for layer in model.layers]         \n",
    "layer_evaluator = K.function([inp]+ [K.learning_phase()], outputs) \n",
    "\n",
    "# Fit the model\n",
    "model.fit(X_train_norm, y_train.values, verbose=2,\n",
    "          epochs=num_epochs, batch_size=batch_size,\n",
    "           callbacks=[weights_callback, activs_callback])\n",
    "\n",
    "train_probs = model.predict(X_train_norm).flatten()\n",
    "train_preds = probas_to_classes(train_probs)\n",
    "\n",
    "test_probs = model.predict(X_test_norm).flatten()\n",
    "test_preds = probas_to_classes(test_probs)\n",
    "\n",
    "\n",
    "model_eval = get_model_eval(y_train, [train_probs, train_preds],\n",
    "                            y_test, [test_probs, test_preds])\n",
    "print(model_eval)\n",
    "sess.close()    "
   ]
  },
  {
   "cell_type": "code",
   "execution_count": 8,
   "metadata": {
    "collapsed": true
   },
   "outputs": [],
   "source": [
    "def get_activations_hist(epoch, layer, node, data='Train'):\n",
    "    if data == 'Train':\n",
    "        activs_array = activs_callback.train_activs\n",
    "    else:\n",
    "        activs_array = activs_callback.test_activs\n",
    "    \n",
    "    if layer >= 1:\n",
    "        layer = layer + 1\n",
    "    layer_activs = activs_array[epoch - 1][layer].T[node]\n",
    "    return layer_activs"
   ]
  },
  {
   "cell_type": "code",
   "execution_count": 9,
   "metadata": {
    "collapsed": true
   },
   "outputs": [],
   "source": [
    "def get_cleaned_weights(weights_mat):\n",
    "    weights_ret = []\n",
    "    for w in weights_mat:\n",
    "        if np.shape(w)[0] == 0:\n",
    "            # this is a dropout layer or a reg layer which does no have weights\n",
    "            pass\n",
    "        else:\n",
    "            weights_ret.append(w)\n",
    "    return weights_ret\n",
    "\n",
    "def get_weights_for_node_at_layer(weights, epoch_num, layer_num, node_num):\n",
    "    # max_layers = len(weights)\n",
    "    layer_params = weights[epoch_num][layer_num]\n",
    "    \n",
    "    layer_weights = layer_params[0]\n",
    "    layer_bias = layer_params[1]\n",
    "    \n",
    "    node_weights = layer_weights[:, node_num]\n",
    "    node_bias = layer_bias[node_num]\n",
    "    \n",
    "    return (node_bias, node_weights)\n",
    "\n",
    "def get_gradients_for_node_at_layer(gradients, epoch_num, layer_num, node_num):\n",
    "    layer_gradients = gradients[epoch_num][2 * layer_num]\n",
    "    layer_bias_gradients = gradients[epoch_num][2 * layer_num + 1]\n",
    "    \n",
    "    node_gradients = layer_gradients[:, node_num]\n",
    "    node_bias_gradiens = layer_bias_gradients[node_num]\n",
    "    \n",
    "    return(node_bias_gradiens, node_gradients)\n",
    "\n",
    "cleaned_weights = []\n",
    "\n",
    "for w in weights_callback.weights:\n",
    "    cleaned_weights.append(get_cleaned_weights(w))"
   ]
  },
  {
   "cell_type": "code",
   "execution_count": 18,
   "metadata": {
    "collapsed": true
   },
   "outputs": [],
   "source": [
    "from neural_net import NeuralNet"
   ]
  },
  {
   "cell_type": "code",
   "execution_count": 19,
   "metadata": {
    "collapsed": true
   },
   "outputs": [],
   "source": [
    "nn = NeuralNet(num_inputs=12, num_hidden_layers=[20, 10], num_outputs=1)\n",
    "\n",
    "epoch_slider = IntSlider(description='Epoch:', min=1, max=num_epochs, value=1)\n",
    "mode_dd = Dropdown(description='View', options=['Weights', 'Gradients', 'Activations'], value='Weights')\n",
    "update_btn = Button(description='Update')\n",
    "\n",
    "bar_figure = plt.figure()\n",
    "bar_plot = plt.bar([], [], scales={'x': OrdinalScale()})\n",
    "\n",
    "hist_figure = plt.figure(title='Histogram of Activations')\n",
    "hist_plot = plt.hist([], bins=20)\n",
    "\n",
    "controls = HBox([epoch_slider, mode_dd, update_btn])\n",
    "nn.graph.tooltip = bar_figure"
   ]
  },
  {
   "cell_type": "code",
   "execution_count": 12,
   "metadata": {
    "scrolled": false
   },
   "outputs": [
    {
     "data": {
      "application/vnd.jupyter.widget-view+json": {
       "model_id": "3e164e955d7e46a0a4a853adc3ac7369",
       "version_major": "2",
       "version_minor": "0"
      },
      "text/plain": [
       "A Jupyter Widget"
      ]
     },
     "metadata": {},
     "output_type": "display_data"
    }
   ],
   "source": [
    "def update_bar_chart(layer, node):\n",
    "    epoch = epoch_slider.value\n",
    "    \n",
    "    if mode_dd.value == 'Activations':\n",
    "        display_vals = get_activations_hist(epoch, layer-1, node)\n",
    "        hist_plot.sample = display_vals\n",
    "        nn.graph.tooltip = hist_figure\n",
    "        hist_figure.title = mode_dd.value + ' for layer:' + str(layer) + ' node: ' + str(node) + ' at epoch: ' + str(epoch)\n",
    "        return\n",
    "\n",
    "    if mode_dd.value == 'Weights':\n",
    "        display_vals = get_weights_for_node_at_layer(cleaned_weights, epoch, layer-1, node)\n",
    "    elif mode_dd.value == 'Gradients':\n",
    "        display_vals = get_gradients_for_node_at_layer(weights_callback.gradients, epoch, layer-1, node)\n",
    "        \n",
    "    return_vals = np.append([display_vals[0]], display_vals[1])\n",
    "    \n",
    "    bar_figure.title = mode_dd.value + ' for layer:' + str(layer) + ' node: ' + str(node) + ' at epoch: ' + str(epoch)\n",
    "    bar_plot.x = np.arange(len(return_vals))\n",
    "    bar_plot.y = return_vals\n",
    "    \n",
    "node_counts = [nn.num_inputs] + nn.num_hidden_layers + [nn.nodes_output_layer]\n",
    "\n",
    "def hovered_change(change):\n",
    "    point_index = change['new']\n",
    "    if point_index is None:\n",
    "        return\n",
    "    else:\n",
    "        for i, n in enumerate(node_counts):\n",
    "            if point_index < n:\n",
    "                break\n",
    "            else:\n",
    "                point_index = point_index - n\n",
    "        if i > 0:\n",
    "            update_bar_chart(i, point_index)\n",
    "    \n",
    "nn.graph.observe(hovered_change, 'hovered_point')\n",
    "\n",
    "VBox([controls, nn], layout=Layout(min_height='1000px'))    "
   ]
  }
 ],
 "metadata": {
  "input_collapsed": false,
  "kernelspec": {
   "display_name": "Python 3",
   "language": "python",
   "name": "python3"
  },
  "language_info": {
   "codemirror_mode": {
    "name": "ipython",
    "version": 3
   },
   "file_extension": ".py",
   "mimetype": "text/x-python",
   "name": "python",
   "nbconvert_exporter": "python",
   "pygments_lexer": "ipython3",
   "version": "3.6.1"
  },
  "widgets": {
   "application/vnd.jupyter.widget-state+json": {
    "state": {
     "0324ccdf292c4a3f9b1ba2bf00975180": {
      "model_module": "@jupyter-widgets/controls",
      "model_module_version": "3.0.0",
      "model_name": "RadioButtonsModel",
      "state": {
       "_options_labels": [
        "Nodes",
        "Layers"
       ],
       "description": "Aggregation",
       "index": 0,
       "layout": "IPY_MODEL_501ac9e6329d47e5a7fb8174bb2c5c84",
       "style": "IPY_MODEL_53ca2cedcc064a9dafb60faa9954018c"
      }
     },
     "0ad5a8af60904e66a99cde9a11669de1": {
      "model_module": "bqplot",
      "model_module_version": "^0.3.0-alpha.1",
      "model_name": "LinearScaleModel",
      "state": {
       "_model_module_version": "^0.3.0-alpha.1",
       "_view_module_version": "^0.3.0-alpha.1",
       "max": 100,
       "min": 0,
       "stabilized": false
      }
     },
     "1456ebd8f87d4642bddfa5ab30dc50cc": {
      "model_module": "bqplot",
      "model_module_version": "^0.3.0-alpha.1",
      "model_name": "BarsModel",
      "state": {
       "_model_module_version": "^0.3.0-alpha.1",
       "_view_module_version": "^0.3.0-alpha.1",
       "color": {
        "type": null,
        "values": null
       },
       "display_legend": false,
       "scales": {
        "x": "IPY_MODEL_391760dddbbf4599a442ed4c37f305e6",
        "y": "IPY_MODEL_1908c59df4c543909ab63e1be1435050"
       },
       "selected": [],
       "x": {
        "type": "float",
        "values": [
         0,
         1,
         2,
         3,
         4,
         5,
         6,
         7,
         8,
         9,
         10,
         11,
         12
        ]
       },
       "y": {
        "type": "float",
        "values": [
         -0.04362702742218971,
         -0.28676337003707886,
         -0.1761043816804886,
         0.1581498235464096,
         -0.3629445731639862,
         0.20405158400535583,
         0.1925378441810608,
         0.18305829167366028,
         0.07588446885347366,
         0.18733079731464386,
         -0.25595778226852417,
         0.016042450442910194,
         0.22553013265132904
        ]
       }
      }
     },
     "1908c59df4c543909ab63e1be1435050": {
      "model_module": "bqplot",
      "model_module_version": "^0.3.0-alpha.1",
      "model_name": "LinearScaleModel",
      "state": {
       "_model_module_version": "^0.3.0-alpha.1",
       "_view_module_version": "^0.3.0-alpha.1",
       "stabilized": false
      }
     },
     "1fba8c3ad1dc44c2859297402b7539b0": {
      "model_module": "bqplot",
      "model_module_version": "^0.3.0-alpha.1",
      "model_name": "LinearScaleModel",
      "state": {
       "_model_module_version": "^0.3.0-alpha.1",
       "_view_module_version": "^0.3.0-alpha.1",
       "max": 100,
       "min": 0,
       "stabilized": false
      }
     },
     "2948531784ba44879b8a9652addd3571": {
      "model_module": "bqplot",
      "model_module_version": "^0.3.0-alpha.1",
      "model_name": "AxisModel",
      "state": {
       "_model_module_version": "^0.3.0-alpha.1",
       "_view_module_version": "^0.3.0-alpha.1",
       "scale": "IPY_MODEL_391760dddbbf4599a442ed4c37f305e6",
       "side": "bottom",
       "tick_values": {
        "type": null,
        "values": null
       }
      }
     },
     "2e3455bcc435446998fee87756cac406": {
      "model_module": "@jupyter-widgets/controls",
      "model_module_version": "3.0.0",
      "model_name": "SliderStyleModel",
      "state": {
       "description_width": ""
      }
     },
     "391760dddbbf4599a442ed4c37f305e6": {
      "model_module": "bqplot",
      "model_module_version": "^0.3.0-alpha.1",
      "model_name": "OrdinalScaleModel",
      "state": {
       "_model_module_version": "^0.3.0-alpha.1",
       "_view_module_version": "^0.3.0-alpha.1",
       "domain": []
      }
     },
     "39fe5cf3000f4c218b5053db157160ed": {
      "model_module": "@jupyter-widgets/controls",
      "model_module_version": "3.0.0",
      "model_name": "ButtonStyleModel",
      "state": {
       "_model_module": "@jupyter-widgets/controls",
       "_view_module": "@jupyter-widgets/controls"
      }
     },
     "4281c005f9d943db951217c0a04b44cb": {
      "model_module": "bqplot",
      "model_module_version": "^0.3.0-alpha.1",
      "model_name": "LinearScaleModel",
      "state": {
       "_model_module_version": "^0.3.0-alpha.1",
       "_view_module_version": "^0.3.0-alpha.1",
       "allow_padding": false,
       "max": 1,
       "min": 0,
       "stabilized": false
      }
     },
     "4285dd1a6623415da266e452c1e7de63": {
      "model_module": "@jupyter-widgets/base",
      "model_module_version": "3.0.0",
      "model_name": "LayoutModel",
      "state": {
       "min_width": "125px"
      }
     },
     "501ac9e6329d47e5a7fb8174bb2c5c84": {
      "model_module": "@jupyter-widgets/base",
      "model_module_version": "3.0.0",
      "model_name": "LayoutModel",
      "state": {}
     },
     "51c04a54892f4498984ec544cc8cc243": {
      "model_module": "bqplot",
      "model_module_version": "^0.3.0-alpha.1",
      "model_name": "LinearScaleModel",
      "state": {
       "_model_module_version": "^0.3.0-alpha.1",
       "_view_module_version": "^0.3.0-alpha.1",
       "allow_padding": false,
       "max": 1,
       "min": 0,
       "stabilized": false
      }
     },
     "53ca2cedcc064a9dafb60faa9954018c": {
      "model_module": "@jupyter-widgets/controls",
      "model_module_version": "3.0.0",
      "model_name": "DescriptionStyleModel",
      "state": {
       "description_width": ""
      }
     },
     "559f12feb29a462db4b1ea292a2b967b": {
      "model_module": "@jupyter-widgets/controls",
      "model_module_version": "3.0.0",
      "model_name": "ButtonModel",
      "state": {
       "description": "Update",
       "layout": "IPY_MODEL_9c23708734a24c04acdc2849f31c8dc7",
       "style": "IPY_MODEL_39fe5cf3000f4c218b5053db157160ed"
      }
     },
     "59ceddebdda2418aa3ea33ab1f280ae7": {
      "model_module": "bqplot",
      "model_module_version": "^0.3.0-alpha.1",
      "model_name": "GraphModel",
      "state": {
       "_model_module": "bqplot",
       "_model_module_version": "^0.3.0-alpha.1",
       "_view_count": null,
       "_view_module": "bqplot",
       "_view_module_version": "^0.3.0-alpha.1",
       "apply_clip": true,
       "charge": -600,
       "color": {
        "type": null,
        "values": null
       },
       "colors": [
        "Orange",
        "Orange",
        "Orange",
        "Orange",
        "Orange",
        "Orange",
        "Orange",
        "Orange",
        "Orange",
        "Orange",
        "Orange",
        "Orange",
        "Orange",
        "Orange",
        "Orange",
        "Orange",
        "Orange",
        "Orange",
        "Orange",
        "Orange",
        "Orange",
        "Orange",
        "Orange",
        "Orange",
        "Orange",
        "Orange",
        "Orange",
        "Orange",
        "Orange",
        "Orange",
        "Orange",
        "Orange",
        "Orange",
        "Orange",
        "Orange",
        "Orange",
        "Orange",
        "Orange",
        "Orange",
        "Orange",
        "Orange",
        "Orange",
        "Orange"
       ],
       "directed": false,
       "display_legend": false,
       "enable_hover": true,
       "highlight_links": true,
       "hovered_style": {
        "stroke": "1.5"
       },
       "interactions": {
        "click": "select",
        "hover": "tooltip"
       },
       "labels": [],
       "link_color": {
        "type": "float",
        "values": []
       },
       "link_data": [
        {
         "source": {
          "fixed": 0,
          "index": 0,
          "label": "x1",
          "label_display": "none",
          "px": 529.101806297863,
          "py": 355.7203247943226,
          "shape": "circle",
          "shape_attrs": {
           "r": 15
          },
          "value": null,
          "weight": 20,
          "x": 529.101806297863,
          "xval": 20,
          "y": 355.7203247943226,
          "yval": 92.3076923076923
         },
         "target": {
          "fixed": 0,
          "index": 12,
          "label": "h1,1",
          "label_display": "none",
          "px": 438.30653773859984,
          "py": 377.7211018453636,
          "shape": "circle",
          "shape_attrs": {
           "r": 15
          },
          "value": null,
          "weight": 22,
          "x": 438.30653773859984,
          "xval": 40,
          "y": 377.7211018453636,
          "yval": 95.23809523809524
         },
         "value": 1
        },
        {
         "source": {
          "fixed": 0,
          "index": 0,
          "label": "x1",
          "label_display": "none",
          "px": 529.101806297863,
          "py": 355.7203247943226,
          "shape": "circle",
          "shape_attrs": {
           "r": 15
          },
          "value": null,
          "weight": 20,
          "x": 529.101806297863,
          "xval": 20,
          "y": 355.7203247943226,
          "yval": 92.3076923076923
         },
         "target": {
          "fixed": 0,
          "index": 13,
          "label": "h1,2",
          "label_display": "none",
          "px": 445.4830710949258,
          "py": 407.40580969271514,
          "shape": "circle",
          "shape_attrs": {
           "r": 15
          },
          "value": null,
          "weight": 22,
          "x": 445.4830710949258,
          "xval": 40,
          "y": 407.40580969271514,
          "yval": 90.47619047619048
         },
         "value": 1
        },
        {
         "source": {
          "fixed": 0,
          "index": 0,
          "label": "x1",
          "label_display": "none",
          "px": 529.101806297863,
          "py": 355.7203247943226,
          "shape": "circle",
          "shape_attrs": {
           "r": 15
          },
          "value": null,
          "weight": 20,
          "x": 529.101806297863,
          "xval": 20,
          "y": 355.7203247943226,
          "yval": 92.3076923076923
         },
         "target": {
          "fixed": 0,
          "index": 14,
          "label": "h1,3",
          "label_display": "none",
          "px": 440.09389561772593,
          "py": 384.9913547714818,
          "shape": "circle",
          "shape_attrs": {
           "r": 15
          },
          "value": null,
          "weight": 22,
          "x": 440.09389561772593,
          "xval": 40,
          "y": 384.9913547714818,
          "yval": 85.71428571428571
         },
         "value": 1
        },
        {
         "source": {
          "fixed": 0,
          "index": 0,
          "label": "x1",
          "label_display": "none",
          "px": 529.101806297863,
          "py": 355.7203247943226,
          "shape": "circle",
          "shape_attrs": {
           "r": 15
          },
          "value": null,
          "weight": 20,
          "x": 529.101806297863,
          "xval": 20,
          "y": 355.7203247943226,
          "yval": 92.3076923076923
         },
         "target": {
          "index": 15,
          "label": "h1,4",
          "label_display": "none",
          "px": 442.03390585799406,
          "py": 393.18624031821906,
          "shape": "circle",
          "shape_attrs": {
           "r": 15
          },
          "value": null,
          "weight": 22,
          "x": 442.0252187451049,
          "xval": 40,
          "y": 393.18099926055953,
          "yval": 80.95238095238095
         },
         "value": 1
        },
        {
         "source": {
          "fixed": 0,
          "index": 0,
          "label": "x1",
          "label_display": "none",
          "px": 529.101806297863,
          "py": 355.7203247943226,
          "shape": "circle",
          "shape_attrs": {
           "r": 15
          },
          "value": null,
          "weight": 20,
          "x": 529.101806297863,
          "xval": 20,
          "y": 355.7203247943226,
          "yval": 92.3076923076923
         },
         "target": {
          "fixed": 0,
          "index": 16,
          "label": "h1,5",
          "label_display": "none",
          "px": 439.3038323400098,
          "py": 381.26898657152276,
          "shape": "circle",
          "shape_attrs": {
           "r": 15
          },
          "value": null,
          "weight": 22,
          "x": 439.3038323400098,
          "xval": 40,
          "y": 381.26898657152276,
          "yval": 76.19047619047619
         },
         "value": 1
        },
        {
         "source": {
          "fixed": 0,
          "index": 0,
          "label": "x1",
          "label_display": "none",
          "px": 529.101806297863,
          "py": 355.7203247943226,
          "shape": "circle",
          "shape_attrs": {
           "r": 15
          },
          "value": null,
          "weight": 20,
          "x": 529.101806297863,
          "xval": 20,
          "y": 355.7203247943226,
          "yval": 92.3076923076923
         },
         "target": {
          "index": 17,
          "label": "h1,6",
          "label_display": "none",
          "px": 436.1763853376012,
          "py": 367.0391092191069,
          "shape": "circle",
          "shape_attrs": {
           "r": 15
          },
          "value": null,
          "weight": 22,
          "x": 436.1319756129927,
          "xval": 40,
          "y": 366.9193372066237,
          "yval": 71.42857142857143
         },
         "value": 1
        },
        {
         "source": {
          "fixed": 0,
          "index": 0,
          "label": "x1",
          "label_display": "none",
          "px": 529.101806297863,
          "py": 355.7203247943226,
          "shape": "circle",
          "shape_attrs": {
           "r": 15
          },
          "value": null,
          "weight": 20,
          "x": 529.101806297863,
          "xval": 20,
          "y": 355.7203247943226,
          "yval": 92.3076923076923
         },
         "target": {
          "index": 18,
          "label": "h1,7",
          "label_display": "none",
          "px": 444.28747307460884,
          "py": 402.5857074144147,
          "shape": "circle",
          "shape_attrs": {
           "r": 15
          },
          "value": null,
          "weight": 22,
          "x": 444.28189322820117,
          "xval": 40,
          "y": 402.5864217166488,
          "yval": 66.66666666666667
         },
         "value": 1
        },
        {
         "source": {
          "fixed": 0,
          "index": 0,
          "label": "x1",
          "label_display": "none",
          "px": 529.101806297863,
          "py": 355.7203247943226,
          "shape": "circle",
          "shape_attrs": {
           "r": 15
          },
          "value": null,
          "weight": 20,
          "x": 529.101806297863,
          "xval": 20,
          "y": 355.7203247943226,
          "yval": 92.3076923076923
         },
         "target": {
          "index": 19,
          "label": "h1,8",
          "label_display": "none",
          "px": 436.96694163354766,
          "py": 370.835219648978,
          "shape": "circle",
          "shape_attrs": {
           "r": 15
          },
          "value": null,
          "weight": 22,
          "x": 436.93081668870667,
          "xval": 40,
          "y": 370.7487234007221,
          "yval": 61.904761904761905
         },
         "value": 1
        },
        {
         "source": {
          "fixed": 0,
          "index": 0,
          "label": "x1",
          "label_display": "none",
          "px": 529.101806297863,
          "py": 355.7203247943226,
          "shape": "circle",
          "shape_attrs": {
           "r": 15
          },
          "value": null,
          "weight": 20,
          "x": 529.101806297863,
          "xval": 20,
          "y": 355.7203247943226,
          "yval": 92.3076923076923
         },
         "target": {
          "index": 20,
          "label": "h1,9",
          "label_display": "none",
          "px": 443.12903262452926,
          "py": 397.77183731760726,
          "shape": "circle",
          "shape_attrs": {
           "r": 15
          },
          "value": null,
          "weight": 22,
          "x": 443.1225250371738,
          "xval": 40,
          "y": 397.77048960247726,
          "yval": 57.14285714285714
         },
         "value": 1
        },
        {
         "source": {
          "fixed": 0,
          "index": 0,
          "label": "x1",
          "label_display": "none",
          "px": 529.101806297863,
          "py": 355.7203247943226,
          "shape": "circle",
          "shape_attrs": {
           "r": 15
          },
          "value": null,
          "weight": 20,
          "x": 529.101806297863,
          "xval": 20,
          "y": 355.7203247943226,
          "yval": 92.3076923076923
         },
         "target": {
          "index": 21,
          "label": "h1,10",
          "label_display": "none",
          "px": 453.47719733511025,
          "py": 437.1791317957166,
          "shape": "circle",
          "shape_attrs": {
           "r": 15
          },
          "value": null,
          "weight": 22,
          "x": 453.50705008596486,
          "xval": 40,
          "y": 437.28186603254966,
          "yval": 52.38095238095238
         },
         "value": 1
        },
        {
         "source": {
          "fixed": 0,
          "index": 0,
          "label": "x1",
          "label_display": "none",
          "px": 529.101806297863,
          "py": 355.7203247943226,
          "shape": "circle",
          "shape_attrs": {
           "r": 15
          },
          "value": null,
          "weight": 20,
          "x": 529.101806297863,
          "xval": 20,
          "y": 355.7203247943226,
          "yval": 92.3076923076923
         },
         "target": {
          "index": 22,
          "label": "h1,11",
          "label_display": "none",
          "px": 450.6931880317312,
          "py": 427.36854915169533,
          "shape": "circle",
          "shape_attrs": {
           "r": 15
          },
          "value": null,
          "weight": 22,
          "x": 450.70224459711284,
          "xval": 40,
          "y": 427.40707742900895,
          "yval": 47.61904761904762
         },
         "value": 1
        },
        {
         "source": {
          "fixed": 0,
          "index": 0,
          "label": "x1",
          "label_display": "none",
          "px": 529.101806297863,
          "py": 355.7203247943226,
          "shape": "circle",
          "shape_attrs": {
           "r": 15
          },
          "value": null,
          "weight": 20,
          "x": 529.101806297863,
          "xval": 20,
          "y": 355.7203247943226,
          "yval": 92.3076923076923
         },
         "target": {
          "index": 23,
          "label": "h1,12",
          "label_display": "none",
          "px": 451.616956869591,
          "py": 430.68399636795544,
          "shape": "circle",
          "shape_attrs": {
           "r": 15
          },
          "value": null,
          "weight": 22,
          "x": 451.6308613454441,
          "xval": 40,
          "y": 430.73607807474326,
          "yval": 42.857142857142854
         },
         "value": 1
        },
        {
         "source": {
          "fixed": 0,
          "index": 0,
          "label": "x1",
          "label_display": "none",
          "px": 529.101806297863,
          "py": 355.7203247943226,
          "shape": "circle",
          "shape_attrs": {
           "r": 15
          },
          "value": null,
          "weight": 20,
          "x": 529.101806297863,
          "xval": 20,
          "y": 355.7203247943226,
          "yval": 92.3076923076923
         },
         "target": {
          "index": 24,
          "label": "h1,13",
          "label_display": "none",
          "px": 449.7701933541918,
          "py": 423.95395938325044,
          "shape": "circle",
          "shape_attrs": {
           "r": 15
          },
          "value": null,
          "weight": 22,
          "x": 449.77543161498545,
          "xval": 40,
          "y": 423.979666438766,
          "yval": 38.095238095238095
         },
         "value": 1
        },
        {
         "source": {
          "fixed": 0,
          "index": 0,
          "label": "x1",
          "label_display": "none",
          "px": 529.101806297863,
          "py": 355.7203247943226,
          "shape": "circle",
          "shape_attrs": {
           "r": 15
          },
          "value": null,
          "weight": 20,
          "x": 529.101806297863,
          "xval": 20,
          "y": 355.7203247943226,
          "yval": 92.3076923076923
         },
         "target": {
          "index": 25,
          "label": "h1,14",
          "label_display": "none",
          "px": 447.77652249109667,
          "py": 416.4027794386295,
          "shape": "circle",
          "shape_attrs": {
           "r": 15
          },
          "value": null,
          "weight": 22,
          "x": 447.77533228674633,
          "xval": 40,
          "y": 416.4089800756498,
          "yval": 33.333333333333336
         },
         "value": 1
        },
        {
         "source": {
          "fixed": 0,
          "index": 0,
          "label": "x1",
          "label_display": "none",
          "px": 529.101806297863,
          "py": 355.7203247943226,
          "shape": "circle",
          "shape_attrs": {
           "r": 15
          },
          "value": null,
          "weight": 20,
          "x": 529.101806297863,
          "xval": 20,
          "y": 355.7203247943226,
          "yval": 92.3076923076923
         },
         "target": {
          "fixed": 0,
          "index": 26,
          "label": "h1,15",
          "label_display": "none",
          "px": 437.84986949367203,
          "py": 374.25132654913494,
          "shape": "circle",
          "shape_attrs": {
           "r": 15
          },
          "value": null,
          "weight": 22,
          "x": 437.84986949367203,
          "xval": 40,
          "y": 374.25132654913494,
          "yval": 28.57142857142857
         },
         "value": 1
        },
        {
         "source": {
          "fixed": 0,
          "index": 0,
          "label": "x1",
          "label_display": "none",
          "px": 529.101806297863,
          "py": 355.7203247943226,
          "shape": "circle",
          "shape_attrs": {
           "r": 15
          },
          "value": null,
          "weight": 20,
          "x": 529.101806297863,
          "xval": 20,
          "y": 355.7203247943226,
          "yval": 92.3076923076923
         },
         "target": {
          "index": 27,
          "label": "h1,16",
          "label_display": "none",
          "px": 441.03312194188425,
          "py": 388.9301428056495,
          "shape": "circle",
          "shape_attrs": {
           "r": 15
          },
          "value": null,
          "weight": 22,
          "x": 441.0223311760983,
          "xval": 40,
          "y": 388.9201492326303,
          "yval": 23.80952380952381
         },
         "value": 1
        },
        {
         "source": {
          "fixed": 0,
          "index": 0,
          "label": "x1",
          "label_display": "none",
          "px": 529.101806297863,
          "py": 355.7203247943226,
          "shape": "circle",
          "shape_attrs": {
           "r": 15
          },
          "value": null,
          "weight": 20,
          "x": 529.101806297863,
          "xval": 20,
          "y": 355.7203247943226,
          "yval": 92.3076923076923
         },
         "target": {
          "index": 28,
          "label": "h1,17",
          "label_display": "none",
          "px": 448.80878786875905,
          "py": 420.35138343623464,
          "shape": "circle",
          "shape_attrs": {
           "r": 15
          },
          "value": null,
          "weight": 22,
          "x": 448.8091799805161,
          "xval": 40,
          "y": 420.3610019925185,
          "yval": 19.047619047619047
         },
         "value": 1
        },
        {
         "source": {
          "fixed": 0,
          "index": 0,
          "label": "x1",
          "label_display": "none",
          "px": 529.101806297863,
          "py": 355.7203247943226,
          "shape": "circle",
          "shape_attrs": {
           "r": 15
          },
          "value": null,
          "weight": 20,
          "x": 529.101806297863,
          "xval": 20,
          "y": 355.7203247943226,
          "yval": 92.3076923076923
         },
         "target": {
          "index": 29,
          "label": "h1,18",
          "label_display": "none",
          "px": 446.66133336839465,
          "py": 412.06746080603597,
          "shape": "circle",
          "shape_attrs": {
           "r": 15
          },
          "value": null,
          "weight": 22,
          "x": 446.65836227806636,
          "xval": 40,
          "y": 412.06979862465556,
          "yval": 14.285714285714285
         },
         "value": 1
        },
        {
         "source": {
          "fixed": 0,
          "index": 0,
          "label": "x1",
          "label_display": "none",
          "px": 529.101806297863,
          "py": 355.7203247943226,
          "shape": "circle",
          "shape_attrs": {
           "r": 15
          },
          "value": null,
          "weight": 20,
          "x": 529.101806297863,
          "xval": 20,
          "y": 355.7203247943226,
          "yval": 92.3076923076923
         },
         "target": {
          "index": 30,
          "label": "h1,19",
          "label_display": "none",
          "px": 454.5331839788234,
          "py": 440.7353981371751,
          "shape": "circle",
          "shape_attrs": {
           "r": 15
          },
          "value": null,
          "weight": 22,
          "x": 454.57338727966345,
          "xval": 40,
          "y": 440.870029182474,
          "yval": 9.523809523809524
         },
         "value": 1
        },
        {
         "source": {
          "fixed": 0,
          "index": 0,
          "label": "x1",
          "label_display": "none",
          "px": 529.101806297863,
          "py": 355.7203247943226,
          "shape": "circle",
          "shape_attrs": {
           "r": 15
          },
          "value": null,
          "weight": 20,
          "x": 529.101806297863,
          "xval": 20,
          "y": 355.7203247943226,
          "yval": 92.3076923076923
         },
         "target": {
          "index": 31,
          "label": "h1,20",
          "label_display": "none",
          "px": 452.51111853060013,
          "py": 433.8924336038177,
          "shape": "circle",
          "shape_attrs": {
           "r": 15
          },
          "value": null,
          "weight": 22,
          "x": 452.53198152903235,
          "xval": 40,
          "y": 433.96970392214837,
          "yval": 4.761904761904762
         },
         "value": 1
        },
        {
         "source": {
          "index": 1,
          "label": "x2",
          "label_display": "none",
          "px": 531.8832380514635,
          "py": 361.09275997017016,
          "shape": "circle",
          "shape_attrs": {
           "r": 15
          },
          "value": null,
          "weight": 20,
          "x": 531.8893505016846,
          "xval": 20,
          "y": 361.0113644764516,
          "yval": 84.61538461538461
         },
         "target": {
          "fixed": 0,
          "index": 12,
          "label": "h1,1",
          "label_display": "none",
          "px": 438.30653773859984,
          "py": 377.7211018453636,
          "shape": "circle",
          "shape_attrs": {
           "r": 15
          },
          "value": null,
          "weight": 22,
          "x": 438.30653773859984,
          "xval": 40,
          "y": 377.7211018453636,
          "yval": 95.23809523809524
         },
         "value": 1
        },
        {
         "source": {
          "index": 1,
          "label": "x2",
          "label_display": "none",
          "px": 531.8832380514635,
          "py": 361.09275997017016,
          "shape": "circle",
          "shape_attrs": {
           "r": 15
          },
          "value": null,
          "weight": 20,
          "x": 531.8893505016846,
          "xval": 20,
          "y": 361.0113644764516,
          "yval": 84.61538461538461
         },
         "target": {
          "fixed": 0,
          "index": 13,
          "label": "h1,2",
          "label_display": "none",
          "px": 445.4830710949258,
          "py": 407.40580969271514,
          "shape": "circle",
          "shape_attrs": {
           "r": 15
          },
          "value": null,
          "weight": 22,
          "x": 445.4830710949258,
          "xval": 40,
          "y": 407.40580969271514,
          "yval": 90.47619047619048
         },
         "value": 1
        },
        {
         "source": {
          "index": 1,
          "label": "x2",
          "label_display": "none",
          "px": 531.8832380514635,
          "py": 361.09275997017016,
          "shape": "circle",
          "shape_attrs": {
           "r": 15
          },
          "value": null,
          "weight": 20,
          "x": 531.8893505016846,
          "xval": 20,
          "y": 361.0113644764516,
          "yval": 84.61538461538461
         },
         "target": {
          "fixed": 0,
          "index": 14,
          "label": "h1,3",
          "label_display": "none",
          "px": 440.09389561772593,
          "py": 384.9913547714818,
          "shape": "circle",
          "shape_attrs": {
           "r": 15
          },
          "value": null,
          "weight": 22,
          "x": 440.09389561772593,
          "xval": 40,
          "y": 384.9913547714818,
          "yval": 85.71428571428571
         },
         "value": 1
        },
        {
         "source": {
          "index": 1,
          "label": "x2",
          "label_display": "none",
          "px": 531.8832380514635,
          "py": 361.09275997017016,
          "shape": "circle",
          "shape_attrs": {
           "r": 15
          },
          "value": null,
          "weight": 20,
          "x": 531.8893505016846,
          "xval": 20,
          "y": 361.0113644764516,
          "yval": 84.61538461538461
         },
         "target": {
          "index": 15,
          "label": "h1,4",
          "label_display": "none",
          "px": 442.03390585799406,
          "py": 393.18624031821906,
          "shape": "circle",
          "shape_attrs": {
           "r": 15
          },
          "value": null,
          "weight": 22,
          "x": 442.0252187451049,
          "xval": 40,
          "y": 393.18099926055953,
          "yval": 80.95238095238095
         },
         "value": 1
        },
        {
         "source": {
          "index": 1,
          "label": "x2",
          "label_display": "none",
          "px": 531.8832380514635,
          "py": 361.09275997017016,
          "shape": "circle",
          "shape_attrs": {
           "r": 15
          },
          "value": null,
          "weight": 20,
          "x": 531.8893505016846,
          "xval": 20,
          "y": 361.0113644764516,
          "yval": 84.61538461538461
         },
         "target": {
          "fixed": 0,
          "index": 16,
          "label": "h1,5",
          "label_display": "none",
          "px": 439.3038323400098,
          "py": 381.26898657152276,
          "shape": "circle",
          "shape_attrs": {
           "r": 15
          },
          "value": null,
          "weight": 22,
          "x": 439.3038323400098,
          "xval": 40,
          "y": 381.26898657152276,
          "yval": 76.19047619047619
         },
         "value": 1
        },
        {
         "source": {
          "index": 1,
          "label": "x2",
          "label_display": "none",
          "px": 531.8832380514635,
          "py": 361.09275997017016,
          "shape": "circle",
          "shape_attrs": {
           "r": 15
          },
          "value": null,
          "weight": 20,
          "x": 531.8893505016846,
          "xval": 20,
          "y": 361.0113644764516,
          "yval": 84.61538461538461
         },
         "target": {
          "index": 17,
          "label": "h1,6",
          "label_display": "none",
          "px": 436.1763853376012,
          "py": 367.0391092191069,
          "shape": "circle",
          "shape_attrs": {
           "r": 15
          },
          "value": null,
          "weight": 22,
          "x": 436.1319756129927,
          "xval": 40,
          "y": 366.9193372066237,
          "yval": 71.42857142857143
         },
         "value": 1
        },
        {
         "source": {
          "index": 1,
          "label": "x2",
          "label_display": "none",
          "px": 531.8832380514635,
          "py": 361.09275997017016,
          "shape": "circle",
          "shape_attrs": {
           "r": 15
          },
          "value": null,
          "weight": 20,
          "x": 531.8893505016846,
          "xval": 20,
          "y": 361.0113644764516,
          "yval": 84.61538461538461
         },
         "target": {
          "index": 18,
          "label": "h1,7",
          "label_display": "none",
          "px": 444.28747307460884,
          "py": 402.5857074144147,
          "shape": "circle",
          "shape_attrs": {
           "r": 15
          },
          "value": null,
          "weight": 22,
          "x": 444.28189322820117,
          "xval": 40,
          "y": 402.5864217166488,
          "yval": 66.66666666666667
         },
         "value": 1
        },
        {
         "source": {
          "index": 1,
          "label": "x2",
          "label_display": "none",
          "px": 531.8832380514635,
          "py": 361.09275997017016,
          "shape": "circle",
          "shape_attrs": {
           "r": 15
          },
          "value": null,
          "weight": 20,
          "x": 531.8893505016846,
          "xval": 20,
          "y": 361.0113644764516,
          "yval": 84.61538461538461
         },
         "target": {
          "index": 19,
          "label": "h1,8",
          "label_display": "none",
          "px": 436.96694163354766,
          "py": 370.835219648978,
          "shape": "circle",
          "shape_attrs": {
           "r": 15
          },
          "value": null,
          "weight": 22,
          "x": 436.93081668870667,
          "xval": 40,
          "y": 370.7487234007221,
          "yval": 61.904761904761905
         },
         "value": 1
        },
        {
         "source": {
          "index": 1,
          "label": "x2",
          "label_display": "none",
          "px": 531.8832380514635,
          "py": 361.09275997017016,
          "shape": "circle",
          "shape_attrs": {
           "r": 15
          },
          "value": null,
          "weight": 20,
          "x": 531.8893505016846,
          "xval": 20,
          "y": 361.0113644764516,
          "yval": 84.61538461538461
         },
         "target": {
          "index": 20,
          "label": "h1,9",
          "label_display": "none",
          "px": 443.12903262452926,
          "py": 397.77183731760726,
          "shape": "circle",
          "shape_attrs": {
           "r": 15
          },
          "value": null,
          "weight": 22,
          "x": 443.1225250371738,
          "xval": 40,
          "y": 397.77048960247726,
          "yval": 57.14285714285714
         },
         "value": 1
        },
        {
         "source": {
          "index": 1,
          "label": "x2",
          "label_display": "none",
          "px": 531.8832380514635,
          "py": 361.09275997017016,
          "shape": "circle",
          "shape_attrs": {
           "r": 15
          },
          "value": null,
          "weight": 20,
          "x": 531.8893505016846,
          "xval": 20,
          "y": 361.0113644764516,
          "yval": 84.61538461538461
         },
         "target": {
          "index": 21,
          "label": "h1,10",
          "label_display": "none",
          "px": 453.47719733511025,
          "py": 437.1791317957166,
          "shape": "circle",
          "shape_attrs": {
           "r": 15
          },
          "value": null,
          "weight": 22,
          "x": 453.50705008596486,
          "xval": 40,
          "y": 437.28186603254966,
          "yval": 52.38095238095238
         },
         "value": 1
        },
        {
         "source": {
          "index": 1,
          "label": "x2",
          "label_display": "none",
          "px": 531.8832380514635,
          "py": 361.09275997017016,
          "shape": "circle",
          "shape_attrs": {
           "r": 15
          },
          "value": null,
          "weight": 20,
          "x": 531.8893505016846,
          "xval": 20,
          "y": 361.0113644764516,
          "yval": 84.61538461538461
         },
         "target": {
          "index": 22,
          "label": "h1,11",
          "label_display": "none",
          "px": 450.6931880317312,
          "py": 427.36854915169533,
          "shape": "circle",
          "shape_attrs": {
           "r": 15
          },
          "value": null,
          "weight": 22,
          "x": 450.70224459711284,
          "xval": 40,
          "y": 427.40707742900895,
          "yval": 47.61904761904762
         },
         "value": 1
        },
        {
         "source": {
          "index": 1,
          "label": "x2",
          "label_display": "none",
          "px": 531.8832380514635,
          "py": 361.09275997017016,
          "shape": "circle",
          "shape_attrs": {
           "r": 15
          },
          "value": null,
          "weight": 20,
          "x": 531.8893505016846,
          "xval": 20,
          "y": 361.0113644764516,
          "yval": 84.61538461538461
         },
         "target": {
          "index": 23,
          "label": "h1,12",
          "label_display": "none",
          "px": 451.616956869591,
          "py": 430.68399636795544,
          "shape": "circle",
          "shape_attrs": {
           "r": 15
          },
          "value": null,
          "weight": 22,
          "x": 451.6308613454441,
          "xval": 40,
          "y": 430.73607807474326,
          "yval": 42.857142857142854
         },
         "value": 1
        },
        {
         "source": {
          "index": 1,
          "label": "x2",
          "label_display": "none",
          "px": 531.8832380514635,
          "py": 361.09275997017016,
          "shape": "circle",
          "shape_attrs": {
           "r": 15
          },
          "value": null,
          "weight": 20,
          "x": 531.8893505016846,
          "xval": 20,
          "y": 361.0113644764516,
          "yval": 84.61538461538461
         },
         "target": {
          "index": 24,
          "label": "h1,13",
          "label_display": "none",
          "px": 449.7701933541918,
          "py": 423.95395938325044,
          "shape": "circle",
          "shape_attrs": {
           "r": 15
          },
          "value": null,
          "weight": 22,
          "x": 449.77543161498545,
          "xval": 40,
          "y": 423.979666438766,
          "yval": 38.095238095238095
         },
         "value": 1
        },
        {
         "source": {
          "index": 1,
          "label": "x2",
          "label_display": "none",
          "px": 531.8832380514635,
          "py": 361.09275997017016,
          "shape": "circle",
          "shape_attrs": {
           "r": 15
          },
          "value": null,
          "weight": 20,
          "x": 531.8893505016846,
          "xval": 20,
          "y": 361.0113644764516,
          "yval": 84.61538461538461
         },
         "target": {
          "index": 25,
          "label": "h1,14",
          "label_display": "none",
          "px": 447.77652249109667,
          "py": 416.4027794386295,
          "shape": "circle",
          "shape_attrs": {
           "r": 15
          },
          "value": null,
          "weight": 22,
          "x": 447.77533228674633,
          "xval": 40,
          "y": 416.4089800756498,
          "yval": 33.333333333333336
         },
         "value": 1
        },
        {
         "source": {
          "index": 1,
          "label": "x2",
          "label_display": "none",
          "px": 531.8832380514635,
          "py": 361.09275997017016,
          "shape": "circle",
          "shape_attrs": {
           "r": 15
          },
          "value": null,
          "weight": 20,
          "x": 531.8893505016846,
          "xval": 20,
          "y": 361.0113644764516,
          "yval": 84.61538461538461
         },
         "target": {
          "fixed": 0,
          "index": 26,
          "label": "h1,15",
          "label_display": "none",
          "px": 437.84986949367203,
          "py": 374.25132654913494,
          "shape": "circle",
          "shape_attrs": {
           "r": 15
          },
          "value": null,
          "weight": 22,
          "x": 437.84986949367203,
          "xval": 40,
          "y": 374.25132654913494,
          "yval": 28.57142857142857
         },
         "value": 1
        },
        {
         "source": {
          "index": 1,
          "label": "x2",
          "label_display": "none",
          "px": 531.8832380514635,
          "py": 361.09275997017016,
          "shape": "circle",
          "shape_attrs": {
           "r": 15
          },
          "value": null,
          "weight": 20,
          "x": 531.8893505016846,
          "xval": 20,
          "y": 361.0113644764516,
          "yval": 84.61538461538461
         },
         "target": {
          "index": 27,
          "label": "h1,16",
          "label_display": "none",
          "px": 441.03312194188425,
          "py": 388.9301428056495,
          "shape": "circle",
          "shape_attrs": {
           "r": 15
          },
          "value": null,
          "weight": 22,
          "x": 441.0223311760983,
          "xval": 40,
          "y": 388.9201492326303,
          "yval": 23.80952380952381
         },
         "value": 1
        },
        {
         "source": {
          "index": 1,
          "label": "x2",
          "label_display": "none",
          "px": 531.8832380514635,
          "py": 361.09275997017016,
          "shape": "circle",
          "shape_attrs": {
           "r": 15
          },
          "value": null,
          "weight": 20,
          "x": 531.8893505016846,
          "xval": 20,
          "y": 361.0113644764516,
          "yval": 84.61538461538461
         },
         "target": {
          "index": 28,
          "label": "h1,17",
          "label_display": "none",
          "px": 448.80878786875905,
          "py": 420.35138343623464,
          "shape": "circle",
          "shape_attrs": {
           "r": 15
          },
          "value": null,
          "weight": 22,
          "x": 448.8091799805161,
          "xval": 40,
          "y": 420.3610019925185,
          "yval": 19.047619047619047
         },
         "value": 1
        },
        {
         "source": {
          "index": 1,
          "label": "x2",
          "label_display": "none",
          "px": 531.8832380514635,
          "py": 361.09275997017016,
          "shape": "circle",
          "shape_attrs": {
           "r": 15
          },
          "value": null,
          "weight": 20,
          "x": 531.8893505016846,
          "xval": 20,
          "y": 361.0113644764516,
          "yval": 84.61538461538461
         },
         "target": {
          "index": 29,
          "label": "h1,18",
          "label_display": "none",
          "px": 446.66133336839465,
          "py": 412.06746080603597,
          "shape": "circle",
          "shape_attrs": {
           "r": 15
          },
          "value": null,
          "weight": 22,
          "x": 446.65836227806636,
          "xval": 40,
          "y": 412.06979862465556,
          "yval": 14.285714285714285
         },
         "value": 1
        },
        {
         "source": {
          "index": 1,
          "label": "x2",
          "label_display": "none",
          "px": 531.8832380514635,
          "py": 361.09275997017016,
          "shape": "circle",
          "shape_attrs": {
           "r": 15
          },
          "value": null,
          "weight": 20,
          "x": 531.8893505016846,
          "xval": 20,
          "y": 361.0113644764516,
          "yval": 84.61538461538461
         },
         "target": {
          "index": 30,
          "label": "h1,19",
          "label_display": "none",
          "px": 454.5331839788234,
          "py": 440.7353981371751,
          "shape": "circle",
          "shape_attrs": {
           "r": 15
          },
          "value": null,
          "weight": 22,
          "x": 454.57338727966345,
          "xval": 40,
          "y": 440.870029182474,
          "yval": 9.523809523809524
         },
         "value": 1
        },
        {
         "source": {
          "index": 1,
          "label": "x2",
          "label_display": "none",
          "px": 531.8832380514635,
          "py": 361.09275997017016,
          "shape": "circle",
          "shape_attrs": {
           "r": 15
          },
          "value": null,
          "weight": 20,
          "x": 531.8893505016846,
          "xval": 20,
          "y": 361.0113644764516,
          "yval": 84.61538461538461
         },
         "target": {
          "index": 31,
          "label": "h1,20",
          "label_display": "none",
          "px": 452.51111853060013,
          "py": 433.8924336038177,
          "shape": "circle",
          "shape_attrs": {
           "r": 15
          },
          "value": null,
          "weight": 22,
          "x": 452.53198152903235,
          "xval": 40,
          "y": 433.96970392214837,
          "yval": 4.761904761904762
         },
         "value": 1
        },
        {
         "source": {
          "fixed": 0,
          "index": 2,
          "label": "x3",
          "label_display": "none",
          "px": 534.0063735013048,
          "py": 365.6184188767283,
          "shape": "circle",
          "shape_attrs": {
           "r": 15
          },
          "value": null,
          "weight": 20,
          "x": 534.0063735013048,
          "xval": 20,
          "y": 365.6184188767283,
          "yval": 76.92307692307692
         },
         "target": {
          "fixed": 0,
          "index": 12,
          "label": "h1,1",
          "label_display": "none",
          "px": 438.30653773859984,
          "py": 377.7211018453636,
          "shape": "circle",
          "shape_attrs": {
           "r": 15
          },
          "value": null,
          "weight": 22,
          "x": 438.30653773859984,
          "xval": 40,
          "y": 377.7211018453636,
          "yval": 95.23809523809524
         },
         "value": 1
        },
        {
         "source": {
          "fixed": 0,
          "index": 2,
          "label": "x3",
          "label_display": "none",
          "px": 534.0063735013048,
          "py": 365.6184188767283,
          "shape": "circle",
          "shape_attrs": {
           "r": 15
          },
          "value": null,
          "weight": 20,
          "x": 534.0063735013048,
          "xval": 20,
          "y": 365.6184188767283,
          "yval": 76.92307692307692
         },
         "target": {
          "fixed": 0,
          "index": 13,
          "label": "h1,2",
          "label_display": "none",
          "px": 445.4830710949258,
          "py": 407.40580969271514,
          "shape": "circle",
          "shape_attrs": {
           "r": 15
          },
          "value": null,
          "weight": 22,
          "x": 445.4830710949258,
          "xval": 40,
          "y": 407.40580969271514,
          "yval": 90.47619047619048
         },
         "value": 1
        },
        {
         "source": {
          "fixed": 0,
          "index": 2,
          "label": "x3",
          "label_display": "none",
          "px": 534.0063735013048,
          "py": 365.6184188767283,
          "shape": "circle",
          "shape_attrs": {
           "r": 15
          },
          "value": null,
          "weight": 20,
          "x": 534.0063735013048,
          "xval": 20,
          "y": 365.6184188767283,
          "yval": 76.92307692307692
         },
         "target": {
          "fixed": 0,
          "index": 14,
          "label": "h1,3",
          "label_display": "none",
          "px": 440.09389561772593,
          "py": 384.9913547714818,
          "shape": "circle",
          "shape_attrs": {
           "r": 15
          },
          "value": null,
          "weight": 22,
          "x": 440.09389561772593,
          "xval": 40,
          "y": 384.9913547714818,
          "yval": 85.71428571428571
         },
         "value": 1
        },
        {
         "source": {
          "fixed": 0,
          "index": 2,
          "label": "x3",
          "label_display": "none",
          "px": 534.0063735013048,
          "py": 365.6184188767283,
          "shape": "circle",
          "shape_attrs": {
           "r": 15
          },
          "value": null,
          "weight": 20,
          "x": 534.0063735013048,
          "xval": 20,
          "y": 365.6184188767283,
          "yval": 76.92307692307692
         },
         "target": {
          "index": 15,
          "label": "h1,4",
          "label_display": "none",
          "px": 442.03390585799406,
          "py": 393.18624031821906,
          "shape": "circle",
          "shape_attrs": {
           "r": 15
          },
          "value": null,
          "weight": 22,
          "x": 442.0252187451049,
          "xval": 40,
          "y": 393.18099926055953,
          "yval": 80.95238095238095
         },
         "value": 1
        },
        {
         "source": {
          "fixed": 0,
          "index": 2,
          "label": "x3",
          "label_display": "none",
          "px": 534.0063735013048,
          "py": 365.6184188767283,
          "shape": "circle",
          "shape_attrs": {
           "r": 15
          },
          "value": null,
          "weight": 20,
          "x": 534.0063735013048,
          "xval": 20,
          "y": 365.6184188767283,
          "yval": 76.92307692307692
         },
         "target": {
          "fixed": 0,
          "index": 16,
          "label": "h1,5",
          "label_display": "none",
          "px": 439.3038323400098,
          "py": 381.26898657152276,
          "shape": "circle",
          "shape_attrs": {
           "r": 15
          },
          "value": null,
          "weight": 22,
          "x": 439.3038323400098,
          "xval": 40,
          "y": 381.26898657152276,
          "yval": 76.19047619047619
         },
         "value": 1
        },
        {
         "source": {
          "fixed": 0,
          "index": 2,
          "label": "x3",
          "label_display": "none",
          "px": 534.0063735013048,
          "py": 365.6184188767283,
          "shape": "circle",
          "shape_attrs": {
           "r": 15
          },
          "value": null,
          "weight": 20,
          "x": 534.0063735013048,
          "xval": 20,
          "y": 365.6184188767283,
          "yval": 76.92307692307692
         },
         "target": {
          "index": 17,
          "label": "h1,6",
          "label_display": "none",
          "px": 436.1763853376012,
          "py": 367.0391092191069,
          "shape": "circle",
          "shape_attrs": {
           "r": 15
          },
          "value": null,
          "weight": 22,
          "x": 436.1319756129927,
          "xval": 40,
          "y": 366.9193372066237,
          "yval": 71.42857142857143
         },
         "value": 1
        },
        {
         "source": {
          "fixed": 0,
          "index": 2,
          "label": "x3",
          "label_display": "none",
          "px": 534.0063735013048,
          "py": 365.6184188767283,
          "shape": "circle",
          "shape_attrs": {
           "r": 15
          },
          "value": null,
          "weight": 20,
          "x": 534.0063735013048,
          "xval": 20,
          "y": 365.6184188767283,
          "yval": 76.92307692307692
         },
         "target": {
          "index": 18,
          "label": "h1,7",
          "label_display": "none",
          "px": 444.28747307460884,
          "py": 402.5857074144147,
          "shape": "circle",
          "shape_attrs": {
           "r": 15
          },
          "value": null,
          "weight": 22,
          "x": 444.28189322820117,
          "xval": 40,
          "y": 402.5864217166488,
          "yval": 66.66666666666667
         },
         "value": 1
        },
        {
         "source": {
          "fixed": 0,
          "index": 2,
          "label": "x3",
          "label_display": "none",
          "px": 534.0063735013048,
          "py": 365.6184188767283,
          "shape": "circle",
          "shape_attrs": {
           "r": 15
          },
          "value": null,
          "weight": 20,
          "x": 534.0063735013048,
          "xval": 20,
          "y": 365.6184188767283,
          "yval": 76.92307692307692
         },
         "target": {
          "index": 19,
          "label": "h1,8",
          "label_display": "none",
          "px": 436.96694163354766,
          "py": 370.835219648978,
          "shape": "circle",
          "shape_attrs": {
           "r": 15
          },
          "value": null,
          "weight": 22,
          "x": 436.93081668870667,
          "xval": 40,
          "y": 370.7487234007221,
          "yval": 61.904761904761905
         },
         "value": 1
        },
        {
         "source": {
          "fixed": 0,
          "index": 2,
          "label": "x3",
          "label_display": "none",
          "px": 534.0063735013048,
          "py": 365.6184188767283,
          "shape": "circle",
          "shape_attrs": {
           "r": 15
          },
          "value": null,
          "weight": 20,
          "x": 534.0063735013048,
          "xval": 20,
          "y": 365.6184188767283,
          "yval": 76.92307692307692
         },
         "target": {
          "index": 20,
          "label": "h1,9",
          "label_display": "none",
          "px": 443.12903262452926,
          "py": 397.77183731760726,
          "shape": "circle",
          "shape_attrs": {
           "r": 15
          },
          "value": null,
          "weight": 22,
          "x": 443.1225250371738,
          "xval": 40,
          "y": 397.77048960247726,
          "yval": 57.14285714285714
         },
         "value": 1
        },
        {
         "source": {
          "fixed": 0,
          "index": 2,
          "label": "x3",
          "label_display": "none",
          "px": 534.0063735013048,
          "py": 365.6184188767283,
          "shape": "circle",
          "shape_attrs": {
           "r": 15
          },
          "value": null,
          "weight": 20,
          "x": 534.0063735013048,
          "xval": 20,
          "y": 365.6184188767283,
          "yval": 76.92307692307692
         },
         "target": {
          "index": 21,
          "label": "h1,10",
          "label_display": "none",
          "px": 453.47719733511025,
          "py": 437.1791317957166,
          "shape": "circle",
          "shape_attrs": {
           "r": 15
          },
          "value": null,
          "weight": 22,
          "x": 453.50705008596486,
          "xval": 40,
          "y": 437.28186603254966,
          "yval": 52.38095238095238
         },
         "value": 1
        },
        {
         "source": {
          "fixed": 0,
          "index": 2,
          "label": "x3",
          "label_display": "none",
          "px": 534.0063735013048,
          "py": 365.6184188767283,
          "shape": "circle",
          "shape_attrs": {
           "r": 15
          },
          "value": null,
          "weight": 20,
          "x": 534.0063735013048,
          "xval": 20,
          "y": 365.6184188767283,
          "yval": 76.92307692307692
         },
         "target": {
          "index": 22,
          "label": "h1,11",
          "label_display": "none",
          "px": 450.6931880317312,
          "py": 427.36854915169533,
          "shape": "circle",
          "shape_attrs": {
           "r": 15
          },
          "value": null,
          "weight": 22,
          "x": 450.70224459711284,
          "xval": 40,
          "y": 427.40707742900895,
          "yval": 47.61904761904762
         },
         "value": 1
        },
        {
         "source": {
          "fixed": 0,
          "index": 2,
          "label": "x3",
          "label_display": "none",
          "px": 534.0063735013048,
          "py": 365.6184188767283,
          "shape": "circle",
          "shape_attrs": {
           "r": 15
          },
          "value": null,
          "weight": 20,
          "x": 534.0063735013048,
          "xval": 20,
          "y": 365.6184188767283,
          "yval": 76.92307692307692
         },
         "target": {
          "index": 23,
          "label": "h1,12",
          "label_display": "none",
          "px": 451.616956869591,
          "py": 430.68399636795544,
          "shape": "circle",
          "shape_attrs": {
           "r": 15
          },
          "value": null,
          "weight": 22,
          "x": 451.6308613454441,
          "xval": 40,
          "y": 430.73607807474326,
          "yval": 42.857142857142854
         },
         "value": 1
        },
        {
         "source": {
          "fixed": 0,
          "index": 2,
          "label": "x3",
          "label_display": "none",
          "px": 534.0063735013048,
          "py": 365.6184188767283,
          "shape": "circle",
          "shape_attrs": {
           "r": 15
          },
          "value": null,
          "weight": 20,
          "x": 534.0063735013048,
          "xval": 20,
          "y": 365.6184188767283,
          "yval": 76.92307692307692
         },
         "target": {
          "index": 24,
          "label": "h1,13",
          "label_display": "none",
          "px": 449.7701933541918,
          "py": 423.95395938325044,
          "shape": "circle",
          "shape_attrs": {
           "r": 15
          },
          "value": null,
          "weight": 22,
          "x": 449.77543161498545,
          "xval": 40,
          "y": 423.979666438766,
          "yval": 38.095238095238095
         },
         "value": 1
        },
        {
         "source": {
          "fixed": 0,
          "index": 2,
          "label": "x3",
          "label_display": "none",
          "px": 534.0063735013048,
          "py": 365.6184188767283,
          "shape": "circle",
          "shape_attrs": {
           "r": 15
          },
          "value": null,
          "weight": 20,
          "x": 534.0063735013048,
          "xval": 20,
          "y": 365.6184188767283,
          "yval": 76.92307692307692
         },
         "target": {
          "index": 25,
          "label": "h1,14",
          "label_display": "none",
          "px": 447.77652249109667,
          "py": 416.4027794386295,
          "shape": "circle",
          "shape_attrs": {
           "r": 15
          },
          "value": null,
          "weight": 22,
          "x": 447.77533228674633,
          "xval": 40,
          "y": 416.4089800756498,
          "yval": 33.333333333333336
         },
         "value": 1
        },
        {
         "source": {
          "fixed": 0,
          "index": 2,
          "label": "x3",
          "label_display": "none",
          "px": 534.0063735013048,
          "py": 365.6184188767283,
          "shape": "circle",
          "shape_attrs": {
           "r": 15
          },
          "value": null,
          "weight": 20,
          "x": 534.0063735013048,
          "xval": 20,
          "y": 365.6184188767283,
          "yval": 76.92307692307692
         },
         "target": {
          "fixed": 0,
          "index": 26,
          "label": "h1,15",
          "label_display": "none",
          "px": 437.84986949367203,
          "py": 374.25132654913494,
          "shape": "circle",
          "shape_attrs": {
           "r": 15
          },
          "value": null,
          "weight": 22,
          "x": 437.84986949367203,
          "xval": 40,
          "y": 374.25132654913494,
          "yval": 28.57142857142857
         },
         "value": 1
        },
        {
         "source": {
          "fixed": 0,
          "index": 2,
          "label": "x3",
          "label_display": "none",
          "px": 534.0063735013048,
          "py": 365.6184188767283,
          "shape": "circle",
          "shape_attrs": {
           "r": 15
          },
          "value": null,
          "weight": 20,
          "x": 534.0063735013048,
          "xval": 20,
          "y": 365.6184188767283,
          "yval": 76.92307692307692
         },
         "target": {
          "index": 27,
          "label": "h1,16",
          "label_display": "none",
          "px": 441.03312194188425,
          "py": 388.9301428056495,
          "shape": "circle",
          "shape_attrs": {
           "r": 15
          },
          "value": null,
          "weight": 22,
          "x": 441.0223311760983,
          "xval": 40,
          "y": 388.9201492326303,
          "yval": 23.80952380952381
         },
         "value": 1
        },
        {
         "source": {
          "fixed": 0,
          "index": 2,
          "label": "x3",
          "label_display": "none",
          "px": 534.0063735013048,
          "py": 365.6184188767283,
          "shape": "circle",
          "shape_attrs": {
           "r": 15
          },
          "value": null,
          "weight": 20,
          "x": 534.0063735013048,
          "xval": 20,
          "y": 365.6184188767283,
          "yval": 76.92307692307692
         },
         "target": {
          "index": 28,
          "label": "h1,17",
          "label_display": "none",
          "px": 448.80878786875905,
          "py": 420.35138343623464,
          "shape": "circle",
          "shape_attrs": {
           "r": 15
          },
          "value": null,
          "weight": 22,
          "x": 448.8091799805161,
          "xval": 40,
          "y": 420.3610019925185,
          "yval": 19.047619047619047
         },
         "value": 1
        },
        {
         "source": {
          "fixed": 0,
          "index": 2,
          "label": "x3",
          "label_display": "none",
          "px": 534.0063735013048,
          "py": 365.6184188767283,
          "shape": "circle",
          "shape_attrs": {
           "r": 15
          },
          "value": null,
          "weight": 20,
          "x": 534.0063735013048,
          "xval": 20,
          "y": 365.6184188767283,
          "yval": 76.92307692307692
         },
         "target": {
          "index": 29,
          "label": "h1,18",
          "label_display": "none",
          "px": 446.66133336839465,
          "py": 412.06746080603597,
          "shape": "circle",
          "shape_attrs": {
           "r": 15
          },
          "value": null,
          "weight": 22,
          "x": 446.65836227806636,
          "xval": 40,
          "y": 412.06979862465556,
          "yval": 14.285714285714285
         },
         "value": 1
        },
        {
         "source": {
          "fixed": 0,
          "index": 2,
          "label": "x3",
          "label_display": "none",
          "px": 534.0063735013048,
          "py": 365.6184188767283,
          "shape": "circle",
          "shape_attrs": {
           "r": 15
          },
          "value": null,
          "weight": 20,
          "x": 534.0063735013048,
          "xval": 20,
          "y": 365.6184188767283,
          "yval": 76.92307692307692
         },
         "target": {
          "index": 30,
          "label": "h1,19",
          "label_display": "none",
          "px": 454.5331839788234,
          "py": 440.7353981371751,
          "shape": "circle",
          "shape_attrs": {
           "r": 15
          },
          "value": null,
          "weight": 22,
          "x": 454.57338727966345,
          "xval": 40,
          "y": 440.870029182474,
          "yval": 9.523809523809524
         },
         "value": 1
        },
        {
         "source": {
          "fixed": 0,
          "index": 2,
          "label": "x3",
          "label_display": "none",
          "px": 534.0063735013048,
          "py": 365.6184188767283,
          "shape": "circle",
          "shape_attrs": {
           "r": 15
          },
          "value": null,
          "weight": 20,
          "x": 534.0063735013048,
          "xval": 20,
          "y": 365.6184188767283,
          "yval": 76.92307692307692
         },
         "target": {
          "index": 31,
          "label": "h1,20",
          "label_display": "none",
          "px": 452.51111853060013,
          "py": 433.8924336038177,
          "shape": "circle",
          "shape_attrs": {
           "r": 15
          },
          "value": null,
          "weight": 22,
          "x": 452.53198152903235,
          "xval": 40,
          "y": 433.96970392214837,
          "yval": 4.761904761904762
         },
         "value": 1
        },
        {
         "source": {
          "index": 3,
          "label": "x4",
          "label_display": "none",
          "px": 535.660900262516,
          "py": 369.99225384771086,
          "shape": "circle",
          "shape_attrs": {
           "r": 15
          },
          "value": null,
          "weight": 20,
          "x": 535.6813683424843,
          "xval": 20,
          "y": 369.9379113606251,
          "yval": 69.23076923076923
         },
         "target": {
          "fixed": 0,
          "index": 12,
          "label": "h1,1",
          "label_display": "none",
          "px": 438.30653773859984,
          "py": 377.7211018453636,
          "shape": "circle",
          "shape_attrs": {
           "r": 15
          },
          "value": null,
          "weight": 22,
          "x": 438.30653773859984,
          "xval": 40,
          "y": 377.7211018453636,
          "yval": 95.23809523809524
         },
         "value": 1
        },
        {
         "source": {
          "index": 3,
          "label": "x4",
          "label_display": "none",
          "px": 535.660900262516,
          "py": 369.99225384771086,
          "shape": "circle",
          "shape_attrs": {
           "r": 15
          },
          "value": null,
          "weight": 20,
          "x": 535.6813683424843,
          "xval": 20,
          "y": 369.9379113606251,
          "yval": 69.23076923076923
         },
         "target": {
          "fixed": 0,
          "index": 13,
          "label": "h1,2",
          "label_display": "none",
          "px": 445.4830710949258,
          "py": 407.40580969271514,
          "shape": "circle",
          "shape_attrs": {
           "r": 15
          },
          "value": null,
          "weight": 22,
          "x": 445.4830710949258,
          "xval": 40,
          "y": 407.40580969271514,
          "yval": 90.47619047619048
         },
         "value": 1
        },
        {
         "source": {
          "index": 3,
          "label": "x4",
          "label_display": "none",
          "px": 535.660900262516,
          "py": 369.99225384771086,
          "shape": "circle",
          "shape_attrs": {
           "r": 15
          },
          "value": null,
          "weight": 20,
          "x": 535.6813683424843,
          "xval": 20,
          "y": 369.9379113606251,
          "yval": 69.23076923076923
         },
         "target": {
          "fixed": 0,
          "index": 14,
          "label": "h1,3",
          "label_display": "none",
          "px": 440.09389561772593,
          "py": 384.9913547714818,
          "shape": "circle",
          "shape_attrs": {
           "r": 15
          },
          "value": null,
          "weight": 22,
          "x": 440.09389561772593,
          "xval": 40,
          "y": 384.9913547714818,
          "yval": 85.71428571428571
         },
         "value": 1
        },
        {
         "source": {
          "index": 3,
          "label": "x4",
          "label_display": "none",
          "px": 535.660900262516,
          "py": 369.99225384771086,
          "shape": "circle",
          "shape_attrs": {
           "r": 15
          },
          "value": null,
          "weight": 20,
          "x": 535.6813683424843,
          "xval": 20,
          "y": 369.9379113606251,
          "yval": 69.23076923076923
         },
         "target": {
          "index": 15,
          "label": "h1,4",
          "label_display": "none",
          "px": 442.03390585799406,
          "py": 393.18624031821906,
          "shape": "circle",
          "shape_attrs": {
           "r": 15
          },
          "value": null,
          "weight": 22,
          "x": 442.0252187451049,
          "xval": 40,
          "y": 393.18099926055953,
          "yval": 80.95238095238095
         },
         "value": 1
        },
        {
         "source": {
          "index": 3,
          "label": "x4",
          "label_display": "none",
          "px": 535.660900262516,
          "py": 369.99225384771086,
          "shape": "circle",
          "shape_attrs": {
           "r": 15
          },
          "value": null,
          "weight": 20,
          "x": 535.6813683424843,
          "xval": 20,
          "y": 369.9379113606251,
          "yval": 69.23076923076923
         },
         "target": {
          "fixed": 0,
          "index": 16,
          "label": "h1,5",
          "label_display": "none",
          "px": 439.3038323400098,
          "py": 381.26898657152276,
          "shape": "circle",
          "shape_attrs": {
           "r": 15
          },
          "value": null,
          "weight": 22,
          "x": 439.3038323400098,
          "xval": 40,
          "y": 381.26898657152276,
          "yval": 76.19047619047619
         },
         "value": 1
        },
        {
         "source": {
          "index": 3,
          "label": "x4",
          "label_display": "none",
          "px": 535.660900262516,
          "py": 369.99225384771086,
          "shape": "circle",
          "shape_attrs": {
           "r": 15
          },
          "value": null,
          "weight": 20,
          "x": 535.6813683424843,
          "xval": 20,
          "y": 369.9379113606251,
          "yval": 69.23076923076923
         },
         "target": {
          "index": 17,
          "label": "h1,6",
          "label_display": "none",
          "px": 436.1763853376012,
          "py": 367.0391092191069,
          "shape": "circle",
          "shape_attrs": {
           "r": 15
          },
          "value": null,
          "weight": 22,
          "x": 436.1319756129927,
          "xval": 40,
          "y": 366.9193372066237,
          "yval": 71.42857142857143
         },
         "value": 1
        },
        {
         "source": {
          "index": 3,
          "label": "x4",
          "label_display": "none",
          "px": 535.660900262516,
          "py": 369.99225384771086,
          "shape": "circle",
          "shape_attrs": {
           "r": 15
          },
          "value": null,
          "weight": 20,
          "x": 535.6813683424843,
          "xval": 20,
          "y": 369.9379113606251,
          "yval": 69.23076923076923
         },
         "target": {
          "index": 18,
          "label": "h1,7",
          "label_display": "none",
          "px": 444.28747307460884,
          "py": 402.5857074144147,
          "shape": "circle",
          "shape_attrs": {
           "r": 15
          },
          "value": null,
          "weight": 22,
          "x": 444.28189322820117,
          "xval": 40,
          "y": 402.5864217166488,
          "yval": 66.66666666666667
         },
         "value": 1
        },
        {
         "source": {
          "index": 3,
          "label": "x4",
          "label_display": "none",
          "px": 535.660900262516,
          "py": 369.99225384771086,
          "shape": "circle",
          "shape_attrs": {
           "r": 15
          },
          "value": null,
          "weight": 20,
          "x": 535.6813683424843,
          "xval": 20,
          "y": 369.9379113606251,
          "yval": 69.23076923076923
         },
         "target": {
          "index": 19,
          "label": "h1,8",
          "label_display": "none",
          "px": 436.96694163354766,
          "py": 370.835219648978,
          "shape": "circle",
          "shape_attrs": {
           "r": 15
          },
          "value": null,
          "weight": 22,
          "x": 436.93081668870667,
          "xval": 40,
          "y": 370.7487234007221,
          "yval": 61.904761904761905
         },
         "value": 1
        },
        {
         "source": {
          "index": 3,
          "label": "x4",
          "label_display": "none",
          "px": 535.660900262516,
          "py": 369.99225384771086,
          "shape": "circle",
          "shape_attrs": {
           "r": 15
          },
          "value": null,
          "weight": 20,
          "x": 535.6813683424843,
          "xval": 20,
          "y": 369.9379113606251,
          "yval": 69.23076923076923
         },
         "target": {
          "index": 20,
          "label": "h1,9",
          "label_display": "none",
          "px": 443.12903262452926,
          "py": 397.77183731760726,
          "shape": "circle",
          "shape_attrs": {
           "r": 15
          },
          "value": null,
          "weight": 22,
          "x": 443.1225250371738,
          "xval": 40,
          "y": 397.77048960247726,
          "yval": 57.14285714285714
         },
         "value": 1
        },
        {
         "source": {
          "index": 3,
          "label": "x4",
          "label_display": "none",
          "px": 535.660900262516,
          "py": 369.99225384771086,
          "shape": "circle",
          "shape_attrs": {
           "r": 15
          },
          "value": null,
          "weight": 20,
          "x": 535.6813683424843,
          "xval": 20,
          "y": 369.9379113606251,
          "yval": 69.23076923076923
         },
         "target": {
          "index": 21,
          "label": "h1,10",
          "label_display": "none",
          "px": 453.47719733511025,
          "py": 437.1791317957166,
          "shape": "circle",
          "shape_attrs": {
           "r": 15
          },
          "value": null,
          "weight": 22,
          "x": 453.50705008596486,
          "xval": 40,
          "y": 437.28186603254966,
          "yval": 52.38095238095238
         },
         "value": 1
        },
        {
         "source": {
          "index": 3,
          "label": "x4",
          "label_display": "none",
          "px": 535.660900262516,
          "py": 369.99225384771086,
          "shape": "circle",
          "shape_attrs": {
           "r": 15
          },
          "value": null,
          "weight": 20,
          "x": 535.6813683424843,
          "xval": 20,
          "y": 369.9379113606251,
          "yval": 69.23076923076923
         },
         "target": {
          "index": 22,
          "label": "h1,11",
          "label_display": "none",
          "px": 450.6931880317312,
          "py": 427.36854915169533,
          "shape": "circle",
          "shape_attrs": {
           "r": 15
          },
          "value": null,
          "weight": 22,
          "x": 450.70224459711284,
          "xval": 40,
          "y": 427.40707742900895,
          "yval": 47.61904761904762
         },
         "value": 1
        },
        {
         "source": {
          "index": 3,
          "label": "x4",
          "label_display": "none",
          "px": 535.660900262516,
          "py": 369.99225384771086,
          "shape": "circle",
          "shape_attrs": {
           "r": 15
          },
          "value": null,
          "weight": 20,
          "x": 535.6813683424843,
          "xval": 20,
          "y": 369.9379113606251,
          "yval": 69.23076923076923
         },
         "target": {
          "index": 23,
          "label": "h1,12",
          "label_display": "none",
          "px": 451.616956869591,
          "py": 430.68399636795544,
          "shape": "circle",
          "shape_attrs": {
           "r": 15
          },
          "value": null,
          "weight": 22,
          "x": 451.6308613454441,
          "xval": 40,
          "y": 430.73607807474326,
          "yval": 42.857142857142854
         },
         "value": 1
        },
        {
         "source": {
          "index": 3,
          "label": "x4",
          "label_display": "none",
          "px": 535.660900262516,
          "py": 369.99225384771086,
          "shape": "circle",
          "shape_attrs": {
           "r": 15
          },
          "value": null,
          "weight": 20,
          "x": 535.6813683424843,
          "xval": 20,
          "y": 369.9379113606251,
          "yval": 69.23076923076923
         },
         "target": {
          "index": 24,
          "label": "h1,13",
          "label_display": "none",
          "px": 449.7701933541918,
          "py": 423.95395938325044,
          "shape": "circle",
          "shape_attrs": {
           "r": 15
          },
          "value": null,
          "weight": 22,
          "x": 449.77543161498545,
          "xval": 40,
          "y": 423.979666438766,
          "yval": 38.095238095238095
         },
         "value": 1
        },
        {
         "source": {
          "index": 3,
          "label": "x4",
          "label_display": "none",
          "px": 535.660900262516,
          "py": 369.99225384771086,
          "shape": "circle",
          "shape_attrs": {
           "r": 15
          },
          "value": null,
          "weight": 20,
          "x": 535.6813683424843,
          "xval": 20,
          "y": 369.9379113606251,
          "yval": 69.23076923076923
         },
         "target": {
          "index": 25,
          "label": "h1,14",
          "label_display": "none",
          "px": 447.77652249109667,
          "py": 416.4027794386295,
          "shape": "circle",
          "shape_attrs": {
           "r": 15
          },
          "value": null,
          "weight": 22,
          "x": 447.77533228674633,
          "xval": 40,
          "y": 416.4089800756498,
          "yval": 33.333333333333336
         },
         "value": 1
        },
        {
         "source": {
          "index": 3,
          "label": "x4",
          "label_display": "none",
          "px": 535.660900262516,
          "py": 369.99225384771086,
          "shape": "circle",
          "shape_attrs": {
           "r": 15
          },
          "value": null,
          "weight": 20,
          "x": 535.6813683424843,
          "xval": 20,
          "y": 369.9379113606251,
          "yval": 69.23076923076923
         },
         "target": {
          "fixed": 0,
          "index": 26,
          "label": "h1,15",
          "label_display": "none",
          "px": 437.84986949367203,
          "py": 374.25132654913494,
          "shape": "circle",
          "shape_attrs": {
           "r": 15
          },
          "value": null,
          "weight": 22,
          "x": 437.84986949367203,
          "xval": 40,
          "y": 374.25132654913494,
          "yval": 28.57142857142857
         },
         "value": 1
        },
        {
         "source": {
          "index": 3,
          "label": "x4",
          "label_display": "none",
          "px": 535.660900262516,
          "py": 369.99225384771086,
          "shape": "circle",
          "shape_attrs": {
           "r": 15
          },
          "value": null,
          "weight": 20,
          "x": 535.6813683424843,
          "xval": 20,
          "y": 369.9379113606251,
          "yval": 69.23076923076923
         },
         "target": {
          "index": 27,
          "label": "h1,16",
          "label_display": "none",
          "px": 441.03312194188425,
          "py": 388.9301428056495,
          "shape": "circle",
          "shape_attrs": {
           "r": 15
          },
          "value": null,
          "weight": 22,
          "x": 441.0223311760983,
          "xval": 40,
          "y": 388.9201492326303,
          "yval": 23.80952380952381
         },
         "value": 1
        },
        {
         "source": {
          "index": 3,
          "label": "x4",
          "label_display": "none",
          "px": 535.660900262516,
          "py": 369.99225384771086,
          "shape": "circle",
          "shape_attrs": {
           "r": 15
          },
          "value": null,
          "weight": 20,
          "x": 535.6813683424843,
          "xval": 20,
          "y": 369.9379113606251,
          "yval": 69.23076923076923
         },
         "target": {
          "index": 28,
          "label": "h1,17",
          "label_display": "none",
          "px": 448.80878786875905,
          "py": 420.35138343623464,
          "shape": "circle",
          "shape_attrs": {
           "r": 15
          },
          "value": null,
          "weight": 22,
          "x": 448.8091799805161,
          "xval": 40,
          "y": 420.3610019925185,
          "yval": 19.047619047619047
         },
         "value": 1
        },
        {
         "source": {
          "index": 3,
          "label": "x4",
          "label_display": "none",
          "px": 535.660900262516,
          "py": 369.99225384771086,
          "shape": "circle",
          "shape_attrs": {
           "r": 15
          },
          "value": null,
          "weight": 20,
          "x": 535.6813683424843,
          "xval": 20,
          "y": 369.9379113606251,
          "yval": 69.23076923076923
         },
         "target": {
          "index": 29,
          "label": "h1,18",
          "label_display": "none",
          "px": 446.66133336839465,
          "py": 412.06746080603597,
          "shape": "circle",
          "shape_attrs": {
           "r": 15
          },
          "value": null,
          "weight": 22,
          "x": 446.65836227806636,
          "xval": 40,
          "y": 412.06979862465556,
          "yval": 14.285714285714285
         },
         "value": 1
        },
        {
         "source": {
          "index": 3,
          "label": "x4",
          "label_display": "none",
          "px": 535.660900262516,
          "py": 369.99225384771086,
          "shape": "circle",
          "shape_attrs": {
           "r": 15
          },
          "value": null,
          "weight": 20,
          "x": 535.6813683424843,
          "xval": 20,
          "y": 369.9379113606251,
          "yval": 69.23076923076923
         },
         "target": {
          "index": 30,
          "label": "h1,19",
          "label_display": "none",
          "px": 454.5331839788234,
          "py": 440.7353981371751,
          "shape": "circle",
          "shape_attrs": {
           "r": 15
          },
          "value": null,
          "weight": 22,
          "x": 454.57338727966345,
          "xval": 40,
          "y": 440.870029182474,
          "yval": 9.523809523809524
         },
         "value": 1
        },
        {
         "source": {
          "index": 3,
          "label": "x4",
          "label_display": "none",
          "px": 535.660900262516,
          "py": 369.99225384771086,
          "shape": "circle",
          "shape_attrs": {
           "r": 15
          },
          "value": null,
          "weight": 20,
          "x": 535.6813683424843,
          "xval": 20,
          "y": 369.9379113606251,
          "yval": 69.23076923076923
         },
         "target": {
          "index": 31,
          "label": "h1,20",
          "label_display": "none",
          "px": 452.51111853060013,
          "py": 433.8924336038177,
          "shape": "circle",
          "shape_attrs": {
           "r": 15
          },
          "value": null,
          "weight": 22,
          "x": 452.53198152903235,
          "xval": 40,
          "y": 433.96970392214837,
          "yval": 4.761904761904762
         },
         "value": 1
        },
        {
         "source": {
          "index": 4,
          "label": "x5",
          "label_display": "none",
          "px": 349.27806531366787,
          "py": 419.79204133732895,
          "shape": "circle",
          "shape_attrs": {
           "r": 15
          },
          "value": null,
          "weight": 20,
          "x": 349.2334300496466,
          "xval": 20,
          "y": 419.7893909849638,
          "yval": 61.53846153846154
         },
         "target": {
          "fixed": 0,
          "index": 12,
          "label": "h1,1",
          "label_display": "none",
          "px": 438.30653773859984,
          "py": 377.7211018453636,
          "shape": "circle",
          "shape_attrs": {
           "r": 15
          },
          "value": null,
          "weight": 22,
          "x": 438.30653773859984,
          "xval": 40,
          "y": 377.7211018453636,
          "yval": 95.23809523809524
         },
         "value": 1
        },
        {
         "source": {
          "index": 4,
          "label": "x5",
          "label_display": "none",
          "px": 349.27806531366787,
          "py": 419.79204133732895,
          "shape": "circle",
          "shape_attrs": {
           "r": 15
          },
          "value": null,
          "weight": 20,
          "x": 349.2334300496466,
          "xval": 20,
          "y": 419.7893909849638,
          "yval": 61.53846153846154
         },
         "target": {
          "fixed": 0,
          "index": 13,
          "label": "h1,2",
          "label_display": "none",
          "px": 445.4830710949258,
          "py": 407.40580969271514,
          "shape": "circle",
          "shape_attrs": {
           "r": 15
          },
          "value": null,
          "weight": 22,
          "x": 445.4830710949258,
          "xval": 40,
          "y": 407.40580969271514,
          "yval": 90.47619047619048
         },
         "value": 1
        },
        {
         "source": {
          "index": 4,
          "label": "x5",
          "label_display": "none",
          "px": 349.27806531366787,
          "py": 419.79204133732895,
          "shape": "circle",
          "shape_attrs": {
           "r": 15
          },
          "value": null,
          "weight": 20,
          "x": 349.2334300496466,
          "xval": 20,
          "y": 419.7893909849638,
          "yval": 61.53846153846154
         },
         "target": {
          "fixed": 0,
          "index": 14,
          "label": "h1,3",
          "label_display": "none",
          "px": 440.09389561772593,
          "py": 384.9913547714818,
          "shape": "circle",
          "shape_attrs": {
           "r": 15
          },
          "value": null,
          "weight": 22,
          "x": 440.09389561772593,
          "xval": 40,
          "y": 384.9913547714818,
          "yval": 85.71428571428571
         },
         "value": 1
        },
        {
         "source": {
          "index": 4,
          "label": "x5",
          "label_display": "none",
          "px": 349.27806531366787,
          "py": 419.79204133732895,
          "shape": "circle",
          "shape_attrs": {
           "r": 15
          },
          "value": null,
          "weight": 20,
          "x": 349.2334300496466,
          "xval": 20,
          "y": 419.7893909849638,
          "yval": 61.53846153846154
         },
         "target": {
          "index": 15,
          "label": "h1,4",
          "label_display": "none",
          "px": 442.03390585799406,
          "py": 393.18624031821906,
          "shape": "circle",
          "shape_attrs": {
           "r": 15
          },
          "value": null,
          "weight": 22,
          "x": 442.0252187451049,
          "xval": 40,
          "y": 393.18099926055953,
          "yval": 80.95238095238095
         },
         "value": 1
        },
        {
         "source": {
          "index": 4,
          "label": "x5",
          "label_display": "none",
          "px": 349.27806531366787,
          "py": 419.79204133732895,
          "shape": "circle",
          "shape_attrs": {
           "r": 15
          },
          "value": null,
          "weight": 20,
          "x": 349.2334300496466,
          "xval": 20,
          "y": 419.7893909849638,
          "yval": 61.53846153846154
         },
         "target": {
          "fixed": 0,
          "index": 16,
          "label": "h1,5",
          "label_display": "none",
          "px": 439.3038323400098,
          "py": 381.26898657152276,
          "shape": "circle",
          "shape_attrs": {
           "r": 15
          },
          "value": null,
          "weight": 22,
          "x": 439.3038323400098,
          "xval": 40,
          "y": 381.26898657152276,
          "yval": 76.19047619047619
         },
         "value": 1
        },
        {
         "source": {
          "index": 4,
          "label": "x5",
          "label_display": "none",
          "px": 349.27806531366787,
          "py": 419.79204133732895,
          "shape": "circle",
          "shape_attrs": {
           "r": 15
          },
          "value": null,
          "weight": 20,
          "x": 349.2334300496466,
          "xval": 20,
          "y": 419.7893909849638,
          "yval": 61.53846153846154
         },
         "target": {
          "index": 17,
          "label": "h1,6",
          "label_display": "none",
          "px": 436.1763853376012,
          "py": 367.0391092191069,
          "shape": "circle",
          "shape_attrs": {
           "r": 15
          },
          "value": null,
          "weight": 22,
          "x": 436.1319756129927,
          "xval": 40,
          "y": 366.9193372066237,
          "yval": 71.42857142857143
         },
         "value": 1
        },
        {
         "source": {
          "index": 4,
          "label": "x5",
          "label_display": "none",
          "px": 349.27806531366787,
          "py": 419.79204133732895,
          "shape": "circle",
          "shape_attrs": {
           "r": 15
          },
          "value": null,
          "weight": 20,
          "x": 349.2334300496466,
          "xval": 20,
          "y": 419.7893909849638,
          "yval": 61.53846153846154
         },
         "target": {
          "index": 18,
          "label": "h1,7",
          "label_display": "none",
          "px": 444.28747307460884,
          "py": 402.5857074144147,
          "shape": "circle",
          "shape_attrs": {
           "r": 15
          },
          "value": null,
          "weight": 22,
          "x": 444.28189322820117,
          "xval": 40,
          "y": 402.5864217166488,
          "yval": 66.66666666666667
         },
         "value": 1
        },
        {
         "source": {
          "index": 4,
          "label": "x5",
          "label_display": "none",
          "px": 349.27806531366787,
          "py": 419.79204133732895,
          "shape": "circle",
          "shape_attrs": {
           "r": 15
          },
          "value": null,
          "weight": 20,
          "x": 349.2334300496466,
          "xval": 20,
          "y": 419.7893909849638,
          "yval": 61.53846153846154
         },
         "target": {
          "index": 19,
          "label": "h1,8",
          "label_display": "none",
          "px": 436.96694163354766,
          "py": 370.835219648978,
          "shape": "circle",
          "shape_attrs": {
           "r": 15
          },
          "value": null,
          "weight": 22,
          "x": 436.93081668870667,
          "xval": 40,
          "y": 370.7487234007221,
          "yval": 61.904761904761905
         },
         "value": 1
        },
        {
         "source": {
          "index": 4,
          "label": "x5",
          "label_display": "none",
          "px": 349.27806531366787,
          "py": 419.79204133732895,
          "shape": "circle",
          "shape_attrs": {
           "r": 15
          },
          "value": null,
          "weight": 20,
          "x": 349.2334300496466,
          "xval": 20,
          "y": 419.7893909849638,
          "yval": 61.53846153846154
         },
         "target": {
          "index": 20,
          "label": "h1,9",
          "label_display": "none",
          "px": 443.12903262452926,
          "py": 397.77183731760726,
          "shape": "circle",
          "shape_attrs": {
           "r": 15
          },
          "value": null,
          "weight": 22,
          "x": 443.1225250371738,
          "xval": 40,
          "y": 397.77048960247726,
          "yval": 57.14285714285714
         },
         "value": 1
        },
        {
         "source": {
          "index": 4,
          "label": "x5",
          "label_display": "none",
          "px": 349.27806531366787,
          "py": 419.79204133732895,
          "shape": "circle",
          "shape_attrs": {
           "r": 15
          },
          "value": null,
          "weight": 20,
          "x": 349.2334300496466,
          "xval": 20,
          "y": 419.7893909849638,
          "yval": 61.53846153846154
         },
         "target": {
          "index": 21,
          "label": "h1,10",
          "label_display": "none",
          "px": 453.47719733511025,
          "py": 437.1791317957166,
          "shape": "circle",
          "shape_attrs": {
           "r": 15
          },
          "value": null,
          "weight": 22,
          "x": 453.50705008596486,
          "xval": 40,
          "y": 437.28186603254966,
          "yval": 52.38095238095238
         },
         "value": 1
        },
        {
         "source": {
          "index": 4,
          "label": "x5",
          "label_display": "none",
          "px": 349.27806531366787,
          "py": 419.79204133732895,
          "shape": "circle",
          "shape_attrs": {
           "r": 15
          },
          "value": null,
          "weight": 20,
          "x": 349.2334300496466,
          "xval": 20,
          "y": 419.7893909849638,
          "yval": 61.53846153846154
         },
         "target": {
          "index": 22,
          "label": "h1,11",
          "label_display": "none",
          "px": 450.6931880317312,
          "py": 427.36854915169533,
          "shape": "circle",
          "shape_attrs": {
           "r": 15
          },
          "value": null,
          "weight": 22,
          "x": 450.70224459711284,
          "xval": 40,
          "y": 427.40707742900895,
          "yval": 47.61904761904762
         },
         "value": 1
        },
        {
         "source": {
          "index": 4,
          "label": "x5",
          "label_display": "none",
          "px": 349.27806531366787,
          "py": 419.79204133732895,
          "shape": "circle",
          "shape_attrs": {
           "r": 15
          },
          "value": null,
          "weight": 20,
          "x": 349.2334300496466,
          "xval": 20,
          "y": 419.7893909849638,
          "yval": 61.53846153846154
         },
         "target": {
          "index": 23,
          "label": "h1,12",
          "label_display": "none",
          "px": 451.616956869591,
          "py": 430.68399636795544,
          "shape": "circle",
          "shape_attrs": {
           "r": 15
          },
          "value": null,
          "weight": 22,
          "x": 451.6308613454441,
          "xval": 40,
          "y": 430.73607807474326,
          "yval": 42.857142857142854
         },
         "value": 1
        },
        {
         "source": {
          "index": 4,
          "label": "x5",
          "label_display": "none",
          "px": 349.27806531366787,
          "py": 419.79204133732895,
          "shape": "circle",
          "shape_attrs": {
           "r": 15
          },
          "value": null,
          "weight": 20,
          "x": 349.2334300496466,
          "xval": 20,
          "y": 419.7893909849638,
          "yval": 61.53846153846154
         },
         "target": {
          "index": 24,
          "label": "h1,13",
          "label_display": "none",
          "px": 449.7701933541918,
          "py": 423.95395938325044,
          "shape": "circle",
          "shape_attrs": {
           "r": 15
          },
          "value": null,
          "weight": 22,
          "x": 449.77543161498545,
          "xval": 40,
          "y": 423.979666438766,
          "yval": 38.095238095238095
         },
         "value": 1
        },
        {
         "source": {
          "index": 4,
          "label": "x5",
          "label_display": "none",
          "px": 349.27806531366787,
          "py": 419.79204133732895,
          "shape": "circle",
          "shape_attrs": {
           "r": 15
          },
          "value": null,
          "weight": 20,
          "x": 349.2334300496466,
          "xval": 20,
          "y": 419.7893909849638,
          "yval": 61.53846153846154
         },
         "target": {
          "index": 25,
          "label": "h1,14",
          "label_display": "none",
          "px": 447.77652249109667,
          "py": 416.4027794386295,
          "shape": "circle",
          "shape_attrs": {
           "r": 15
          },
          "value": null,
          "weight": 22,
          "x": 447.77533228674633,
          "xval": 40,
          "y": 416.4089800756498,
          "yval": 33.333333333333336
         },
         "value": 1
        },
        {
         "source": {
          "index": 4,
          "label": "x5",
          "label_display": "none",
          "px": 349.27806531366787,
          "py": 419.79204133732895,
          "shape": "circle",
          "shape_attrs": {
           "r": 15
          },
          "value": null,
          "weight": 20,
          "x": 349.2334300496466,
          "xval": 20,
          "y": 419.7893909849638,
          "yval": 61.53846153846154
         },
         "target": {
          "fixed": 0,
          "index": 26,
          "label": "h1,15",
          "label_display": "none",
          "px": 437.84986949367203,
          "py": 374.25132654913494,
          "shape": "circle",
          "shape_attrs": {
           "r": 15
          },
          "value": null,
          "weight": 22,
          "x": 437.84986949367203,
          "xval": 40,
          "y": 374.25132654913494,
          "yval": 28.57142857142857
         },
         "value": 1
        },
        {
         "source": {
          "index": 4,
          "label": "x5",
          "label_display": "none",
          "px": 349.27806531366787,
          "py": 419.79204133732895,
          "shape": "circle",
          "shape_attrs": {
           "r": 15
          },
          "value": null,
          "weight": 20,
          "x": 349.2334300496466,
          "xval": 20,
          "y": 419.7893909849638,
          "yval": 61.53846153846154
         },
         "target": {
          "index": 27,
          "label": "h1,16",
          "label_display": "none",
          "px": 441.03312194188425,
          "py": 388.9301428056495,
          "shape": "circle",
          "shape_attrs": {
           "r": 15
          },
          "value": null,
          "weight": 22,
          "x": 441.0223311760983,
          "xval": 40,
          "y": 388.9201492326303,
          "yval": 23.80952380952381
         },
         "value": 1
        },
        {
         "source": {
          "index": 4,
          "label": "x5",
          "label_display": "none",
          "px": 349.27806531366787,
          "py": 419.79204133732895,
          "shape": "circle",
          "shape_attrs": {
           "r": 15
          },
          "value": null,
          "weight": 20,
          "x": 349.2334300496466,
          "xval": 20,
          "y": 419.7893909849638,
          "yval": 61.53846153846154
         },
         "target": {
          "index": 28,
          "label": "h1,17",
          "label_display": "none",
          "px": 448.80878786875905,
          "py": 420.35138343623464,
          "shape": "circle",
          "shape_attrs": {
           "r": 15
          },
          "value": null,
          "weight": 22,
          "x": 448.8091799805161,
          "xval": 40,
          "y": 420.3610019925185,
          "yval": 19.047619047619047
         },
         "value": 1
        },
        {
         "source": {
          "index": 4,
          "label": "x5",
          "label_display": "none",
          "px": 349.27806531366787,
          "py": 419.79204133732895,
          "shape": "circle",
          "shape_attrs": {
           "r": 15
          },
          "value": null,
          "weight": 20,
          "x": 349.2334300496466,
          "xval": 20,
          "y": 419.7893909849638,
          "yval": 61.53846153846154
         },
         "target": {
          "index": 29,
          "label": "h1,18",
          "label_display": "none",
          "px": 446.66133336839465,
          "py": 412.06746080603597,
          "shape": "circle",
          "shape_attrs": {
           "r": 15
          },
          "value": null,
          "weight": 22,
          "x": 446.65836227806636,
          "xval": 40,
          "y": 412.06979862465556,
          "yval": 14.285714285714285
         },
         "value": 1
        },
        {
         "source": {
          "index": 4,
          "label": "x5",
          "label_display": "none",
          "px": 349.27806531366787,
          "py": 419.79204133732895,
          "shape": "circle",
          "shape_attrs": {
           "r": 15
          },
          "value": null,
          "weight": 20,
          "x": 349.2334300496466,
          "xval": 20,
          "y": 419.7893909849638,
          "yval": 61.53846153846154
         },
         "target": {
          "index": 30,
          "label": "h1,19",
          "label_display": "none",
          "px": 454.5331839788234,
          "py": 440.7353981371751,
          "shape": "circle",
          "shape_attrs": {
           "r": 15
          },
          "value": null,
          "weight": 22,
          "x": 454.57338727966345,
          "xval": 40,
          "y": 440.870029182474,
          "yval": 9.523809523809524
         },
         "value": 1
        },
        {
         "source": {
          "index": 4,
          "label": "x5",
          "label_display": "none",
          "px": 349.27806531366787,
          "py": 419.79204133732895,
          "shape": "circle",
          "shape_attrs": {
           "r": 15
          },
          "value": null,
          "weight": 20,
          "x": 349.2334300496466,
          "xval": 20,
          "y": 419.7893909849638,
          "yval": 61.53846153846154
         },
         "target": {
          "index": 31,
          "label": "h1,20",
          "label_display": "none",
          "px": 452.51111853060013,
          "py": 433.8924336038177,
          "shape": "circle",
          "shape_attrs": {
           "r": 15
          },
          "value": null,
          "weight": 22,
          "x": 452.53198152903235,
          "xval": 40,
          "y": 433.96970392214837,
          "yval": 4.761904761904762
         },
         "value": 1
        },
        {
         "source": {
          "fixed": 0,
          "index": 5,
          "label": "x6",
          "label_display": "none",
          "px": 347.9242179952878,
          "py": 403.0316697786804,
          "shape": "circle",
          "shape_attrs": {
           "r": 15
          },
          "value": null,
          "weight": 20,
          "x": 347.87171205703646,
          "xval": 20,
          "y": 403.02724575949105,
          "yval": 53.84615384615385
         },
         "target": {
          "fixed": 0,
          "index": 12,
          "label": "h1,1",
          "label_display": "none",
          "px": 438.30653773859984,
          "py": 377.7211018453636,
          "shape": "circle",
          "shape_attrs": {
           "r": 15
          },
          "value": null,
          "weight": 22,
          "x": 438.30653773859984,
          "xval": 40,
          "y": 377.7211018453636,
          "yval": 95.23809523809524
         },
         "value": 1
        },
        {
         "source": {
          "fixed": 0,
          "index": 5,
          "label": "x6",
          "label_display": "none",
          "px": 347.9242179952878,
          "py": 403.0316697786804,
          "shape": "circle",
          "shape_attrs": {
           "r": 15
          },
          "value": null,
          "weight": 20,
          "x": 347.87171205703646,
          "xval": 20,
          "y": 403.02724575949105,
          "yval": 53.84615384615385
         },
         "target": {
          "fixed": 0,
          "index": 13,
          "label": "h1,2",
          "label_display": "none",
          "px": 445.4830710949258,
          "py": 407.40580969271514,
          "shape": "circle",
          "shape_attrs": {
           "r": 15
          },
          "value": null,
          "weight": 22,
          "x": 445.4830710949258,
          "xval": 40,
          "y": 407.40580969271514,
          "yval": 90.47619047619048
         },
         "value": 1
        },
        {
         "source": {
          "fixed": 0,
          "index": 5,
          "label": "x6",
          "label_display": "none",
          "px": 347.9242179952878,
          "py": 403.0316697786804,
          "shape": "circle",
          "shape_attrs": {
           "r": 15
          },
          "value": null,
          "weight": 20,
          "x": 347.87171205703646,
          "xval": 20,
          "y": 403.02724575949105,
          "yval": 53.84615384615385
         },
         "target": {
          "fixed": 0,
          "index": 14,
          "label": "h1,3",
          "label_display": "none",
          "px": 440.09389561772593,
          "py": 384.9913547714818,
          "shape": "circle",
          "shape_attrs": {
           "r": 15
          },
          "value": null,
          "weight": 22,
          "x": 440.09389561772593,
          "xval": 40,
          "y": 384.9913547714818,
          "yval": 85.71428571428571
         },
         "value": 1
        },
        {
         "source": {
          "fixed": 0,
          "index": 5,
          "label": "x6",
          "label_display": "none",
          "px": 347.9242179952878,
          "py": 403.0316697786804,
          "shape": "circle",
          "shape_attrs": {
           "r": 15
          },
          "value": null,
          "weight": 20,
          "x": 347.87171205703646,
          "xval": 20,
          "y": 403.02724575949105,
          "yval": 53.84615384615385
         },
         "target": {
          "index": 15,
          "label": "h1,4",
          "label_display": "none",
          "px": 442.03390585799406,
          "py": 393.18624031821906,
          "shape": "circle",
          "shape_attrs": {
           "r": 15
          },
          "value": null,
          "weight": 22,
          "x": 442.0252187451049,
          "xval": 40,
          "y": 393.18099926055953,
          "yval": 80.95238095238095
         },
         "value": 1
        },
        {
         "source": {
          "fixed": 0,
          "index": 5,
          "label": "x6",
          "label_display": "none",
          "px": 347.9242179952878,
          "py": 403.0316697786804,
          "shape": "circle",
          "shape_attrs": {
           "r": 15
          },
          "value": null,
          "weight": 20,
          "x": 347.87171205703646,
          "xval": 20,
          "y": 403.02724575949105,
          "yval": 53.84615384615385
         },
         "target": {
          "fixed": 0,
          "index": 16,
          "label": "h1,5",
          "label_display": "none",
          "px": 439.3038323400098,
          "py": 381.26898657152276,
          "shape": "circle",
          "shape_attrs": {
           "r": 15
          },
          "value": null,
          "weight": 22,
          "x": 439.3038323400098,
          "xval": 40,
          "y": 381.26898657152276,
          "yval": 76.19047619047619
         },
         "value": 1
        },
        {
         "source": {
          "fixed": 0,
          "index": 5,
          "label": "x6",
          "label_display": "none",
          "px": 347.9242179952878,
          "py": 403.0316697786804,
          "shape": "circle",
          "shape_attrs": {
           "r": 15
          },
          "value": null,
          "weight": 20,
          "x": 347.87171205703646,
          "xval": 20,
          "y": 403.02724575949105,
          "yval": 53.84615384615385
         },
         "target": {
          "index": 17,
          "label": "h1,6",
          "label_display": "none",
          "px": 436.1763853376012,
          "py": 367.0391092191069,
          "shape": "circle",
          "shape_attrs": {
           "r": 15
          },
          "value": null,
          "weight": 22,
          "x": 436.1319756129927,
          "xval": 40,
          "y": 366.9193372066237,
          "yval": 71.42857142857143
         },
         "value": 1
        },
        {
         "source": {
          "fixed": 0,
          "index": 5,
          "label": "x6",
          "label_display": "none",
          "px": 347.9242179952878,
          "py": 403.0316697786804,
          "shape": "circle",
          "shape_attrs": {
           "r": 15
          },
          "value": null,
          "weight": 20,
          "x": 347.87171205703646,
          "xval": 20,
          "y": 403.02724575949105,
          "yval": 53.84615384615385
         },
         "target": {
          "index": 18,
          "label": "h1,7",
          "label_display": "none",
          "px": 444.28747307460884,
          "py": 402.5857074144147,
          "shape": "circle",
          "shape_attrs": {
           "r": 15
          },
          "value": null,
          "weight": 22,
          "x": 444.28189322820117,
          "xval": 40,
          "y": 402.5864217166488,
          "yval": 66.66666666666667
         },
         "value": 1
        },
        {
         "source": {
          "fixed": 0,
          "index": 5,
          "label": "x6",
          "label_display": "none",
          "px": 347.9242179952878,
          "py": 403.0316697786804,
          "shape": "circle",
          "shape_attrs": {
           "r": 15
          },
          "value": null,
          "weight": 20,
          "x": 347.87171205703646,
          "xval": 20,
          "y": 403.02724575949105,
          "yval": 53.84615384615385
         },
         "target": {
          "index": 19,
          "label": "h1,8",
          "label_display": "none",
          "px": 436.96694163354766,
          "py": 370.835219648978,
          "shape": "circle",
          "shape_attrs": {
           "r": 15
          },
          "value": null,
          "weight": 22,
          "x": 436.93081668870667,
          "xval": 40,
          "y": 370.7487234007221,
          "yval": 61.904761904761905
         },
         "value": 1
        },
        {
         "source": {
          "fixed": 0,
          "index": 5,
          "label": "x6",
          "label_display": "none",
          "px": 347.9242179952878,
          "py": 403.0316697786804,
          "shape": "circle",
          "shape_attrs": {
           "r": 15
          },
          "value": null,
          "weight": 20,
          "x": 347.87171205703646,
          "xval": 20,
          "y": 403.02724575949105,
          "yval": 53.84615384615385
         },
         "target": {
          "index": 20,
          "label": "h1,9",
          "label_display": "none",
          "px": 443.12903262452926,
          "py": 397.77183731760726,
          "shape": "circle",
          "shape_attrs": {
           "r": 15
          },
          "value": null,
          "weight": 22,
          "x": 443.1225250371738,
          "xval": 40,
          "y": 397.77048960247726,
          "yval": 57.14285714285714
         },
         "value": 1
        },
        {
         "source": {
          "fixed": 0,
          "index": 5,
          "label": "x6",
          "label_display": "none",
          "px": 347.9242179952878,
          "py": 403.0316697786804,
          "shape": "circle",
          "shape_attrs": {
           "r": 15
          },
          "value": null,
          "weight": 20,
          "x": 347.87171205703646,
          "xval": 20,
          "y": 403.02724575949105,
          "yval": 53.84615384615385
         },
         "target": {
          "index": 21,
          "label": "h1,10",
          "label_display": "none",
          "px": 453.47719733511025,
          "py": 437.1791317957166,
          "shape": "circle",
          "shape_attrs": {
           "r": 15
          },
          "value": null,
          "weight": 22,
          "x": 453.50705008596486,
          "xval": 40,
          "y": 437.28186603254966,
          "yval": 52.38095238095238
         },
         "value": 1
        },
        {
         "source": {
          "fixed": 0,
          "index": 5,
          "label": "x6",
          "label_display": "none",
          "px": 347.9242179952878,
          "py": 403.0316697786804,
          "shape": "circle",
          "shape_attrs": {
           "r": 15
          },
          "value": null,
          "weight": 20,
          "x": 347.87171205703646,
          "xval": 20,
          "y": 403.02724575949105,
          "yval": 53.84615384615385
         },
         "target": {
          "index": 22,
          "label": "h1,11",
          "label_display": "none",
          "px": 450.6931880317312,
          "py": 427.36854915169533,
          "shape": "circle",
          "shape_attrs": {
           "r": 15
          },
          "value": null,
          "weight": 22,
          "x": 450.70224459711284,
          "xval": 40,
          "y": 427.40707742900895,
          "yval": 47.61904761904762
         },
         "value": 1
        },
        {
         "source": {
          "fixed": 0,
          "index": 5,
          "label": "x6",
          "label_display": "none",
          "px": 347.9242179952878,
          "py": 403.0316697786804,
          "shape": "circle",
          "shape_attrs": {
           "r": 15
          },
          "value": null,
          "weight": 20,
          "x": 347.87171205703646,
          "xval": 20,
          "y": 403.02724575949105,
          "yval": 53.84615384615385
         },
         "target": {
          "index": 23,
          "label": "h1,12",
          "label_display": "none",
          "px": 451.616956869591,
          "py": 430.68399636795544,
          "shape": "circle",
          "shape_attrs": {
           "r": 15
          },
          "value": null,
          "weight": 22,
          "x": 451.6308613454441,
          "xval": 40,
          "y": 430.73607807474326,
          "yval": 42.857142857142854
         },
         "value": 1
        },
        {
         "source": {
          "fixed": 0,
          "index": 5,
          "label": "x6",
          "label_display": "none",
          "px": 347.9242179952878,
          "py": 403.0316697786804,
          "shape": "circle",
          "shape_attrs": {
           "r": 15
          },
          "value": null,
          "weight": 20,
          "x": 347.87171205703646,
          "xval": 20,
          "y": 403.02724575949105,
          "yval": 53.84615384615385
         },
         "target": {
          "index": 24,
          "label": "h1,13",
          "label_display": "none",
          "px": 449.7701933541918,
          "py": 423.95395938325044,
          "shape": "circle",
          "shape_attrs": {
           "r": 15
          },
          "value": null,
          "weight": 22,
          "x": 449.77543161498545,
          "xval": 40,
          "y": 423.979666438766,
          "yval": 38.095238095238095
         },
         "value": 1
        },
        {
         "source": {
          "fixed": 0,
          "index": 5,
          "label": "x6",
          "label_display": "none",
          "px": 347.9242179952878,
          "py": 403.0316697786804,
          "shape": "circle",
          "shape_attrs": {
           "r": 15
          },
          "value": null,
          "weight": 20,
          "x": 347.87171205703646,
          "xval": 20,
          "y": 403.02724575949105,
          "yval": 53.84615384615385
         },
         "target": {
          "index": 25,
          "label": "h1,14",
          "label_display": "none",
          "px": 447.77652249109667,
          "py": 416.4027794386295,
          "shape": "circle",
          "shape_attrs": {
           "r": 15
          },
          "value": null,
          "weight": 22,
          "x": 447.77533228674633,
          "xval": 40,
          "y": 416.4089800756498,
          "yval": 33.333333333333336
         },
         "value": 1
        },
        {
         "source": {
          "fixed": 0,
          "index": 5,
          "label": "x6",
          "label_display": "none",
          "px": 347.9242179952878,
          "py": 403.0316697786804,
          "shape": "circle",
          "shape_attrs": {
           "r": 15
          },
          "value": null,
          "weight": 20,
          "x": 347.87171205703646,
          "xval": 20,
          "y": 403.02724575949105,
          "yval": 53.84615384615385
         },
         "target": {
          "fixed": 0,
          "index": 26,
          "label": "h1,15",
          "label_display": "none",
          "px": 437.84986949367203,
          "py": 374.25132654913494,
          "shape": "circle",
          "shape_attrs": {
           "r": 15
          },
          "value": null,
          "weight": 22,
          "x": 437.84986949367203,
          "xval": 40,
          "y": 374.25132654913494,
          "yval": 28.57142857142857
         },
         "value": 1
        },
        {
         "source": {
          "fixed": 0,
          "index": 5,
          "label": "x6",
          "label_display": "none",
          "px": 347.9242179952878,
          "py": 403.0316697786804,
          "shape": "circle",
          "shape_attrs": {
           "r": 15
          },
          "value": null,
          "weight": 20,
          "x": 347.87171205703646,
          "xval": 20,
          "y": 403.02724575949105,
          "yval": 53.84615384615385
         },
         "target": {
          "index": 27,
          "label": "h1,16",
          "label_display": "none",
          "px": 441.03312194188425,
          "py": 388.9301428056495,
          "shape": "circle",
          "shape_attrs": {
           "r": 15
          },
          "value": null,
          "weight": 22,
          "x": 441.0223311760983,
          "xval": 40,
          "y": 388.9201492326303,
          "yval": 23.80952380952381
         },
         "value": 1
        },
        {
         "source": {
          "fixed": 0,
          "index": 5,
          "label": "x6",
          "label_display": "none",
          "px": 347.9242179952878,
          "py": 403.0316697786804,
          "shape": "circle",
          "shape_attrs": {
           "r": 15
          },
          "value": null,
          "weight": 20,
          "x": 347.87171205703646,
          "xval": 20,
          "y": 403.02724575949105,
          "yval": 53.84615384615385
         },
         "target": {
          "index": 28,
          "label": "h1,17",
          "label_display": "none",
          "px": 448.80878786875905,
          "py": 420.35138343623464,
          "shape": "circle",
          "shape_attrs": {
           "r": 15
          },
          "value": null,
          "weight": 22,
          "x": 448.8091799805161,
          "xval": 40,
          "y": 420.3610019925185,
          "yval": 19.047619047619047
         },
         "value": 1
        },
        {
         "source": {
          "fixed": 0,
          "index": 5,
          "label": "x6",
          "label_display": "none",
          "px": 347.9242179952878,
          "py": 403.0316697786804,
          "shape": "circle",
          "shape_attrs": {
           "r": 15
          },
          "value": null,
          "weight": 20,
          "x": 347.87171205703646,
          "xval": 20,
          "y": 403.02724575949105,
          "yval": 53.84615384615385
         },
         "target": {
          "index": 29,
          "label": "h1,18",
          "label_display": "none",
          "px": 446.66133336839465,
          "py": 412.06746080603597,
          "shape": "circle",
          "shape_attrs": {
           "r": 15
          },
          "value": null,
          "weight": 22,
          "x": 446.65836227806636,
          "xval": 40,
          "y": 412.06979862465556,
          "yval": 14.285714285714285
         },
         "value": 1
        },
        {
         "source": {
          "fixed": 0,
          "index": 5,
          "label": "x6",
          "label_display": "none",
          "px": 347.9242179952878,
          "py": 403.0316697786804,
          "shape": "circle",
          "shape_attrs": {
           "r": 15
          },
          "value": null,
          "weight": 20,
          "x": 347.87171205703646,
          "xval": 20,
          "y": 403.02724575949105,
          "yval": 53.84615384615385
         },
         "target": {
          "index": 30,
          "label": "h1,19",
          "label_display": "none",
          "px": 454.5331839788234,
          "py": 440.7353981371751,
          "shape": "circle",
          "shape_attrs": {
           "r": 15
          },
          "value": null,
          "weight": 22,
          "x": 454.57338727966345,
          "xval": 40,
          "y": 440.870029182474,
          "yval": 9.523809523809524
         },
         "value": 1
        },
        {
         "source": {
          "fixed": 0,
          "index": 5,
          "label": "x6",
          "label_display": "none",
          "px": 347.9242179952878,
          "py": 403.0316697786804,
          "shape": "circle",
          "shape_attrs": {
           "r": 15
          },
          "value": null,
          "weight": 20,
          "x": 347.87171205703646,
          "xval": 20,
          "y": 403.02724575949105,
          "yval": 53.84615384615385
         },
         "target": {
          "index": 31,
          "label": "h1,20",
          "label_display": "none",
          "px": 452.51111853060013,
          "py": 433.8924336038177,
          "shape": "circle",
          "shape_attrs": {
           "r": 15
          },
          "value": null,
          "weight": 22,
          "x": 452.53198152903235,
          "xval": 40,
          "y": 433.96970392214837,
          "yval": 4.761904761904762
         },
         "value": 1
        },
        {
         "source": {
          "index": 6,
          "label": "x7",
          "label_display": "none",
          "px": 354.2538696234675,
          "py": 438.5097584805723,
          "shape": "circle",
          "shape_attrs": {
           "r": 15
          },
          "value": null,
          "weight": 20,
          "x": 354.2313541770172,
          "xval": 20,
          "y": 438.56414739258605,
          "yval": 46.15384615384615
         },
         "target": {
          "fixed": 0,
          "index": 12,
          "label": "h1,1",
          "label_display": "none",
          "px": 438.30653773859984,
          "py": 377.7211018453636,
          "shape": "circle",
          "shape_attrs": {
           "r": 15
          },
          "value": null,
          "weight": 22,
          "x": 438.30653773859984,
          "xval": 40,
          "y": 377.7211018453636,
          "yval": 95.23809523809524
         },
         "value": 1
        },
        {
         "source": {
          "index": 6,
          "label": "x7",
          "label_display": "none",
          "px": 354.2538696234675,
          "py": 438.5097584805723,
          "shape": "circle",
          "shape_attrs": {
           "r": 15
          },
          "value": null,
          "weight": 20,
          "x": 354.2313541770172,
          "xval": 20,
          "y": 438.56414739258605,
          "yval": 46.15384615384615
         },
         "target": {
          "fixed": 0,
          "index": 13,
          "label": "h1,2",
          "label_display": "none",
          "px": 445.4830710949258,
          "py": 407.40580969271514,
          "shape": "circle",
          "shape_attrs": {
           "r": 15
          },
          "value": null,
          "weight": 22,
          "x": 445.4830710949258,
          "xval": 40,
          "y": 407.40580969271514,
          "yval": 90.47619047619048
         },
         "value": 1
        },
        {
         "source": {
          "index": 6,
          "label": "x7",
          "label_display": "none",
          "px": 354.2538696234675,
          "py": 438.5097584805723,
          "shape": "circle",
          "shape_attrs": {
           "r": 15
          },
          "value": null,
          "weight": 20,
          "x": 354.2313541770172,
          "xval": 20,
          "y": 438.56414739258605,
          "yval": 46.15384615384615
         },
         "target": {
          "fixed": 0,
          "index": 14,
          "label": "h1,3",
          "label_display": "none",
          "px": 440.09389561772593,
          "py": 384.9913547714818,
          "shape": "circle",
          "shape_attrs": {
           "r": 15
          },
          "value": null,
          "weight": 22,
          "x": 440.09389561772593,
          "xval": 40,
          "y": 384.9913547714818,
          "yval": 85.71428571428571
         },
         "value": 1
        },
        {
         "source": {
          "index": 6,
          "label": "x7",
          "label_display": "none",
          "px": 354.2538696234675,
          "py": 438.5097584805723,
          "shape": "circle",
          "shape_attrs": {
           "r": 15
          },
          "value": null,
          "weight": 20,
          "x": 354.2313541770172,
          "xval": 20,
          "y": 438.56414739258605,
          "yval": 46.15384615384615
         },
         "target": {
          "index": 15,
          "label": "h1,4",
          "label_display": "none",
          "px": 442.03390585799406,
          "py": 393.18624031821906,
          "shape": "circle",
          "shape_attrs": {
           "r": 15
          },
          "value": null,
          "weight": 22,
          "x": 442.0252187451049,
          "xval": 40,
          "y": 393.18099926055953,
          "yval": 80.95238095238095
         },
         "value": 1
        },
        {
         "source": {
          "index": 6,
          "label": "x7",
          "label_display": "none",
          "px": 354.2538696234675,
          "py": 438.5097584805723,
          "shape": "circle",
          "shape_attrs": {
           "r": 15
          },
          "value": null,
          "weight": 20,
          "x": 354.2313541770172,
          "xval": 20,
          "y": 438.56414739258605,
          "yval": 46.15384615384615
         },
         "target": {
          "fixed": 0,
          "index": 16,
          "label": "h1,5",
          "label_display": "none",
          "px": 439.3038323400098,
          "py": 381.26898657152276,
          "shape": "circle",
          "shape_attrs": {
           "r": 15
          },
          "value": null,
          "weight": 22,
          "x": 439.3038323400098,
          "xval": 40,
          "y": 381.26898657152276,
          "yval": 76.19047619047619
         },
         "value": 1
        },
        {
         "source": {
          "index": 6,
          "label": "x7",
          "label_display": "none",
          "px": 354.2538696234675,
          "py": 438.5097584805723,
          "shape": "circle",
          "shape_attrs": {
           "r": 15
          },
          "value": null,
          "weight": 20,
          "x": 354.2313541770172,
          "xval": 20,
          "y": 438.56414739258605,
          "yval": 46.15384615384615
         },
         "target": {
          "index": 17,
          "label": "h1,6",
          "label_display": "none",
          "px": 436.1763853376012,
          "py": 367.0391092191069,
          "shape": "circle",
          "shape_attrs": {
           "r": 15
          },
          "value": null,
          "weight": 22,
          "x": 436.1319756129927,
          "xval": 40,
          "y": 366.9193372066237,
          "yval": 71.42857142857143
         },
         "value": 1
        },
        {
         "source": {
          "index": 6,
          "label": "x7",
          "label_display": "none",
          "px": 354.2538696234675,
          "py": 438.5097584805723,
          "shape": "circle",
          "shape_attrs": {
           "r": 15
          },
          "value": null,
          "weight": 20,
          "x": 354.2313541770172,
          "xval": 20,
          "y": 438.56414739258605,
          "yval": 46.15384615384615
         },
         "target": {
          "index": 18,
          "label": "h1,7",
          "label_display": "none",
          "px": 444.28747307460884,
          "py": 402.5857074144147,
          "shape": "circle",
          "shape_attrs": {
           "r": 15
          },
          "value": null,
          "weight": 22,
          "x": 444.28189322820117,
          "xval": 40,
          "y": 402.5864217166488,
          "yval": 66.66666666666667
         },
         "value": 1
        },
        {
         "source": {
          "index": 6,
          "label": "x7",
          "label_display": "none",
          "px": 354.2538696234675,
          "py": 438.5097584805723,
          "shape": "circle",
          "shape_attrs": {
           "r": 15
          },
          "value": null,
          "weight": 20,
          "x": 354.2313541770172,
          "xval": 20,
          "y": 438.56414739258605,
          "yval": 46.15384615384615
         },
         "target": {
          "index": 19,
          "label": "h1,8",
          "label_display": "none",
          "px": 436.96694163354766,
          "py": 370.835219648978,
          "shape": "circle",
          "shape_attrs": {
           "r": 15
          },
          "value": null,
          "weight": 22,
          "x": 436.93081668870667,
          "xval": 40,
          "y": 370.7487234007221,
          "yval": 61.904761904761905
         },
         "value": 1
        },
        {
         "source": {
          "index": 6,
          "label": "x7",
          "label_display": "none",
          "px": 354.2538696234675,
          "py": 438.5097584805723,
          "shape": "circle",
          "shape_attrs": {
           "r": 15
          },
          "value": null,
          "weight": 20,
          "x": 354.2313541770172,
          "xval": 20,
          "y": 438.56414739258605,
          "yval": 46.15384615384615
         },
         "target": {
          "index": 20,
          "label": "h1,9",
          "label_display": "none",
          "px": 443.12903262452926,
          "py": 397.77183731760726,
          "shape": "circle",
          "shape_attrs": {
           "r": 15
          },
          "value": null,
          "weight": 22,
          "x": 443.1225250371738,
          "xval": 40,
          "y": 397.77048960247726,
          "yval": 57.14285714285714
         },
         "value": 1
        },
        {
         "source": {
          "index": 6,
          "label": "x7",
          "label_display": "none",
          "px": 354.2538696234675,
          "py": 438.5097584805723,
          "shape": "circle",
          "shape_attrs": {
           "r": 15
          },
          "value": null,
          "weight": 20,
          "x": 354.2313541770172,
          "xval": 20,
          "y": 438.56414739258605,
          "yval": 46.15384615384615
         },
         "target": {
          "index": 21,
          "label": "h1,10",
          "label_display": "none",
          "px": 453.47719733511025,
          "py": 437.1791317957166,
          "shape": "circle",
          "shape_attrs": {
           "r": 15
          },
          "value": null,
          "weight": 22,
          "x": 453.50705008596486,
          "xval": 40,
          "y": 437.28186603254966,
          "yval": 52.38095238095238
         },
         "value": 1
        },
        {
         "source": {
          "index": 6,
          "label": "x7",
          "label_display": "none",
          "px": 354.2538696234675,
          "py": 438.5097584805723,
          "shape": "circle",
          "shape_attrs": {
           "r": 15
          },
          "value": null,
          "weight": 20,
          "x": 354.2313541770172,
          "xval": 20,
          "y": 438.56414739258605,
          "yval": 46.15384615384615
         },
         "target": {
          "index": 22,
          "label": "h1,11",
          "label_display": "none",
          "px": 450.6931880317312,
          "py": 427.36854915169533,
          "shape": "circle",
          "shape_attrs": {
           "r": 15
          },
          "value": null,
          "weight": 22,
          "x": 450.70224459711284,
          "xval": 40,
          "y": 427.40707742900895,
          "yval": 47.61904761904762
         },
         "value": 1
        },
        {
         "source": {
          "index": 6,
          "label": "x7",
          "label_display": "none",
          "px": 354.2538696234675,
          "py": 438.5097584805723,
          "shape": "circle",
          "shape_attrs": {
           "r": 15
          },
          "value": null,
          "weight": 20,
          "x": 354.2313541770172,
          "xval": 20,
          "y": 438.56414739258605,
          "yval": 46.15384615384615
         },
         "target": {
          "index": 23,
          "label": "h1,12",
          "label_display": "none",
          "px": 451.616956869591,
          "py": 430.68399636795544,
          "shape": "circle",
          "shape_attrs": {
           "r": 15
          },
          "value": null,
          "weight": 22,
          "x": 451.6308613454441,
          "xval": 40,
          "y": 430.73607807474326,
          "yval": 42.857142857142854
         },
         "value": 1
        },
        {
         "source": {
          "index": 6,
          "label": "x7",
          "label_display": "none",
          "px": 354.2538696234675,
          "py": 438.5097584805723,
          "shape": "circle",
          "shape_attrs": {
           "r": 15
          },
          "value": null,
          "weight": 20,
          "x": 354.2313541770172,
          "xval": 20,
          "y": 438.56414739258605,
          "yval": 46.15384615384615
         },
         "target": {
          "index": 24,
          "label": "h1,13",
          "label_display": "none",
          "px": 449.7701933541918,
          "py": 423.95395938325044,
          "shape": "circle",
          "shape_attrs": {
           "r": 15
          },
          "value": null,
          "weight": 22,
          "x": 449.77543161498545,
          "xval": 40,
          "y": 423.979666438766,
          "yval": 38.095238095238095
         },
         "value": 1
        },
        {
         "source": {
          "index": 6,
          "label": "x7",
          "label_display": "none",
          "px": 354.2538696234675,
          "py": 438.5097584805723,
          "shape": "circle",
          "shape_attrs": {
           "r": 15
          },
          "value": null,
          "weight": 20,
          "x": 354.2313541770172,
          "xval": 20,
          "y": 438.56414739258605,
          "yval": 46.15384615384615
         },
         "target": {
          "index": 25,
          "label": "h1,14",
          "label_display": "none",
          "px": 447.77652249109667,
          "py": 416.4027794386295,
          "shape": "circle",
          "shape_attrs": {
           "r": 15
          },
          "value": null,
          "weight": 22,
          "x": 447.77533228674633,
          "xval": 40,
          "y": 416.4089800756498,
          "yval": 33.333333333333336
         },
         "value": 1
        },
        {
         "source": {
          "index": 6,
          "label": "x7",
          "label_display": "none",
          "px": 354.2538696234675,
          "py": 438.5097584805723,
          "shape": "circle",
          "shape_attrs": {
           "r": 15
          },
          "value": null,
          "weight": 20,
          "x": 354.2313541770172,
          "xval": 20,
          "y": 438.56414739258605,
          "yval": 46.15384615384615
         },
         "target": {
          "fixed": 0,
          "index": 26,
          "label": "h1,15",
          "label_display": "none",
          "px": 437.84986949367203,
          "py": 374.25132654913494,
          "shape": "circle",
          "shape_attrs": {
           "r": 15
          },
          "value": null,
          "weight": 22,
          "x": 437.84986949367203,
          "xval": 40,
          "y": 374.25132654913494,
          "yval": 28.57142857142857
         },
         "value": 1
        },
        {
         "source": {
          "index": 6,
          "label": "x7",
          "label_display": "none",
          "px": 354.2538696234675,
          "py": 438.5097584805723,
          "shape": "circle",
          "shape_attrs": {
           "r": 15
          },
          "value": null,
          "weight": 20,
          "x": 354.2313541770172,
          "xval": 20,
          "y": 438.56414739258605,
          "yval": 46.15384615384615
         },
         "target": {
          "index": 27,
          "label": "h1,16",
          "label_display": "none",
          "px": 441.03312194188425,
          "py": 388.9301428056495,
          "shape": "circle",
          "shape_attrs": {
           "r": 15
          },
          "value": null,
          "weight": 22,
          "x": 441.0223311760983,
          "xval": 40,
          "y": 388.9201492326303,
          "yval": 23.80952380952381
         },
         "value": 1
        },
        {
         "source": {
          "index": 6,
          "label": "x7",
          "label_display": "none",
          "px": 354.2538696234675,
          "py": 438.5097584805723,
          "shape": "circle",
          "shape_attrs": {
           "r": 15
          },
          "value": null,
          "weight": 20,
          "x": 354.2313541770172,
          "xval": 20,
          "y": 438.56414739258605,
          "yval": 46.15384615384615
         },
         "target": {
          "index": 28,
          "label": "h1,17",
          "label_display": "none",
          "px": 448.80878786875905,
          "py": 420.35138343623464,
          "shape": "circle",
          "shape_attrs": {
           "r": 15
          },
          "value": null,
          "weight": 22,
          "x": 448.8091799805161,
          "xval": 40,
          "y": 420.3610019925185,
          "yval": 19.047619047619047
         },
         "value": 1
        },
        {
         "source": {
          "index": 6,
          "label": "x7",
          "label_display": "none",
          "px": 354.2538696234675,
          "py": 438.5097584805723,
          "shape": "circle",
          "shape_attrs": {
           "r": 15
          },
          "value": null,
          "weight": 20,
          "x": 354.2313541770172,
          "xval": 20,
          "y": 438.56414739258605,
          "yval": 46.15384615384615
         },
         "target": {
          "index": 29,
          "label": "h1,18",
          "label_display": "none",
          "px": 446.66133336839465,
          "py": 412.06746080603597,
          "shape": "circle",
          "shape_attrs": {
           "r": 15
          },
          "value": null,
          "weight": 22,
          "x": 446.65836227806636,
          "xval": 40,
          "y": 412.06979862465556,
          "yval": 14.285714285714285
         },
         "value": 1
        },
        {
         "source": {
          "index": 6,
          "label": "x7",
          "label_display": "none",
          "px": 354.2538696234675,
          "py": 438.5097584805723,
          "shape": "circle",
          "shape_attrs": {
           "r": 15
          },
          "value": null,
          "weight": 20,
          "x": 354.2313541770172,
          "xval": 20,
          "y": 438.56414739258605,
          "yval": 46.15384615384615
         },
         "target": {
          "index": 30,
          "label": "h1,19",
          "label_display": "none",
          "px": 454.5331839788234,
          "py": 440.7353981371751,
          "shape": "circle",
          "shape_attrs": {
           "r": 15
          },
          "value": null,
          "weight": 22,
          "x": 454.57338727966345,
          "xval": 40,
          "y": 440.870029182474,
          "yval": 9.523809523809524
         },
         "value": 1
        },
        {
         "source": {
          "index": 6,
          "label": "x7",
          "label_display": "none",
          "px": 354.2538696234675,
          "py": 438.5097584805723,
          "shape": "circle",
          "shape_attrs": {
           "r": 15
          },
          "value": null,
          "weight": 20,
          "x": 354.2313541770172,
          "xval": 20,
          "y": 438.56414739258605,
          "yval": 46.15384615384615
         },
         "target": {
          "index": 31,
          "label": "h1,20",
          "label_display": "none",
          "px": 452.51111853060013,
          "py": 433.8924336038177,
          "shape": "circle",
          "shape_attrs": {
           "r": 15
          },
          "value": null,
          "weight": 22,
          "x": 452.53198152903235,
          "xval": 40,
          "y": 433.96970392214837,
          "yval": 4.761904761904762
         },
         "value": 1
        },
        {
         "source": {
          "index": 7,
          "label": "x8",
          "label_display": "none",
          "px": 356.22057362840934,
          "py": 443.45571635538505,
          "shape": "circle",
          "shape_attrs": {
           "r": 15
          },
          "value": null,
          "weight": 20,
          "x": 356.2072062248934,
          "xval": 20,
          "y": 443.5252069713679,
          "yval": 38.46153846153846
         },
         "target": {
          "fixed": 0,
          "index": 12,
          "label": "h1,1",
          "label_display": "none",
          "px": 438.30653773859984,
          "py": 377.7211018453636,
          "shape": "circle",
          "shape_attrs": {
           "r": 15
          },
          "value": null,
          "weight": 22,
          "x": 438.30653773859984,
          "xval": 40,
          "y": 377.7211018453636,
          "yval": 95.23809523809524
         },
         "value": 1
        },
        {
         "source": {
          "index": 7,
          "label": "x8",
          "label_display": "none",
          "px": 356.22057362840934,
          "py": 443.45571635538505,
          "shape": "circle",
          "shape_attrs": {
           "r": 15
          },
          "value": null,
          "weight": 20,
          "x": 356.2072062248934,
          "xval": 20,
          "y": 443.5252069713679,
          "yval": 38.46153846153846
         },
         "target": {
          "fixed": 0,
          "index": 13,
          "label": "h1,2",
          "label_display": "none",
          "px": 445.4830710949258,
          "py": 407.40580969271514,
          "shape": "circle",
          "shape_attrs": {
           "r": 15
          },
          "value": null,
          "weight": 22,
          "x": 445.4830710949258,
          "xval": 40,
          "y": 407.40580969271514,
          "yval": 90.47619047619048
         },
         "value": 1
        },
        {
         "source": {
          "index": 7,
          "label": "x8",
          "label_display": "none",
          "px": 356.22057362840934,
          "py": 443.45571635538505,
          "shape": "circle",
          "shape_attrs": {
           "r": 15
          },
          "value": null,
          "weight": 20,
          "x": 356.2072062248934,
          "xval": 20,
          "y": 443.5252069713679,
          "yval": 38.46153846153846
         },
         "target": {
          "fixed": 0,
          "index": 14,
          "label": "h1,3",
          "label_display": "none",
          "px": 440.09389561772593,
          "py": 384.9913547714818,
          "shape": "circle",
          "shape_attrs": {
           "r": 15
          },
          "value": null,
          "weight": 22,
          "x": 440.09389561772593,
          "xval": 40,
          "y": 384.9913547714818,
          "yval": 85.71428571428571
         },
         "value": 1
        },
        {
         "source": {
          "index": 7,
          "label": "x8",
          "label_display": "none",
          "px": 356.22057362840934,
          "py": 443.45571635538505,
          "shape": "circle",
          "shape_attrs": {
           "r": 15
          },
          "value": null,
          "weight": 20,
          "x": 356.2072062248934,
          "xval": 20,
          "y": 443.5252069713679,
          "yval": 38.46153846153846
         },
         "target": {
          "index": 15,
          "label": "h1,4",
          "label_display": "none",
          "px": 442.03390585799406,
          "py": 393.18624031821906,
          "shape": "circle",
          "shape_attrs": {
           "r": 15
          },
          "value": null,
          "weight": 22,
          "x": 442.0252187451049,
          "xval": 40,
          "y": 393.18099926055953,
          "yval": 80.95238095238095
         },
         "value": 1
        },
        {
         "source": {
          "index": 7,
          "label": "x8",
          "label_display": "none",
          "px": 356.22057362840934,
          "py": 443.45571635538505,
          "shape": "circle",
          "shape_attrs": {
           "r": 15
          },
          "value": null,
          "weight": 20,
          "x": 356.2072062248934,
          "xval": 20,
          "y": 443.5252069713679,
          "yval": 38.46153846153846
         },
         "target": {
          "fixed": 0,
          "index": 16,
          "label": "h1,5",
          "label_display": "none",
          "px": 439.3038323400098,
          "py": 381.26898657152276,
          "shape": "circle",
          "shape_attrs": {
           "r": 15
          },
          "value": null,
          "weight": 22,
          "x": 439.3038323400098,
          "xval": 40,
          "y": 381.26898657152276,
          "yval": 76.19047619047619
         },
         "value": 1
        },
        {
         "source": {
          "index": 7,
          "label": "x8",
          "label_display": "none",
          "px": 356.22057362840934,
          "py": 443.45571635538505,
          "shape": "circle",
          "shape_attrs": {
           "r": 15
          },
          "value": null,
          "weight": 20,
          "x": 356.2072062248934,
          "xval": 20,
          "y": 443.5252069713679,
          "yval": 38.46153846153846
         },
         "target": {
          "index": 17,
          "label": "h1,6",
          "label_display": "none",
          "px": 436.1763853376012,
          "py": 367.0391092191069,
          "shape": "circle",
          "shape_attrs": {
           "r": 15
          },
          "value": null,
          "weight": 22,
          "x": 436.1319756129927,
          "xval": 40,
          "y": 366.9193372066237,
          "yval": 71.42857142857143
         },
         "value": 1
        },
        {
         "source": {
          "index": 7,
          "label": "x8",
          "label_display": "none",
          "px": 356.22057362840934,
          "py": 443.45571635538505,
          "shape": "circle",
          "shape_attrs": {
           "r": 15
          },
          "value": null,
          "weight": 20,
          "x": 356.2072062248934,
          "xval": 20,
          "y": 443.5252069713679,
          "yval": 38.46153846153846
         },
         "target": {
          "index": 18,
          "label": "h1,7",
          "label_display": "none",
          "px": 444.28747307460884,
          "py": 402.5857074144147,
          "shape": "circle",
          "shape_attrs": {
           "r": 15
          },
          "value": null,
          "weight": 22,
          "x": 444.28189322820117,
          "xval": 40,
          "y": 402.5864217166488,
          "yval": 66.66666666666667
         },
         "value": 1
        },
        {
         "source": {
          "index": 7,
          "label": "x8",
          "label_display": "none",
          "px": 356.22057362840934,
          "py": 443.45571635538505,
          "shape": "circle",
          "shape_attrs": {
           "r": 15
          },
          "value": null,
          "weight": 20,
          "x": 356.2072062248934,
          "xval": 20,
          "y": 443.5252069713679,
          "yval": 38.46153846153846
         },
         "target": {
          "index": 19,
          "label": "h1,8",
          "label_display": "none",
          "px": 436.96694163354766,
          "py": 370.835219648978,
          "shape": "circle",
          "shape_attrs": {
           "r": 15
          },
          "value": null,
          "weight": 22,
          "x": 436.93081668870667,
          "xval": 40,
          "y": 370.7487234007221,
          "yval": 61.904761904761905
         },
         "value": 1
        },
        {
         "source": {
          "index": 7,
          "label": "x8",
          "label_display": "none",
          "px": 356.22057362840934,
          "py": 443.45571635538505,
          "shape": "circle",
          "shape_attrs": {
           "r": 15
          },
          "value": null,
          "weight": 20,
          "x": 356.2072062248934,
          "xval": 20,
          "y": 443.5252069713679,
          "yval": 38.46153846153846
         },
         "target": {
          "index": 20,
          "label": "h1,9",
          "label_display": "none",
          "px": 443.12903262452926,
          "py": 397.77183731760726,
          "shape": "circle",
          "shape_attrs": {
           "r": 15
          },
          "value": null,
          "weight": 22,
          "x": 443.1225250371738,
          "xval": 40,
          "y": 397.77048960247726,
          "yval": 57.14285714285714
         },
         "value": 1
        },
        {
         "source": {
          "index": 7,
          "label": "x8",
          "label_display": "none",
          "px": 356.22057362840934,
          "py": 443.45571635538505,
          "shape": "circle",
          "shape_attrs": {
           "r": 15
          },
          "value": null,
          "weight": 20,
          "x": 356.2072062248934,
          "xval": 20,
          "y": 443.5252069713679,
          "yval": 38.46153846153846
         },
         "target": {
          "index": 21,
          "label": "h1,10",
          "label_display": "none",
          "px": 453.47719733511025,
          "py": 437.1791317957166,
          "shape": "circle",
          "shape_attrs": {
           "r": 15
          },
          "value": null,
          "weight": 22,
          "x": 453.50705008596486,
          "xval": 40,
          "y": 437.28186603254966,
          "yval": 52.38095238095238
         },
         "value": 1
        },
        {
         "source": {
          "index": 7,
          "label": "x8",
          "label_display": "none",
          "px": 356.22057362840934,
          "py": 443.45571635538505,
          "shape": "circle",
          "shape_attrs": {
           "r": 15
          },
          "value": null,
          "weight": 20,
          "x": 356.2072062248934,
          "xval": 20,
          "y": 443.5252069713679,
          "yval": 38.46153846153846
         },
         "target": {
          "index": 22,
          "label": "h1,11",
          "label_display": "none",
          "px": 450.6931880317312,
          "py": 427.36854915169533,
          "shape": "circle",
          "shape_attrs": {
           "r": 15
          },
          "value": null,
          "weight": 22,
          "x": 450.70224459711284,
          "xval": 40,
          "y": 427.40707742900895,
          "yval": 47.61904761904762
         },
         "value": 1
        },
        {
         "source": {
          "index": 7,
          "label": "x8",
          "label_display": "none",
          "px": 356.22057362840934,
          "py": 443.45571635538505,
          "shape": "circle",
          "shape_attrs": {
           "r": 15
          },
          "value": null,
          "weight": 20,
          "x": 356.2072062248934,
          "xval": 20,
          "y": 443.5252069713679,
          "yval": 38.46153846153846
         },
         "target": {
          "index": 23,
          "label": "h1,12",
          "label_display": "none",
          "px": 451.616956869591,
          "py": 430.68399636795544,
          "shape": "circle",
          "shape_attrs": {
           "r": 15
          },
          "value": null,
          "weight": 22,
          "x": 451.6308613454441,
          "xval": 40,
          "y": 430.73607807474326,
          "yval": 42.857142857142854
         },
         "value": 1
        },
        {
         "source": {
          "index": 7,
          "label": "x8",
          "label_display": "none",
          "px": 356.22057362840934,
          "py": 443.45571635538505,
          "shape": "circle",
          "shape_attrs": {
           "r": 15
          },
          "value": null,
          "weight": 20,
          "x": 356.2072062248934,
          "xval": 20,
          "y": 443.5252069713679,
          "yval": 38.46153846153846
         },
         "target": {
          "index": 24,
          "label": "h1,13",
          "label_display": "none",
          "px": 449.7701933541918,
          "py": 423.95395938325044,
          "shape": "circle",
          "shape_attrs": {
           "r": 15
          },
          "value": null,
          "weight": 22,
          "x": 449.77543161498545,
          "xval": 40,
          "y": 423.979666438766,
          "yval": 38.095238095238095
         },
         "value": 1
        },
        {
         "source": {
          "index": 7,
          "label": "x8",
          "label_display": "none",
          "px": 356.22057362840934,
          "py": 443.45571635538505,
          "shape": "circle",
          "shape_attrs": {
           "r": 15
          },
          "value": null,
          "weight": 20,
          "x": 356.2072062248934,
          "xval": 20,
          "y": 443.5252069713679,
          "yval": 38.46153846153846
         },
         "target": {
          "index": 25,
          "label": "h1,14",
          "label_display": "none",
          "px": 447.77652249109667,
          "py": 416.4027794386295,
          "shape": "circle",
          "shape_attrs": {
           "r": 15
          },
          "value": null,
          "weight": 22,
          "x": 447.77533228674633,
          "xval": 40,
          "y": 416.4089800756498,
          "yval": 33.333333333333336
         },
         "value": 1
        },
        {
         "source": {
          "index": 7,
          "label": "x8",
          "label_display": "none",
          "px": 356.22057362840934,
          "py": 443.45571635538505,
          "shape": "circle",
          "shape_attrs": {
           "r": 15
          },
          "value": null,
          "weight": 20,
          "x": 356.2072062248934,
          "xval": 20,
          "y": 443.5252069713679,
          "yval": 38.46153846153846
         },
         "target": {
          "fixed": 0,
          "index": 26,
          "label": "h1,15",
          "label_display": "none",
          "px": 437.84986949367203,
          "py": 374.25132654913494,
          "shape": "circle",
          "shape_attrs": {
           "r": 15
          },
          "value": null,
          "weight": 22,
          "x": 437.84986949367203,
          "xval": 40,
          "y": 374.25132654913494,
          "yval": 28.57142857142857
         },
         "value": 1
        },
        {
         "source": {
          "index": 7,
          "label": "x8",
          "label_display": "none",
          "px": 356.22057362840934,
          "py": 443.45571635538505,
          "shape": "circle",
          "shape_attrs": {
           "r": 15
          },
          "value": null,
          "weight": 20,
          "x": 356.2072062248934,
          "xval": 20,
          "y": 443.5252069713679,
          "yval": 38.46153846153846
         },
         "target": {
          "index": 27,
          "label": "h1,16",
          "label_display": "none",
          "px": 441.03312194188425,
          "py": 388.9301428056495,
          "shape": "circle",
          "shape_attrs": {
           "r": 15
          },
          "value": null,
          "weight": 22,
          "x": 441.0223311760983,
          "xval": 40,
          "y": 388.9201492326303,
          "yval": 23.80952380952381
         },
         "value": 1
        },
        {
         "source": {
          "index": 7,
          "label": "x8",
          "label_display": "none",
          "px": 356.22057362840934,
          "py": 443.45571635538505,
          "shape": "circle",
          "shape_attrs": {
           "r": 15
          },
          "value": null,
          "weight": 20,
          "x": 356.2072062248934,
          "xval": 20,
          "y": 443.5252069713679,
          "yval": 38.46153846153846
         },
         "target": {
          "index": 28,
          "label": "h1,17",
          "label_display": "none",
          "px": 448.80878786875905,
          "py": 420.35138343623464,
          "shape": "circle",
          "shape_attrs": {
           "r": 15
          },
          "value": null,
          "weight": 22,
          "x": 448.8091799805161,
          "xval": 40,
          "y": 420.3610019925185,
          "yval": 19.047619047619047
         },
         "value": 1
        },
        {
         "source": {
          "index": 7,
          "label": "x8",
          "label_display": "none",
          "px": 356.22057362840934,
          "py": 443.45571635538505,
          "shape": "circle",
          "shape_attrs": {
           "r": 15
          },
          "value": null,
          "weight": 20,
          "x": 356.2072062248934,
          "xval": 20,
          "y": 443.5252069713679,
          "yval": 38.46153846153846
         },
         "target": {
          "index": 29,
          "label": "h1,18",
          "label_display": "none",
          "px": 446.66133336839465,
          "py": 412.06746080603597,
          "shape": "circle",
          "shape_attrs": {
           "r": 15
          },
          "value": null,
          "weight": 22,
          "x": 446.65836227806636,
          "xval": 40,
          "y": 412.06979862465556,
          "yval": 14.285714285714285
         },
         "value": 1
        },
        {
         "source": {
          "index": 7,
          "label": "x8",
          "label_display": "none",
          "px": 356.22057362840934,
          "py": 443.45571635538505,
          "shape": "circle",
          "shape_attrs": {
           "r": 15
          },
          "value": null,
          "weight": 20,
          "x": 356.2072062248934,
          "xval": 20,
          "y": 443.5252069713679,
          "yval": 38.46153846153846
         },
         "target": {
          "index": 30,
          "label": "h1,19",
          "label_display": "none",
          "px": 454.5331839788234,
          "py": 440.7353981371751,
          "shape": "circle",
          "shape_attrs": {
           "r": 15
          },
          "value": null,
          "weight": 22,
          "x": 454.57338727966345,
          "xval": 40,
          "y": 440.870029182474,
          "yval": 9.523809523809524
         },
         "value": 1
        },
        {
         "source": {
          "index": 7,
          "label": "x8",
          "label_display": "none",
          "px": 356.22057362840934,
          "py": 443.45571635538505,
          "shape": "circle",
          "shape_attrs": {
           "r": 15
          },
          "value": null,
          "weight": 20,
          "x": 356.2072062248934,
          "xval": 20,
          "y": 443.5252069713679,
          "yval": 38.46153846153846
         },
         "target": {
          "index": 31,
          "label": "h1,20",
          "label_display": "none",
          "px": 452.51111853060013,
          "py": 433.8924336038177,
          "shape": "circle",
          "shape_attrs": {
           "r": 15
          },
          "value": null,
          "weight": 22,
          "x": 452.53198152903235,
          "xval": 40,
          "y": 433.96970392214837,
          "yval": 4.761904761904762
         },
         "value": 1
        },
        {
         "source": {
          "index": 8,
          "label": "x9",
          "label_display": "none",
          "px": 358.8291461241985,
          "py": 449.07773963324667,
          "shape": "circle",
          "shape_attrs": {
           "r": 15
          },
          "value": null,
          "weight": 20,
          "x": 358.8271265687761,
          "xval": 20,
          "y": 449.1618443720512,
          "yval": 30.76923076923077
         },
         "target": {
          "fixed": 0,
          "index": 12,
          "label": "h1,1",
          "label_display": "none",
          "px": 438.30653773859984,
          "py": 377.7211018453636,
          "shape": "circle",
          "shape_attrs": {
           "r": 15
          },
          "value": null,
          "weight": 22,
          "x": 438.30653773859984,
          "xval": 40,
          "y": 377.7211018453636,
          "yval": 95.23809523809524
         },
         "value": 1
        },
        {
         "source": {
          "index": 8,
          "label": "x9",
          "label_display": "none",
          "px": 358.8291461241985,
          "py": 449.07773963324667,
          "shape": "circle",
          "shape_attrs": {
           "r": 15
          },
          "value": null,
          "weight": 20,
          "x": 358.8271265687761,
          "xval": 20,
          "y": 449.1618443720512,
          "yval": 30.76923076923077
         },
         "target": {
          "fixed": 0,
          "index": 13,
          "label": "h1,2",
          "label_display": "none",
          "px": 445.4830710949258,
          "py": 407.40580969271514,
          "shape": "circle",
          "shape_attrs": {
           "r": 15
          },
          "value": null,
          "weight": 22,
          "x": 445.4830710949258,
          "xval": 40,
          "y": 407.40580969271514,
          "yval": 90.47619047619048
         },
         "value": 1
        },
        {
         "source": {
          "index": 8,
          "label": "x9",
          "label_display": "none",
          "px": 358.8291461241985,
          "py": 449.07773963324667,
          "shape": "circle",
          "shape_attrs": {
           "r": 15
          },
          "value": null,
          "weight": 20,
          "x": 358.8271265687761,
          "xval": 20,
          "y": 449.1618443720512,
          "yval": 30.76923076923077
         },
         "target": {
          "fixed": 0,
          "index": 14,
          "label": "h1,3",
          "label_display": "none",
          "px": 440.09389561772593,
          "py": 384.9913547714818,
          "shape": "circle",
          "shape_attrs": {
           "r": 15
          },
          "value": null,
          "weight": 22,
          "x": 440.09389561772593,
          "xval": 40,
          "y": 384.9913547714818,
          "yval": 85.71428571428571
         },
         "value": 1
        },
        {
         "source": {
          "index": 8,
          "label": "x9",
          "label_display": "none",
          "px": 358.8291461241985,
          "py": 449.07773963324667,
          "shape": "circle",
          "shape_attrs": {
           "r": 15
          },
          "value": null,
          "weight": 20,
          "x": 358.8271265687761,
          "xval": 20,
          "y": 449.1618443720512,
          "yval": 30.76923076923077
         },
         "target": {
          "index": 15,
          "label": "h1,4",
          "label_display": "none",
          "px": 442.03390585799406,
          "py": 393.18624031821906,
          "shape": "circle",
          "shape_attrs": {
           "r": 15
          },
          "value": null,
          "weight": 22,
          "x": 442.0252187451049,
          "xval": 40,
          "y": 393.18099926055953,
          "yval": 80.95238095238095
         },
         "value": 1
        },
        {
         "source": {
          "index": 8,
          "label": "x9",
          "label_display": "none",
          "px": 358.8291461241985,
          "py": 449.07773963324667,
          "shape": "circle",
          "shape_attrs": {
           "r": 15
          },
          "value": null,
          "weight": 20,
          "x": 358.8271265687761,
          "xval": 20,
          "y": 449.1618443720512,
          "yval": 30.76923076923077
         },
         "target": {
          "fixed": 0,
          "index": 16,
          "label": "h1,5",
          "label_display": "none",
          "px": 439.3038323400098,
          "py": 381.26898657152276,
          "shape": "circle",
          "shape_attrs": {
           "r": 15
          },
          "value": null,
          "weight": 22,
          "x": 439.3038323400098,
          "xval": 40,
          "y": 381.26898657152276,
          "yval": 76.19047619047619
         },
         "value": 1
        },
        {
         "source": {
          "index": 8,
          "label": "x9",
          "label_display": "none",
          "px": 358.8291461241985,
          "py": 449.07773963324667,
          "shape": "circle",
          "shape_attrs": {
           "r": 15
          },
          "value": null,
          "weight": 20,
          "x": 358.8271265687761,
          "xval": 20,
          "y": 449.1618443720512,
          "yval": 30.76923076923077
         },
         "target": {
          "index": 17,
          "label": "h1,6",
          "label_display": "none",
          "px": 436.1763853376012,
          "py": 367.0391092191069,
          "shape": "circle",
          "shape_attrs": {
           "r": 15
          },
          "value": null,
          "weight": 22,
          "x": 436.1319756129927,
          "xval": 40,
          "y": 366.9193372066237,
          "yval": 71.42857142857143
         },
         "value": 1
        },
        {
         "source": {
          "index": 8,
          "label": "x9",
          "label_display": "none",
          "px": 358.8291461241985,
          "py": 449.07773963324667,
          "shape": "circle",
          "shape_attrs": {
           "r": 15
          },
          "value": null,
          "weight": 20,
          "x": 358.8271265687761,
          "xval": 20,
          "y": 449.1618443720512,
          "yval": 30.76923076923077
         },
         "target": {
          "index": 18,
          "label": "h1,7",
          "label_display": "none",
          "px": 444.28747307460884,
          "py": 402.5857074144147,
          "shape": "circle",
          "shape_attrs": {
           "r": 15
          },
          "value": null,
          "weight": 22,
          "x": 444.28189322820117,
          "xval": 40,
          "y": 402.5864217166488,
          "yval": 66.66666666666667
         },
         "value": 1
        },
        {
         "source": {
          "index": 8,
          "label": "x9",
          "label_display": "none",
          "px": 358.8291461241985,
          "py": 449.07773963324667,
          "shape": "circle",
          "shape_attrs": {
           "r": 15
          },
          "value": null,
          "weight": 20,
          "x": 358.8271265687761,
          "xval": 20,
          "y": 449.1618443720512,
          "yval": 30.76923076923077
         },
         "target": {
          "index": 19,
          "label": "h1,8",
          "label_display": "none",
          "px": 436.96694163354766,
          "py": 370.835219648978,
          "shape": "circle",
          "shape_attrs": {
           "r": 15
          },
          "value": null,
          "weight": 22,
          "x": 436.93081668870667,
          "xval": 40,
          "y": 370.7487234007221,
          "yval": 61.904761904761905
         },
         "value": 1
        },
        {
         "source": {
          "index": 8,
          "label": "x9",
          "label_display": "none",
          "px": 358.8291461241985,
          "py": 449.07773963324667,
          "shape": "circle",
          "shape_attrs": {
           "r": 15
          },
          "value": null,
          "weight": 20,
          "x": 358.8271265687761,
          "xval": 20,
          "y": 449.1618443720512,
          "yval": 30.76923076923077
         },
         "target": {
          "index": 20,
          "label": "h1,9",
          "label_display": "none",
          "px": 443.12903262452926,
          "py": 397.77183731760726,
          "shape": "circle",
          "shape_attrs": {
           "r": 15
          },
          "value": null,
          "weight": 22,
          "x": 443.1225250371738,
          "xval": 40,
          "y": 397.77048960247726,
          "yval": 57.14285714285714
         },
         "value": 1
        },
        {
         "source": {
          "index": 8,
          "label": "x9",
          "label_display": "none",
          "px": 358.8291461241985,
          "py": 449.07773963324667,
          "shape": "circle",
          "shape_attrs": {
           "r": 15
          },
          "value": null,
          "weight": 20,
          "x": 358.8271265687761,
          "xval": 20,
          "y": 449.1618443720512,
          "yval": 30.76923076923077
         },
         "target": {
          "index": 21,
          "label": "h1,10",
          "label_display": "none",
          "px": 453.47719733511025,
          "py": 437.1791317957166,
          "shape": "circle",
          "shape_attrs": {
           "r": 15
          },
          "value": null,
          "weight": 22,
          "x": 453.50705008596486,
          "xval": 40,
          "y": 437.28186603254966,
          "yval": 52.38095238095238
         },
         "value": 1
        },
        {
         "source": {
          "index": 8,
          "label": "x9",
          "label_display": "none",
          "px": 358.8291461241985,
          "py": 449.07773963324667,
          "shape": "circle",
          "shape_attrs": {
           "r": 15
          },
          "value": null,
          "weight": 20,
          "x": 358.8271265687761,
          "xval": 20,
          "y": 449.1618443720512,
          "yval": 30.76923076923077
         },
         "target": {
          "index": 22,
          "label": "h1,11",
          "label_display": "none",
          "px": 450.6931880317312,
          "py": 427.36854915169533,
          "shape": "circle",
          "shape_attrs": {
           "r": 15
          },
          "value": null,
          "weight": 22,
          "x": 450.70224459711284,
          "xval": 40,
          "y": 427.40707742900895,
          "yval": 47.61904761904762
         },
         "value": 1
        },
        {
         "source": {
          "index": 8,
          "label": "x9",
          "label_display": "none",
          "px": 358.8291461241985,
          "py": 449.07773963324667,
          "shape": "circle",
          "shape_attrs": {
           "r": 15
          },
          "value": null,
          "weight": 20,
          "x": 358.8271265687761,
          "xval": 20,
          "y": 449.1618443720512,
          "yval": 30.76923076923077
         },
         "target": {
          "index": 23,
          "label": "h1,12",
          "label_display": "none",
          "px": 451.616956869591,
          "py": 430.68399636795544,
          "shape": "circle",
          "shape_attrs": {
           "r": 15
          },
          "value": null,
          "weight": 22,
          "x": 451.6308613454441,
          "xval": 40,
          "y": 430.73607807474326,
          "yval": 42.857142857142854
         },
         "value": 1
        },
        {
         "source": {
          "index": 8,
          "label": "x9",
          "label_display": "none",
          "px": 358.8291461241985,
          "py": 449.07773963324667,
          "shape": "circle",
          "shape_attrs": {
           "r": 15
          },
          "value": null,
          "weight": 20,
          "x": 358.8271265687761,
          "xval": 20,
          "y": 449.1618443720512,
          "yval": 30.76923076923077
         },
         "target": {
          "index": 24,
          "label": "h1,13",
          "label_display": "none",
          "px": 449.7701933541918,
          "py": 423.95395938325044,
          "shape": "circle",
          "shape_attrs": {
           "r": 15
          },
          "value": null,
          "weight": 22,
          "x": 449.77543161498545,
          "xval": 40,
          "y": 423.979666438766,
          "yval": 38.095238095238095
         },
         "value": 1
        },
        {
         "source": {
          "index": 8,
          "label": "x9",
          "label_display": "none",
          "px": 358.8291461241985,
          "py": 449.07773963324667,
          "shape": "circle",
          "shape_attrs": {
           "r": 15
          },
          "value": null,
          "weight": 20,
          "x": 358.8271265687761,
          "xval": 20,
          "y": 449.1618443720512,
          "yval": 30.76923076923077
         },
         "target": {
          "index": 25,
          "label": "h1,14",
          "label_display": "none",
          "px": 447.77652249109667,
          "py": 416.4027794386295,
          "shape": "circle",
          "shape_attrs": {
           "r": 15
          },
          "value": null,
          "weight": 22,
          "x": 447.77533228674633,
          "xval": 40,
          "y": 416.4089800756498,
          "yval": 33.333333333333336
         },
         "value": 1
        },
        {
         "source": {
          "index": 8,
          "label": "x9",
          "label_display": "none",
          "px": 358.8291461241985,
          "py": 449.07773963324667,
          "shape": "circle",
          "shape_attrs": {
           "r": 15
          },
          "value": null,
          "weight": 20,
          "x": 358.8271265687761,
          "xval": 20,
          "y": 449.1618443720512,
          "yval": 30.76923076923077
         },
         "target": {
          "fixed": 0,
          "index": 26,
          "label": "h1,15",
          "label_display": "none",
          "px": 437.84986949367203,
          "py": 374.25132654913494,
          "shape": "circle",
          "shape_attrs": {
           "r": 15
          },
          "value": null,
          "weight": 22,
          "x": 437.84986949367203,
          "xval": 40,
          "y": 374.25132654913494,
          "yval": 28.57142857142857
         },
         "value": 1
        },
        {
         "source": {
          "index": 8,
          "label": "x9",
          "label_display": "none",
          "px": 358.8291461241985,
          "py": 449.07773963324667,
          "shape": "circle",
          "shape_attrs": {
           "r": 15
          },
          "value": null,
          "weight": 20,
          "x": 358.8271265687761,
          "xval": 20,
          "y": 449.1618443720512,
          "yval": 30.76923076923077
         },
         "target": {
          "index": 27,
          "label": "h1,16",
          "label_display": "none",
          "px": 441.03312194188425,
          "py": 388.9301428056495,
          "shape": "circle",
          "shape_attrs": {
           "r": 15
          },
          "value": null,
          "weight": 22,
          "x": 441.0223311760983,
          "xval": 40,
          "y": 388.9201492326303,
          "yval": 23.80952380952381
         },
         "value": 1
        },
        {
         "source": {
          "index": 8,
          "label": "x9",
          "label_display": "none",
          "px": 358.8291461241985,
          "py": 449.07773963324667,
          "shape": "circle",
          "shape_attrs": {
           "r": 15
          },
          "value": null,
          "weight": 20,
          "x": 358.8271265687761,
          "xval": 20,
          "y": 449.1618443720512,
          "yval": 30.76923076923077
         },
         "target": {
          "index": 28,
          "label": "h1,17",
          "label_display": "none",
          "px": 448.80878786875905,
          "py": 420.35138343623464,
          "shape": "circle",
          "shape_attrs": {
           "r": 15
          },
          "value": null,
          "weight": 22,
          "x": 448.8091799805161,
          "xval": 40,
          "y": 420.3610019925185,
          "yval": 19.047619047619047
         },
         "value": 1
        },
        {
         "source": {
          "index": 8,
          "label": "x9",
          "label_display": "none",
          "px": 358.8291461241985,
          "py": 449.07773963324667,
          "shape": "circle",
          "shape_attrs": {
           "r": 15
          },
          "value": null,
          "weight": 20,
          "x": 358.8271265687761,
          "xval": 20,
          "y": 449.1618443720512,
          "yval": 30.76923076923077
         },
         "target": {
          "index": 29,
          "label": "h1,18",
          "label_display": "none",
          "px": 446.66133336839465,
          "py": 412.06746080603597,
          "shape": "circle",
          "shape_attrs": {
           "r": 15
          },
          "value": null,
          "weight": 22,
          "x": 446.65836227806636,
          "xval": 40,
          "y": 412.06979862465556,
          "yval": 14.285714285714285
         },
         "value": 1
        },
        {
         "source": {
          "index": 8,
          "label": "x9",
          "label_display": "none",
          "px": 358.8291461241985,
          "py": 449.07773963324667,
          "shape": "circle",
          "shape_attrs": {
           "r": 15
          },
          "value": null,
          "weight": 20,
          "x": 358.8271265687761,
          "xval": 20,
          "y": 449.1618443720512,
          "yval": 30.76923076923077
         },
         "target": {
          "index": 30,
          "label": "h1,19",
          "label_display": "none",
          "px": 454.5331839788234,
          "py": 440.7353981371751,
          "shape": "circle",
          "shape_attrs": {
           "r": 15
          },
          "value": null,
          "weight": 22,
          "x": 454.57338727966345,
          "xval": 40,
          "y": 440.870029182474,
          "yval": 9.523809523809524
         },
         "value": 1
        },
        {
         "source": {
          "index": 8,
          "label": "x9",
          "label_display": "none",
          "px": 358.8291461241985,
          "py": 449.07773963324667,
          "shape": "circle",
          "shape_attrs": {
           "r": 15
          },
          "value": null,
          "weight": 20,
          "x": 358.8271265687761,
          "xval": 20,
          "y": 449.1618443720512,
          "yval": 30.76923076923077
         },
         "target": {
          "index": 31,
          "label": "h1,20",
          "label_display": "none",
          "px": 452.51111853060013,
          "py": 433.8924336038177,
          "shape": "circle",
          "shape_attrs": {
           "r": 15
          },
          "value": null,
          "weight": 22,
          "x": 452.53198152903235,
          "xval": 40,
          "y": 433.96970392214837,
          "yval": 4.761904761904762
         },
         "value": 1
        },
        {
         "source": {
          "index": 9,
          "label": "x10",
          "label_display": "none",
          "px": 350.2348409036163,
          "py": 424.5967295664436,
          "shape": "circle",
          "shape_attrs": {
           "r": 15
          },
          "value": null,
          "weight": 20,
          "x": 350.1955683056573,
          "xval": 20,
          "y": 424.60863574141325,
          "yval": 23.076923076923077
         },
         "target": {
          "fixed": 0,
          "index": 12,
          "label": "h1,1",
          "label_display": "none",
          "px": 438.30653773859984,
          "py": 377.7211018453636,
          "shape": "circle",
          "shape_attrs": {
           "r": 15
          },
          "value": null,
          "weight": 22,
          "x": 438.30653773859984,
          "xval": 40,
          "y": 377.7211018453636,
          "yval": 95.23809523809524
         },
         "value": 1
        },
        {
         "source": {
          "index": 9,
          "label": "x10",
          "label_display": "none",
          "px": 350.2348409036163,
          "py": 424.5967295664436,
          "shape": "circle",
          "shape_attrs": {
           "r": 15
          },
          "value": null,
          "weight": 20,
          "x": 350.1955683056573,
          "xval": 20,
          "y": 424.60863574141325,
          "yval": 23.076923076923077
         },
         "target": {
          "fixed": 0,
          "index": 13,
          "label": "h1,2",
          "label_display": "none",
          "px": 445.4830710949258,
          "py": 407.40580969271514,
          "shape": "circle",
          "shape_attrs": {
           "r": 15
          },
          "value": null,
          "weight": 22,
          "x": 445.4830710949258,
          "xval": 40,
          "y": 407.40580969271514,
          "yval": 90.47619047619048
         },
         "value": 1
        },
        {
         "source": {
          "index": 9,
          "label": "x10",
          "label_display": "none",
          "px": 350.2348409036163,
          "py": 424.5967295664436,
          "shape": "circle",
          "shape_attrs": {
           "r": 15
          },
          "value": null,
          "weight": 20,
          "x": 350.1955683056573,
          "xval": 20,
          "y": 424.60863574141325,
          "yval": 23.076923076923077
         },
         "target": {
          "fixed": 0,
          "index": 14,
          "label": "h1,3",
          "label_display": "none",
          "px": 440.09389561772593,
          "py": 384.9913547714818,
          "shape": "circle",
          "shape_attrs": {
           "r": 15
          },
          "value": null,
          "weight": 22,
          "x": 440.09389561772593,
          "xval": 40,
          "y": 384.9913547714818,
          "yval": 85.71428571428571
         },
         "value": 1
        },
        {
         "source": {
          "index": 9,
          "label": "x10",
          "label_display": "none",
          "px": 350.2348409036163,
          "py": 424.5967295664436,
          "shape": "circle",
          "shape_attrs": {
           "r": 15
          },
          "value": null,
          "weight": 20,
          "x": 350.1955683056573,
          "xval": 20,
          "y": 424.60863574141325,
          "yval": 23.076923076923077
         },
         "target": {
          "index": 15,
          "label": "h1,4",
          "label_display": "none",
          "px": 442.03390585799406,
          "py": 393.18624031821906,
          "shape": "circle",
          "shape_attrs": {
           "r": 15
          },
          "value": null,
          "weight": 22,
          "x": 442.0252187451049,
          "xval": 40,
          "y": 393.18099926055953,
          "yval": 80.95238095238095
         },
         "value": 1
        },
        {
         "source": {
          "index": 9,
          "label": "x10",
          "label_display": "none",
          "px": 350.2348409036163,
          "py": 424.5967295664436,
          "shape": "circle",
          "shape_attrs": {
           "r": 15
          },
          "value": null,
          "weight": 20,
          "x": 350.1955683056573,
          "xval": 20,
          "y": 424.60863574141325,
          "yval": 23.076923076923077
         },
         "target": {
          "fixed": 0,
          "index": 16,
          "label": "h1,5",
          "label_display": "none",
          "px": 439.3038323400098,
          "py": 381.26898657152276,
          "shape": "circle",
          "shape_attrs": {
           "r": 15
          },
          "value": null,
          "weight": 22,
          "x": 439.3038323400098,
          "xval": 40,
          "y": 381.26898657152276,
          "yval": 76.19047619047619
         },
         "value": 1
        },
        {
         "source": {
          "index": 9,
          "label": "x10",
          "label_display": "none",
          "px": 350.2348409036163,
          "py": 424.5967295664436,
          "shape": "circle",
          "shape_attrs": {
           "r": 15
          },
          "value": null,
          "weight": 20,
          "x": 350.1955683056573,
          "xval": 20,
          "y": 424.60863574141325,
          "yval": 23.076923076923077
         },
         "target": {
          "index": 17,
          "label": "h1,6",
          "label_display": "none",
          "px": 436.1763853376012,
          "py": 367.0391092191069,
          "shape": "circle",
          "shape_attrs": {
           "r": 15
          },
          "value": null,
          "weight": 22,
          "x": 436.1319756129927,
          "xval": 40,
          "y": 366.9193372066237,
          "yval": 71.42857142857143
         },
         "value": 1
        },
        {
         "source": {
          "index": 9,
          "label": "x10",
          "label_display": "none",
          "px": 350.2348409036163,
          "py": 424.5967295664436,
          "shape": "circle",
          "shape_attrs": {
           "r": 15
          },
          "value": null,
          "weight": 20,
          "x": 350.1955683056573,
          "xval": 20,
          "y": 424.60863574141325,
          "yval": 23.076923076923077
         },
         "target": {
          "index": 18,
          "label": "h1,7",
          "label_display": "none",
          "px": 444.28747307460884,
          "py": 402.5857074144147,
          "shape": "circle",
          "shape_attrs": {
           "r": 15
          },
          "value": null,
          "weight": 22,
          "x": 444.28189322820117,
          "xval": 40,
          "y": 402.5864217166488,
          "yval": 66.66666666666667
         },
         "value": 1
        },
        {
         "source": {
          "index": 9,
          "label": "x10",
          "label_display": "none",
          "px": 350.2348409036163,
          "py": 424.5967295664436,
          "shape": "circle",
          "shape_attrs": {
           "r": 15
          },
          "value": null,
          "weight": 20,
          "x": 350.1955683056573,
          "xval": 20,
          "y": 424.60863574141325,
          "yval": 23.076923076923077
         },
         "target": {
          "index": 19,
          "label": "h1,8",
          "label_display": "none",
          "px": 436.96694163354766,
          "py": 370.835219648978,
          "shape": "circle",
          "shape_attrs": {
           "r": 15
          },
          "value": null,
          "weight": 22,
          "x": 436.93081668870667,
          "xval": 40,
          "y": 370.7487234007221,
          "yval": 61.904761904761905
         },
         "value": 1
        },
        {
         "source": {
          "index": 9,
          "label": "x10",
          "label_display": "none",
          "px": 350.2348409036163,
          "py": 424.5967295664436,
          "shape": "circle",
          "shape_attrs": {
           "r": 15
          },
          "value": null,
          "weight": 20,
          "x": 350.1955683056573,
          "xval": 20,
          "y": 424.60863574141325,
          "yval": 23.076923076923077
         },
         "target": {
          "index": 20,
          "label": "h1,9",
          "label_display": "none",
          "px": 443.12903262452926,
          "py": 397.77183731760726,
          "shape": "circle",
          "shape_attrs": {
           "r": 15
          },
          "value": null,
          "weight": 22,
          "x": 443.1225250371738,
          "xval": 40,
          "y": 397.77048960247726,
          "yval": 57.14285714285714
         },
         "value": 1
        },
        {
         "source": {
          "index": 9,
          "label": "x10",
          "label_display": "none",
          "px": 350.2348409036163,
          "py": 424.5967295664436,
          "shape": "circle",
          "shape_attrs": {
           "r": 15
          },
          "value": null,
          "weight": 20,
          "x": 350.1955683056573,
          "xval": 20,
          "y": 424.60863574141325,
          "yval": 23.076923076923077
         },
         "target": {
          "index": 21,
          "label": "h1,10",
          "label_display": "none",
          "px": 453.47719733511025,
          "py": 437.1791317957166,
          "shape": "circle",
          "shape_attrs": {
           "r": 15
          },
          "value": null,
          "weight": 22,
          "x": 453.50705008596486,
          "xval": 40,
          "y": 437.28186603254966,
          "yval": 52.38095238095238
         },
         "value": 1
        },
        {
         "source": {
          "index": 9,
          "label": "x10",
          "label_display": "none",
          "px": 350.2348409036163,
          "py": 424.5967295664436,
          "shape": "circle",
          "shape_attrs": {
           "r": 15
          },
          "value": null,
          "weight": 20,
          "x": 350.1955683056573,
          "xval": 20,
          "y": 424.60863574141325,
          "yval": 23.076923076923077
         },
         "target": {
          "index": 22,
          "label": "h1,11",
          "label_display": "none",
          "px": 450.6931880317312,
          "py": 427.36854915169533,
          "shape": "circle",
          "shape_attrs": {
           "r": 15
          },
          "value": null,
          "weight": 22,
          "x": 450.70224459711284,
          "xval": 40,
          "y": 427.40707742900895,
          "yval": 47.61904761904762
         },
         "value": 1
        },
        {
         "source": {
          "index": 9,
          "label": "x10",
          "label_display": "none",
          "px": 350.2348409036163,
          "py": 424.5967295664436,
          "shape": "circle",
          "shape_attrs": {
           "r": 15
          },
          "value": null,
          "weight": 20,
          "x": 350.1955683056573,
          "xval": 20,
          "y": 424.60863574141325,
          "yval": 23.076923076923077
         },
         "target": {
          "index": 23,
          "label": "h1,12",
          "label_display": "none",
          "px": 451.616956869591,
          "py": 430.68399636795544,
          "shape": "circle",
          "shape_attrs": {
           "r": 15
          },
          "value": null,
          "weight": 22,
          "x": 451.6308613454441,
          "xval": 40,
          "y": 430.73607807474326,
          "yval": 42.857142857142854
         },
         "value": 1
        },
        {
         "source": {
          "index": 9,
          "label": "x10",
          "label_display": "none",
          "px": 350.2348409036163,
          "py": 424.5967295664436,
          "shape": "circle",
          "shape_attrs": {
           "r": 15
          },
          "value": null,
          "weight": 20,
          "x": 350.1955683056573,
          "xval": 20,
          "y": 424.60863574141325,
          "yval": 23.076923076923077
         },
         "target": {
          "index": 24,
          "label": "h1,13",
          "label_display": "none",
          "px": 449.7701933541918,
          "py": 423.95395938325044,
          "shape": "circle",
          "shape_attrs": {
           "r": 15
          },
          "value": null,
          "weight": 22,
          "x": 449.77543161498545,
          "xval": 40,
          "y": 423.979666438766,
          "yval": 38.095238095238095
         },
         "value": 1
        },
        {
         "source": {
          "index": 9,
          "label": "x10",
          "label_display": "none",
          "px": 350.2348409036163,
          "py": 424.5967295664436,
          "shape": "circle",
          "shape_attrs": {
           "r": 15
          },
          "value": null,
          "weight": 20,
          "x": 350.1955683056573,
          "xval": 20,
          "y": 424.60863574141325,
          "yval": 23.076923076923077
         },
         "target": {
          "index": 25,
          "label": "h1,14",
          "label_display": "none",
          "px": 447.77652249109667,
          "py": 416.4027794386295,
          "shape": "circle",
          "shape_attrs": {
           "r": 15
          },
          "value": null,
          "weight": 22,
          "x": 447.77533228674633,
          "xval": 40,
          "y": 416.4089800756498,
          "yval": 33.333333333333336
         },
         "value": 1
        },
        {
         "source": {
          "index": 9,
          "label": "x10",
          "label_display": "none",
          "px": 350.2348409036163,
          "py": 424.5967295664436,
          "shape": "circle",
          "shape_attrs": {
           "r": 15
          },
          "value": null,
          "weight": 20,
          "x": 350.1955683056573,
          "xval": 20,
          "y": 424.60863574141325,
          "yval": 23.076923076923077
         },
         "target": {
          "fixed": 0,
          "index": 26,
          "label": "h1,15",
          "label_display": "none",
          "px": 437.84986949367203,
          "py": 374.25132654913494,
          "shape": "circle",
          "shape_attrs": {
           "r": 15
          },
          "value": null,
          "weight": 22,
          "x": 437.84986949367203,
          "xval": 40,
          "y": 374.25132654913494,
          "yval": 28.57142857142857
         },
         "value": 1
        },
        {
         "source": {
          "index": 9,
          "label": "x10",
          "label_display": "none",
          "px": 350.2348409036163,
          "py": 424.5967295664436,
          "shape": "circle",
          "shape_attrs": {
           "r": 15
          },
          "value": null,
          "weight": 20,
          "x": 350.1955683056573,
          "xval": 20,
          "y": 424.60863574141325,
          "yval": 23.076923076923077
         },
         "target": {
          "index": 27,
          "label": "h1,16",
          "label_display": "none",
          "px": 441.03312194188425,
          "py": 388.9301428056495,
          "shape": "circle",
          "shape_attrs": {
           "r": 15
          },
          "value": null,
          "weight": 22,
          "x": 441.0223311760983,
          "xval": 40,
          "y": 388.9201492326303,
          "yval": 23.80952380952381
         },
         "value": 1
        },
        {
         "source": {
          "index": 9,
          "label": "x10",
          "label_display": "none",
          "px": 350.2348409036163,
          "py": 424.5967295664436,
          "shape": "circle",
          "shape_attrs": {
           "r": 15
          },
          "value": null,
          "weight": 20,
          "x": 350.1955683056573,
          "xval": 20,
          "y": 424.60863574141325,
          "yval": 23.076923076923077
         },
         "target": {
          "index": 28,
          "label": "h1,17",
          "label_display": "none",
          "px": 448.80878786875905,
          "py": 420.35138343623464,
          "shape": "circle",
          "shape_attrs": {
           "r": 15
          },
          "value": null,
          "weight": 22,
          "x": 448.8091799805161,
          "xval": 40,
          "y": 420.3610019925185,
          "yval": 19.047619047619047
         },
         "value": 1
        },
        {
         "source": {
          "index": 9,
          "label": "x10",
          "label_display": "none",
          "px": 350.2348409036163,
          "py": 424.5967295664436,
          "shape": "circle",
          "shape_attrs": {
           "r": 15
          },
          "value": null,
          "weight": 20,
          "x": 350.1955683056573,
          "xval": 20,
          "y": 424.60863574141325,
          "yval": 23.076923076923077
         },
         "target": {
          "index": 29,
          "label": "h1,18",
          "label_display": "none",
          "px": 446.66133336839465,
          "py": 412.06746080603597,
          "shape": "circle",
          "shape_attrs": {
           "r": 15
          },
          "value": null,
          "weight": 22,
          "x": 446.65836227806636,
          "xval": 40,
          "y": 412.06979862465556,
          "yval": 14.285714285714285
         },
         "value": 1
        },
        {
         "source": {
          "index": 9,
          "label": "x10",
          "label_display": "none",
          "px": 350.2348409036163,
          "py": 424.5967295664436,
          "shape": "circle",
          "shape_attrs": {
           "r": 15
          },
          "value": null,
          "weight": 20,
          "x": 350.1955683056573,
          "xval": 20,
          "y": 424.60863574141325,
          "yval": 23.076923076923077
         },
         "target": {
          "index": 30,
          "label": "h1,19",
          "label_display": "none",
          "px": 454.5331839788234,
          "py": 440.7353981371751,
          "shape": "circle",
          "shape_attrs": {
           "r": 15
          },
          "value": null,
          "weight": 22,
          "x": 454.57338727966345,
          "xval": 40,
          "y": 440.870029182474,
          "yval": 9.523809523809524
         },
         "value": 1
        },
        {
         "source": {
          "index": 9,
          "label": "x10",
          "label_display": "none",
          "px": 350.2348409036163,
          "py": 424.5967295664436,
          "shape": "circle",
          "shape_attrs": {
           "r": 15
          },
          "value": null,
          "weight": 20,
          "x": 350.1955683056573,
          "xval": 20,
          "y": 424.60863574141325,
          "yval": 23.076923076923077
         },
         "target": {
          "index": 31,
          "label": "h1,20",
          "label_display": "none",
          "px": 452.51111853060013,
          "py": 433.8924336038177,
          "shape": "circle",
          "shape_attrs": {
           "r": 15
          },
          "value": null,
          "weight": 22,
          "x": 452.53198152903235,
          "xval": 40,
          "y": 433.96970392214837,
          "yval": 4.761904761904762
         },
         "value": 1
        },
        {
         "source": {
          "index": 10,
          "label": "x11",
          "label_display": "none",
          "px": 351.34055233776166,
          "py": 429.23557739439275,
          "shape": "circle",
          "shape_attrs": {
           "r": 15
          },
          "value": null,
          "weight": 20,
          "x": 351.3057445861824,
          "xval": 20,
          "y": 429.26248221265405,
          "yval": 15.384615384615385
         },
         "target": {
          "fixed": 0,
          "index": 12,
          "label": "h1,1",
          "label_display": "none",
          "px": 438.30653773859984,
          "py": 377.7211018453636,
          "shape": "circle",
          "shape_attrs": {
           "r": 15
          },
          "value": null,
          "weight": 22,
          "x": 438.30653773859984,
          "xval": 40,
          "y": 377.7211018453636,
          "yval": 95.23809523809524
         },
         "value": 1
        },
        {
         "source": {
          "index": 10,
          "label": "x11",
          "label_display": "none",
          "px": 351.34055233776166,
          "py": 429.23557739439275,
          "shape": "circle",
          "shape_attrs": {
           "r": 15
          },
          "value": null,
          "weight": 20,
          "x": 351.3057445861824,
          "xval": 20,
          "y": 429.26248221265405,
          "yval": 15.384615384615385
         },
         "target": {
          "fixed": 0,
          "index": 13,
          "label": "h1,2",
          "label_display": "none",
          "px": 445.4830710949258,
          "py": 407.40580969271514,
          "shape": "circle",
          "shape_attrs": {
           "r": 15
          },
          "value": null,
          "weight": 22,
          "x": 445.4830710949258,
          "xval": 40,
          "y": 407.40580969271514,
          "yval": 90.47619047619048
         },
         "value": 1
        },
        {
         "source": {
          "index": 10,
          "label": "x11",
          "label_display": "none",
          "px": 351.34055233776166,
          "py": 429.23557739439275,
          "shape": "circle",
          "shape_attrs": {
           "r": 15
          },
          "value": null,
          "weight": 20,
          "x": 351.3057445861824,
          "xval": 20,
          "y": 429.26248221265405,
          "yval": 15.384615384615385
         },
         "target": {
          "fixed": 0,
          "index": 14,
          "label": "h1,3",
          "label_display": "none",
          "px": 440.09389561772593,
          "py": 384.9913547714818,
          "shape": "circle",
          "shape_attrs": {
           "r": 15
          },
          "value": null,
          "weight": 22,
          "x": 440.09389561772593,
          "xval": 40,
          "y": 384.9913547714818,
          "yval": 85.71428571428571
         },
         "value": 1
        },
        {
         "source": {
          "index": 10,
          "label": "x11",
          "label_display": "none",
          "px": 351.34055233776166,
          "py": 429.23557739439275,
          "shape": "circle",
          "shape_attrs": {
           "r": 15
          },
          "value": null,
          "weight": 20,
          "x": 351.3057445861824,
          "xval": 20,
          "y": 429.26248221265405,
          "yval": 15.384615384615385
         },
         "target": {
          "index": 15,
          "label": "h1,4",
          "label_display": "none",
          "px": 442.03390585799406,
          "py": 393.18624031821906,
          "shape": "circle",
          "shape_attrs": {
           "r": 15
          },
          "value": null,
          "weight": 22,
          "x": 442.0252187451049,
          "xval": 40,
          "y": 393.18099926055953,
          "yval": 80.95238095238095
         },
         "value": 1
        },
        {
         "source": {
          "index": 10,
          "label": "x11",
          "label_display": "none",
          "px": 351.34055233776166,
          "py": 429.23557739439275,
          "shape": "circle",
          "shape_attrs": {
           "r": 15
          },
          "value": null,
          "weight": 20,
          "x": 351.3057445861824,
          "xval": 20,
          "y": 429.26248221265405,
          "yval": 15.384615384615385
         },
         "target": {
          "fixed": 0,
          "index": 16,
          "label": "h1,5",
          "label_display": "none",
          "px": 439.3038323400098,
          "py": 381.26898657152276,
          "shape": "circle",
          "shape_attrs": {
           "r": 15
          },
          "value": null,
          "weight": 22,
          "x": 439.3038323400098,
          "xval": 40,
          "y": 381.26898657152276,
          "yval": 76.19047619047619
         },
         "value": 1
        },
        {
         "source": {
          "index": 10,
          "label": "x11",
          "label_display": "none",
          "px": 351.34055233776166,
          "py": 429.23557739439275,
          "shape": "circle",
          "shape_attrs": {
           "r": 15
          },
          "value": null,
          "weight": 20,
          "x": 351.3057445861824,
          "xval": 20,
          "y": 429.26248221265405,
          "yval": 15.384615384615385
         },
         "target": {
          "index": 17,
          "label": "h1,6",
          "label_display": "none",
          "px": 436.1763853376012,
          "py": 367.0391092191069,
          "shape": "circle",
          "shape_attrs": {
           "r": 15
          },
          "value": null,
          "weight": 22,
          "x": 436.1319756129927,
          "xval": 40,
          "y": 366.9193372066237,
          "yval": 71.42857142857143
         },
         "value": 1
        },
        {
         "source": {
          "index": 10,
          "label": "x11",
          "label_display": "none",
          "px": 351.34055233776166,
          "py": 429.23557739439275,
          "shape": "circle",
          "shape_attrs": {
           "r": 15
          },
          "value": null,
          "weight": 20,
          "x": 351.3057445861824,
          "xval": 20,
          "y": 429.26248221265405,
          "yval": 15.384615384615385
         },
         "target": {
          "index": 18,
          "label": "h1,7",
          "label_display": "none",
          "px": 444.28747307460884,
          "py": 402.5857074144147,
          "shape": "circle",
          "shape_attrs": {
           "r": 15
          },
          "value": null,
          "weight": 22,
          "x": 444.28189322820117,
          "xval": 40,
          "y": 402.5864217166488,
          "yval": 66.66666666666667
         },
         "value": 1
        },
        {
         "source": {
          "index": 10,
          "label": "x11",
          "label_display": "none",
          "px": 351.34055233776166,
          "py": 429.23557739439275,
          "shape": "circle",
          "shape_attrs": {
           "r": 15
          },
          "value": null,
          "weight": 20,
          "x": 351.3057445861824,
          "xval": 20,
          "y": 429.26248221265405,
          "yval": 15.384615384615385
         },
         "target": {
          "index": 19,
          "label": "h1,8",
          "label_display": "none",
          "px": 436.96694163354766,
          "py": 370.835219648978,
          "shape": "circle",
          "shape_attrs": {
           "r": 15
          },
          "value": null,
          "weight": 22,
          "x": 436.93081668870667,
          "xval": 40,
          "y": 370.7487234007221,
          "yval": 61.904761904761905
         },
         "value": 1
        },
        {
         "source": {
          "index": 10,
          "label": "x11",
          "label_display": "none",
          "px": 351.34055233776166,
          "py": 429.23557739439275,
          "shape": "circle",
          "shape_attrs": {
           "r": 15
          },
          "value": null,
          "weight": 20,
          "x": 351.3057445861824,
          "xval": 20,
          "y": 429.26248221265405,
          "yval": 15.384615384615385
         },
         "target": {
          "index": 20,
          "label": "h1,9",
          "label_display": "none",
          "px": 443.12903262452926,
          "py": 397.77183731760726,
          "shape": "circle",
          "shape_attrs": {
           "r": 15
          },
          "value": null,
          "weight": 22,
          "x": 443.1225250371738,
          "xval": 40,
          "y": 397.77048960247726,
          "yval": 57.14285714285714
         },
         "value": 1
        },
        {
         "source": {
          "index": 10,
          "label": "x11",
          "label_display": "none",
          "px": 351.34055233776166,
          "py": 429.23557739439275,
          "shape": "circle",
          "shape_attrs": {
           "r": 15
          },
          "value": null,
          "weight": 20,
          "x": 351.3057445861824,
          "xval": 20,
          "y": 429.26248221265405,
          "yval": 15.384615384615385
         },
         "target": {
          "index": 21,
          "label": "h1,10",
          "label_display": "none",
          "px": 453.47719733511025,
          "py": 437.1791317957166,
          "shape": "circle",
          "shape_attrs": {
           "r": 15
          },
          "value": null,
          "weight": 22,
          "x": 453.50705008596486,
          "xval": 40,
          "y": 437.28186603254966,
          "yval": 52.38095238095238
         },
         "value": 1
        },
        {
         "source": {
          "index": 10,
          "label": "x11",
          "label_display": "none",
          "px": 351.34055233776166,
          "py": 429.23557739439275,
          "shape": "circle",
          "shape_attrs": {
           "r": 15
          },
          "value": null,
          "weight": 20,
          "x": 351.3057445861824,
          "xval": 20,
          "y": 429.26248221265405,
          "yval": 15.384615384615385
         },
         "target": {
          "index": 22,
          "label": "h1,11",
          "label_display": "none",
          "px": 450.6931880317312,
          "py": 427.36854915169533,
          "shape": "circle",
          "shape_attrs": {
           "r": 15
          },
          "value": null,
          "weight": 22,
          "x": 450.70224459711284,
          "xval": 40,
          "y": 427.40707742900895,
          "yval": 47.61904761904762
         },
         "value": 1
        },
        {
         "source": {
          "index": 10,
          "label": "x11",
          "label_display": "none",
          "px": 351.34055233776166,
          "py": 429.23557739439275,
          "shape": "circle",
          "shape_attrs": {
           "r": 15
          },
          "value": null,
          "weight": 20,
          "x": 351.3057445861824,
          "xval": 20,
          "y": 429.26248221265405,
          "yval": 15.384615384615385
         },
         "target": {
          "index": 23,
          "label": "h1,12",
          "label_display": "none",
          "px": 451.616956869591,
          "py": 430.68399636795544,
          "shape": "circle",
          "shape_attrs": {
           "r": 15
          },
          "value": null,
          "weight": 22,
          "x": 451.6308613454441,
          "xval": 40,
          "y": 430.73607807474326,
          "yval": 42.857142857142854
         },
         "value": 1
        },
        {
         "source": {
          "index": 10,
          "label": "x11",
          "label_display": "none",
          "px": 351.34055233776166,
          "py": 429.23557739439275,
          "shape": "circle",
          "shape_attrs": {
           "r": 15
          },
          "value": null,
          "weight": 20,
          "x": 351.3057445861824,
          "xval": 20,
          "y": 429.26248221265405,
          "yval": 15.384615384615385
         },
         "target": {
          "index": 24,
          "label": "h1,13",
          "label_display": "none",
          "px": 449.7701933541918,
          "py": 423.95395938325044,
          "shape": "circle",
          "shape_attrs": {
           "r": 15
          },
          "value": null,
          "weight": 22,
          "x": 449.77543161498545,
          "xval": 40,
          "y": 423.979666438766,
          "yval": 38.095238095238095
         },
         "value": 1
        },
        {
         "source": {
          "index": 10,
          "label": "x11",
          "label_display": "none",
          "px": 351.34055233776166,
          "py": 429.23557739439275,
          "shape": "circle",
          "shape_attrs": {
           "r": 15
          },
          "value": null,
          "weight": 20,
          "x": 351.3057445861824,
          "xval": 20,
          "y": 429.26248221265405,
          "yval": 15.384615384615385
         },
         "target": {
          "index": 25,
          "label": "h1,14",
          "label_display": "none",
          "px": 447.77652249109667,
          "py": 416.4027794386295,
          "shape": "circle",
          "shape_attrs": {
           "r": 15
          },
          "value": null,
          "weight": 22,
          "x": 447.77533228674633,
          "xval": 40,
          "y": 416.4089800756498,
          "yval": 33.333333333333336
         },
         "value": 1
        },
        {
         "source": {
          "index": 10,
          "label": "x11",
          "label_display": "none",
          "px": 351.34055233776166,
          "py": 429.23557739439275,
          "shape": "circle",
          "shape_attrs": {
           "r": 15
          },
          "value": null,
          "weight": 20,
          "x": 351.3057445861824,
          "xval": 20,
          "y": 429.26248221265405,
          "yval": 15.384615384615385
         },
         "target": {
          "fixed": 0,
          "index": 26,
          "label": "h1,15",
          "label_display": "none",
          "px": 437.84986949367203,
          "py": 374.25132654913494,
          "shape": "circle",
          "shape_attrs": {
           "r": 15
          },
          "value": null,
          "weight": 22,
          "x": 437.84986949367203,
          "xval": 40,
          "y": 374.25132654913494,
          "yval": 28.57142857142857
         },
         "value": 1
        },
        {
         "source": {
          "index": 10,
          "label": "x11",
          "label_display": "none",
          "px": 351.34055233776166,
          "py": 429.23557739439275,
          "shape": "circle",
          "shape_attrs": {
           "r": 15
          },
          "value": null,
          "weight": 20,
          "x": 351.3057445861824,
          "xval": 20,
          "y": 429.26248221265405,
          "yval": 15.384615384615385
         },
         "target": {
          "index": 27,
          "label": "h1,16",
          "label_display": "none",
          "px": 441.03312194188425,
          "py": 388.9301428056495,
          "shape": "circle",
          "shape_attrs": {
           "r": 15
          },
          "value": null,
          "weight": 22,
          "x": 441.0223311760983,
          "xval": 40,
          "y": 388.9201492326303,
          "yval": 23.80952380952381
         },
         "value": 1
        },
        {
         "source": {
          "index": 10,
          "label": "x11",
          "label_display": "none",
          "px": 351.34055233776166,
          "py": 429.23557739439275,
          "shape": "circle",
          "shape_attrs": {
           "r": 15
          },
          "value": null,
          "weight": 20,
          "x": 351.3057445861824,
          "xval": 20,
          "y": 429.26248221265405,
          "yval": 15.384615384615385
         },
         "target": {
          "index": 28,
          "label": "h1,17",
          "label_display": "none",
          "px": 448.80878786875905,
          "py": 420.35138343623464,
          "shape": "circle",
          "shape_attrs": {
           "r": 15
          },
          "value": null,
          "weight": 22,
          "x": 448.8091799805161,
          "xval": 40,
          "y": 420.3610019925185,
          "yval": 19.047619047619047
         },
         "value": 1
        },
        {
         "source": {
          "index": 10,
          "label": "x11",
          "label_display": "none",
          "px": 351.34055233776166,
          "py": 429.23557739439275,
          "shape": "circle",
          "shape_attrs": {
           "r": 15
          },
          "value": null,
          "weight": 20,
          "x": 351.3057445861824,
          "xval": 20,
          "y": 429.26248221265405,
          "yval": 15.384615384615385
         },
         "target": {
          "index": 29,
          "label": "h1,18",
          "label_display": "none",
          "px": 446.66133336839465,
          "py": 412.06746080603597,
          "shape": "circle",
          "shape_attrs": {
           "r": 15
          },
          "value": null,
          "weight": 22,
          "x": 446.65836227806636,
          "xval": 40,
          "y": 412.06979862465556,
          "yval": 14.285714285714285
         },
         "value": 1
        },
        {
         "source": {
          "index": 10,
          "label": "x11",
          "label_display": "none",
          "px": 351.34055233776166,
          "py": 429.23557739439275,
          "shape": "circle",
          "shape_attrs": {
           "r": 15
          },
          "value": null,
          "weight": 20,
          "x": 351.3057445861824,
          "xval": 20,
          "y": 429.26248221265405,
          "yval": 15.384615384615385
         },
         "target": {
          "index": 30,
          "label": "h1,19",
          "label_display": "none",
          "px": 454.5331839788234,
          "py": 440.7353981371751,
          "shape": "circle",
          "shape_attrs": {
           "r": 15
          },
          "value": null,
          "weight": 22,
          "x": 454.57338727966345,
          "xval": 40,
          "y": 440.870029182474,
          "yval": 9.523809523809524
         },
         "value": 1
        },
        {
         "source": {
          "index": 10,
          "label": "x11",
          "label_display": "none",
          "px": 351.34055233776166,
          "py": 429.23557739439275,
          "shape": "circle",
          "shape_attrs": {
           "r": 15
          },
          "value": null,
          "weight": 20,
          "x": 351.3057445861824,
          "xval": 20,
          "y": 429.26248221265405,
          "yval": 15.384615384615385
         },
         "target": {
          "index": 31,
          "label": "h1,20",
          "label_display": "none",
          "px": 452.51111853060013,
          "py": 433.8924336038177,
          "shape": "circle",
          "shape_attrs": {
           "r": 15
          },
          "value": null,
          "weight": 22,
          "x": 452.53198152903235,
          "xval": 40,
          "y": 433.96970392214837,
          "yval": 4.761904761904762
         },
         "value": 1
        },
        {
         "source": {
          "index": 11,
          "label": "x12",
          "label_display": "none",
          "px": 352.6686766055288,
          "py": 433.8364505361106,
          "shape": "circle",
          "shape_attrs": {
           "r": 15
          },
          "value": null,
          "weight": 20,
          "x": 352.63949182740373,
          "xval": 20,
          "y": 433.8773686865644,
          "yval": 7.6923076923076925
         },
         "target": {
          "fixed": 0,
          "index": 12,
          "label": "h1,1",
          "label_display": "none",
          "px": 438.30653773859984,
          "py": 377.7211018453636,
          "shape": "circle",
          "shape_attrs": {
           "r": 15
          },
          "value": null,
          "weight": 22,
          "x": 438.30653773859984,
          "xval": 40,
          "y": 377.7211018453636,
          "yval": 95.23809523809524
         },
         "value": 1
        },
        {
         "source": {
          "index": 11,
          "label": "x12",
          "label_display": "none",
          "px": 352.6686766055288,
          "py": 433.8364505361106,
          "shape": "circle",
          "shape_attrs": {
           "r": 15
          },
          "value": null,
          "weight": 20,
          "x": 352.63949182740373,
          "xval": 20,
          "y": 433.8773686865644,
          "yval": 7.6923076923076925
         },
         "target": {
          "fixed": 0,
          "index": 13,
          "label": "h1,2",
          "label_display": "none",
          "px": 445.4830710949258,
          "py": 407.40580969271514,
          "shape": "circle",
          "shape_attrs": {
           "r": 15
          },
          "value": null,
          "weight": 22,
          "x": 445.4830710949258,
          "xval": 40,
          "y": 407.40580969271514,
          "yval": 90.47619047619048
         },
         "value": 1
        },
        {
         "source": {
          "index": 11,
          "label": "x12",
          "label_display": "none",
          "px": 352.6686766055288,
          "py": 433.8364505361106,
          "shape": "circle",
          "shape_attrs": {
           "r": 15
          },
          "value": null,
          "weight": 20,
          "x": 352.63949182740373,
          "xval": 20,
          "y": 433.8773686865644,
          "yval": 7.6923076923076925
         },
         "target": {
          "fixed": 0,
          "index": 14,
          "label": "h1,3",
          "label_display": "none",
          "px": 440.09389561772593,
          "py": 384.9913547714818,
          "shape": "circle",
          "shape_attrs": {
           "r": 15
          },
          "value": null,
          "weight": 22,
          "x": 440.09389561772593,
          "xval": 40,
          "y": 384.9913547714818,
          "yval": 85.71428571428571
         },
         "value": 1
        },
        {
         "source": {
          "index": 11,
          "label": "x12",
          "label_display": "none",
          "px": 352.6686766055288,
          "py": 433.8364505361106,
          "shape": "circle",
          "shape_attrs": {
           "r": 15
          },
          "value": null,
          "weight": 20,
          "x": 352.63949182740373,
          "xval": 20,
          "y": 433.8773686865644,
          "yval": 7.6923076923076925
         },
         "target": {
          "index": 15,
          "label": "h1,4",
          "label_display": "none",
          "px": 442.03390585799406,
          "py": 393.18624031821906,
          "shape": "circle",
          "shape_attrs": {
           "r": 15
          },
          "value": null,
          "weight": 22,
          "x": 442.0252187451049,
          "xval": 40,
          "y": 393.18099926055953,
          "yval": 80.95238095238095
         },
         "value": 1
        },
        {
         "source": {
          "index": 11,
          "label": "x12",
          "label_display": "none",
          "px": 352.6686766055288,
          "py": 433.8364505361106,
          "shape": "circle",
          "shape_attrs": {
           "r": 15
          },
          "value": null,
          "weight": 20,
          "x": 352.63949182740373,
          "xval": 20,
          "y": 433.8773686865644,
          "yval": 7.6923076923076925
         },
         "target": {
          "fixed": 0,
          "index": 16,
          "label": "h1,5",
          "label_display": "none",
          "px": 439.3038323400098,
          "py": 381.26898657152276,
          "shape": "circle",
          "shape_attrs": {
           "r": 15
          },
          "value": null,
          "weight": 22,
          "x": 439.3038323400098,
          "xval": 40,
          "y": 381.26898657152276,
          "yval": 76.19047619047619
         },
         "value": 1
        },
        {
         "source": {
          "index": 11,
          "label": "x12",
          "label_display": "none",
          "px": 352.6686766055288,
          "py": 433.8364505361106,
          "shape": "circle",
          "shape_attrs": {
           "r": 15
          },
          "value": null,
          "weight": 20,
          "x": 352.63949182740373,
          "xval": 20,
          "y": 433.8773686865644,
          "yval": 7.6923076923076925
         },
         "target": {
          "index": 17,
          "label": "h1,6",
          "label_display": "none",
          "px": 436.1763853376012,
          "py": 367.0391092191069,
          "shape": "circle",
          "shape_attrs": {
           "r": 15
          },
          "value": null,
          "weight": 22,
          "x": 436.1319756129927,
          "xval": 40,
          "y": 366.9193372066237,
          "yval": 71.42857142857143
         },
         "value": 1
        },
        {
         "source": {
          "index": 11,
          "label": "x12",
          "label_display": "none",
          "px": 352.6686766055288,
          "py": 433.8364505361106,
          "shape": "circle",
          "shape_attrs": {
           "r": 15
          },
          "value": null,
          "weight": 20,
          "x": 352.63949182740373,
          "xval": 20,
          "y": 433.8773686865644,
          "yval": 7.6923076923076925
         },
         "target": {
          "index": 18,
          "label": "h1,7",
          "label_display": "none",
          "px": 444.28747307460884,
          "py": 402.5857074144147,
          "shape": "circle",
          "shape_attrs": {
           "r": 15
          },
          "value": null,
          "weight": 22,
          "x": 444.28189322820117,
          "xval": 40,
          "y": 402.5864217166488,
          "yval": 66.66666666666667
         },
         "value": 1
        },
        {
         "source": {
          "index": 11,
          "label": "x12",
          "label_display": "none",
          "px": 352.6686766055288,
          "py": 433.8364505361106,
          "shape": "circle",
          "shape_attrs": {
           "r": 15
          },
          "value": null,
          "weight": 20,
          "x": 352.63949182740373,
          "xval": 20,
          "y": 433.8773686865644,
          "yval": 7.6923076923076925
         },
         "target": {
          "index": 19,
          "label": "h1,8",
          "label_display": "none",
          "px": 436.96694163354766,
          "py": 370.835219648978,
          "shape": "circle",
          "shape_attrs": {
           "r": 15
          },
          "value": null,
          "weight": 22,
          "x": 436.93081668870667,
          "xval": 40,
          "y": 370.7487234007221,
          "yval": 61.904761904761905
         },
         "value": 1
        },
        {
         "source": {
          "index": 11,
          "label": "x12",
          "label_display": "none",
          "px": 352.6686766055288,
          "py": 433.8364505361106,
          "shape": "circle",
          "shape_attrs": {
           "r": 15
          },
          "value": null,
          "weight": 20,
          "x": 352.63949182740373,
          "xval": 20,
          "y": 433.8773686865644,
          "yval": 7.6923076923076925
         },
         "target": {
          "index": 20,
          "label": "h1,9",
          "label_display": "none",
          "px": 443.12903262452926,
          "py": 397.77183731760726,
          "shape": "circle",
          "shape_attrs": {
           "r": 15
          },
          "value": null,
          "weight": 22,
          "x": 443.1225250371738,
          "xval": 40,
          "y": 397.77048960247726,
          "yval": 57.14285714285714
         },
         "value": 1
        },
        {
         "source": {
          "index": 11,
          "label": "x12",
          "label_display": "none",
          "px": 352.6686766055288,
          "py": 433.8364505361106,
          "shape": "circle",
          "shape_attrs": {
           "r": 15
          },
          "value": null,
          "weight": 20,
          "x": 352.63949182740373,
          "xval": 20,
          "y": 433.8773686865644,
          "yval": 7.6923076923076925
         },
         "target": {
          "index": 21,
          "label": "h1,10",
          "label_display": "none",
          "px": 453.47719733511025,
          "py": 437.1791317957166,
          "shape": "circle",
          "shape_attrs": {
           "r": 15
          },
          "value": null,
          "weight": 22,
          "x": 453.50705008596486,
          "xval": 40,
          "y": 437.28186603254966,
          "yval": 52.38095238095238
         },
         "value": 1
        },
        {
         "source": {
          "index": 11,
          "label": "x12",
          "label_display": "none",
          "px": 352.6686766055288,
          "py": 433.8364505361106,
          "shape": "circle",
          "shape_attrs": {
           "r": 15
          },
          "value": null,
          "weight": 20,
          "x": 352.63949182740373,
          "xval": 20,
          "y": 433.8773686865644,
          "yval": 7.6923076923076925
         },
         "target": {
          "index": 22,
          "label": "h1,11",
          "label_display": "none",
          "px": 450.6931880317312,
          "py": 427.36854915169533,
          "shape": "circle",
          "shape_attrs": {
           "r": 15
          },
          "value": null,
          "weight": 22,
          "x": 450.70224459711284,
          "xval": 40,
          "y": 427.40707742900895,
          "yval": 47.61904761904762
         },
         "value": 1
        },
        {
         "source": {
          "index": 11,
          "label": "x12",
          "label_display": "none",
          "px": 352.6686766055288,
          "py": 433.8364505361106,
          "shape": "circle",
          "shape_attrs": {
           "r": 15
          },
          "value": null,
          "weight": 20,
          "x": 352.63949182740373,
          "xval": 20,
          "y": 433.8773686865644,
          "yval": 7.6923076923076925
         },
         "target": {
          "index": 23,
          "label": "h1,12",
          "label_display": "none",
          "px": 451.616956869591,
          "py": 430.68399636795544,
          "shape": "circle",
          "shape_attrs": {
           "r": 15
          },
          "value": null,
          "weight": 22,
          "x": 451.6308613454441,
          "xval": 40,
          "y": 430.73607807474326,
          "yval": 42.857142857142854
         },
         "value": 1
        },
        {
         "source": {
          "index": 11,
          "label": "x12",
          "label_display": "none",
          "px": 352.6686766055288,
          "py": 433.8364505361106,
          "shape": "circle",
          "shape_attrs": {
           "r": 15
          },
          "value": null,
          "weight": 20,
          "x": 352.63949182740373,
          "xval": 20,
          "y": 433.8773686865644,
          "yval": 7.6923076923076925
         },
         "target": {
          "index": 24,
          "label": "h1,13",
          "label_display": "none",
          "px": 449.7701933541918,
          "py": 423.95395938325044,
          "shape": "circle",
          "shape_attrs": {
           "r": 15
          },
          "value": null,
          "weight": 22,
          "x": 449.77543161498545,
          "xval": 40,
          "y": 423.979666438766,
          "yval": 38.095238095238095
         },
         "value": 1
        },
        {
         "source": {
          "index": 11,
          "label": "x12",
          "label_display": "none",
          "px": 352.6686766055288,
          "py": 433.8364505361106,
          "shape": "circle",
          "shape_attrs": {
           "r": 15
          },
          "value": null,
          "weight": 20,
          "x": 352.63949182740373,
          "xval": 20,
          "y": 433.8773686865644,
          "yval": 7.6923076923076925
         },
         "target": {
          "index": 25,
          "label": "h1,14",
          "label_display": "none",
          "px": 447.77652249109667,
          "py": 416.4027794386295,
          "shape": "circle",
          "shape_attrs": {
           "r": 15
          },
          "value": null,
          "weight": 22,
          "x": 447.77533228674633,
          "xval": 40,
          "y": 416.4089800756498,
          "yval": 33.333333333333336
         },
         "value": 1
        },
        {
         "source": {
          "index": 11,
          "label": "x12",
          "label_display": "none",
          "px": 352.6686766055288,
          "py": 433.8364505361106,
          "shape": "circle",
          "shape_attrs": {
           "r": 15
          },
          "value": null,
          "weight": 20,
          "x": 352.63949182740373,
          "xval": 20,
          "y": 433.8773686865644,
          "yval": 7.6923076923076925
         },
         "target": {
          "fixed": 0,
          "index": 26,
          "label": "h1,15",
          "label_display": "none",
          "px": 437.84986949367203,
          "py": 374.25132654913494,
          "shape": "circle",
          "shape_attrs": {
           "r": 15
          },
          "value": null,
          "weight": 22,
          "x": 437.84986949367203,
          "xval": 40,
          "y": 374.25132654913494,
          "yval": 28.57142857142857
         },
         "value": 1
        },
        {
         "source": {
          "index": 11,
          "label": "x12",
          "label_display": "none",
          "px": 352.6686766055288,
          "py": 433.8364505361106,
          "shape": "circle",
          "shape_attrs": {
           "r": 15
          },
          "value": null,
          "weight": 20,
          "x": 352.63949182740373,
          "xval": 20,
          "y": 433.8773686865644,
          "yval": 7.6923076923076925
         },
         "target": {
          "index": 27,
          "label": "h1,16",
          "label_display": "none",
          "px": 441.03312194188425,
          "py": 388.9301428056495,
          "shape": "circle",
          "shape_attrs": {
           "r": 15
          },
          "value": null,
          "weight": 22,
          "x": 441.0223311760983,
          "xval": 40,
          "y": 388.9201492326303,
          "yval": 23.80952380952381
         },
         "value": 1
        },
        {
         "source": {
          "index": 11,
          "label": "x12",
          "label_display": "none",
          "px": 352.6686766055288,
          "py": 433.8364505361106,
          "shape": "circle",
          "shape_attrs": {
           "r": 15
          },
          "value": null,
          "weight": 20,
          "x": 352.63949182740373,
          "xval": 20,
          "y": 433.8773686865644,
          "yval": 7.6923076923076925
         },
         "target": {
          "index": 28,
          "label": "h1,17",
          "label_display": "none",
          "px": 448.80878786875905,
          "py": 420.35138343623464,
          "shape": "circle",
          "shape_attrs": {
           "r": 15
          },
          "value": null,
          "weight": 22,
          "x": 448.8091799805161,
          "xval": 40,
          "y": 420.3610019925185,
          "yval": 19.047619047619047
         },
         "value": 1
        },
        {
         "source": {
          "index": 11,
          "label": "x12",
          "label_display": "none",
          "px": 352.6686766055288,
          "py": 433.8364505361106,
          "shape": "circle",
          "shape_attrs": {
           "r": 15
          },
          "value": null,
          "weight": 20,
          "x": 352.63949182740373,
          "xval": 20,
          "y": 433.8773686865644,
          "yval": 7.6923076923076925
         },
         "target": {
          "index": 29,
          "label": "h1,18",
          "label_display": "none",
          "px": 446.66133336839465,
          "py": 412.06746080603597,
          "shape": "circle",
          "shape_attrs": {
           "r": 15
          },
          "value": null,
          "weight": 22,
          "x": 446.65836227806636,
          "xval": 40,
          "y": 412.06979862465556,
          "yval": 14.285714285714285
         },
         "value": 1
        },
        {
         "source": {
          "index": 11,
          "label": "x12",
          "label_display": "none",
          "px": 352.6686766055288,
          "py": 433.8364505361106,
          "shape": "circle",
          "shape_attrs": {
           "r": 15
          },
          "value": null,
          "weight": 20,
          "x": 352.63949182740373,
          "xval": 20,
          "y": 433.8773686865644,
          "yval": 7.6923076923076925
         },
         "target": {
          "index": 30,
          "label": "h1,19",
          "label_display": "none",
          "px": 454.5331839788234,
          "py": 440.7353981371751,
          "shape": "circle",
          "shape_attrs": {
           "r": 15
          },
          "value": null,
          "weight": 22,
          "x": 454.57338727966345,
          "xval": 40,
          "y": 440.870029182474,
          "yval": 9.523809523809524
         },
         "value": 1
        },
        {
         "source": {
          "index": 11,
          "label": "x12",
          "label_display": "none",
          "px": 352.6686766055288,
          "py": 433.8364505361106,
          "shape": "circle",
          "shape_attrs": {
           "r": 15
          },
          "value": null,
          "weight": 20,
          "x": 352.63949182740373,
          "xval": 20,
          "y": 433.8773686865644,
          "yval": 7.6923076923076925
         },
         "target": {
          "index": 31,
          "label": "h1,20",
          "label_display": "none",
          "px": 452.51111853060013,
          "py": 433.8924336038177,
          "shape": "circle",
          "shape_attrs": {
           "r": 15
          },
          "value": null,
          "weight": 22,
          "x": 452.53198152903235,
          "xval": 40,
          "y": 433.96970392214837,
          "yval": 4.761904761904762
         },
         "value": 1
        },
        {
         "source": {
          "fixed": 0,
          "index": 12,
          "label": "h1,1",
          "label_display": "none",
          "px": 438.30653773859984,
          "py": 377.7211018453636,
          "shape": "circle",
          "shape_attrs": {
           "r": 15
          },
          "value": null,
          "weight": 22,
          "x": 438.30653773859984,
          "xval": 40,
          "y": 377.7211018453636,
          "yval": 95.23809523809524
         },
         "target": {
          "fixed": 0,
          "index": 32,
          "label": "h2,1",
          "label_display": "none",
          "px": 348.4069633574117,
          "py": 408.76281398343616,
          "shape": "circle",
          "shape_attrs": {
           "r": 15
          },
          "value": null,
          "weight": 21,
          "x": 348.4069633574117,
          "xval": 60,
          "y": 408.76281398343616,
          "yval": 90.90909090909092
         },
         "value": 1
        },
        {
         "source": {
          "fixed": 0,
          "index": 12,
          "label": "h1,1",
          "label_display": "none",
          "px": 438.30653773859984,
          "py": 377.7211018453636,
          "shape": "circle",
          "shape_attrs": {
           "r": 15
          },
          "value": null,
          "weight": 22,
          "x": 438.30653773859984,
          "xval": 40,
          "y": 377.7211018453636,
          "yval": 95.23809523809524
         },
         "target": {
          "fixed": 0,
          "index": 33,
          "label": "h2,2",
          "label_display": "none",
          "px": 348.98267226676734,
          "py": 414.2410318591959,
          "shape": "circle",
          "shape_attrs": {
           "r": 15
          },
          "value": null,
          "weight": 21,
          "x": 348.98267226676734,
          "xval": 60,
          "y": 414.2410318591959,
          "yval": 81.81818181818183
         },
         "value": 1
        },
        {
         "source": {
          "fixed": 0,
          "index": 12,
          "label": "h1,1",
          "label_display": "none",
          "px": 438.30653773859984,
          "py": 377.7211018453636,
          "shape": "circle",
          "shape_attrs": {
           "r": 15
          },
          "value": null,
          "weight": 22,
          "x": 438.30653773859984,
          "xval": 40,
          "y": 377.7211018453636,
          "yval": 95.23809523809524
         },
         "target": {
          "fixed": 0,
          "index": 34,
          "label": "h2,3",
          "label_display": "none",
          "px": 537.4603229397491,
          "py": 374.0357973649497,
          "shape": "circle",
          "shape_attrs": {
           "r": 15
          },
          "value": null,
          "weight": 21,
          "x": 537.4603229397491,
          "xval": 60,
          "y": 374.0357973649497,
          "yval": 72.72727272727273
         },
         "value": 1
        },
        {
         "source": {
          "fixed": 0,
          "index": 12,
          "label": "h1,1",
          "label_display": "none",
          "px": 438.30653773859984,
          "py": 377.7211018453636,
          "shape": "circle",
          "shape_attrs": {
           "r": 15
          },
          "value": null,
          "weight": 22,
          "x": 438.30653773859984,
          "xval": 40,
          "y": 377.7211018453636,
          "yval": 95.23809523809524
         },
         "target": {
          "index": 35,
          "label": "h2,4",
          "label_display": "none",
          "px": 538.4970595658459,
          "py": 378.0861567241818,
          "shape": "circle",
          "shape_attrs": {
           "r": 15
          },
          "value": null,
          "weight": 21,
          "x": 538.5316781024794,
          "xval": 60,
          "y": 378.0560742106646,
          "yval": 63.63636363636364
         },
         "value": 1
        },
        {
         "source": {
          "fixed": 0,
          "index": 12,
          "label": "h1,1",
          "label_display": "none",
          "px": 438.30653773859984,
          "py": 377.7211018453636,
          "shape": "circle",
          "shape_attrs": {
           "r": 15
          },
          "value": null,
          "weight": 22,
          "x": 438.30653773859984,
          "xval": 40,
          "y": 377.7211018453636,
          "yval": 95.23809523809524
         },
         "target": {
          "index": 36,
          "label": "h2,5",
          "label_display": "none",
          "px": 541.9506789452461,
          "py": 405.2045046484753,
          "shape": "circle",
          "shape_attrs": {
           "r": 15
          },
          "value": null,
          "weight": 21,
          "x": 541.9919124283681,
          "xval": 60,
          "y": 405.2694016450591,
          "yval": 54.54545454545455
         },
         "value": 1
        },
        {
         "source": {
          "fixed": 0,
          "index": 12,
          "label": "h1,1",
          "label_display": "none",
          "px": 438.30653773859984,
          "py": 377.7211018453636,
          "shape": "circle",
          "shape_attrs": {
           "r": 15
          },
          "value": null,
          "weight": 22,
          "x": 438.30653773859984,
          "xval": 40,
          "y": 377.7211018453636,
          "yval": 95.23809523809524
         },
         "target": {
          "index": 37,
          "label": "h2,6",
          "label_display": "none",
          "px": 540.2884600965493,
          "py": 386.07667443285,
          "shape": "circle",
          "shape_attrs": {
           "r": 15
          },
          "value": null,
          "weight": 21,
          "x": 540.3296107385247,
          "xval": 60,
          "y": 386.0726175500124,
          "yval": 45.45454545454546
         },
         "value": 1
        },
        {
         "source": {
          "fixed": 0,
          "index": 12,
          "label": "h1,1",
          "label_display": "none",
          "px": 438.30653773859984,
          "py": 377.7211018453636,
          "shape": "circle",
          "shape_attrs": {
           "r": 15
          },
          "value": null,
          "weight": 22,
          "x": 438.30653773859984,
          "xval": 40,
          "y": 377.7211018453636,
          "yval": 95.23809523809524
         },
         "target": {
          "index": 38,
          "label": "h2,7",
          "label_display": "none",
          "px": 541.4812921164678,
          "py": 394.6419287169871,
          "shape": "circle",
          "shape_attrs": {
           "r": 15
          },
          "value": null,
          "weight": 21,
          "x": 541.5256498499048,
          "xval": 60,
          "y": 394.6711846016649,
          "yval": 36.36363636363637
         },
         "value": 1
        },
        {
         "source": {
          "fixed": 0,
          "index": 12,
          "label": "h1,1",
          "label_display": "none",
          "px": 438.30653773859984,
          "py": 377.7211018453636,
          "shape": "circle",
          "shape_attrs": {
           "r": 15
          },
          "value": null,
          "weight": 22,
          "x": 438.30653773859984,
          "xval": 40,
          "y": 377.7211018453636,
          "yval": 95.23809523809524
         },
         "target": {
          "index": 39,
          "label": "h2,8",
          "label_display": "none",
          "px": 539.4750872865833,
          "py": 382.06791160469925,
          "shape": "circle",
          "shape_attrs": {
           "r": 15
          },
          "value": null,
          "weight": 21,
          "x": 539.5135288298698,
          "xval": 60,
          "y": 382.05054442074044,
          "yval": 27.272727272727273
         },
         "value": 1
        },
        {
         "source": {
          "fixed": 0,
          "index": 12,
          "label": "h1,1",
          "label_display": "none",
          "px": 438.30653773859984,
          "py": 377.7211018453636,
          "shape": "circle",
          "shape_attrs": {
           "r": 15
          },
          "value": null,
          "weight": 22,
          "x": 438.30653773859984,
          "xval": 40,
          "y": 377.7211018453636,
          "yval": 95.23809523809524
         },
         "target": {
          "fixed": 0,
          "index": 40,
          "label": "h2,9",
          "label_display": "none",
          "px": 541.8789771051929,
          "py": 399.51769602374225,
          "shape": "circle",
          "shape_attrs": {
           "r": 15
          },
          "value": null,
          "weight": 21,
          "x": 541.8789771051929,
          "xval": 60,
          "y": 399.51769602374225,
          "yval": 18.181818181818183
         },
         "value": 1
        },
        {
         "source": {
          "fixed": 0,
          "index": 12,
          "label": "h1,1",
          "label_display": "none",
          "px": 438.30653773859984,
          "py": 377.7211018453636,
          "shape": "circle",
          "shape_attrs": {
           "r": 15
          },
          "value": null,
          "weight": 22,
          "x": 438.30653773859984,
          "xval": 40,
          "y": 377.7211018453636,
          "yval": 95.23809523809524
         },
         "target": {
          "index": 41,
          "label": "h2,10",
          "label_display": "none",
          "px": 540.9635353553583,
          "py": 390.2506362665784,
          "shape": "circle",
          "shape_attrs": {
           "r": 15
          },
          "value": null,
          "weight": 21,
          "x": 541.0069568340803,
          "xval": 60,
          "y": 390.2620434189789,
          "yval": 9.090909090909092
         },
         "value": 1
        },
        {
         "source": {
          "fixed": 0,
          "index": 13,
          "label": "h1,2",
          "label_display": "none",
          "px": 445.4830710949258,
          "py": 407.40580969271514,
          "shape": "circle",
          "shape_attrs": {
           "r": 15
          },
          "value": null,
          "weight": 22,
          "x": 445.4830710949258,
          "xval": 40,
          "y": 407.40580969271514,
          "yval": 90.47619047619048
         },
         "target": {
          "fixed": 0,
          "index": 32,
          "label": "h2,1",
          "label_display": "none",
          "px": 348.4069633574117,
          "py": 408.76281398343616,
          "shape": "circle",
          "shape_attrs": {
           "r": 15
          },
          "value": null,
          "weight": 21,
          "x": 348.4069633574117,
          "xval": 60,
          "y": 408.76281398343616,
          "yval": 90.90909090909092
         },
         "value": 1
        },
        {
         "source": {
          "fixed": 0,
          "index": 13,
          "label": "h1,2",
          "label_display": "none",
          "px": 445.4830710949258,
          "py": 407.40580969271514,
          "shape": "circle",
          "shape_attrs": {
           "r": 15
          },
          "value": null,
          "weight": 22,
          "x": 445.4830710949258,
          "xval": 40,
          "y": 407.40580969271514,
          "yval": 90.47619047619048
         },
         "target": {
          "fixed": 0,
          "index": 33,
          "label": "h2,2",
          "label_display": "none",
          "px": 348.98267226676734,
          "py": 414.2410318591959,
          "shape": "circle",
          "shape_attrs": {
           "r": 15
          },
          "value": null,
          "weight": 21,
          "x": 348.98267226676734,
          "xval": 60,
          "y": 414.2410318591959,
          "yval": 81.81818181818183
         },
         "value": 1
        },
        {
         "source": {
          "fixed": 0,
          "index": 13,
          "label": "h1,2",
          "label_display": "none",
          "px": 445.4830710949258,
          "py": 407.40580969271514,
          "shape": "circle",
          "shape_attrs": {
           "r": 15
          },
          "value": null,
          "weight": 22,
          "x": 445.4830710949258,
          "xval": 40,
          "y": 407.40580969271514,
          "yval": 90.47619047619048
         },
         "target": {
          "fixed": 0,
          "index": 34,
          "label": "h2,3",
          "label_display": "none",
          "px": 537.4603229397491,
          "py": 374.0357973649497,
          "shape": "circle",
          "shape_attrs": {
           "r": 15
          },
          "value": null,
          "weight": 21,
          "x": 537.4603229397491,
          "xval": 60,
          "y": 374.0357973649497,
          "yval": 72.72727272727273
         },
         "value": 1
        },
        {
         "source": {
          "fixed": 0,
          "index": 13,
          "label": "h1,2",
          "label_display": "none",
          "px": 445.4830710949258,
          "py": 407.40580969271514,
          "shape": "circle",
          "shape_attrs": {
           "r": 15
          },
          "value": null,
          "weight": 22,
          "x": 445.4830710949258,
          "xval": 40,
          "y": 407.40580969271514,
          "yval": 90.47619047619048
         },
         "target": {
          "index": 35,
          "label": "h2,4",
          "label_display": "none",
          "px": 538.4970595658459,
          "py": 378.0861567241818,
          "shape": "circle",
          "shape_attrs": {
           "r": 15
          },
          "value": null,
          "weight": 21,
          "x": 538.5316781024794,
          "xval": 60,
          "y": 378.0560742106646,
          "yval": 63.63636363636364
         },
         "value": 1
        },
        {
         "source": {
          "fixed": 0,
          "index": 13,
          "label": "h1,2",
          "label_display": "none",
          "px": 445.4830710949258,
          "py": 407.40580969271514,
          "shape": "circle",
          "shape_attrs": {
           "r": 15
          },
          "value": null,
          "weight": 22,
          "x": 445.4830710949258,
          "xval": 40,
          "y": 407.40580969271514,
          "yval": 90.47619047619048
         },
         "target": {
          "index": 36,
          "label": "h2,5",
          "label_display": "none",
          "px": 541.9506789452461,
          "py": 405.2045046484753,
          "shape": "circle",
          "shape_attrs": {
           "r": 15
          },
          "value": null,
          "weight": 21,
          "x": 541.9919124283681,
          "xval": 60,
          "y": 405.2694016450591,
          "yval": 54.54545454545455
         },
         "value": 1
        },
        {
         "source": {
          "fixed": 0,
          "index": 13,
          "label": "h1,2",
          "label_display": "none",
          "px": 445.4830710949258,
          "py": 407.40580969271514,
          "shape": "circle",
          "shape_attrs": {
           "r": 15
          },
          "value": null,
          "weight": 22,
          "x": 445.4830710949258,
          "xval": 40,
          "y": 407.40580969271514,
          "yval": 90.47619047619048
         },
         "target": {
          "index": 37,
          "label": "h2,6",
          "label_display": "none",
          "px": 540.2884600965493,
          "py": 386.07667443285,
          "shape": "circle",
          "shape_attrs": {
           "r": 15
          },
          "value": null,
          "weight": 21,
          "x": 540.3296107385247,
          "xval": 60,
          "y": 386.0726175500124,
          "yval": 45.45454545454546
         },
         "value": 1
        },
        {
         "source": {
          "fixed": 0,
          "index": 13,
          "label": "h1,2",
          "label_display": "none",
          "px": 445.4830710949258,
          "py": 407.40580969271514,
          "shape": "circle",
          "shape_attrs": {
           "r": 15
          },
          "value": null,
          "weight": 22,
          "x": 445.4830710949258,
          "xval": 40,
          "y": 407.40580969271514,
          "yval": 90.47619047619048
         },
         "target": {
          "index": 38,
          "label": "h2,7",
          "label_display": "none",
          "px": 541.4812921164678,
          "py": 394.6419287169871,
          "shape": "circle",
          "shape_attrs": {
           "r": 15
          },
          "value": null,
          "weight": 21,
          "x": 541.5256498499048,
          "xval": 60,
          "y": 394.6711846016649,
          "yval": 36.36363636363637
         },
         "value": 1
        },
        {
         "source": {
          "fixed": 0,
          "index": 13,
          "label": "h1,2",
          "label_display": "none",
          "px": 445.4830710949258,
          "py": 407.40580969271514,
          "shape": "circle",
          "shape_attrs": {
           "r": 15
          },
          "value": null,
          "weight": 22,
          "x": 445.4830710949258,
          "xval": 40,
          "y": 407.40580969271514,
          "yval": 90.47619047619048
         },
         "target": {
          "index": 39,
          "label": "h2,8",
          "label_display": "none",
          "px": 539.4750872865833,
          "py": 382.06791160469925,
          "shape": "circle",
          "shape_attrs": {
           "r": 15
          },
          "value": null,
          "weight": 21,
          "x": 539.5135288298698,
          "xval": 60,
          "y": 382.05054442074044,
          "yval": 27.272727272727273
         },
         "value": 1
        },
        {
         "source": {
          "fixed": 0,
          "index": 13,
          "label": "h1,2",
          "label_display": "none",
          "px": 445.4830710949258,
          "py": 407.40580969271514,
          "shape": "circle",
          "shape_attrs": {
           "r": 15
          },
          "value": null,
          "weight": 22,
          "x": 445.4830710949258,
          "xval": 40,
          "y": 407.40580969271514,
          "yval": 90.47619047619048
         },
         "target": {
          "fixed": 0,
          "index": 40,
          "label": "h2,9",
          "label_display": "none",
          "px": 541.8789771051929,
          "py": 399.51769602374225,
          "shape": "circle",
          "shape_attrs": {
           "r": 15
          },
          "value": null,
          "weight": 21,
          "x": 541.8789771051929,
          "xval": 60,
          "y": 399.51769602374225,
          "yval": 18.181818181818183
         },
         "value": 1
        },
        {
         "source": {
          "fixed": 0,
          "index": 13,
          "label": "h1,2",
          "label_display": "none",
          "px": 445.4830710949258,
          "py": 407.40580969271514,
          "shape": "circle",
          "shape_attrs": {
           "r": 15
          },
          "value": null,
          "weight": 22,
          "x": 445.4830710949258,
          "xval": 40,
          "y": 407.40580969271514,
          "yval": 90.47619047619048
         },
         "target": {
          "index": 41,
          "label": "h2,10",
          "label_display": "none",
          "px": 540.9635353553583,
          "py": 390.2506362665784,
          "shape": "circle",
          "shape_attrs": {
           "r": 15
          },
          "value": null,
          "weight": 21,
          "x": 541.0069568340803,
          "xval": 60,
          "y": 390.2620434189789,
          "yval": 9.090909090909092
         },
         "value": 1
        },
        {
         "source": {
          "fixed": 0,
          "index": 14,
          "label": "h1,3",
          "label_display": "none",
          "px": 440.09389561772593,
          "py": 384.9913547714818,
          "shape": "circle",
          "shape_attrs": {
           "r": 15
          },
          "value": null,
          "weight": 22,
          "x": 440.09389561772593,
          "xval": 40,
          "y": 384.9913547714818,
          "yval": 85.71428571428571
         },
         "target": {
          "fixed": 0,
          "index": 32,
          "label": "h2,1",
          "label_display": "none",
          "px": 348.4069633574117,
          "py": 408.76281398343616,
          "shape": "circle",
          "shape_attrs": {
           "r": 15
          },
          "value": null,
          "weight": 21,
          "x": 348.4069633574117,
          "xval": 60,
          "y": 408.76281398343616,
          "yval": 90.90909090909092
         },
         "value": 1
        },
        {
         "source": {
          "fixed": 0,
          "index": 14,
          "label": "h1,3",
          "label_display": "none",
          "px": 440.09389561772593,
          "py": 384.9913547714818,
          "shape": "circle",
          "shape_attrs": {
           "r": 15
          },
          "value": null,
          "weight": 22,
          "x": 440.09389561772593,
          "xval": 40,
          "y": 384.9913547714818,
          "yval": 85.71428571428571
         },
         "target": {
          "fixed": 0,
          "index": 33,
          "label": "h2,2",
          "label_display": "none",
          "px": 348.98267226676734,
          "py": 414.2410318591959,
          "shape": "circle",
          "shape_attrs": {
           "r": 15
          },
          "value": null,
          "weight": 21,
          "x": 348.98267226676734,
          "xval": 60,
          "y": 414.2410318591959,
          "yval": 81.81818181818183
         },
         "value": 1
        },
        {
         "source": {
          "fixed": 0,
          "index": 14,
          "label": "h1,3",
          "label_display": "none",
          "px": 440.09389561772593,
          "py": 384.9913547714818,
          "shape": "circle",
          "shape_attrs": {
           "r": 15
          },
          "value": null,
          "weight": 22,
          "x": 440.09389561772593,
          "xval": 40,
          "y": 384.9913547714818,
          "yval": 85.71428571428571
         },
         "target": {
          "fixed": 0,
          "index": 34,
          "label": "h2,3",
          "label_display": "none",
          "px": 537.4603229397491,
          "py": 374.0357973649497,
          "shape": "circle",
          "shape_attrs": {
           "r": 15
          },
          "value": null,
          "weight": 21,
          "x": 537.4603229397491,
          "xval": 60,
          "y": 374.0357973649497,
          "yval": 72.72727272727273
         },
         "value": 1
        },
        {
         "source": {
          "fixed": 0,
          "index": 14,
          "label": "h1,3",
          "label_display": "none",
          "px": 440.09389561772593,
          "py": 384.9913547714818,
          "shape": "circle",
          "shape_attrs": {
           "r": 15
          },
          "value": null,
          "weight": 22,
          "x": 440.09389561772593,
          "xval": 40,
          "y": 384.9913547714818,
          "yval": 85.71428571428571
         },
         "target": {
          "index": 35,
          "label": "h2,4",
          "label_display": "none",
          "px": 538.4970595658459,
          "py": 378.0861567241818,
          "shape": "circle",
          "shape_attrs": {
           "r": 15
          },
          "value": null,
          "weight": 21,
          "x": 538.5316781024794,
          "xval": 60,
          "y": 378.0560742106646,
          "yval": 63.63636363636364
         },
         "value": 1
        },
        {
         "source": {
          "fixed": 0,
          "index": 14,
          "label": "h1,3",
          "label_display": "none",
          "px": 440.09389561772593,
          "py": 384.9913547714818,
          "shape": "circle",
          "shape_attrs": {
           "r": 15
          },
          "value": null,
          "weight": 22,
          "x": 440.09389561772593,
          "xval": 40,
          "y": 384.9913547714818,
          "yval": 85.71428571428571
         },
         "target": {
          "index": 36,
          "label": "h2,5",
          "label_display": "none",
          "px": 541.9506789452461,
          "py": 405.2045046484753,
          "shape": "circle",
          "shape_attrs": {
           "r": 15
          },
          "value": null,
          "weight": 21,
          "x": 541.9919124283681,
          "xval": 60,
          "y": 405.2694016450591,
          "yval": 54.54545454545455
         },
         "value": 1
        },
        {
         "source": {
          "fixed": 0,
          "index": 14,
          "label": "h1,3",
          "label_display": "none",
          "px": 440.09389561772593,
          "py": 384.9913547714818,
          "shape": "circle",
          "shape_attrs": {
           "r": 15
          },
          "value": null,
          "weight": 22,
          "x": 440.09389561772593,
          "xval": 40,
          "y": 384.9913547714818,
          "yval": 85.71428571428571
         },
         "target": {
          "index": 37,
          "label": "h2,6",
          "label_display": "none",
          "px": 540.2884600965493,
          "py": 386.07667443285,
          "shape": "circle",
          "shape_attrs": {
           "r": 15
          },
          "value": null,
          "weight": 21,
          "x": 540.3296107385247,
          "xval": 60,
          "y": 386.0726175500124,
          "yval": 45.45454545454546
         },
         "value": 1
        },
        {
         "source": {
          "fixed": 0,
          "index": 14,
          "label": "h1,3",
          "label_display": "none",
          "px": 440.09389561772593,
          "py": 384.9913547714818,
          "shape": "circle",
          "shape_attrs": {
           "r": 15
          },
          "value": null,
          "weight": 22,
          "x": 440.09389561772593,
          "xval": 40,
          "y": 384.9913547714818,
          "yval": 85.71428571428571
         },
         "target": {
          "index": 38,
          "label": "h2,7",
          "label_display": "none",
          "px": 541.4812921164678,
          "py": 394.6419287169871,
          "shape": "circle",
          "shape_attrs": {
           "r": 15
          },
          "value": null,
          "weight": 21,
          "x": 541.5256498499048,
          "xval": 60,
          "y": 394.6711846016649,
          "yval": 36.36363636363637
         },
         "value": 1
        },
        {
         "source": {
          "fixed": 0,
          "index": 14,
          "label": "h1,3",
          "label_display": "none",
          "px": 440.09389561772593,
          "py": 384.9913547714818,
          "shape": "circle",
          "shape_attrs": {
           "r": 15
          },
          "value": null,
          "weight": 22,
          "x": 440.09389561772593,
          "xval": 40,
          "y": 384.9913547714818,
          "yval": 85.71428571428571
         },
         "target": {
          "index": 39,
          "label": "h2,8",
          "label_display": "none",
          "px": 539.4750872865833,
          "py": 382.06791160469925,
          "shape": "circle",
          "shape_attrs": {
           "r": 15
          },
          "value": null,
          "weight": 21,
          "x": 539.5135288298698,
          "xval": 60,
          "y": 382.05054442074044,
          "yval": 27.272727272727273
         },
         "value": 1
        },
        {
         "source": {
          "fixed": 0,
          "index": 14,
          "label": "h1,3",
          "label_display": "none",
          "px": 440.09389561772593,
          "py": 384.9913547714818,
          "shape": "circle",
          "shape_attrs": {
           "r": 15
          },
          "value": null,
          "weight": 22,
          "x": 440.09389561772593,
          "xval": 40,
          "y": 384.9913547714818,
          "yval": 85.71428571428571
         },
         "target": {
          "fixed": 0,
          "index": 40,
          "label": "h2,9",
          "label_display": "none",
          "px": 541.8789771051929,
          "py": 399.51769602374225,
          "shape": "circle",
          "shape_attrs": {
           "r": 15
          },
          "value": null,
          "weight": 21,
          "x": 541.8789771051929,
          "xval": 60,
          "y": 399.51769602374225,
          "yval": 18.181818181818183
         },
         "value": 1
        },
        {
         "source": {
          "fixed": 0,
          "index": 14,
          "label": "h1,3",
          "label_display": "none",
          "px": 440.09389561772593,
          "py": 384.9913547714818,
          "shape": "circle",
          "shape_attrs": {
           "r": 15
          },
          "value": null,
          "weight": 22,
          "x": 440.09389561772593,
          "xval": 40,
          "y": 384.9913547714818,
          "yval": 85.71428571428571
         },
         "target": {
          "index": 41,
          "label": "h2,10",
          "label_display": "none",
          "px": 540.9635353553583,
          "py": 390.2506362665784,
          "shape": "circle",
          "shape_attrs": {
           "r": 15
          },
          "value": null,
          "weight": 21,
          "x": 541.0069568340803,
          "xval": 60,
          "y": 390.2620434189789,
          "yval": 9.090909090909092
         },
         "value": 1
        },
        {
         "source": {
          "index": 15,
          "label": "h1,4",
          "label_display": "none",
          "px": 442.03390585799406,
          "py": 393.18624031821906,
          "shape": "circle",
          "shape_attrs": {
           "r": 15
          },
          "value": null,
          "weight": 22,
          "x": 442.0252187451049,
          "xval": 40,
          "y": 393.18099926055953,
          "yval": 80.95238095238095
         },
         "target": {
          "fixed": 0,
          "index": 32,
          "label": "h2,1",
          "label_display": "none",
          "px": 348.4069633574117,
          "py": 408.76281398343616,
          "shape": "circle",
          "shape_attrs": {
           "r": 15
          },
          "value": null,
          "weight": 21,
          "x": 348.4069633574117,
          "xval": 60,
          "y": 408.76281398343616,
          "yval": 90.90909090909092
         },
         "value": 1
        },
        {
         "source": {
          "index": 15,
          "label": "h1,4",
          "label_display": "none",
          "px": 442.03390585799406,
          "py": 393.18624031821906,
          "shape": "circle",
          "shape_attrs": {
           "r": 15
          },
          "value": null,
          "weight": 22,
          "x": 442.0252187451049,
          "xval": 40,
          "y": 393.18099926055953,
          "yval": 80.95238095238095
         },
         "target": {
          "fixed": 0,
          "index": 33,
          "label": "h2,2",
          "label_display": "none",
          "px": 348.98267226676734,
          "py": 414.2410318591959,
          "shape": "circle",
          "shape_attrs": {
           "r": 15
          },
          "value": null,
          "weight": 21,
          "x": 348.98267226676734,
          "xval": 60,
          "y": 414.2410318591959,
          "yval": 81.81818181818183
         },
         "value": 1
        },
        {
         "source": {
          "index": 15,
          "label": "h1,4",
          "label_display": "none",
          "px": 442.03390585799406,
          "py": 393.18624031821906,
          "shape": "circle",
          "shape_attrs": {
           "r": 15
          },
          "value": null,
          "weight": 22,
          "x": 442.0252187451049,
          "xval": 40,
          "y": 393.18099926055953,
          "yval": 80.95238095238095
         },
         "target": {
          "fixed": 0,
          "index": 34,
          "label": "h2,3",
          "label_display": "none",
          "px": 537.4603229397491,
          "py": 374.0357973649497,
          "shape": "circle",
          "shape_attrs": {
           "r": 15
          },
          "value": null,
          "weight": 21,
          "x": 537.4603229397491,
          "xval": 60,
          "y": 374.0357973649497,
          "yval": 72.72727272727273
         },
         "value": 1
        },
        {
         "source": {
          "index": 15,
          "label": "h1,4",
          "label_display": "none",
          "px": 442.03390585799406,
          "py": 393.18624031821906,
          "shape": "circle",
          "shape_attrs": {
           "r": 15
          },
          "value": null,
          "weight": 22,
          "x": 442.0252187451049,
          "xval": 40,
          "y": 393.18099926055953,
          "yval": 80.95238095238095
         },
         "target": {
          "index": 35,
          "label": "h2,4",
          "label_display": "none",
          "px": 538.4970595658459,
          "py": 378.0861567241818,
          "shape": "circle",
          "shape_attrs": {
           "r": 15
          },
          "value": null,
          "weight": 21,
          "x": 538.5316781024794,
          "xval": 60,
          "y": 378.0560742106646,
          "yval": 63.63636363636364
         },
         "value": 1
        },
        {
         "source": {
          "index": 15,
          "label": "h1,4",
          "label_display": "none",
          "px": 442.03390585799406,
          "py": 393.18624031821906,
          "shape": "circle",
          "shape_attrs": {
           "r": 15
          },
          "value": null,
          "weight": 22,
          "x": 442.0252187451049,
          "xval": 40,
          "y": 393.18099926055953,
          "yval": 80.95238095238095
         },
         "target": {
          "index": 36,
          "label": "h2,5",
          "label_display": "none",
          "px": 541.9506789452461,
          "py": 405.2045046484753,
          "shape": "circle",
          "shape_attrs": {
           "r": 15
          },
          "value": null,
          "weight": 21,
          "x": 541.9919124283681,
          "xval": 60,
          "y": 405.2694016450591,
          "yval": 54.54545454545455
         },
         "value": 1
        },
        {
         "source": {
          "index": 15,
          "label": "h1,4",
          "label_display": "none",
          "px": 442.03390585799406,
          "py": 393.18624031821906,
          "shape": "circle",
          "shape_attrs": {
           "r": 15
          },
          "value": null,
          "weight": 22,
          "x": 442.0252187451049,
          "xval": 40,
          "y": 393.18099926055953,
          "yval": 80.95238095238095
         },
         "target": {
          "index": 37,
          "label": "h2,6",
          "label_display": "none",
          "px": 540.2884600965493,
          "py": 386.07667443285,
          "shape": "circle",
          "shape_attrs": {
           "r": 15
          },
          "value": null,
          "weight": 21,
          "x": 540.3296107385247,
          "xval": 60,
          "y": 386.0726175500124,
          "yval": 45.45454545454546
         },
         "value": 1
        },
        {
         "source": {
          "index": 15,
          "label": "h1,4",
          "label_display": "none",
          "px": 442.03390585799406,
          "py": 393.18624031821906,
          "shape": "circle",
          "shape_attrs": {
           "r": 15
          },
          "value": null,
          "weight": 22,
          "x": 442.0252187451049,
          "xval": 40,
          "y": 393.18099926055953,
          "yval": 80.95238095238095
         },
         "target": {
          "index": 38,
          "label": "h2,7",
          "label_display": "none",
          "px": 541.4812921164678,
          "py": 394.6419287169871,
          "shape": "circle",
          "shape_attrs": {
           "r": 15
          },
          "value": null,
          "weight": 21,
          "x": 541.5256498499048,
          "xval": 60,
          "y": 394.6711846016649,
          "yval": 36.36363636363637
         },
         "value": 1
        },
        {
         "source": {
          "index": 15,
          "label": "h1,4",
          "label_display": "none",
          "px": 442.03390585799406,
          "py": 393.18624031821906,
          "shape": "circle",
          "shape_attrs": {
           "r": 15
          },
          "value": null,
          "weight": 22,
          "x": 442.0252187451049,
          "xval": 40,
          "y": 393.18099926055953,
          "yval": 80.95238095238095
         },
         "target": {
          "index": 39,
          "label": "h2,8",
          "label_display": "none",
          "px": 539.4750872865833,
          "py": 382.06791160469925,
          "shape": "circle",
          "shape_attrs": {
           "r": 15
          },
          "value": null,
          "weight": 21,
          "x": 539.5135288298698,
          "xval": 60,
          "y": 382.05054442074044,
          "yval": 27.272727272727273
         },
         "value": 1
        },
        {
         "source": {
          "index": 15,
          "label": "h1,4",
          "label_display": "none",
          "px": 442.03390585799406,
          "py": 393.18624031821906,
          "shape": "circle",
          "shape_attrs": {
           "r": 15
          },
          "value": null,
          "weight": 22,
          "x": 442.0252187451049,
          "xval": 40,
          "y": 393.18099926055953,
          "yval": 80.95238095238095
         },
         "target": {
          "fixed": 0,
          "index": 40,
          "label": "h2,9",
          "label_display": "none",
          "px": 541.8789771051929,
          "py": 399.51769602374225,
          "shape": "circle",
          "shape_attrs": {
           "r": 15
          },
          "value": null,
          "weight": 21,
          "x": 541.8789771051929,
          "xval": 60,
          "y": 399.51769602374225,
          "yval": 18.181818181818183
         },
         "value": 1
        },
        {
         "source": {
          "index": 15,
          "label": "h1,4",
          "label_display": "none",
          "px": 442.03390585799406,
          "py": 393.18624031821906,
          "shape": "circle",
          "shape_attrs": {
           "r": 15
          },
          "value": null,
          "weight": 22,
          "x": 442.0252187451049,
          "xval": 40,
          "y": 393.18099926055953,
          "yval": 80.95238095238095
         },
         "target": {
          "index": 41,
          "label": "h2,10",
          "label_display": "none",
          "px": 540.9635353553583,
          "py": 390.2506362665784,
          "shape": "circle",
          "shape_attrs": {
           "r": 15
          },
          "value": null,
          "weight": 21,
          "x": 541.0069568340803,
          "xval": 60,
          "y": 390.2620434189789,
          "yval": 9.090909090909092
         },
         "value": 1
        },
        {
         "source": {
          "fixed": 0,
          "index": 16,
          "label": "h1,5",
          "label_display": "none",
          "px": 439.3038323400098,
          "py": 381.26898657152276,
          "shape": "circle",
          "shape_attrs": {
           "r": 15
          },
          "value": null,
          "weight": 22,
          "x": 439.3038323400098,
          "xval": 40,
          "y": 381.26898657152276,
          "yval": 76.19047619047619
         },
         "target": {
          "fixed": 0,
          "index": 32,
          "label": "h2,1",
          "label_display": "none",
          "px": 348.4069633574117,
          "py": 408.76281398343616,
          "shape": "circle",
          "shape_attrs": {
           "r": 15
          },
          "value": null,
          "weight": 21,
          "x": 348.4069633574117,
          "xval": 60,
          "y": 408.76281398343616,
          "yval": 90.90909090909092
         },
         "value": 1
        },
        {
         "source": {
          "fixed": 0,
          "index": 16,
          "label": "h1,5",
          "label_display": "none",
          "px": 439.3038323400098,
          "py": 381.26898657152276,
          "shape": "circle",
          "shape_attrs": {
           "r": 15
          },
          "value": null,
          "weight": 22,
          "x": 439.3038323400098,
          "xval": 40,
          "y": 381.26898657152276,
          "yval": 76.19047619047619
         },
         "target": {
          "fixed": 0,
          "index": 33,
          "label": "h2,2",
          "label_display": "none",
          "px": 348.98267226676734,
          "py": 414.2410318591959,
          "shape": "circle",
          "shape_attrs": {
           "r": 15
          },
          "value": null,
          "weight": 21,
          "x": 348.98267226676734,
          "xval": 60,
          "y": 414.2410318591959,
          "yval": 81.81818181818183
         },
         "value": 1
        },
        {
         "source": {
          "fixed": 0,
          "index": 16,
          "label": "h1,5",
          "label_display": "none",
          "px": 439.3038323400098,
          "py": 381.26898657152276,
          "shape": "circle",
          "shape_attrs": {
           "r": 15
          },
          "value": null,
          "weight": 22,
          "x": 439.3038323400098,
          "xval": 40,
          "y": 381.26898657152276,
          "yval": 76.19047619047619
         },
         "target": {
          "fixed": 0,
          "index": 34,
          "label": "h2,3",
          "label_display": "none",
          "px": 537.4603229397491,
          "py": 374.0357973649497,
          "shape": "circle",
          "shape_attrs": {
           "r": 15
          },
          "value": null,
          "weight": 21,
          "x": 537.4603229397491,
          "xval": 60,
          "y": 374.0357973649497,
          "yval": 72.72727272727273
         },
         "value": 1
        },
        {
         "source": {
          "fixed": 0,
          "index": 16,
          "label": "h1,5",
          "label_display": "none",
          "px": 439.3038323400098,
          "py": 381.26898657152276,
          "shape": "circle",
          "shape_attrs": {
           "r": 15
          },
          "value": null,
          "weight": 22,
          "x": 439.3038323400098,
          "xval": 40,
          "y": 381.26898657152276,
          "yval": 76.19047619047619
         },
         "target": {
          "index": 35,
          "label": "h2,4",
          "label_display": "none",
          "px": 538.4970595658459,
          "py": 378.0861567241818,
          "shape": "circle",
          "shape_attrs": {
           "r": 15
          },
          "value": null,
          "weight": 21,
          "x": 538.5316781024794,
          "xval": 60,
          "y": 378.0560742106646,
          "yval": 63.63636363636364
         },
         "value": 1
        },
        {
         "source": {
          "fixed": 0,
          "index": 16,
          "label": "h1,5",
          "label_display": "none",
          "px": 439.3038323400098,
          "py": 381.26898657152276,
          "shape": "circle",
          "shape_attrs": {
           "r": 15
          },
          "value": null,
          "weight": 22,
          "x": 439.3038323400098,
          "xval": 40,
          "y": 381.26898657152276,
          "yval": 76.19047619047619
         },
         "target": {
          "index": 36,
          "label": "h2,5",
          "label_display": "none",
          "px": 541.9506789452461,
          "py": 405.2045046484753,
          "shape": "circle",
          "shape_attrs": {
           "r": 15
          },
          "value": null,
          "weight": 21,
          "x": 541.9919124283681,
          "xval": 60,
          "y": 405.2694016450591,
          "yval": 54.54545454545455
         },
         "value": 1
        },
        {
         "source": {
          "fixed": 0,
          "index": 16,
          "label": "h1,5",
          "label_display": "none",
          "px": 439.3038323400098,
          "py": 381.26898657152276,
          "shape": "circle",
          "shape_attrs": {
           "r": 15
          },
          "value": null,
          "weight": 22,
          "x": 439.3038323400098,
          "xval": 40,
          "y": 381.26898657152276,
          "yval": 76.19047619047619
         },
         "target": {
          "index": 37,
          "label": "h2,6",
          "label_display": "none",
          "px": 540.2884600965493,
          "py": 386.07667443285,
          "shape": "circle",
          "shape_attrs": {
           "r": 15
          },
          "value": null,
          "weight": 21,
          "x": 540.3296107385247,
          "xval": 60,
          "y": 386.0726175500124,
          "yval": 45.45454545454546
         },
         "value": 1
        },
        {
         "source": {
          "fixed": 0,
          "index": 16,
          "label": "h1,5",
          "label_display": "none",
          "px": 439.3038323400098,
          "py": 381.26898657152276,
          "shape": "circle",
          "shape_attrs": {
           "r": 15
          },
          "value": null,
          "weight": 22,
          "x": 439.3038323400098,
          "xval": 40,
          "y": 381.26898657152276,
          "yval": 76.19047619047619
         },
         "target": {
          "index": 38,
          "label": "h2,7",
          "label_display": "none",
          "px": 541.4812921164678,
          "py": 394.6419287169871,
          "shape": "circle",
          "shape_attrs": {
           "r": 15
          },
          "value": null,
          "weight": 21,
          "x": 541.5256498499048,
          "xval": 60,
          "y": 394.6711846016649,
          "yval": 36.36363636363637
         },
         "value": 1
        },
        {
         "source": {
          "fixed": 0,
          "index": 16,
          "label": "h1,5",
          "label_display": "none",
          "px": 439.3038323400098,
          "py": 381.26898657152276,
          "shape": "circle",
          "shape_attrs": {
           "r": 15
          },
          "value": null,
          "weight": 22,
          "x": 439.3038323400098,
          "xval": 40,
          "y": 381.26898657152276,
          "yval": 76.19047619047619
         },
         "target": {
          "index": 39,
          "label": "h2,8",
          "label_display": "none",
          "px": 539.4750872865833,
          "py": 382.06791160469925,
          "shape": "circle",
          "shape_attrs": {
           "r": 15
          },
          "value": null,
          "weight": 21,
          "x": 539.5135288298698,
          "xval": 60,
          "y": 382.05054442074044,
          "yval": 27.272727272727273
         },
         "value": 1
        },
        {
         "source": {
          "fixed": 0,
          "index": 16,
          "label": "h1,5",
          "label_display": "none",
          "px": 439.3038323400098,
          "py": 381.26898657152276,
          "shape": "circle",
          "shape_attrs": {
           "r": 15
          },
          "value": null,
          "weight": 22,
          "x": 439.3038323400098,
          "xval": 40,
          "y": 381.26898657152276,
          "yval": 76.19047619047619
         },
         "target": {
          "fixed": 0,
          "index": 40,
          "label": "h2,9",
          "label_display": "none",
          "px": 541.8789771051929,
          "py": 399.51769602374225,
          "shape": "circle",
          "shape_attrs": {
           "r": 15
          },
          "value": null,
          "weight": 21,
          "x": 541.8789771051929,
          "xval": 60,
          "y": 399.51769602374225,
          "yval": 18.181818181818183
         },
         "value": 1
        },
        {
         "source": {
          "fixed": 0,
          "index": 16,
          "label": "h1,5",
          "label_display": "none",
          "px": 439.3038323400098,
          "py": 381.26898657152276,
          "shape": "circle",
          "shape_attrs": {
           "r": 15
          },
          "value": null,
          "weight": 22,
          "x": 439.3038323400098,
          "xval": 40,
          "y": 381.26898657152276,
          "yval": 76.19047619047619
         },
         "target": {
          "index": 41,
          "label": "h2,10",
          "label_display": "none",
          "px": 540.9635353553583,
          "py": 390.2506362665784,
          "shape": "circle",
          "shape_attrs": {
           "r": 15
          },
          "value": null,
          "weight": 21,
          "x": 541.0069568340803,
          "xval": 60,
          "y": 390.2620434189789,
          "yval": 9.090909090909092
         },
         "value": 1
        },
        {
         "source": {
          "index": 17,
          "label": "h1,6",
          "label_display": "none",
          "px": 436.1763853376012,
          "py": 367.0391092191069,
          "shape": "circle",
          "shape_attrs": {
           "r": 15
          },
          "value": null,
          "weight": 22,
          "x": 436.1319756129927,
          "xval": 40,
          "y": 366.9193372066237,
          "yval": 71.42857142857143
         },
         "target": {
          "fixed": 0,
          "index": 32,
          "label": "h2,1",
          "label_display": "none",
          "px": 348.4069633574117,
          "py": 408.76281398343616,
          "shape": "circle",
          "shape_attrs": {
           "r": 15
          },
          "value": null,
          "weight": 21,
          "x": 348.4069633574117,
          "xval": 60,
          "y": 408.76281398343616,
          "yval": 90.90909090909092
         },
         "value": 1
        },
        {
         "source": {
          "index": 17,
          "label": "h1,6",
          "label_display": "none",
          "px": 436.1763853376012,
          "py": 367.0391092191069,
          "shape": "circle",
          "shape_attrs": {
           "r": 15
          },
          "value": null,
          "weight": 22,
          "x": 436.1319756129927,
          "xval": 40,
          "y": 366.9193372066237,
          "yval": 71.42857142857143
         },
         "target": {
          "fixed": 0,
          "index": 33,
          "label": "h2,2",
          "label_display": "none",
          "px": 348.98267226676734,
          "py": 414.2410318591959,
          "shape": "circle",
          "shape_attrs": {
           "r": 15
          },
          "value": null,
          "weight": 21,
          "x": 348.98267226676734,
          "xval": 60,
          "y": 414.2410318591959,
          "yval": 81.81818181818183
         },
         "value": 1
        },
        {
         "source": {
          "index": 17,
          "label": "h1,6",
          "label_display": "none",
          "px": 436.1763853376012,
          "py": 367.0391092191069,
          "shape": "circle",
          "shape_attrs": {
           "r": 15
          },
          "value": null,
          "weight": 22,
          "x": 436.1319756129927,
          "xval": 40,
          "y": 366.9193372066237,
          "yval": 71.42857142857143
         },
         "target": {
          "fixed": 0,
          "index": 34,
          "label": "h2,3",
          "label_display": "none",
          "px": 537.4603229397491,
          "py": 374.0357973649497,
          "shape": "circle",
          "shape_attrs": {
           "r": 15
          },
          "value": null,
          "weight": 21,
          "x": 537.4603229397491,
          "xval": 60,
          "y": 374.0357973649497,
          "yval": 72.72727272727273
         },
         "value": 1
        },
        {
         "source": {
          "index": 17,
          "label": "h1,6",
          "label_display": "none",
          "px": 436.1763853376012,
          "py": 367.0391092191069,
          "shape": "circle",
          "shape_attrs": {
           "r": 15
          },
          "value": null,
          "weight": 22,
          "x": 436.1319756129927,
          "xval": 40,
          "y": 366.9193372066237,
          "yval": 71.42857142857143
         },
         "target": {
          "index": 35,
          "label": "h2,4",
          "label_display": "none",
          "px": 538.4970595658459,
          "py": 378.0861567241818,
          "shape": "circle",
          "shape_attrs": {
           "r": 15
          },
          "value": null,
          "weight": 21,
          "x": 538.5316781024794,
          "xval": 60,
          "y": 378.0560742106646,
          "yval": 63.63636363636364
         },
         "value": 1
        },
        {
         "source": {
          "index": 17,
          "label": "h1,6",
          "label_display": "none",
          "px": 436.1763853376012,
          "py": 367.0391092191069,
          "shape": "circle",
          "shape_attrs": {
           "r": 15
          },
          "value": null,
          "weight": 22,
          "x": 436.1319756129927,
          "xval": 40,
          "y": 366.9193372066237,
          "yval": 71.42857142857143
         },
         "target": {
          "index": 36,
          "label": "h2,5",
          "label_display": "none",
          "px": 541.9506789452461,
          "py": 405.2045046484753,
          "shape": "circle",
          "shape_attrs": {
           "r": 15
          },
          "value": null,
          "weight": 21,
          "x": 541.9919124283681,
          "xval": 60,
          "y": 405.2694016450591,
          "yval": 54.54545454545455
         },
         "value": 1
        },
        {
         "source": {
          "index": 17,
          "label": "h1,6",
          "label_display": "none",
          "px": 436.1763853376012,
          "py": 367.0391092191069,
          "shape": "circle",
          "shape_attrs": {
           "r": 15
          },
          "value": null,
          "weight": 22,
          "x": 436.1319756129927,
          "xval": 40,
          "y": 366.9193372066237,
          "yval": 71.42857142857143
         },
         "target": {
          "index": 37,
          "label": "h2,6",
          "label_display": "none",
          "px": 540.2884600965493,
          "py": 386.07667443285,
          "shape": "circle",
          "shape_attrs": {
           "r": 15
          },
          "value": null,
          "weight": 21,
          "x": 540.3296107385247,
          "xval": 60,
          "y": 386.0726175500124,
          "yval": 45.45454545454546
         },
         "value": 1
        },
        {
         "source": {
          "index": 17,
          "label": "h1,6",
          "label_display": "none",
          "px": 436.1763853376012,
          "py": 367.0391092191069,
          "shape": "circle",
          "shape_attrs": {
           "r": 15
          },
          "value": null,
          "weight": 22,
          "x": 436.1319756129927,
          "xval": 40,
          "y": 366.9193372066237,
          "yval": 71.42857142857143
         },
         "target": {
          "index": 38,
          "label": "h2,7",
          "label_display": "none",
          "px": 541.4812921164678,
          "py": 394.6419287169871,
          "shape": "circle",
          "shape_attrs": {
           "r": 15
          },
          "value": null,
          "weight": 21,
          "x": 541.5256498499048,
          "xval": 60,
          "y": 394.6711846016649,
          "yval": 36.36363636363637
         },
         "value": 1
        },
        {
         "source": {
          "index": 17,
          "label": "h1,6",
          "label_display": "none",
          "px": 436.1763853376012,
          "py": 367.0391092191069,
          "shape": "circle",
          "shape_attrs": {
           "r": 15
          },
          "value": null,
          "weight": 22,
          "x": 436.1319756129927,
          "xval": 40,
          "y": 366.9193372066237,
          "yval": 71.42857142857143
         },
         "target": {
          "index": 39,
          "label": "h2,8",
          "label_display": "none",
          "px": 539.4750872865833,
          "py": 382.06791160469925,
          "shape": "circle",
          "shape_attrs": {
           "r": 15
          },
          "value": null,
          "weight": 21,
          "x": 539.5135288298698,
          "xval": 60,
          "y": 382.05054442074044,
          "yval": 27.272727272727273
         },
         "value": 1
        },
        {
         "source": {
          "index": 17,
          "label": "h1,6",
          "label_display": "none",
          "px": 436.1763853376012,
          "py": 367.0391092191069,
          "shape": "circle",
          "shape_attrs": {
           "r": 15
          },
          "value": null,
          "weight": 22,
          "x": 436.1319756129927,
          "xval": 40,
          "y": 366.9193372066237,
          "yval": 71.42857142857143
         },
         "target": {
          "fixed": 0,
          "index": 40,
          "label": "h2,9",
          "label_display": "none",
          "px": 541.8789771051929,
          "py": 399.51769602374225,
          "shape": "circle",
          "shape_attrs": {
           "r": 15
          },
          "value": null,
          "weight": 21,
          "x": 541.8789771051929,
          "xval": 60,
          "y": 399.51769602374225,
          "yval": 18.181818181818183
         },
         "value": 1
        },
        {
         "source": {
          "index": 17,
          "label": "h1,6",
          "label_display": "none",
          "px": 436.1763853376012,
          "py": 367.0391092191069,
          "shape": "circle",
          "shape_attrs": {
           "r": 15
          },
          "value": null,
          "weight": 22,
          "x": 436.1319756129927,
          "xval": 40,
          "y": 366.9193372066237,
          "yval": 71.42857142857143
         },
         "target": {
          "index": 41,
          "label": "h2,10",
          "label_display": "none",
          "px": 540.9635353553583,
          "py": 390.2506362665784,
          "shape": "circle",
          "shape_attrs": {
           "r": 15
          },
          "value": null,
          "weight": 21,
          "x": 541.0069568340803,
          "xval": 60,
          "y": 390.2620434189789,
          "yval": 9.090909090909092
         },
         "value": 1
        },
        {
         "source": {
          "index": 18,
          "label": "h1,7",
          "label_display": "none",
          "px": 444.28747307460884,
          "py": 402.5857074144147,
          "shape": "circle",
          "shape_attrs": {
           "r": 15
          },
          "value": null,
          "weight": 22,
          "x": 444.28189322820117,
          "xval": 40,
          "y": 402.5864217166488,
          "yval": 66.66666666666667
         },
         "target": {
          "fixed": 0,
          "index": 32,
          "label": "h2,1",
          "label_display": "none",
          "px": 348.4069633574117,
          "py": 408.76281398343616,
          "shape": "circle",
          "shape_attrs": {
           "r": 15
          },
          "value": null,
          "weight": 21,
          "x": 348.4069633574117,
          "xval": 60,
          "y": 408.76281398343616,
          "yval": 90.90909090909092
         },
         "value": 1
        },
        {
         "source": {
          "index": 18,
          "label": "h1,7",
          "label_display": "none",
          "px": 444.28747307460884,
          "py": 402.5857074144147,
          "shape": "circle",
          "shape_attrs": {
           "r": 15
          },
          "value": null,
          "weight": 22,
          "x": 444.28189322820117,
          "xval": 40,
          "y": 402.5864217166488,
          "yval": 66.66666666666667
         },
         "target": {
          "fixed": 0,
          "index": 33,
          "label": "h2,2",
          "label_display": "none",
          "px": 348.98267226676734,
          "py": 414.2410318591959,
          "shape": "circle",
          "shape_attrs": {
           "r": 15
          },
          "value": null,
          "weight": 21,
          "x": 348.98267226676734,
          "xval": 60,
          "y": 414.2410318591959,
          "yval": 81.81818181818183
         },
         "value": 1
        },
        {
         "source": {
          "index": 18,
          "label": "h1,7",
          "label_display": "none",
          "px": 444.28747307460884,
          "py": 402.5857074144147,
          "shape": "circle",
          "shape_attrs": {
           "r": 15
          },
          "value": null,
          "weight": 22,
          "x": 444.28189322820117,
          "xval": 40,
          "y": 402.5864217166488,
          "yval": 66.66666666666667
         },
         "target": {
          "fixed": 0,
          "index": 34,
          "label": "h2,3",
          "label_display": "none",
          "px": 537.4603229397491,
          "py": 374.0357973649497,
          "shape": "circle",
          "shape_attrs": {
           "r": 15
          },
          "value": null,
          "weight": 21,
          "x": 537.4603229397491,
          "xval": 60,
          "y": 374.0357973649497,
          "yval": 72.72727272727273
         },
         "value": 1
        },
        {
         "source": {
          "index": 18,
          "label": "h1,7",
          "label_display": "none",
          "px": 444.28747307460884,
          "py": 402.5857074144147,
          "shape": "circle",
          "shape_attrs": {
           "r": 15
          },
          "value": null,
          "weight": 22,
          "x": 444.28189322820117,
          "xval": 40,
          "y": 402.5864217166488,
          "yval": 66.66666666666667
         },
         "target": {
          "index": 35,
          "label": "h2,4",
          "label_display": "none",
          "px": 538.4970595658459,
          "py": 378.0861567241818,
          "shape": "circle",
          "shape_attrs": {
           "r": 15
          },
          "value": null,
          "weight": 21,
          "x": 538.5316781024794,
          "xval": 60,
          "y": 378.0560742106646,
          "yval": 63.63636363636364
         },
         "value": 1
        },
        {
         "source": {
          "index": 18,
          "label": "h1,7",
          "label_display": "none",
          "px": 444.28747307460884,
          "py": 402.5857074144147,
          "shape": "circle",
          "shape_attrs": {
           "r": 15
          },
          "value": null,
          "weight": 22,
          "x": 444.28189322820117,
          "xval": 40,
          "y": 402.5864217166488,
          "yval": 66.66666666666667
         },
         "target": {
          "index": 36,
          "label": "h2,5",
          "label_display": "none",
          "px": 541.9506789452461,
          "py": 405.2045046484753,
          "shape": "circle",
          "shape_attrs": {
           "r": 15
          },
          "value": null,
          "weight": 21,
          "x": 541.9919124283681,
          "xval": 60,
          "y": 405.2694016450591,
          "yval": 54.54545454545455
         },
         "value": 1
        },
        {
         "source": {
          "index": 18,
          "label": "h1,7",
          "label_display": "none",
          "px": 444.28747307460884,
          "py": 402.5857074144147,
          "shape": "circle",
          "shape_attrs": {
           "r": 15
          },
          "value": null,
          "weight": 22,
          "x": 444.28189322820117,
          "xval": 40,
          "y": 402.5864217166488,
          "yval": 66.66666666666667
         },
         "target": {
          "index": 37,
          "label": "h2,6",
          "label_display": "none",
          "px": 540.2884600965493,
          "py": 386.07667443285,
          "shape": "circle",
          "shape_attrs": {
           "r": 15
          },
          "value": null,
          "weight": 21,
          "x": 540.3296107385247,
          "xval": 60,
          "y": 386.0726175500124,
          "yval": 45.45454545454546
         },
         "value": 1
        },
        {
         "source": {
          "index": 18,
          "label": "h1,7",
          "label_display": "none",
          "px": 444.28747307460884,
          "py": 402.5857074144147,
          "shape": "circle",
          "shape_attrs": {
           "r": 15
          },
          "value": null,
          "weight": 22,
          "x": 444.28189322820117,
          "xval": 40,
          "y": 402.5864217166488,
          "yval": 66.66666666666667
         },
         "target": {
          "index": 38,
          "label": "h2,7",
          "label_display": "none",
          "px": 541.4812921164678,
          "py": 394.6419287169871,
          "shape": "circle",
          "shape_attrs": {
           "r": 15
          },
          "value": null,
          "weight": 21,
          "x": 541.5256498499048,
          "xval": 60,
          "y": 394.6711846016649,
          "yval": 36.36363636363637
         },
         "value": 1
        },
        {
         "source": {
          "index": 18,
          "label": "h1,7",
          "label_display": "none",
          "px": 444.28747307460884,
          "py": 402.5857074144147,
          "shape": "circle",
          "shape_attrs": {
           "r": 15
          },
          "value": null,
          "weight": 22,
          "x": 444.28189322820117,
          "xval": 40,
          "y": 402.5864217166488,
          "yval": 66.66666666666667
         },
         "target": {
          "index": 39,
          "label": "h2,8",
          "label_display": "none",
          "px": 539.4750872865833,
          "py": 382.06791160469925,
          "shape": "circle",
          "shape_attrs": {
           "r": 15
          },
          "value": null,
          "weight": 21,
          "x": 539.5135288298698,
          "xval": 60,
          "y": 382.05054442074044,
          "yval": 27.272727272727273
         },
         "value": 1
        },
        {
         "source": {
          "index": 18,
          "label": "h1,7",
          "label_display": "none",
          "px": 444.28747307460884,
          "py": 402.5857074144147,
          "shape": "circle",
          "shape_attrs": {
           "r": 15
          },
          "value": null,
          "weight": 22,
          "x": 444.28189322820117,
          "xval": 40,
          "y": 402.5864217166488,
          "yval": 66.66666666666667
         },
         "target": {
          "fixed": 0,
          "index": 40,
          "label": "h2,9",
          "label_display": "none",
          "px": 541.8789771051929,
          "py": 399.51769602374225,
          "shape": "circle",
          "shape_attrs": {
           "r": 15
          },
          "value": null,
          "weight": 21,
          "x": 541.8789771051929,
          "xval": 60,
          "y": 399.51769602374225,
          "yval": 18.181818181818183
         },
         "value": 1
        },
        {
         "source": {
          "index": 18,
          "label": "h1,7",
          "label_display": "none",
          "px": 444.28747307460884,
          "py": 402.5857074144147,
          "shape": "circle",
          "shape_attrs": {
           "r": 15
          },
          "value": null,
          "weight": 22,
          "x": 444.28189322820117,
          "xval": 40,
          "y": 402.5864217166488,
          "yval": 66.66666666666667
         },
         "target": {
          "index": 41,
          "label": "h2,10",
          "label_display": "none",
          "px": 540.9635353553583,
          "py": 390.2506362665784,
          "shape": "circle",
          "shape_attrs": {
           "r": 15
          },
          "value": null,
          "weight": 21,
          "x": 541.0069568340803,
          "xval": 60,
          "y": 390.2620434189789,
          "yval": 9.090909090909092
         },
         "value": 1
        },
        {
         "source": {
          "index": 19,
          "label": "h1,8",
          "label_display": "none",
          "px": 436.96694163354766,
          "py": 370.835219648978,
          "shape": "circle",
          "shape_attrs": {
           "r": 15
          },
          "value": null,
          "weight": 22,
          "x": 436.93081668870667,
          "xval": 40,
          "y": 370.7487234007221,
          "yval": 61.904761904761905
         },
         "target": {
          "fixed": 0,
          "index": 32,
          "label": "h2,1",
          "label_display": "none",
          "px": 348.4069633574117,
          "py": 408.76281398343616,
          "shape": "circle",
          "shape_attrs": {
           "r": 15
          },
          "value": null,
          "weight": 21,
          "x": 348.4069633574117,
          "xval": 60,
          "y": 408.76281398343616,
          "yval": 90.90909090909092
         },
         "value": 1
        },
        {
         "source": {
          "index": 19,
          "label": "h1,8",
          "label_display": "none",
          "px": 436.96694163354766,
          "py": 370.835219648978,
          "shape": "circle",
          "shape_attrs": {
           "r": 15
          },
          "value": null,
          "weight": 22,
          "x": 436.93081668870667,
          "xval": 40,
          "y": 370.7487234007221,
          "yval": 61.904761904761905
         },
         "target": {
          "fixed": 0,
          "index": 33,
          "label": "h2,2",
          "label_display": "none",
          "px": 348.98267226676734,
          "py": 414.2410318591959,
          "shape": "circle",
          "shape_attrs": {
           "r": 15
          },
          "value": null,
          "weight": 21,
          "x": 348.98267226676734,
          "xval": 60,
          "y": 414.2410318591959,
          "yval": 81.81818181818183
         },
         "value": 1
        },
        {
         "source": {
          "index": 19,
          "label": "h1,8",
          "label_display": "none",
          "px": 436.96694163354766,
          "py": 370.835219648978,
          "shape": "circle",
          "shape_attrs": {
           "r": 15
          },
          "value": null,
          "weight": 22,
          "x": 436.93081668870667,
          "xval": 40,
          "y": 370.7487234007221,
          "yval": 61.904761904761905
         },
         "target": {
          "fixed": 0,
          "index": 34,
          "label": "h2,3",
          "label_display": "none",
          "px": 537.4603229397491,
          "py": 374.0357973649497,
          "shape": "circle",
          "shape_attrs": {
           "r": 15
          },
          "value": null,
          "weight": 21,
          "x": 537.4603229397491,
          "xval": 60,
          "y": 374.0357973649497,
          "yval": 72.72727272727273
         },
         "value": 1
        },
        {
         "source": {
          "index": 19,
          "label": "h1,8",
          "label_display": "none",
          "px": 436.96694163354766,
          "py": 370.835219648978,
          "shape": "circle",
          "shape_attrs": {
           "r": 15
          },
          "value": null,
          "weight": 22,
          "x": 436.93081668870667,
          "xval": 40,
          "y": 370.7487234007221,
          "yval": 61.904761904761905
         },
         "target": {
          "index": 35,
          "label": "h2,4",
          "label_display": "none",
          "px": 538.4970595658459,
          "py": 378.0861567241818,
          "shape": "circle",
          "shape_attrs": {
           "r": 15
          },
          "value": null,
          "weight": 21,
          "x": 538.5316781024794,
          "xval": 60,
          "y": 378.0560742106646,
          "yval": 63.63636363636364
         },
         "value": 1
        },
        {
         "source": {
          "index": 19,
          "label": "h1,8",
          "label_display": "none",
          "px": 436.96694163354766,
          "py": 370.835219648978,
          "shape": "circle",
          "shape_attrs": {
           "r": 15
          },
          "value": null,
          "weight": 22,
          "x": 436.93081668870667,
          "xval": 40,
          "y": 370.7487234007221,
          "yval": 61.904761904761905
         },
         "target": {
          "index": 36,
          "label": "h2,5",
          "label_display": "none",
          "px": 541.9506789452461,
          "py": 405.2045046484753,
          "shape": "circle",
          "shape_attrs": {
           "r": 15
          },
          "value": null,
          "weight": 21,
          "x": 541.9919124283681,
          "xval": 60,
          "y": 405.2694016450591,
          "yval": 54.54545454545455
         },
         "value": 1
        },
        {
         "source": {
          "index": 19,
          "label": "h1,8",
          "label_display": "none",
          "px": 436.96694163354766,
          "py": 370.835219648978,
          "shape": "circle",
          "shape_attrs": {
           "r": 15
          },
          "value": null,
          "weight": 22,
          "x": 436.93081668870667,
          "xval": 40,
          "y": 370.7487234007221,
          "yval": 61.904761904761905
         },
         "target": {
          "index": 37,
          "label": "h2,6",
          "label_display": "none",
          "px": 540.2884600965493,
          "py": 386.07667443285,
          "shape": "circle",
          "shape_attrs": {
           "r": 15
          },
          "value": null,
          "weight": 21,
          "x": 540.3296107385247,
          "xval": 60,
          "y": 386.0726175500124,
          "yval": 45.45454545454546
         },
         "value": 1
        },
        {
         "source": {
          "index": 19,
          "label": "h1,8",
          "label_display": "none",
          "px": 436.96694163354766,
          "py": 370.835219648978,
          "shape": "circle",
          "shape_attrs": {
           "r": 15
          },
          "value": null,
          "weight": 22,
          "x": 436.93081668870667,
          "xval": 40,
          "y": 370.7487234007221,
          "yval": 61.904761904761905
         },
         "target": {
          "index": 38,
          "label": "h2,7",
          "label_display": "none",
          "px": 541.4812921164678,
          "py": 394.6419287169871,
          "shape": "circle",
          "shape_attrs": {
           "r": 15
          },
          "value": null,
          "weight": 21,
          "x": 541.5256498499048,
          "xval": 60,
          "y": 394.6711846016649,
          "yval": 36.36363636363637
         },
         "value": 1
        },
        {
         "source": {
          "index": 19,
          "label": "h1,8",
          "label_display": "none",
          "px": 436.96694163354766,
          "py": 370.835219648978,
          "shape": "circle",
          "shape_attrs": {
           "r": 15
          },
          "value": null,
          "weight": 22,
          "x": 436.93081668870667,
          "xval": 40,
          "y": 370.7487234007221,
          "yval": 61.904761904761905
         },
         "target": {
          "index": 39,
          "label": "h2,8",
          "label_display": "none",
          "px": 539.4750872865833,
          "py": 382.06791160469925,
          "shape": "circle",
          "shape_attrs": {
           "r": 15
          },
          "value": null,
          "weight": 21,
          "x": 539.5135288298698,
          "xval": 60,
          "y": 382.05054442074044,
          "yval": 27.272727272727273
         },
         "value": 1
        },
        {
         "source": {
          "index": 19,
          "label": "h1,8",
          "label_display": "none",
          "px": 436.96694163354766,
          "py": 370.835219648978,
          "shape": "circle",
          "shape_attrs": {
           "r": 15
          },
          "value": null,
          "weight": 22,
          "x": 436.93081668870667,
          "xval": 40,
          "y": 370.7487234007221,
          "yval": 61.904761904761905
         },
         "target": {
          "fixed": 0,
          "index": 40,
          "label": "h2,9",
          "label_display": "none",
          "px": 541.8789771051929,
          "py": 399.51769602374225,
          "shape": "circle",
          "shape_attrs": {
           "r": 15
          },
          "value": null,
          "weight": 21,
          "x": 541.8789771051929,
          "xval": 60,
          "y": 399.51769602374225,
          "yval": 18.181818181818183
         },
         "value": 1
        },
        {
         "source": {
          "index": 19,
          "label": "h1,8",
          "label_display": "none",
          "px": 436.96694163354766,
          "py": 370.835219648978,
          "shape": "circle",
          "shape_attrs": {
           "r": 15
          },
          "value": null,
          "weight": 22,
          "x": 436.93081668870667,
          "xval": 40,
          "y": 370.7487234007221,
          "yval": 61.904761904761905
         },
         "target": {
          "index": 41,
          "label": "h2,10",
          "label_display": "none",
          "px": 540.9635353553583,
          "py": 390.2506362665784,
          "shape": "circle",
          "shape_attrs": {
           "r": 15
          },
          "value": null,
          "weight": 21,
          "x": 541.0069568340803,
          "xval": 60,
          "y": 390.2620434189789,
          "yval": 9.090909090909092
         },
         "value": 1
        },
        {
         "source": {
          "index": 20,
          "label": "h1,9",
          "label_display": "none",
          "px": 443.12903262452926,
          "py": 397.77183731760726,
          "shape": "circle",
          "shape_attrs": {
           "r": 15
          },
          "value": null,
          "weight": 22,
          "x": 443.1225250371738,
          "xval": 40,
          "y": 397.77048960247726,
          "yval": 57.14285714285714
         },
         "target": {
          "fixed": 0,
          "index": 32,
          "label": "h2,1",
          "label_display": "none",
          "px": 348.4069633574117,
          "py": 408.76281398343616,
          "shape": "circle",
          "shape_attrs": {
           "r": 15
          },
          "value": null,
          "weight": 21,
          "x": 348.4069633574117,
          "xval": 60,
          "y": 408.76281398343616,
          "yval": 90.90909090909092
         },
         "value": 1
        },
        {
         "source": {
          "index": 20,
          "label": "h1,9",
          "label_display": "none",
          "px": 443.12903262452926,
          "py": 397.77183731760726,
          "shape": "circle",
          "shape_attrs": {
           "r": 15
          },
          "value": null,
          "weight": 22,
          "x": 443.1225250371738,
          "xval": 40,
          "y": 397.77048960247726,
          "yval": 57.14285714285714
         },
         "target": {
          "fixed": 0,
          "index": 33,
          "label": "h2,2",
          "label_display": "none",
          "px": 348.98267226676734,
          "py": 414.2410318591959,
          "shape": "circle",
          "shape_attrs": {
           "r": 15
          },
          "value": null,
          "weight": 21,
          "x": 348.98267226676734,
          "xval": 60,
          "y": 414.2410318591959,
          "yval": 81.81818181818183
         },
         "value": 1
        },
        {
         "source": {
          "index": 20,
          "label": "h1,9",
          "label_display": "none",
          "px": 443.12903262452926,
          "py": 397.77183731760726,
          "shape": "circle",
          "shape_attrs": {
           "r": 15
          },
          "value": null,
          "weight": 22,
          "x": 443.1225250371738,
          "xval": 40,
          "y": 397.77048960247726,
          "yval": 57.14285714285714
         },
         "target": {
          "fixed": 0,
          "index": 34,
          "label": "h2,3",
          "label_display": "none",
          "px": 537.4603229397491,
          "py": 374.0357973649497,
          "shape": "circle",
          "shape_attrs": {
           "r": 15
          },
          "value": null,
          "weight": 21,
          "x": 537.4603229397491,
          "xval": 60,
          "y": 374.0357973649497,
          "yval": 72.72727272727273
         },
         "value": 1
        },
        {
         "source": {
          "index": 20,
          "label": "h1,9",
          "label_display": "none",
          "px": 443.12903262452926,
          "py": 397.77183731760726,
          "shape": "circle",
          "shape_attrs": {
           "r": 15
          },
          "value": null,
          "weight": 22,
          "x": 443.1225250371738,
          "xval": 40,
          "y": 397.77048960247726,
          "yval": 57.14285714285714
         },
         "target": {
          "index": 35,
          "label": "h2,4",
          "label_display": "none",
          "px": 538.4970595658459,
          "py": 378.0861567241818,
          "shape": "circle",
          "shape_attrs": {
           "r": 15
          },
          "value": null,
          "weight": 21,
          "x": 538.5316781024794,
          "xval": 60,
          "y": 378.0560742106646,
          "yval": 63.63636363636364
         },
         "value": 1
        },
        {
         "source": {
          "index": 20,
          "label": "h1,9",
          "label_display": "none",
          "px": 443.12903262452926,
          "py": 397.77183731760726,
          "shape": "circle",
          "shape_attrs": {
           "r": 15
          },
          "value": null,
          "weight": 22,
          "x": 443.1225250371738,
          "xval": 40,
          "y": 397.77048960247726,
          "yval": 57.14285714285714
         },
         "target": {
          "index": 36,
          "label": "h2,5",
          "label_display": "none",
          "px": 541.9506789452461,
          "py": 405.2045046484753,
          "shape": "circle",
          "shape_attrs": {
           "r": 15
          },
          "value": null,
          "weight": 21,
          "x": 541.9919124283681,
          "xval": 60,
          "y": 405.2694016450591,
          "yval": 54.54545454545455
         },
         "value": 1
        },
        {
         "source": {
          "index": 20,
          "label": "h1,9",
          "label_display": "none",
          "px": 443.12903262452926,
          "py": 397.77183731760726,
          "shape": "circle",
          "shape_attrs": {
           "r": 15
          },
          "value": null,
          "weight": 22,
          "x": 443.1225250371738,
          "xval": 40,
          "y": 397.77048960247726,
          "yval": 57.14285714285714
         },
         "target": {
          "index": 37,
          "label": "h2,6",
          "label_display": "none",
          "px": 540.2884600965493,
          "py": 386.07667443285,
          "shape": "circle",
          "shape_attrs": {
           "r": 15
          },
          "value": null,
          "weight": 21,
          "x": 540.3296107385247,
          "xval": 60,
          "y": 386.0726175500124,
          "yval": 45.45454545454546
         },
         "value": 1
        },
        {
         "source": {
          "index": 20,
          "label": "h1,9",
          "label_display": "none",
          "px": 443.12903262452926,
          "py": 397.77183731760726,
          "shape": "circle",
          "shape_attrs": {
           "r": 15
          },
          "value": null,
          "weight": 22,
          "x": 443.1225250371738,
          "xval": 40,
          "y": 397.77048960247726,
          "yval": 57.14285714285714
         },
         "target": {
          "index": 38,
          "label": "h2,7",
          "label_display": "none",
          "px": 541.4812921164678,
          "py": 394.6419287169871,
          "shape": "circle",
          "shape_attrs": {
           "r": 15
          },
          "value": null,
          "weight": 21,
          "x": 541.5256498499048,
          "xval": 60,
          "y": 394.6711846016649,
          "yval": 36.36363636363637
         },
         "value": 1
        },
        {
         "source": {
          "index": 20,
          "label": "h1,9",
          "label_display": "none",
          "px": 443.12903262452926,
          "py": 397.77183731760726,
          "shape": "circle",
          "shape_attrs": {
           "r": 15
          },
          "value": null,
          "weight": 22,
          "x": 443.1225250371738,
          "xval": 40,
          "y": 397.77048960247726,
          "yval": 57.14285714285714
         },
         "target": {
          "index": 39,
          "label": "h2,8",
          "label_display": "none",
          "px": 539.4750872865833,
          "py": 382.06791160469925,
          "shape": "circle",
          "shape_attrs": {
           "r": 15
          },
          "value": null,
          "weight": 21,
          "x": 539.5135288298698,
          "xval": 60,
          "y": 382.05054442074044,
          "yval": 27.272727272727273
         },
         "value": 1
        },
        {
         "source": {
          "index": 20,
          "label": "h1,9",
          "label_display": "none",
          "px": 443.12903262452926,
          "py": 397.77183731760726,
          "shape": "circle",
          "shape_attrs": {
           "r": 15
          },
          "value": null,
          "weight": 22,
          "x": 443.1225250371738,
          "xval": 40,
          "y": 397.77048960247726,
          "yval": 57.14285714285714
         },
         "target": {
          "fixed": 0,
          "index": 40,
          "label": "h2,9",
          "label_display": "none",
          "px": 541.8789771051929,
          "py": 399.51769602374225,
          "shape": "circle",
          "shape_attrs": {
           "r": 15
          },
          "value": null,
          "weight": 21,
          "x": 541.8789771051929,
          "xval": 60,
          "y": 399.51769602374225,
          "yval": 18.181818181818183
         },
         "value": 1
        },
        {
         "source": {
          "index": 20,
          "label": "h1,9",
          "label_display": "none",
          "px": 443.12903262452926,
          "py": 397.77183731760726,
          "shape": "circle",
          "shape_attrs": {
           "r": 15
          },
          "value": null,
          "weight": 22,
          "x": 443.1225250371738,
          "xval": 40,
          "y": 397.77048960247726,
          "yval": 57.14285714285714
         },
         "target": {
          "index": 41,
          "label": "h2,10",
          "label_display": "none",
          "px": 540.9635353553583,
          "py": 390.2506362665784,
          "shape": "circle",
          "shape_attrs": {
           "r": 15
          },
          "value": null,
          "weight": 21,
          "x": 541.0069568340803,
          "xval": 60,
          "y": 390.2620434189789,
          "yval": 9.090909090909092
         },
         "value": 1
        },
        {
         "source": {
          "index": 21,
          "label": "h1,10",
          "label_display": "none",
          "px": 453.47719733511025,
          "py": 437.1791317957166,
          "shape": "circle",
          "shape_attrs": {
           "r": 15
          },
          "value": null,
          "weight": 22,
          "x": 453.50705008596486,
          "xval": 40,
          "y": 437.28186603254966,
          "yval": 52.38095238095238
         },
         "target": {
          "fixed": 0,
          "index": 32,
          "label": "h2,1",
          "label_display": "none",
          "px": 348.4069633574117,
          "py": 408.76281398343616,
          "shape": "circle",
          "shape_attrs": {
           "r": 15
          },
          "value": null,
          "weight": 21,
          "x": 348.4069633574117,
          "xval": 60,
          "y": 408.76281398343616,
          "yval": 90.90909090909092
         },
         "value": 1
        },
        {
         "source": {
          "index": 21,
          "label": "h1,10",
          "label_display": "none",
          "px": 453.47719733511025,
          "py": 437.1791317957166,
          "shape": "circle",
          "shape_attrs": {
           "r": 15
          },
          "value": null,
          "weight": 22,
          "x": 453.50705008596486,
          "xval": 40,
          "y": 437.28186603254966,
          "yval": 52.38095238095238
         },
         "target": {
          "fixed": 0,
          "index": 33,
          "label": "h2,2",
          "label_display": "none",
          "px": 348.98267226676734,
          "py": 414.2410318591959,
          "shape": "circle",
          "shape_attrs": {
           "r": 15
          },
          "value": null,
          "weight": 21,
          "x": 348.98267226676734,
          "xval": 60,
          "y": 414.2410318591959,
          "yval": 81.81818181818183
         },
         "value": 1
        },
        {
         "source": {
          "index": 21,
          "label": "h1,10",
          "label_display": "none",
          "px": 453.47719733511025,
          "py": 437.1791317957166,
          "shape": "circle",
          "shape_attrs": {
           "r": 15
          },
          "value": null,
          "weight": 22,
          "x": 453.50705008596486,
          "xval": 40,
          "y": 437.28186603254966,
          "yval": 52.38095238095238
         },
         "target": {
          "fixed": 0,
          "index": 34,
          "label": "h2,3",
          "label_display": "none",
          "px": 537.4603229397491,
          "py": 374.0357973649497,
          "shape": "circle",
          "shape_attrs": {
           "r": 15
          },
          "value": null,
          "weight": 21,
          "x": 537.4603229397491,
          "xval": 60,
          "y": 374.0357973649497,
          "yval": 72.72727272727273
         },
         "value": 1
        },
        {
         "source": {
          "index": 21,
          "label": "h1,10",
          "label_display": "none",
          "px": 453.47719733511025,
          "py": 437.1791317957166,
          "shape": "circle",
          "shape_attrs": {
           "r": 15
          },
          "value": null,
          "weight": 22,
          "x": 453.50705008596486,
          "xval": 40,
          "y": 437.28186603254966,
          "yval": 52.38095238095238
         },
         "target": {
          "index": 35,
          "label": "h2,4",
          "label_display": "none",
          "px": 538.4970595658459,
          "py": 378.0861567241818,
          "shape": "circle",
          "shape_attrs": {
           "r": 15
          },
          "value": null,
          "weight": 21,
          "x": 538.5316781024794,
          "xval": 60,
          "y": 378.0560742106646,
          "yval": 63.63636363636364
         },
         "value": 1
        },
        {
         "source": {
          "index": 21,
          "label": "h1,10",
          "label_display": "none",
          "px": 453.47719733511025,
          "py": 437.1791317957166,
          "shape": "circle",
          "shape_attrs": {
           "r": 15
          },
          "value": null,
          "weight": 22,
          "x": 453.50705008596486,
          "xval": 40,
          "y": 437.28186603254966,
          "yval": 52.38095238095238
         },
         "target": {
          "index": 36,
          "label": "h2,5",
          "label_display": "none",
          "px": 541.9506789452461,
          "py": 405.2045046484753,
          "shape": "circle",
          "shape_attrs": {
           "r": 15
          },
          "value": null,
          "weight": 21,
          "x": 541.9919124283681,
          "xval": 60,
          "y": 405.2694016450591,
          "yval": 54.54545454545455
         },
         "value": 1
        },
        {
         "source": {
          "index": 21,
          "label": "h1,10",
          "label_display": "none",
          "px": 453.47719733511025,
          "py": 437.1791317957166,
          "shape": "circle",
          "shape_attrs": {
           "r": 15
          },
          "value": null,
          "weight": 22,
          "x": 453.50705008596486,
          "xval": 40,
          "y": 437.28186603254966,
          "yval": 52.38095238095238
         },
         "target": {
          "index": 37,
          "label": "h2,6",
          "label_display": "none",
          "px": 540.2884600965493,
          "py": 386.07667443285,
          "shape": "circle",
          "shape_attrs": {
           "r": 15
          },
          "value": null,
          "weight": 21,
          "x": 540.3296107385247,
          "xval": 60,
          "y": 386.0726175500124,
          "yval": 45.45454545454546
         },
         "value": 1
        },
        {
         "source": {
          "index": 21,
          "label": "h1,10",
          "label_display": "none",
          "px": 453.47719733511025,
          "py": 437.1791317957166,
          "shape": "circle",
          "shape_attrs": {
           "r": 15
          },
          "value": null,
          "weight": 22,
          "x": 453.50705008596486,
          "xval": 40,
          "y": 437.28186603254966,
          "yval": 52.38095238095238
         },
         "target": {
          "index": 38,
          "label": "h2,7",
          "label_display": "none",
          "px": 541.4812921164678,
          "py": 394.6419287169871,
          "shape": "circle",
          "shape_attrs": {
           "r": 15
          },
          "value": null,
          "weight": 21,
          "x": 541.5256498499048,
          "xval": 60,
          "y": 394.6711846016649,
          "yval": 36.36363636363637
         },
         "value": 1
        },
        {
         "source": {
          "index": 21,
          "label": "h1,10",
          "label_display": "none",
          "px": 453.47719733511025,
          "py": 437.1791317957166,
          "shape": "circle",
          "shape_attrs": {
           "r": 15
          },
          "value": null,
          "weight": 22,
          "x": 453.50705008596486,
          "xval": 40,
          "y": 437.28186603254966,
          "yval": 52.38095238095238
         },
         "target": {
          "index": 39,
          "label": "h2,8",
          "label_display": "none",
          "px": 539.4750872865833,
          "py": 382.06791160469925,
          "shape": "circle",
          "shape_attrs": {
           "r": 15
          },
          "value": null,
          "weight": 21,
          "x": 539.5135288298698,
          "xval": 60,
          "y": 382.05054442074044,
          "yval": 27.272727272727273
         },
         "value": 1
        },
        {
         "source": {
          "index": 21,
          "label": "h1,10",
          "label_display": "none",
          "px": 453.47719733511025,
          "py": 437.1791317957166,
          "shape": "circle",
          "shape_attrs": {
           "r": 15
          },
          "value": null,
          "weight": 22,
          "x": 453.50705008596486,
          "xval": 40,
          "y": 437.28186603254966,
          "yval": 52.38095238095238
         },
         "target": {
          "fixed": 0,
          "index": 40,
          "label": "h2,9",
          "label_display": "none",
          "px": 541.8789771051929,
          "py": 399.51769602374225,
          "shape": "circle",
          "shape_attrs": {
           "r": 15
          },
          "value": null,
          "weight": 21,
          "x": 541.8789771051929,
          "xval": 60,
          "y": 399.51769602374225,
          "yval": 18.181818181818183
         },
         "value": 1
        },
        {
         "source": {
          "index": 21,
          "label": "h1,10",
          "label_display": "none",
          "px": 453.47719733511025,
          "py": 437.1791317957166,
          "shape": "circle",
          "shape_attrs": {
           "r": 15
          },
          "value": null,
          "weight": 22,
          "x": 453.50705008596486,
          "xval": 40,
          "y": 437.28186603254966,
          "yval": 52.38095238095238
         },
         "target": {
          "index": 41,
          "label": "h2,10",
          "label_display": "none",
          "px": 540.9635353553583,
          "py": 390.2506362665784,
          "shape": "circle",
          "shape_attrs": {
           "r": 15
          },
          "value": null,
          "weight": 21,
          "x": 541.0069568340803,
          "xval": 60,
          "y": 390.2620434189789,
          "yval": 9.090909090909092
         },
         "value": 1
        },
        {
         "source": {
          "index": 22,
          "label": "h1,11",
          "label_display": "none",
          "px": 450.6931880317312,
          "py": 427.36854915169533,
          "shape": "circle",
          "shape_attrs": {
           "r": 15
          },
          "value": null,
          "weight": 22,
          "x": 450.70224459711284,
          "xval": 40,
          "y": 427.40707742900895,
          "yval": 47.61904761904762
         },
         "target": {
          "fixed": 0,
          "index": 32,
          "label": "h2,1",
          "label_display": "none",
          "px": 348.4069633574117,
          "py": 408.76281398343616,
          "shape": "circle",
          "shape_attrs": {
           "r": 15
          },
          "value": null,
          "weight": 21,
          "x": 348.4069633574117,
          "xval": 60,
          "y": 408.76281398343616,
          "yval": 90.90909090909092
         },
         "value": 1
        },
        {
         "source": {
          "index": 22,
          "label": "h1,11",
          "label_display": "none",
          "px": 450.6931880317312,
          "py": 427.36854915169533,
          "shape": "circle",
          "shape_attrs": {
           "r": 15
          },
          "value": null,
          "weight": 22,
          "x": 450.70224459711284,
          "xval": 40,
          "y": 427.40707742900895,
          "yval": 47.61904761904762
         },
         "target": {
          "fixed": 0,
          "index": 33,
          "label": "h2,2",
          "label_display": "none",
          "px": 348.98267226676734,
          "py": 414.2410318591959,
          "shape": "circle",
          "shape_attrs": {
           "r": 15
          },
          "value": null,
          "weight": 21,
          "x": 348.98267226676734,
          "xval": 60,
          "y": 414.2410318591959,
          "yval": 81.81818181818183
         },
         "value": 1
        },
        {
         "source": {
          "index": 22,
          "label": "h1,11",
          "label_display": "none",
          "px": 450.6931880317312,
          "py": 427.36854915169533,
          "shape": "circle",
          "shape_attrs": {
           "r": 15
          },
          "value": null,
          "weight": 22,
          "x": 450.70224459711284,
          "xval": 40,
          "y": 427.40707742900895,
          "yval": 47.61904761904762
         },
         "target": {
          "fixed": 0,
          "index": 34,
          "label": "h2,3",
          "label_display": "none",
          "px": 537.4603229397491,
          "py": 374.0357973649497,
          "shape": "circle",
          "shape_attrs": {
           "r": 15
          },
          "value": null,
          "weight": 21,
          "x": 537.4603229397491,
          "xval": 60,
          "y": 374.0357973649497,
          "yval": 72.72727272727273
         },
         "value": 1
        },
        {
         "source": {
          "index": 22,
          "label": "h1,11",
          "label_display": "none",
          "px": 450.6931880317312,
          "py": 427.36854915169533,
          "shape": "circle",
          "shape_attrs": {
           "r": 15
          },
          "value": null,
          "weight": 22,
          "x": 450.70224459711284,
          "xval": 40,
          "y": 427.40707742900895,
          "yval": 47.61904761904762
         },
         "target": {
          "index": 35,
          "label": "h2,4",
          "label_display": "none",
          "px": 538.4970595658459,
          "py": 378.0861567241818,
          "shape": "circle",
          "shape_attrs": {
           "r": 15
          },
          "value": null,
          "weight": 21,
          "x": 538.5316781024794,
          "xval": 60,
          "y": 378.0560742106646,
          "yval": 63.63636363636364
         },
         "value": 1
        },
        {
         "source": {
          "index": 22,
          "label": "h1,11",
          "label_display": "none",
          "px": 450.6931880317312,
          "py": 427.36854915169533,
          "shape": "circle",
          "shape_attrs": {
           "r": 15
          },
          "value": null,
          "weight": 22,
          "x": 450.70224459711284,
          "xval": 40,
          "y": 427.40707742900895,
          "yval": 47.61904761904762
         },
         "target": {
          "index": 36,
          "label": "h2,5",
          "label_display": "none",
          "px": 541.9506789452461,
          "py": 405.2045046484753,
          "shape": "circle",
          "shape_attrs": {
           "r": 15
          },
          "value": null,
          "weight": 21,
          "x": 541.9919124283681,
          "xval": 60,
          "y": 405.2694016450591,
          "yval": 54.54545454545455
         },
         "value": 1
        },
        {
         "source": {
          "index": 22,
          "label": "h1,11",
          "label_display": "none",
          "px": 450.6931880317312,
          "py": 427.36854915169533,
          "shape": "circle",
          "shape_attrs": {
           "r": 15
          },
          "value": null,
          "weight": 22,
          "x": 450.70224459711284,
          "xval": 40,
          "y": 427.40707742900895,
          "yval": 47.61904761904762
         },
         "target": {
          "index": 37,
          "label": "h2,6",
          "label_display": "none",
          "px": 540.2884600965493,
          "py": 386.07667443285,
          "shape": "circle",
          "shape_attrs": {
           "r": 15
          },
          "value": null,
          "weight": 21,
          "x": 540.3296107385247,
          "xval": 60,
          "y": 386.0726175500124,
          "yval": 45.45454545454546
         },
         "value": 1
        },
        {
         "source": {
          "index": 22,
          "label": "h1,11",
          "label_display": "none",
          "px": 450.6931880317312,
          "py": 427.36854915169533,
          "shape": "circle",
          "shape_attrs": {
           "r": 15
          },
          "value": null,
          "weight": 22,
          "x": 450.70224459711284,
          "xval": 40,
          "y": 427.40707742900895,
          "yval": 47.61904761904762
         },
         "target": {
          "index": 38,
          "label": "h2,7",
          "label_display": "none",
          "px": 541.4812921164678,
          "py": 394.6419287169871,
          "shape": "circle",
          "shape_attrs": {
           "r": 15
          },
          "value": null,
          "weight": 21,
          "x": 541.5256498499048,
          "xval": 60,
          "y": 394.6711846016649,
          "yval": 36.36363636363637
         },
         "value": 1
        },
        {
         "source": {
          "index": 22,
          "label": "h1,11",
          "label_display": "none",
          "px": 450.6931880317312,
          "py": 427.36854915169533,
          "shape": "circle",
          "shape_attrs": {
           "r": 15
          },
          "value": null,
          "weight": 22,
          "x": 450.70224459711284,
          "xval": 40,
          "y": 427.40707742900895,
          "yval": 47.61904761904762
         },
         "target": {
          "index": 39,
          "label": "h2,8",
          "label_display": "none",
          "px": 539.4750872865833,
          "py": 382.06791160469925,
          "shape": "circle",
          "shape_attrs": {
           "r": 15
          },
          "value": null,
          "weight": 21,
          "x": 539.5135288298698,
          "xval": 60,
          "y": 382.05054442074044,
          "yval": 27.272727272727273
         },
         "value": 1
        },
        {
         "source": {
          "index": 22,
          "label": "h1,11",
          "label_display": "none",
          "px": 450.6931880317312,
          "py": 427.36854915169533,
          "shape": "circle",
          "shape_attrs": {
           "r": 15
          },
          "value": null,
          "weight": 22,
          "x": 450.70224459711284,
          "xval": 40,
          "y": 427.40707742900895,
          "yval": 47.61904761904762
         },
         "target": {
          "fixed": 0,
          "index": 40,
          "label": "h2,9",
          "label_display": "none",
          "px": 541.8789771051929,
          "py": 399.51769602374225,
          "shape": "circle",
          "shape_attrs": {
           "r": 15
          },
          "value": null,
          "weight": 21,
          "x": 541.8789771051929,
          "xval": 60,
          "y": 399.51769602374225,
          "yval": 18.181818181818183
         },
         "value": 1
        },
        {
         "source": {
          "index": 22,
          "label": "h1,11",
          "label_display": "none",
          "px": 450.6931880317312,
          "py": 427.36854915169533,
          "shape": "circle",
          "shape_attrs": {
           "r": 15
          },
          "value": null,
          "weight": 22,
          "x": 450.70224459711284,
          "xval": 40,
          "y": 427.40707742900895,
          "yval": 47.61904761904762
         },
         "target": {
          "index": 41,
          "label": "h2,10",
          "label_display": "none",
          "px": 540.9635353553583,
          "py": 390.2506362665784,
          "shape": "circle",
          "shape_attrs": {
           "r": 15
          },
          "value": null,
          "weight": 21,
          "x": 541.0069568340803,
          "xval": 60,
          "y": 390.2620434189789,
          "yval": 9.090909090909092
         },
         "value": 1
        },
        {
         "source": {
          "index": 23,
          "label": "h1,12",
          "label_display": "none",
          "px": 451.616956869591,
          "py": 430.68399636795544,
          "shape": "circle",
          "shape_attrs": {
           "r": 15
          },
          "value": null,
          "weight": 22,
          "x": 451.6308613454441,
          "xval": 40,
          "y": 430.73607807474326,
          "yval": 42.857142857142854
         },
         "target": {
          "fixed": 0,
          "index": 32,
          "label": "h2,1",
          "label_display": "none",
          "px": 348.4069633574117,
          "py": 408.76281398343616,
          "shape": "circle",
          "shape_attrs": {
           "r": 15
          },
          "value": null,
          "weight": 21,
          "x": 348.4069633574117,
          "xval": 60,
          "y": 408.76281398343616,
          "yval": 90.90909090909092
         },
         "value": 1
        },
        {
         "source": {
          "index": 23,
          "label": "h1,12",
          "label_display": "none",
          "px": 451.616956869591,
          "py": 430.68399636795544,
          "shape": "circle",
          "shape_attrs": {
           "r": 15
          },
          "value": null,
          "weight": 22,
          "x": 451.6308613454441,
          "xval": 40,
          "y": 430.73607807474326,
          "yval": 42.857142857142854
         },
         "target": {
          "fixed": 0,
          "index": 33,
          "label": "h2,2",
          "label_display": "none",
          "px": 348.98267226676734,
          "py": 414.2410318591959,
          "shape": "circle",
          "shape_attrs": {
           "r": 15
          },
          "value": null,
          "weight": 21,
          "x": 348.98267226676734,
          "xval": 60,
          "y": 414.2410318591959,
          "yval": 81.81818181818183
         },
         "value": 1
        },
        {
         "source": {
          "index": 23,
          "label": "h1,12",
          "label_display": "none",
          "px": 451.616956869591,
          "py": 430.68399636795544,
          "shape": "circle",
          "shape_attrs": {
           "r": 15
          },
          "value": null,
          "weight": 22,
          "x": 451.6308613454441,
          "xval": 40,
          "y": 430.73607807474326,
          "yval": 42.857142857142854
         },
         "target": {
          "fixed": 0,
          "index": 34,
          "label": "h2,3",
          "label_display": "none",
          "px": 537.4603229397491,
          "py": 374.0357973649497,
          "shape": "circle",
          "shape_attrs": {
           "r": 15
          },
          "value": null,
          "weight": 21,
          "x": 537.4603229397491,
          "xval": 60,
          "y": 374.0357973649497,
          "yval": 72.72727272727273
         },
         "value": 1
        },
        {
         "source": {
          "index": 23,
          "label": "h1,12",
          "label_display": "none",
          "px": 451.616956869591,
          "py": 430.68399636795544,
          "shape": "circle",
          "shape_attrs": {
           "r": 15
          },
          "value": null,
          "weight": 22,
          "x": 451.6308613454441,
          "xval": 40,
          "y": 430.73607807474326,
          "yval": 42.857142857142854
         },
         "target": {
          "index": 35,
          "label": "h2,4",
          "label_display": "none",
          "px": 538.4970595658459,
          "py": 378.0861567241818,
          "shape": "circle",
          "shape_attrs": {
           "r": 15
          },
          "value": null,
          "weight": 21,
          "x": 538.5316781024794,
          "xval": 60,
          "y": 378.0560742106646,
          "yval": 63.63636363636364
         },
         "value": 1
        },
        {
         "source": {
          "index": 23,
          "label": "h1,12",
          "label_display": "none",
          "px": 451.616956869591,
          "py": 430.68399636795544,
          "shape": "circle",
          "shape_attrs": {
           "r": 15
          },
          "value": null,
          "weight": 22,
          "x": 451.6308613454441,
          "xval": 40,
          "y": 430.73607807474326,
          "yval": 42.857142857142854
         },
         "target": {
          "index": 36,
          "label": "h2,5",
          "label_display": "none",
          "px": 541.9506789452461,
          "py": 405.2045046484753,
          "shape": "circle",
          "shape_attrs": {
           "r": 15
          },
          "value": null,
          "weight": 21,
          "x": 541.9919124283681,
          "xval": 60,
          "y": 405.2694016450591,
          "yval": 54.54545454545455
         },
         "value": 1
        },
        {
         "source": {
          "index": 23,
          "label": "h1,12",
          "label_display": "none",
          "px": 451.616956869591,
          "py": 430.68399636795544,
          "shape": "circle",
          "shape_attrs": {
           "r": 15
          },
          "value": null,
          "weight": 22,
          "x": 451.6308613454441,
          "xval": 40,
          "y": 430.73607807474326,
          "yval": 42.857142857142854
         },
         "target": {
          "index": 37,
          "label": "h2,6",
          "label_display": "none",
          "px": 540.2884600965493,
          "py": 386.07667443285,
          "shape": "circle",
          "shape_attrs": {
           "r": 15
          },
          "value": null,
          "weight": 21,
          "x": 540.3296107385247,
          "xval": 60,
          "y": 386.0726175500124,
          "yval": 45.45454545454546
         },
         "value": 1
        },
        {
         "source": {
          "index": 23,
          "label": "h1,12",
          "label_display": "none",
          "px": 451.616956869591,
          "py": 430.68399636795544,
          "shape": "circle",
          "shape_attrs": {
           "r": 15
          },
          "value": null,
          "weight": 22,
          "x": 451.6308613454441,
          "xval": 40,
          "y": 430.73607807474326,
          "yval": 42.857142857142854
         },
         "target": {
          "index": 38,
          "label": "h2,7",
          "label_display": "none",
          "px": 541.4812921164678,
          "py": 394.6419287169871,
          "shape": "circle",
          "shape_attrs": {
           "r": 15
          },
          "value": null,
          "weight": 21,
          "x": 541.5256498499048,
          "xval": 60,
          "y": 394.6711846016649,
          "yval": 36.36363636363637
         },
         "value": 1
        },
        {
         "source": {
          "index": 23,
          "label": "h1,12",
          "label_display": "none",
          "px": 451.616956869591,
          "py": 430.68399636795544,
          "shape": "circle",
          "shape_attrs": {
           "r": 15
          },
          "value": null,
          "weight": 22,
          "x": 451.6308613454441,
          "xval": 40,
          "y": 430.73607807474326,
          "yval": 42.857142857142854
         },
         "target": {
          "index": 39,
          "label": "h2,8",
          "label_display": "none",
          "px": 539.4750872865833,
          "py": 382.06791160469925,
          "shape": "circle",
          "shape_attrs": {
           "r": 15
          },
          "value": null,
          "weight": 21,
          "x": 539.5135288298698,
          "xval": 60,
          "y": 382.05054442074044,
          "yval": 27.272727272727273
         },
         "value": 1
        },
        {
         "source": {
          "index": 23,
          "label": "h1,12",
          "label_display": "none",
          "px": 451.616956869591,
          "py": 430.68399636795544,
          "shape": "circle",
          "shape_attrs": {
           "r": 15
          },
          "value": null,
          "weight": 22,
          "x": 451.6308613454441,
          "xval": 40,
          "y": 430.73607807474326,
          "yval": 42.857142857142854
         },
         "target": {
          "fixed": 0,
          "index": 40,
          "label": "h2,9",
          "label_display": "none",
          "px": 541.8789771051929,
          "py": 399.51769602374225,
          "shape": "circle",
          "shape_attrs": {
           "r": 15
          },
          "value": null,
          "weight": 21,
          "x": 541.8789771051929,
          "xval": 60,
          "y": 399.51769602374225,
          "yval": 18.181818181818183
         },
         "value": 1
        },
        {
         "source": {
          "index": 23,
          "label": "h1,12",
          "label_display": "none",
          "px": 451.616956869591,
          "py": 430.68399636795544,
          "shape": "circle",
          "shape_attrs": {
           "r": 15
          },
          "value": null,
          "weight": 22,
          "x": 451.6308613454441,
          "xval": 40,
          "y": 430.73607807474326,
          "yval": 42.857142857142854
         },
         "target": {
          "index": 41,
          "label": "h2,10",
          "label_display": "none",
          "px": 540.9635353553583,
          "py": 390.2506362665784,
          "shape": "circle",
          "shape_attrs": {
           "r": 15
          },
          "value": null,
          "weight": 21,
          "x": 541.0069568340803,
          "xval": 60,
          "y": 390.2620434189789,
          "yval": 9.090909090909092
         },
         "value": 1
        },
        {
         "source": {
          "index": 24,
          "label": "h1,13",
          "label_display": "none",
          "px": 449.7701933541918,
          "py": 423.95395938325044,
          "shape": "circle",
          "shape_attrs": {
           "r": 15
          },
          "value": null,
          "weight": 22,
          "x": 449.77543161498545,
          "xval": 40,
          "y": 423.979666438766,
          "yval": 38.095238095238095
         },
         "target": {
          "fixed": 0,
          "index": 32,
          "label": "h2,1",
          "label_display": "none",
          "px": 348.4069633574117,
          "py": 408.76281398343616,
          "shape": "circle",
          "shape_attrs": {
           "r": 15
          },
          "value": null,
          "weight": 21,
          "x": 348.4069633574117,
          "xval": 60,
          "y": 408.76281398343616,
          "yval": 90.90909090909092
         },
         "value": 1
        },
        {
         "source": {
          "index": 24,
          "label": "h1,13",
          "label_display": "none",
          "px": 449.7701933541918,
          "py": 423.95395938325044,
          "shape": "circle",
          "shape_attrs": {
           "r": 15
          },
          "value": null,
          "weight": 22,
          "x": 449.77543161498545,
          "xval": 40,
          "y": 423.979666438766,
          "yval": 38.095238095238095
         },
         "target": {
          "fixed": 0,
          "index": 33,
          "label": "h2,2",
          "label_display": "none",
          "px": 348.98267226676734,
          "py": 414.2410318591959,
          "shape": "circle",
          "shape_attrs": {
           "r": 15
          },
          "value": null,
          "weight": 21,
          "x": 348.98267226676734,
          "xval": 60,
          "y": 414.2410318591959,
          "yval": 81.81818181818183
         },
         "value": 1
        },
        {
         "source": {
          "index": 24,
          "label": "h1,13",
          "label_display": "none",
          "px": 449.7701933541918,
          "py": 423.95395938325044,
          "shape": "circle",
          "shape_attrs": {
           "r": 15
          },
          "value": null,
          "weight": 22,
          "x": 449.77543161498545,
          "xval": 40,
          "y": 423.979666438766,
          "yval": 38.095238095238095
         },
         "target": {
          "fixed": 0,
          "index": 34,
          "label": "h2,3",
          "label_display": "none",
          "px": 537.4603229397491,
          "py": 374.0357973649497,
          "shape": "circle",
          "shape_attrs": {
           "r": 15
          },
          "value": null,
          "weight": 21,
          "x": 537.4603229397491,
          "xval": 60,
          "y": 374.0357973649497,
          "yval": 72.72727272727273
         },
         "value": 1
        },
        {
         "source": {
          "index": 24,
          "label": "h1,13",
          "label_display": "none",
          "px": 449.7701933541918,
          "py": 423.95395938325044,
          "shape": "circle",
          "shape_attrs": {
           "r": 15
          },
          "value": null,
          "weight": 22,
          "x": 449.77543161498545,
          "xval": 40,
          "y": 423.979666438766,
          "yval": 38.095238095238095
         },
         "target": {
          "index": 35,
          "label": "h2,4",
          "label_display": "none",
          "px": 538.4970595658459,
          "py": 378.0861567241818,
          "shape": "circle",
          "shape_attrs": {
           "r": 15
          },
          "value": null,
          "weight": 21,
          "x": 538.5316781024794,
          "xval": 60,
          "y": 378.0560742106646,
          "yval": 63.63636363636364
         },
         "value": 1
        },
        {
         "source": {
          "index": 24,
          "label": "h1,13",
          "label_display": "none",
          "px": 449.7701933541918,
          "py": 423.95395938325044,
          "shape": "circle",
          "shape_attrs": {
           "r": 15
          },
          "value": null,
          "weight": 22,
          "x": 449.77543161498545,
          "xval": 40,
          "y": 423.979666438766,
          "yval": 38.095238095238095
         },
         "target": {
          "index": 36,
          "label": "h2,5",
          "label_display": "none",
          "px": 541.9506789452461,
          "py": 405.2045046484753,
          "shape": "circle",
          "shape_attrs": {
           "r": 15
          },
          "value": null,
          "weight": 21,
          "x": 541.9919124283681,
          "xval": 60,
          "y": 405.2694016450591,
          "yval": 54.54545454545455
         },
         "value": 1
        },
        {
         "source": {
          "index": 24,
          "label": "h1,13",
          "label_display": "none",
          "px": 449.7701933541918,
          "py": 423.95395938325044,
          "shape": "circle",
          "shape_attrs": {
           "r": 15
          },
          "value": null,
          "weight": 22,
          "x": 449.77543161498545,
          "xval": 40,
          "y": 423.979666438766,
          "yval": 38.095238095238095
         },
         "target": {
          "index": 37,
          "label": "h2,6",
          "label_display": "none",
          "px": 540.2884600965493,
          "py": 386.07667443285,
          "shape": "circle",
          "shape_attrs": {
           "r": 15
          },
          "value": null,
          "weight": 21,
          "x": 540.3296107385247,
          "xval": 60,
          "y": 386.0726175500124,
          "yval": 45.45454545454546
         },
         "value": 1
        },
        {
         "source": {
          "index": 24,
          "label": "h1,13",
          "label_display": "none",
          "px": 449.7701933541918,
          "py": 423.95395938325044,
          "shape": "circle",
          "shape_attrs": {
           "r": 15
          },
          "value": null,
          "weight": 22,
          "x": 449.77543161498545,
          "xval": 40,
          "y": 423.979666438766,
          "yval": 38.095238095238095
         },
         "target": {
          "index": 38,
          "label": "h2,7",
          "label_display": "none",
          "px": 541.4812921164678,
          "py": 394.6419287169871,
          "shape": "circle",
          "shape_attrs": {
           "r": 15
          },
          "value": null,
          "weight": 21,
          "x": 541.5256498499048,
          "xval": 60,
          "y": 394.6711846016649,
          "yval": 36.36363636363637
         },
         "value": 1
        },
        {
         "source": {
          "index": 24,
          "label": "h1,13",
          "label_display": "none",
          "px": 449.7701933541918,
          "py": 423.95395938325044,
          "shape": "circle",
          "shape_attrs": {
           "r": 15
          },
          "value": null,
          "weight": 22,
          "x": 449.77543161498545,
          "xval": 40,
          "y": 423.979666438766,
          "yval": 38.095238095238095
         },
         "target": {
          "index": 39,
          "label": "h2,8",
          "label_display": "none",
          "px": 539.4750872865833,
          "py": 382.06791160469925,
          "shape": "circle",
          "shape_attrs": {
           "r": 15
          },
          "value": null,
          "weight": 21,
          "x": 539.5135288298698,
          "xval": 60,
          "y": 382.05054442074044,
          "yval": 27.272727272727273
         },
         "value": 1
        },
        {
         "source": {
          "index": 24,
          "label": "h1,13",
          "label_display": "none",
          "px": 449.7701933541918,
          "py": 423.95395938325044,
          "shape": "circle",
          "shape_attrs": {
           "r": 15
          },
          "value": null,
          "weight": 22,
          "x": 449.77543161498545,
          "xval": 40,
          "y": 423.979666438766,
          "yval": 38.095238095238095
         },
         "target": {
          "fixed": 0,
          "index": 40,
          "label": "h2,9",
          "label_display": "none",
          "px": 541.8789771051929,
          "py": 399.51769602374225,
          "shape": "circle",
          "shape_attrs": {
           "r": 15
          },
          "value": null,
          "weight": 21,
          "x": 541.8789771051929,
          "xval": 60,
          "y": 399.51769602374225,
          "yval": 18.181818181818183
         },
         "value": 1
        },
        {
         "source": {
          "index": 24,
          "label": "h1,13",
          "label_display": "none",
          "px": 449.7701933541918,
          "py": 423.95395938325044,
          "shape": "circle",
          "shape_attrs": {
           "r": 15
          },
          "value": null,
          "weight": 22,
          "x": 449.77543161498545,
          "xval": 40,
          "y": 423.979666438766,
          "yval": 38.095238095238095
         },
         "target": {
          "index": 41,
          "label": "h2,10",
          "label_display": "none",
          "px": 540.9635353553583,
          "py": 390.2506362665784,
          "shape": "circle",
          "shape_attrs": {
           "r": 15
          },
          "value": null,
          "weight": 21,
          "x": 541.0069568340803,
          "xval": 60,
          "y": 390.2620434189789,
          "yval": 9.090909090909092
         },
         "value": 1
        },
        {
         "source": {
          "index": 25,
          "label": "h1,14",
          "label_display": "none",
          "px": 447.77652249109667,
          "py": 416.4027794386295,
          "shape": "circle",
          "shape_attrs": {
           "r": 15
          },
          "value": null,
          "weight": 22,
          "x": 447.77533228674633,
          "xval": 40,
          "y": 416.4089800756498,
          "yval": 33.333333333333336
         },
         "target": {
          "fixed": 0,
          "index": 32,
          "label": "h2,1",
          "label_display": "none",
          "px": 348.4069633574117,
          "py": 408.76281398343616,
          "shape": "circle",
          "shape_attrs": {
           "r": 15
          },
          "value": null,
          "weight": 21,
          "x": 348.4069633574117,
          "xval": 60,
          "y": 408.76281398343616,
          "yval": 90.90909090909092
         },
         "value": 1
        },
        {
         "source": {
          "index": 25,
          "label": "h1,14",
          "label_display": "none",
          "px": 447.77652249109667,
          "py": 416.4027794386295,
          "shape": "circle",
          "shape_attrs": {
           "r": 15
          },
          "value": null,
          "weight": 22,
          "x": 447.77533228674633,
          "xval": 40,
          "y": 416.4089800756498,
          "yval": 33.333333333333336
         },
         "target": {
          "fixed": 0,
          "index": 33,
          "label": "h2,2",
          "label_display": "none",
          "px": 348.98267226676734,
          "py": 414.2410318591959,
          "shape": "circle",
          "shape_attrs": {
           "r": 15
          },
          "value": null,
          "weight": 21,
          "x": 348.98267226676734,
          "xval": 60,
          "y": 414.2410318591959,
          "yval": 81.81818181818183
         },
         "value": 1
        },
        {
         "source": {
          "index": 25,
          "label": "h1,14",
          "label_display": "none",
          "px": 447.77652249109667,
          "py": 416.4027794386295,
          "shape": "circle",
          "shape_attrs": {
           "r": 15
          },
          "value": null,
          "weight": 22,
          "x": 447.77533228674633,
          "xval": 40,
          "y": 416.4089800756498,
          "yval": 33.333333333333336
         },
         "target": {
          "fixed": 0,
          "index": 34,
          "label": "h2,3",
          "label_display": "none",
          "px": 537.4603229397491,
          "py": 374.0357973649497,
          "shape": "circle",
          "shape_attrs": {
           "r": 15
          },
          "value": null,
          "weight": 21,
          "x": 537.4603229397491,
          "xval": 60,
          "y": 374.0357973649497,
          "yval": 72.72727272727273
         },
         "value": 1
        },
        {
         "source": {
          "index": 25,
          "label": "h1,14",
          "label_display": "none",
          "px": 447.77652249109667,
          "py": 416.4027794386295,
          "shape": "circle",
          "shape_attrs": {
           "r": 15
          },
          "value": null,
          "weight": 22,
          "x": 447.77533228674633,
          "xval": 40,
          "y": 416.4089800756498,
          "yval": 33.333333333333336
         },
         "target": {
          "index": 35,
          "label": "h2,4",
          "label_display": "none",
          "px": 538.4970595658459,
          "py": 378.0861567241818,
          "shape": "circle",
          "shape_attrs": {
           "r": 15
          },
          "value": null,
          "weight": 21,
          "x": 538.5316781024794,
          "xval": 60,
          "y": 378.0560742106646,
          "yval": 63.63636363636364
         },
         "value": 1
        },
        {
         "source": {
          "index": 25,
          "label": "h1,14",
          "label_display": "none",
          "px": 447.77652249109667,
          "py": 416.4027794386295,
          "shape": "circle",
          "shape_attrs": {
           "r": 15
          },
          "value": null,
          "weight": 22,
          "x": 447.77533228674633,
          "xval": 40,
          "y": 416.4089800756498,
          "yval": 33.333333333333336
         },
         "target": {
          "index": 36,
          "label": "h2,5",
          "label_display": "none",
          "px": 541.9506789452461,
          "py": 405.2045046484753,
          "shape": "circle",
          "shape_attrs": {
           "r": 15
          },
          "value": null,
          "weight": 21,
          "x": 541.9919124283681,
          "xval": 60,
          "y": 405.2694016450591,
          "yval": 54.54545454545455
         },
         "value": 1
        },
        {
         "source": {
          "index": 25,
          "label": "h1,14",
          "label_display": "none",
          "px": 447.77652249109667,
          "py": 416.4027794386295,
          "shape": "circle",
          "shape_attrs": {
           "r": 15
          },
          "value": null,
          "weight": 22,
          "x": 447.77533228674633,
          "xval": 40,
          "y": 416.4089800756498,
          "yval": 33.333333333333336
         },
         "target": {
          "index": 37,
          "label": "h2,6",
          "label_display": "none",
          "px": 540.2884600965493,
          "py": 386.07667443285,
          "shape": "circle",
          "shape_attrs": {
           "r": 15
          },
          "value": null,
          "weight": 21,
          "x": 540.3296107385247,
          "xval": 60,
          "y": 386.0726175500124,
          "yval": 45.45454545454546
         },
         "value": 1
        },
        {
         "source": {
          "index": 25,
          "label": "h1,14",
          "label_display": "none",
          "px": 447.77652249109667,
          "py": 416.4027794386295,
          "shape": "circle",
          "shape_attrs": {
           "r": 15
          },
          "value": null,
          "weight": 22,
          "x": 447.77533228674633,
          "xval": 40,
          "y": 416.4089800756498,
          "yval": 33.333333333333336
         },
         "target": {
          "index": 38,
          "label": "h2,7",
          "label_display": "none",
          "px": 541.4812921164678,
          "py": 394.6419287169871,
          "shape": "circle",
          "shape_attrs": {
           "r": 15
          },
          "value": null,
          "weight": 21,
          "x": 541.5256498499048,
          "xval": 60,
          "y": 394.6711846016649,
          "yval": 36.36363636363637
         },
         "value": 1
        },
        {
         "source": {
          "index": 25,
          "label": "h1,14",
          "label_display": "none",
          "px": 447.77652249109667,
          "py": 416.4027794386295,
          "shape": "circle",
          "shape_attrs": {
           "r": 15
          },
          "value": null,
          "weight": 22,
          "x": 447.77533228674633,
          "xval": 40,
          "y": 416.4089800756498,
          "yval": 33.333333333333336
         },
         "target": {
          "index": 39,
          "label": "h2,8",
          "label_display": "none",
          "px": 539.4750872865833,
          "py": 382.06791160469925,
          "shape": "circle",
          "shape_attrs": {
           "r": 15
          },
          "value": null,
          "weight": 21,
          "x": 539.5135288298698,
          "xval": 60,
          "y": 382.05054442074044,
          "yval": 27.272727272727273
         },
         "value": 1
        },
        {
         "source": {
          "index": 25,
          "label": "h1,14",
          "label_display": "none",
          "px": 447.77652249109667,
          "py": 416.4027794386295,
          "shape": "circle",
          "shape_attrs": {
           "r": 15
          },
          "value": null,
          "weight": 22,
          "x": 447.77533228674633,
          "xval": 40,
          "y": 416.4089800756498,
          "yval": 33.333333333333336
         },
         "target": {
          "fixed": 0,
          "index": 40,
          "label": "h2,9",
          "label_display": "none",
          "px": 541.8789771051929,
          "py": 399.51769602374225,
          "shape": "circle",
          "shape_attrs": {
           "r": 15
          },
          "value": null,
          "weight": 21,
          "x": 541.8789771051929,
          "xval": 60,
          "y": 399.51769602374225,
          "yval": 18.181818181818183
         },
         "value": 1
        },
        {
         "source": {
          "index": 25,
          "label": "h1,14",
          "label_display": "none",
          "px": 447.77652249109667,
          "py": 416.4027794386295,
          "shape": "circle",
          "shape_attrs": {
           "r": 15
          },
          "value": null,
          "weight": 22,
          "x": 447.77533228674633,
          "xval": 40,
          "y": 416.4089800756498,
          "yval": 33.333333333333336
         },
         "target": {
          "index": 41,
          "label": "h2,10",
          "label_display": "none",
          "px": 540.9635353553583,
          "py": 390.2506362665784,
          "shape": "circle",
          "shape_attrs": {
           "r": 15
          },
          "value": null,
          "weight": 21,
          "x": 541.0069568340803,
          "xval": 60,
          "y": 390.2620434189789,
          "yval": 9.090909090909092
         },
         "value": 1
        },
        {
         "source": {
          "fixed": 0,
          "index": 26,
          "label": "h1,15",
          "label_display": "none",
          "px": 437.84986949367203,
          "py": 374.25132654913494,
          "shape": "circle",
          "shape_attrs": {
           "r": 15
          },
          "value": null,
          "weight": 22,
          "x": 437.84986949367203,
          "xval": 40,
          "y": 374.25132654913494,
          "yval": 28.57142857142857
         },
         "target": {
          "fixed": 0,
          "index": 32,
          "label": "h2,1",
          "label_display": "none",
          "px": 348.4069633574117,
          "py": 408.76281398343616,
          "shape": "circle",
          "shape_attrs": {
           "r": 15
          },
          "value": null,
          "weight": 21,
          "x": 348.4069633574117,
          "xval": 60,
          "y": 408.76281398343616,
          "yval": 90.90909090909092
         },
         "value": 1
        },
        {
         "source": {
          "fixed": 0,
          "index": 26,
          "label": "h1,15",
          "label_display": "none",
          "px": 437.84986949367203,
          "py": 374.25132654913494,
          "shape": "circle",
          "shape_attrs": {
           "r": 15
          },
          "value": null,
          "weight": 22,
          "x": 437.84986949367203,
          "xval": 40,
          "y": 374.25132654913494,
          "yval": 28.57142857142857
         },
         "target": {
          "fixed": 0,
          "index": 33,
          "label": "h2,2",
          "label_display": "none",
          "px": 348.98267226676734,
          "py": 414.2410318591959,
          "shape": "circle",
          "shape_attrs": {
           "r": 15
          },
          "value": null,
          "weight": 21,
          "x": 348.98267226676734,
          "xval": 60,
          "y": 414.2410318591959,
          "yval": 81.81818181818183
         },
         "value": 1
        },
        {
         "source": {
          "fixed": 0,
          "index": 26,
          "label": "h1,15",
          "label_display": "none",
          "px": 437.84986949367203,
          "py": 374.25132654913494,
          "shape": "circle",
          "shape_attrs": {
           "r": 15
          },
          "value": null,
          "weight": 22,
          "x": 437.84986949367203,
          "xval": 40,
          "y": 374.25132654913494,
          "yval": 28.57142857142857
         },
         "target": {
          "fixed": 0,
          "index": 34,
          "label": "h2,3",
          "label_display": "none",
          "px": 537.4603229397491,
          "py": 374.0357973649497,
          "shape": "circle",
          "shape_attrs": {
           "r": 15
          },
          "value": null,
          "weight": 21,
          "x": 537.4603229397491,
          "xval": 60,
          "y": 374.0357973649497,
          "yval": 72.72727272727273
         },
         "value": 1
        },
        {
         "source": {
          "fixed": 0,
          "index": 26,
          "label": "h1,15",
          "label_display": "none",
          "px": 437.84986949367203,
          "py": 374.25132654913494,
          "shape": "circle",
          "shape_attrs": {
           "r": 15
          },
          "value": null,
          "weight": 22,
          "x": 437.84986949367203,
          "xval": 40,
          "y": 374.25132654913494,
          "yval": 28.57142857142857
         },
         "target": {
          "index": 35,
          "label": "h2,4",
          "label_display": "none",
          "px": 538.4970595658459,
          "py": 378.0861567241818,
          "shape": "circle",
          "shape_attrs": {
           "r": 15
          },
          "value": null,
          "weight": 21,
          "x": 538.5316781024794,
          "xval": 60,
          "y": 378.0560742106646,
          "yval": 63.63636363636364
         },
         "value": 1
        },
        {
         "source": {
          "fixed": 0,
          "index": 26,
          "label": "h1,15",
          "label_display": "none",
          "px": 437.84986949367203,
          "py": 374.25132654913494,
          "shape": "circle",
          "shape_attrs": {
           "r": 15
          },
          "value": null,
          "weight": 22,
          "x": 437.84986949367203,
          "xval": 40,
          "y": 374.25132654913494,
          "yval": 28.57142857142857
         },
         "target": {
          "index": 36,
          "label": "h2,5",
          "label_display": "none",
          "px": 541.9506789452461,
          "py": 405.2045046484753,
          "shape": "circle",
          "shape_attrs": {
           "r": 15
          },
          "value": null,
          "weight": 21,
          "x": 541.9919124283681,
          "xval": 60,
          "y": 405.2694016450591,
          "yval": 54.54545454545455
         },
         "value": 1
        },
        {
         "source": {
          "fixed": 0,
          "index": 26,
          "label": "h1,15",
          "label_display": "none",
          "px": 437.84986949367203,
          "py": 374.25132654913494,
          "shape": "circle",
          "shape_attrs": {
           "r": 15
          },
          "value": null,
          "weight": 22,
          "x": 437.84986949367203,
          "xval": 40,
          "y": 374.25132654913494,
          "yval": 28.57142857142857
         },
         "target": {
          "index": 37,
          "label": "h2,6",
          "label_display": "none",
          "px": 540.2884600965493,
          "py": 386.07667443285,
          "shape": "circle",
          "shape_attrs": {
           "r": 15
          },
          "value": null,
          "weight": 21,
          "x": 540.3296107385247,
          "xval": 60,
          "y": 386.0726175500124,
          "yval": 45.45454545454546
         },
         "value": 1
        },
        {
         "source": {
          "fixed": 0,
          "index": 26,
          "label": "h1,15",
          "label_display": "none",
          "px": 437.84986949367203,
          "py": 374.25132654913494,
          "shape": "circle",
          "shape_attrs": {
           "r": 15
          },
          "value": null,
          "weight": 22,
          "x": 437.84986949367203,
          "xval": 40,
          "y": 374.25132654913494,
          "yval": 28.57142857142857
         },
         "target": {
          "index": 38,
          "label": "h2,7",
          "label_display": "none",
          "px": 541.4812921164678,
          "py": 394.6419287169871,
          "shape": "circle",
          "shape_attrs": {
           "r": 15
          },
          "value": null,
          "weight": 21,
          "x": 541.5256498499048,
          "xval": 60,
          "y": 394.6711846016649,
          "yval": 36.36363636363637
         },
         "value": 1
        },
        {
         "source": {
          "fixed": 0,
          "index": 26,
          "label": "h1,15",
          "label_display": "none",
          "px": 437.84986949367203,
          "py": 374.25132654913494,
          "shape": "circle",
          "shape_attrs": {
           "r": 15
          },
          "value": null,
          "weight": 22,
          "x": 437.84986949367203,
          "xval": 40,
          "y": 374.25132654913494,
          "yval": 28.57142857142857
         },
         "target": {
          "index": 39,
          "label": "h2,8",
          "label_display": "none",
          "px": 539.4750872865833,
          "py": 382.06791160469925,
          "shape": "circle",
          "shape_attrs": {
           "r": 15
          },
          "value": null,
          "weight": 21,
          "x": 539.5135288298698,
          "xval": 60,
          "y": 382.05054442074044,
          "yval": 27.272727272727273
         },
         "value": 1
        },
        {
         "source": {
          "fixed": 0,
          "index": 26,
          "label": "h1,15",
          "label_display": "none",
          "px": 437.84986949367203,
          "py": 374.25132654913494,
          "shape": "circle",
          "shape_attrs": {
           "r": 15
          },
          "value": null,
          "weight": 22,
          "x": 437.84986949367203,
          "xval": 40,
          "y": 374.25132654913494,
          "yval": 28.57142857142857
         },
         "target": {
          "fixed": 0,
          "index": 40,
          "label": "h2,9",
          "label_display": "none",
          "px": 541.8789771051929,
          "py": 399.51769602374225,
          "shape": "circle",
          "shape_attrs": {
           "r": 15
          },
          "value": null,
          "weight": 21,
          "x": 541.8789771051929,
          "xval": 60,
          "y": 399.51769602374225,
          "yval": 18.181818181818183
         },
         "value": 1
        },
        {
         "source": {
          "fixed": 0,
          "index": 26,
          "label": "h1,15",
          "label_display": "none",
          "px": 437.84986949367203,
          "py": 374.25132654913494,
          "shape": "circle",
          "shape_attrs": {
           "r": 15
          },
          "value": null,
          "weight": 22,
          "x": 437.84986949367203,
          "xval": 40,
          "y": 374.25132654913494,
          "yval": 28.57142857142857
         },
         "target": {
          "index": 41,
          "label": "h2,10",
          "label_display": "none",
          "px": 540.9635353553583,
          "py": 390.2506362665784,
          "shape": "circle",
          "shape_attrs": {
           "r": 15
          },
          "value": null,
          "weight": 21,
          "x": 541.0069568340803,
          "xval": 60,
          "y": 390.2620434189789,
          "yval": 9.090909090909092
         },
         "value": 1
        },
        {
         "source": {
          "index": 27,
          "label": "h1,16",
          "label_display": "none",
          "px": 441.03312194188425,
          "py": 388.9301428056495,
          "shape": "circle",
          "shape_attrs": {
           "r": 15
          },
          "value": null,
          "weight": 22,
          "x": 441.0223311760983,
          "xval": 40,
          "y": 388.9201492326303,
          "yval": 23.80952380952381
         },
         "target": {
          "fixed": 0,
          "index": 32,
          "label": "h2,1",
          "label_display": "none",
          "px": 348.4069633574117,
          "py": 408.76281398343616,
          "shape": "circle",
          "shape_attrs": {
           "r": 15
          },
          "value": null,
          "weight": 21,
          "x": 348.4069633574117,
          "xval": 60,
          "y": 408.76281398343616,
          "yval": 90.90909090909092
         },
         "value": 1
        },
        {
         "source": {
          "index": 27,
          "label": "h1,16",
          "label_display": "none",
          "px": 441.03312194188425,
          "py": 388.9301428056495,
          "shape": "circle",
          "shape_attrs": {
           "r": 15
          },
          "value": null,
          "weight": 22,
          "x": 441.0223311760983,
          "xval": 40,
          "y": 388.9201492326303,
          "yval": 23.80952380952381
         },
         "target": {
          "fixed": 0,
          "index": 33,
          "label": "h2,2",
          "label_display": "none",
          "px": 348.98267226676734,
          "py": 414.2410318591959,
          "shape": "circle",
          "shape_attrs": {
           "r": 15
          },
          "value": null,
          "weight": 21,
          "x": 348.98267226676734,
          "xval": 60,
          "y": 414.2410318591959,
          "yval": 81.81818181818183
         },
         "value": 1
        },
        {
         "source": {
          "index": 27,
          "label": "h1,16",
          "label_display": "none",
          "px": 441.03312194188425,
          "py": 388.9301428056495,
          "shape": "circle",
          "shape_attrs": {
           "r": 15
          },
          "value": null,
          "weight": 22,
          "x": 441.0223311760983,
          "xval": 40,
          "y": 388.9201492326303,
          "yval": 23.80952380952381
         },
         "target": {
          "fixed": 0,
          "index": 34,
          "label": "h2,3",
          "label_display": "none",
          "px": 537.4603229397491,
          "py": 374.0357973649497,
          "shape": "circle",
          "shape_attrs": {
           "r": 15
          },
          "value": null,
          "weight": 21,
          "x": 537.4603229397491,
          "xval": 60,
          "y": 374.0357973649497,
          "yval": 72.72727272727273
         },
         "value": 1
        },
        {
         "source": {
          "index": 27,
          "label": "h1,16",
          "label_display": "none",
          "px": 441.03312194188425,
          "py": 388.9301428056495,
          "shape": "circle",
          "shape_attrs": {
           "r": 15
          },
          "value": null,
          "weight": 22,
          "x": 441.0223311760983,
          "xval": 40,
          "y": 388.9201492326303,
          "yval": 23.80952380952381
         },
         "target": {
          "index": 35,
          "label": "h2,4",
          "label_display": "none",
          "px": 538.4970595658459,
          "py": 378.0861567241818,
          "shape": "circle",
          "shape_attrs": {
           "r": 15
          },
          "value": null,
          "weight": 21,
          "x": 538.5316781024794,
          "xval": 60,
          "y": 378.0560742106646,
          "yval": 63.63636363636364
         },
         "value": 1
        },
        {
         "source": {
          "index": 27,
          "label": "h1,16",
          "label_display": "none",
          "px": 441.03312194188425,
          "py": 388.9301428056495,
          "shape": "circle",
          "shape_attrs": {
           "r": 15
          },
          "value": null,
          "weight": 22,
          "x": 441.0223311760983,
          "xval": 40,
          "y": 388.9201492326303,
          "yval": 23.80952380952381
         },
         "target": {
          "index": 36,
          "label": "h2,5",
          "label_display": "none",
          "px": 541.9506789452461,
          "py": 405.2045046484753,
          "shape": "circle",
          "shape_attrs": {
           "r": 15
          },
          "value": null,
          "weight": 21,
          "x": 541.9919124283681,
          "xval": 60,
          "y": 405.2694016450591,
          "yval": 54.54545454545455
         },
         "value": 1
        },
        {
         "source": {
          "index": 27,
          "label": "h1,16",
          "label_display": "none",
          "px": 441.03312194188425,
          "py": 388.9301428056495,
          "shape": "circle",
          "shape_attrs": {
           "r": 15
          },
          "value": null,
          "weight": 22,
          "x": 441.0223311760983,
          "xval": 40,
          "y": 388.9201492326303,
          "yval": 23.80952380952381
         },
         "target": {
          "index": 37,
          "label": "h2,6",
          "label_display": "none",
          "px": 540.2884600965493,
          "py": 386.07667443285,
          "shape": "circle",
          "shape_attrs": {
           "r": 15
          },
          "value": null,
          "weight": 21,
          "x": 540.3296107385247,
          "xval": 60,
          "y": 386.0726175500124,
          "yval": 45.45454545454546
         },
         "value": 1
        },
        {
         "source": {
          "index": 27,
          "label": "h1,16",
          "label_display": "none",
          "px": 441.03312194188425,
          "py": 388.9301428056495,
          "shape": "circle",
          "shape_attrs": {
           "r": 15
          },
          "value": null,
          "weight": 22,
          "x": 441.0223311760983,
          "xval": 40,
          "y": 388.9201492326303,
          "yval": 23.80952380952381
         },
         "target": {
          "index": 38,
          "label": "h2,7",
          "label_display": "none",
          "px": 541.4812921164678,
          "py": 394.6419287169871,
          "shape": "circle",
          "shape_attrs": {
           "r": 15
          },
          "value": null,
          "weight": 21,
          "x": 541.5256498499048,
          "xval": 60,
          "y": 394.6711846016649,
          "yval": 36.36363636363637
         },
         "value": 1
        },
        {
         "source": {
          "index": 27,
          "label": "h1,16",
          "label_display": "none",
          "px": 441.03312194188425,
          "py": 388.9301428056495,
          "shape": "circle",
          "shape_attrs": {
           "r": 15
          },
          "value": null,
          "weight": 22,
          "x": 441.0223311760983,
          "xval": 40,
          "y": 388.9201492326303,
          "yval": 23.80952380952381
         },
         "target": {
          "index": 39,
          "label": "h2,8",
          "label_display": "none",
          "px": 539.4750872865833,
          "py": 382.06791160469925,
          "shape": "circle",
          "shape_attrs": {
           "r": 15
          },
          "value": null,
          "weight": 21,
          "x": 539.5135288298698,
          "xval": 60,
          "y": 382.05054442074044,
          "yval": 27.272727272727273
         },
         "value": 1
        },
        {
         "source": {
          "index": 27,
          "label": "h1,16",
          "label_display": "none",
          "px": 441.03312194188425,
          "py": 388.9301428056495,
          "shape": "circle",
          "shape_attrs": {
           "r": 15
          },
          "value": null,
          "weight": 22,
          "x": 441.0223311760983,
          "xval": 40,
          "y": 388.9201492326303,
          "yval": 23.80952380952381
         },
         "target": {
          "fixed": 0,
          "index": 40,
          "label": "h2,9",
          "label_display": "none",
          "px": 541.8789771051929,
          "py": 399.51769602374225,
          "shape": "circle",
          "shape_attrs": {
           "r": 15
          },
          "value": null,
          "weight": 21,
          "x": 541.8789771051929,
          "xval": 60,
          "y": 399.51769602374225,
          "yval": 18.181818181818183
         },
         "value": 1
        },
        {
         "source": {
          "index": 27,
          "label": "h1,16",
          "label_display": "none",
          "px": 441.03312194188425,
          "py": 388.9301428056495,
          "shape": "circle",
          "shape_attrs": {
           "r": 15
          },
          "value": null,
          "weight": 22,
          "x": 441.0223311760983,
          "xval": 40,
          "y": 388.9201492326303,
          "yval": 23.80952380952381
         },
         "target": {
          "index": 41,
          "label": "h2,10",
          "label_display": "none",
          "px": 540.9635353553583,
          "py": 390.2506362665784,
          "shape": "circle",
          "shape_attrs": {
           "r": 15
          },
          "value": null,
          "weight": 21,
          "x": 541.0069568340803,
          "xval": 60,
          "y": 390.2620434189789,
          "yval": 9.090909090909092
         },
         "value": 1
        },
        {
         "source": {
          "index": 28,
          "label": "h1,17",
          "label_display": "none",
          "px": 448.80878786875905,
          "py": 420.35138343623464,
          "shape": "circle",
          "shape_attrs": {
           "r": 15
          },
          "value": null,
          "weight": 22,
          "x": 448.8091799805161,
          "xval": 40,
          "y": 420.3610019925185,
          "yval": 19.047619047619047
         },
         "target": {
          "fixed": 0,
          "index": 32,
          "label": "h2,1",
          "label_display": "none",
          "px": 348.4069633574117,
          "py": 408.76281398343616,
          "shape": "circle",
          "shape_attrs": {
           "r": 15
          },
          "value": null,
          "weight": 21,
          "x": 348.4069633574117,
          "xval": 60,
          "y": 408.76281398343616,
          "yval": 90.90909090909092
         },
         "value": 1
        },
        {
         "source": {
          "index": 28,
          "label": "h1,17",
          "label_display": "none",
          "px": 448.80878786875905,
          "py": 420.35138343623464,
          "shape": "circle",
          "shape_attrs": {
           "r": 15
          },
          "value": null,
          "weight": 22,
          "x": 448.8091799805161,
          "xval": 40,
          "y": 420.3610019925185,
          "yval": 19.047619047619047
         },
         "target": {
          "fixed": 0,
          "index": 33,
          "label": "h2,2",
          "label_display": "none",
          "px": 348.98267226676734,
          "py": 414.2410318591959,
          "shape": "circle",
          "shape_attrs": {
           "r": 15
          },
          "value": null,
          "weight": 21,
          "x": 348.98267226676734,
          "xval": 60,
          "y": 414.2410318591959,
          "yval": 81.81818181818183
         },
         "value": 1
        },
        {
         "source": {
          "index": 28,
          "label": "h1,17",
          "label_display": "none",
          "px": 448.80878786875905,
          "py": 420.35138343623464,
          "shape": "circle",
          "shape_attrs": {
           "r": 15
          },
          "value": null,
          "weight": 22,
          "x": 448.8091799805161,
          "xval": 40,
          "y": 420.3610019925185,
          "yval": 19.047619047619047
         },
         "target": {
          "fixed": 0,
          "index": 34,
          "label": "h2,3",
          "label_display": "none",
          "px": 537.4603229397491,
          "py": 374.0357973649497,
          "shape": "circle",
          "shape_attrs": {
           "r": 15
          },
          "value": null,
          "weight": 21,
          "x": 537.4603229397491,
          "xval": 60,
          "y": 374.0357973649497,
          "yval": 72.72727272727273
         },
         "value": 1
        },
        {
         "source": {
          "index": 28,
          "label": "h1,17",
          "label_display": "none",
          "px": 448.80878786875905,
          "py": 420.35138343623464,
          "shape": "circle",
          "shape_attrs": {
           "r": 15
          },
          "value": null,
          "weight": 22,
          "x": 448.8091799805161,
          "xval": 40,
          "y": 420.3610019925185,
          "yval": 19.047619047619047
         },
         "target": {
          "index": 35,
          "label": "h2,4",
          "label_display": "none",
          "px": 538.4970595658459,
          "py": 378.0861567241818,
          "shape": "circle",
          "shape_attrs": {
           "r": 15
          },
          "value": null,
          "weight": 21,
          "x": 538.5316781024794,
          "xval": 60,
          "y": 378.0560742106646,
          "yval": 63.63636363636364
         },
         "value": 1
        },
        {
         "source": {
          "index": 28,
          "label": "h1,17",
          "label_display": "none",
          "px": 448.80878786875905,
          "py": 420.35138343623464,
          "shape": "circle",
          "shape_attrs": {
           "r": 15
          },
          "value": null,
          "weight": 22,
          "x": 448.8091799805161,
          "xval": 40,
          "y": 420.3610019925185,
          "yval": 19.047619047619047
         },
         "target": {
          "index": 36,
          "label": "h2,5",
          "label_display": "none",
          "px": 541.9506789452461,
          "py": 405.2045046484753,
          "shape": "circle",
          "shape_attrs": {
           "r": 15
          },
          "value": null,
          "weight": 21,
          "x": 541.9919124283681,
          "xval": 60,
          "y": 405.2694016450591,
          "yval": 54.54545454545455
         },
         "value": 1
        },
        {
         "source": {
          "index": 28,
          "label": "h1,17",
          "label_display": "none",
          "px": 448.80878786875905,
          "py": 420.35138343623464,
          "shape": "circle",
          "shape_attrs": {
           "r": 15
          },
          "value": null,
          "weight": 22,
          "x": 448.8091799805161,
          "xval": 40,
          "y": 420.3610019925185,
          "yval": 19.047619047619047
         },
         "target": {
          "index": 37,
          "label": "h2,6",
          "label_display": "none",
          "px": 540.2884600965493,
          "py": 386.07667443285,
          "shape": "circle",
          "shape_attrs": {
           "r": 15
          },
          "value": null,
          "weight": 21,
          "x": 540.3296107385247,
          "xval": 60,
          "y": 386.0726175500124,
          "yval": 45.45454545454546
         },
         "value": 1
        },
        {
         "source": {
          "index": 28,
          "label": "h1,17",
          "label_display": "none",
          "px": 448.80878786875905,
          "py": 420.35138343623464,
          "shape": "circle",
          "shape_attrs": {
           "r": 15
          },
          "value": null,
          "weight": 22,
          "x": 448.8091799805161,
          "xval": 40,
          "y": 420.3610019925185,
          "yval": 19.047619047619047
         },
         "target": {
          "index": 38,
          "label": "h2,7",
          "label_display": "none",
          "px": 541.4812921164678,
          "py": 394.6419287169871,
          "shape": "circle",
          "shape_attrs": {
           "r": 15
          },
          "value": null,
          "weight": 21,
          "x": 541.5256498499048,
          "xval": 60,
          "y": 394.6711846016649,
          "yval": 36.36363636363637
         },
         "value": 1
        },
        {
         "source": {
          "index": 28,
          "label": "h1,17",
          "label_display": "none",
          "px": 448.80878786875905,
          "py": 420.35138343623464,
          "shape": "circle",
          "shape_attrs": {
           "r": 15
          },
          "value": null,
          "weight": 22,
          "x": 448.8091799805161,
          "xval": 40,
          "y": 420.3610019925185,
          "yval": 19.047619047619047
         },
         "target": {
          "index": 39,
          "label": "h2,8",
          "label_display": "none",
          "px": 539.4750872865833,
          "py": 382.06791160469925,
          "shape": "circle",
          "shape_attrs": {
           "r": 15
          },
          "value": null,
          "weight": 21,
          "x": 539.5135288298698,
          "xval": 60,
          "y": 382.05054442074044,
          "yval": 27.272727272727273
         },
         "value": 1
        },
        {
         "source": {
          "index": 28,
          "label": "h1,17",
          "label_display": "none",
          "px": 448.80878786875905,
          "py": 420.35138343623464,
          "shape": "circle",
          "shape_attrs": {
           "r": 15
          },
          "value": null,
          "weight": 22,
          "x": 448.8091799805161,
          "xval": 40,
          "y": 420.3610019925185,
          "yval": 19.047619047619047
         },
         "target": {
          "fixed": 0,
          "index": 40,
          "label": "h2,9",
          "label_display": "none",
          "px": 541.8789771051929,
          "py": 399.51769602374225,
          "shape": "circle",
          "shape_attrs": {
           "r": 15
          },
          "value": null,
          "weight": 21,
          "x": 541.8789771051929,
          "xval": 60,
          "y": 399.51769602374225,
          "yval": 18.181818181818183
         },
         "value": 1
        },
        {
         "source": {
          "index": 28,
          "label": "h1,17",
          "label_display": "none",
          "px": 448.80878786875905,
          "py": 420.35138343623464,
          "shape": "circle",
          "shape_attrs": {
           "r": 15
          },
          "value": null,
          "weight": 22,
          "x": 448.8091799805161,
          "xval": 40,
          "y": 420.3610019925185,
          "yval": 19.047619047619047
         },
         "target": {
          "index": 41,
          "label": "h2,10",
          "label_display": "none",
          "px": 540.9635353553583,
          "py": 390.2506362665784,
          "shape": "circle",
          "shape_attrs": {
           "r": 15
          },
          "value": null,
          "weight": 21,
          "x": 541.0069568340803,
          "xval": 60,
          "y": 390.2620434189789,
          "yval": 9.090909090909092
         },
         "value": 1
        },
        {
         "source": {
          "index": 29,
          "label": "h1,18",
          "label_display": "none",
          "px": 446.66133336839465,
          "py": 412.06746080603597,
          "shape": "circle",
          "shape_attrs": {
           "r": 15
          },
          "value": null,
          "weight": 22,
          "x": 446.65836227806636,
          "xval": 40,
          "y": 412.06979862465556,
          "yval": 14.285714285714285
         },
         "target": {
          "fixed": 0,
          "index": 32,
          "label": "h2,1",
          "label_display": "none",
          "px": 348.4069633574117,
          "py": 408.76281398343616,
          "shape": "circle",
          "shape_attrs": {
           "r": 15
          },
          "value": null,
          "weight": 21,
          "x": 348.4069633574117,
          "xval": 60,
          "y": 408.76281398343616,
          "yval": 90.90909090909092
         },
         "value": 1
        },
        {
         "source": {
          "index": 29,
          "label": "h1,18",
          "label_display": "none",
          "px": 446.66133336839465,
          "py": 412.06746080603597,
          "shape": "circle",
          "shape_attrs": {
           "r": 15
          },
          "value": null,
          "weight": 22,
          "x": 446.65836227806636,
          "xval": 40,
          "y": 412.06979862465556,
          "yval": 14.285714285714285
         },
         "target": {
          "fixed": 0,
          "index": 33,
          "label": "h2,2",
          "label_display": "none",
          "px": 348.98267226676734,
          "py": 414.2410318591959,
          "shape": "circle",
          "shape_attrs": {
           "r": 15
          },
          "value": null,
          "weight": 21,
          "x": 348.98267226676734,
          "xval": 60,
          "y": 414.2410318591959,
          "yval": 81.81818181818183
         },
         "value": 1
        },
        {
         "source": {
          "index": 29,
          "label": "h1,18",
          "label_display": "none",
          "px": 446.66133336839465,
          "py": 412.06746080603597,
          "shape": "circle",
          "shape_attrs": {
           "r": 15
          },
          "value": null,
          "weight": 22,
          "x": 446.65836227806636,
          "xval": 40,
          "y": 412.06979862465556,
          "yval": 14.285714285714285
         },
         "target": {
          "fixed": 0,
          "index": 34,
          "label": "h2,3",
          "label_display": "none",
          "px": 537.4603229397491,
          "py": 374.0357973649497,
          "shape": "circle",
          "shape_attrs": {
           "r": 15
          },
          "value": null,
          "weight": 21,
          "x": 537.4603229397491,
          "xval": 60,
          "y": 374.0357973649497,
          "yval": 72.72727272727273
         },
         "value": 1
        },
        {
         "source": {
          "index": 29,
          "label": "h1,18",
          "label_display": "none",
          "px": 446.66133336839465,
          "py": 412.06746080603597,
          "shape": "circle",
          "shape_attrs": {
           "r": 15
          },
          "value": null,
          "weight": 22,
          "x": 446.65836227806636,
          "xval": 40,
          "y": 412.06979862465556,
          "yval": 14.285714285714285
         },
         "target": {
          "index": 35,
          "label": "h2,4",
          "label_display": "none",
          "px": 538.4970595658459,
          "py": 378.0861567241818,
          "shape": "circle",
          "shape_attrs": {
           "r": 15
          },
          "value": null,
          "weight": 21,
          "x": 538.5316781024794,
          "xval": 60,
          "y": 378.0560742106646,
          "yval": 63.63636363636364
         },
         "value": 1
        },
        {
         "source": {
          "index": 29,
          "label": "h1,18",
          "label_display": "none",
          "px": 446.66133336839465,
          "py": 412.06746080603597,
          "shape": "circle",
          "shape_attrs": {
           "r": 15
          },
          "value": null,
          "weight": 22,
          "x": 446.65836227806636,
          "xval": 40,
          "y": 412.06979862465556,
          "yval": 14.285714285714285
         },
         "target": {
          "index": 36,
          "label": "h2,5",
          "label_display": "none",
          "px": 541.9506789452461,
          "py": 405.2045046484753,
          "shape": "circle",
          "shape_attrs": {
           "r": 15
          },
          "value": null,
          "weight": 21,
          "x": 541.9919124283681,
          "xval": 60,
          "y": 405.2694016450591,
          "yval": 54.54545454545455
         },
         "value": 1
        },
        {
         "source": {
          "index": 29,
          "label": "h1,18",
          "label_display": "none",
          "px": 446.66133336839465,
          "py": 412.06746080603597,
          "shape": "circle",
          "shape_attrs": {
           "r": 15
          },
          "value": null,
          "weight": 22,
          "x": 446.65836227806636,
          "xval": 40,
          "y": 412.06979862465556,
          "yval": 14.285714285714285
         },
         "target": {
          "index": 37,
          "label": "h2,6",
          "label_display": "none",
          "px": 540.2884600965493,
          "py": 386.07667443285,
          "shape": "circle",
          "shape_attrs": {
           "r": 15
          },
          "value": null,
          "weight": 21,
          "x": 540.3296107385247,
          "xval": 60,
          "y": 386.0726175500124,
          "yval": 45.45454545454546
         },
         "value": 1
        },
        {
         "source": {
          "index": 29,
          "label": "h1,18",
          "label_display": "none",
          "px": 446.66133336839465,
          "py": 412.06746080603597,
          "shape": "circle",
          "shape_attrs": {
           "r": 15
          },
          "value": null,
          "weight": 22,
          "x": 446.65836227806636,
          "xval": 40,
          "y": 412.06979862465556,
          "yval": 14.285714285714285
         },
         "target": {
          "index": 38,
          "label": "h2,7",
          "label_display": "none",
          "px": 541.4812921164678,
          "py": 394.6419287169871,
          "shape": "circle",
          "shape_attrs": {
           "r": 15
          },
          "value": null,
          "weight": 21,
          "x": 541.5256498499048,
          "xval": 60,
          "y": 394.6711846016649,
          "yval": 36.36363636363637
         },
         "value": 1
        },
        {
         "source": {
          "index": 29,
          "label": "h1,18",
          "label_display": "none",
          "px": 446.66133336839465,
          "py": 412.06746080603597,
          "shape": "circle",
          "shape_attrs": {
           "r": 15
          },
          "value": null,
          "weight": 22,
          "x": 446.65836227806636,
          "xval": 40,
          "y": 412.06979862465556,
          "yval": 14.285714285714285
         },
         "target": {
          "index": 39,
          "label": "h2,8",
          "label_display": "none",
          "px": 539.4750872865833,
          "py": 382.06791160469925,
          "shape": "circle",
          "shape_attrs": {
           "r": 15
          },
          "value": null,
          "weight": 21,
          "x": 539.5135288298698,
          "xval": 60,
          "y": 382.05054442074044,
          "yval": 27.272727272727273
         },
         "value": 1
        },
        {
         "source": {
          "index": 29,
          "label": "h1,18",
          "label_display": "none",
          "px": 446.66133336839465,
          "py": 412.06746080603597,
          "shape": "circle",
          "shape_attrs": {
           "r": 15
          },
          "value": null,
          "weight": 22,
          "x": 446.65836227806636,
          "xval": 40,
          "y": 412.06979862465556,
          "yval": 14.285714285714285
         },
         "target": {
          "fixed": 0,
          "index": 40,
          "label": "h2,9",
          "label_display": "none",
          "px": 541.8789771051929,
          "py": 399.51769602374225,
          "shape": "circle",
          "shape_attrs": {
           "r": 15
          },
          "value": null,
          "weight": 21,
          "x": 541.8789771051929,
          "xval": 60,
          "y": 399.51769602374225,
          "yval": 18.181818181818183
         },
         "value": 1
        },
        {
         "source": {
          "index": 29,
          "label": "h1,18",
          "label_display": "none",
          "px": 446.66133336839465,
          "py": 412.06746080603597,
          "shape": "circle",
          "shape_attrs": {
           "r": 15
          },
          "value": null,
          "weight": 22,
          "x": 446.65836227806636,
          "xval": 40,
          "y": 412.06979862465556,
          "yval": 14.285714285714285
         },
         "target": {
          "index": 41,
          "label": "h2,10",
          "label_display": "none",
          "px": 540.9635353553583,
          "py": 390.2506362665784,
          "shape": "circle",
          "shape_attrs": {
           "r": 15
          },
          "value": null,
          "weight": 21,
          "x": 541.0069568340803,
          "xval": 60,
          "y": 390.2620434189789,
          "yval": 9.090909090909092
         },
         "value": 1
        },
        {
         "source": {
          "index": 30,
          "label": "h1,19",
          "label_display": "none",
          "px": 454.5331839788234,
          "py": 440.7353981371751,
          "shape": "circle",
          "shape_attrs": {
           "r": 15
          },
          "value": null,
          "weight": 22,
          "x": 454.57338727966345,
          "xval": 40,
          "y": 440.870029182474,
          "yval": 9.523809523809524
         },
         "target": {
          "fixed": 0,
          "index": 32,
          "label": "h2,1",
          "label_display": "none",
          "px": 348.4069633574117,
          "py": 408.76281398343616,
          "shape": "circle",
          "shape_attrs": {
           "r": 15
          },
          "value": null,
          "weight": 21,
          "x": 348.4069633574117,
          "xval": 60,
          "y": 408.76281398343616,
          "yval": 90.90909090909092
         },
         "value": 1
        },
        {
         "source": {
          "index": 30,
          "label": "h1,19",
          "label_display": "none",
          "px": 454.5331839788234,
          "py": 440.7353981371751,
          "shape": "circle",
          "shape_attrs": {
           "r": 15
          },
          "value": null,
          "weight": 22,
          "x": 454.57338727966345,
          "xval": 40,
          "y": 440.870029182474,
          "yval": 9.523809523809524
         },
         "target": {
          "fixed": 0,
          "index": 33,
          "label": "h2,2",
          "label_display": "none",
          "px": 348.98267226676734,
          "py": 414.2410318591959,
          "shape": "circle",
          "shape_attrs": {
           "r": 15
          },
          "value": null,
          "weight": 21,
          "x": 348.98267226676734,
          "xval": 60,
          "y": 414.2410318591959,
          "yval": 81.81818181818183
         },
         "value": 1
        },
        {
         "source": {
          "index": 30,
          "label": "h1,19",
          "label_display": "none",
          "px": 454.5331839788234,
          "py": 440.7353981371751,
          "shape": "circle",
          "shape_attrs": {
           "r": 15
          },
          "value": null,
          "weight": 22,
          "x": 454.57338727966345,
          "xval": 40,
          "y": 440.870029182474,
          "yval": 9.523809523809524
         },
         "target": {
          "fixed": 0,
          "index": 34,
          "label": "h2,3",
          "label_display": "none",
          "px": 537.4603229397491,
          "py": 374.0357973649497,
          "shape": "circle",
          "shape_attrs": {
           "r": 15
          },
          "value": null,
          "weight": 21,
          "x": 537.4603229397491,
          "xval": 60,
          "y": 374.0357973649497,
          "yval": 72.72727272727273
         },
         "value": 1
        },
        {
         "source": {
          "index": 30,
          "label": "h1,19",
          "label_display": "none",
          "px": 454.5331839788234,
          "py": 440.7353981371751,
          "shape": "circle",
          "shape_attrs": {
           "r": 15
          },
          "value": null,
          "weight": 22,
          "x": 454.57338727966345,
          "xval": 40,
          "y": 440.870029182474,
          "yval": 9.523809523809524
         },
         "target": {
          "index": 35,
          "label": "h2,4",
          "label_display": "none",
          "px": 538.4970595658459,
          "py": 378.0861567241818,
          "shape": "circle",
          "shape_attrs": {
           "r": 15
          },
          "value": null,
          "weight": 21,
          "x": 538.5316781024794,
          "xval": 60,
          "y": 378.0560742106646,
          "yval": 63.63636363636364
         },
         "value": 1
        },
        {
         "source": {
          "index": 30,
          "label": "h1,19",
          "label_display": "none",
          "px": 454.5331839788234,
          "py": 440.7353981371751,
          "shape": "circle",
          "shape_attrs": {
           "r": 15
          },
          "value": null,
          "weight": 22,
          "x": 454.57338727966345,
          "xval": 40,
          "y": 440.870029182474,
          "yval": 9.523809523809524
         },
         "target": {
          "index": 36,
          "label": "h2,5",
          "label_display": "none",
          "px": 541.9506789452461,
          "py": 405.2045046484753,
          "shape": "circle",
          "shape_attrs": {
           "r": 15
          },
          "value": null,
          "weight": 21,
          "x": 541.9919124283681,
          "xval": 60,
          "y": 405.2694016450591,
          "yval": 54.54545454545455
         },
         "value": 1
        },
        {
         "source": {
          "index": 30,
          "label": "h1,19",
          "label_display": "none",
          "px": 454.5331839788234,
          "py": 440.7353981371751,
          "shape": "circle",
          "shape_attrs": {
           "r": 15
          },
          "value": null,
          "weight": 22,
          "x": 454.57338727966345,
          "xval": 40,
          "y": 440.870029182474,
          "yval": 9.523809523809524
         },
         "target": {
          "index": 37,
          "label": "h2,6",
          "label_display": "none",
          "px": 540.2884600965493,
          "py": 386.07667443285,
          "shape": "circle",
          "shape_attrs": {
           "r": 15
          },
          "value": null,
          "weight": 21,
          "x": 540.3296107385247,
          "xval": 60,
          "y": 386.0726175500124,
          "yval": 45.45454545454546
         },
         "value": 1
        },
        {
         "source": {
          "index": 30,
          "label": "h1,19",
          "label_display": "none",
          "px": 454.5331839788234,
          "py": 440.7353981371751,
          "shape": "circle",
          "shape_attrs": {
           "r": 15
          },
          "value": null,
          "weight": 22,
          "x": 454.57338727966345,
          "xval": 40,
          "y": 440.870029182474,
          "yval": 9.523809523809524
         },
         "target": {
          "index": 38,
          "label": "h2,7",
          "label_display": "none",
          "px": 541.4812921164678,
          "py": 394.6419287169871,
          "shape": "circle",
          "shape_attrs": {
           "r": 15
          },
          "value": null,
          "weight": 21,
          "x": 541.5256498499048,
          "xval": 60,
          "y": 394.6711846016649,
          "yval": 36.36363636363637
         },
         "value": 1
        },
        {
         "source": {
          "index": 30,
          "label": "h1,19",
          "label_display": "none",
          "px": 454.5331839788234,
          "py": 440.7353981371751,
          "shape": "circle",
          "shape_attrs": {
           "r": 15
          },
          "value": null,
          "weight": 22,
          "x": 454.57338727966345,
          "xval": 40,
          "y": 440.870029182474,
          "yval": 9.523809523809524
         },
         "target": {
          "index": 39,
          "label": "h2,8",
          "label_display": "none",
          "px": 539.4750872865833,
          "py": 382.06791160469925,
          "shape": "circle",
          "shape_attrs": {
           "r": 15
          },
          "value": null,
          "weight": 21,
          "x": 539.5135288298698,
          "xval": 60,
          "y": 382.05054442074044,
          "yval": 27.272727272727273
         },
         "value": 1
        },
        {
         "source": {
          "index": 30,
          "label": "h1,19",
          "label_display": "none",
          "px": 454.5331839788234,
          "py": 440.7353981371751,
          "shape": "circle",
          "shape_attrs": {
           "r": 15
          },
          "value": null,
          "weight": 22,
          "x": 454.57338727966345,
          "xval": 40,
          "y": 440.870029182474,
          "yval": 9.523809523809524
         },
         "target": {
          "fixed": 0,
          "index": 40,
          "label": "h2,9",
          "label_display": "none",
          "px": 541.8789771051929,
          "py": 399.51769602374225,
          "shape": "circle",
          "shape_attrs": {
           "r": 15
          },
          "value": null,
          "weight": 21,
          "x": 541.8789771051929,
          "xval": 60,
          "y": 399.51769602374225,
          "yval": 18.181818181818183
         },
         "value": 1
        },
        {
         "source": {
          "index": 30,
          "label": "h1,19",
          "label_display": "none",
          "px": 454.5331839788234,
          "py": 440.7353981371751,
          "shape": "circle",
          "shape_attrs": {
           "r": 15
          },
          "value": null,
          "weight": 22,
          "x": 454.57338727966345,
          "xval": 40,
          "y": 440.870029182474,
          "yval": 9.523809523809524
         },
         "target": {
          "index": 41,
          "label": "h2,10",
          "label_display": "none",
          "px": 540.9635353553583,
          "py": 390.2506362665784,
          "shape": "circle",
          "shape_attrs": {
           "r": 15
          },
          "value": null,
          "weight": 21,
          "x": 541.0069568340803,
          "xval": 60,
          "y": 390.2620434189789,
          "yval": 9.090909090909092
         },
         "value": 1
        },
        {
         "source": {
          "index": 31,
          "label": "h1,20",
          "label_display": "none",
          "px": 452.51111853060013,
          "py": 433.8924336038177,
          "shape": "circle",
          "shape_attrs": {
           "r": 15
          },
          "value": null,
          "weight": 22,
          "x": 452.53198152903235,
          "xval": 40,
          "y": 433.96970392214837,
          "yval": 4.761904761904762
         },
         "target": {
          "fixed": 0,
          "index": 32,
          "label": "h2,1",
          "label_display": "none",
          "px": 348.4069633574117,
          "py": 408.76281398343616,
          "shape": "circle",
          "shape_attrs": {
           "r": 15
          },
          "value": null,
          "weight": 21,
          "x": 348.4069633574117,
          "xval": 60,
          "y": 408.76281398343616,
          "yval": 90.90909090909092
         },
         "value": 1
        },
        {
         "source": {
          "index": 31,
          "label": "h1,20",
          "label_display": "none",
          "px": 452.51111853060013,
          "py": 433.8924336038177,
          "shape": "circle",
          "shape_attrs": {
           "r": 15
          },
          "value": null,
          "weight": 22,
          "x": 452.53198152903235,
          "xval": 40,
          "y": 433.96970392214837,
          "yval": 4.761904761904762
         },
         "target": {
          "fixed": 0,
          "index": 33,
          "label": "h2,2",
          "label_display": "none",
          "px": 348.98267226676734,
          "py": 414.2410318591959,
          "shape": "circle",
          "shape_attrs": {
           "r": 15
          },
          "value": null,
          "weight": 21,
          "x": 348.98267226676734,
          "xval": 60,
          "y": 414.2410318591959,
          "yval": 81.81818181818183
         },
         "value": 1
        },
        {
         "source": {
          "index": 31,
          "label": "h1,20",
          "label_display": "none",
          "px": 452.51111853060013,
          "py": 433.8924336038177,
          "shape": "circle",
          "shape_attrs": {
           "r": 15
          },
          "value": null,
          "weight": 22,
          "x": 452.53198152903235,
          "xval": 40,
          "y": 433.96970392214837,
          "yval": 4.761904761904762
         },
         "target": {
          "fixed": 0,
          "index": 34,
          "label": "h2,3",
          "label_display": "none",
          "px": 537.4603229397491,
          "py": 374.0357973649497,
          "shape": "circle",
          "shape_attrs": {
           "r": 15
          },
          "value": null,
          "weight": 21,
          "x": 537.4603229397491,
          "xval": 60,
          "y": 374.0357973649497,
          "yval": 72.72727272727273
         },
         "value": 1
        },
        {
         "source": {
          "index": 31,
          "label": "h1,20",
          "label_display": "none",
          "px": 452.51111853060013,
          "py": 433.8924336038177,
          "shape": "circle",
          "shape_attrs": {
           "r": 15
          },
          "value": null,
          "weight": 22,
          "x": 452.53198152903235,
          "xval": 40,
          "y": 433.96970392214837,
          "yval": 4.761904761904762
         },
         "target": {
          "index": 35,
          "label": "h2,4",
          "label_display": "none",
          "px": 538.4970595658459,
          "py": 378.0861567241818,
          "shape": "circle",
          "shape_attrs": {
           "r": 15
          },
          "value": null,
          "weight": 21,
          "x": 538.5316781024794,
          "xval": 60,
          "y": 378.0560742106646,
          "yval": 63.63636363636364
         },
         "value": 1
        },
        {
         "source": {
          "index": 31,
          "label": "h1,20",
          "label_display": "none",
          "px": 452.51111853060013,
          "py": 433.8924336038177,
          "shape": "circle",
          "shape_attrs": {
           "r": 15
          },
          "value": null,
          "weight": 22,
          "x": 452.53198152903235,
          "xval": 40,
          "y": 433.96970392214837,
          "yval": 4.761904761904762
         },
         "target": {
          "index": 36,
          "label": "h2,5",
          "label_display": "none",
          "px": 541.9506789452461,
          "py": 405.2045046484753,
          "shape": "circle",
          "shape_attrs": {
           "r": 15
          },
          "value": null,
          "weight": 21,
          "x": 541.9919124283681,
          "xval": 60,
          "y": 405.2694016450591,
          "yval": 54.54545454545455
         },
         "value": 1
        },
        {
         "source": {
          "index": 31,
          "label": "h1,20",
          "label_display": "none",
          "px": 452.51111853060013,
          "py": 433.8924336038177,
          "shape": "circle",
          "shape_attrs": {
           "r": 15
          },
          "value": null,
          "weight": 22,
          "x": 452.53198152903235,
          "xval": 40,
          "y": 433.96970392214837,
          "yval": 4.761904761904762
         },
         "target": {
          "index": 37,
          "label": "h2,6",
          "label_display": "none",
          "px": 540.2884600965493,
          "py": 386.07667443285,
          "shape": "circle",
          "shape_attrs": {
           "r": 15
          },
          "value": null,
          "weight": 21,
          "x": 540.3296107385247,
          "xval": 60,
          "y": 386.0726175500124,
          "yval": 45.45454545454546
         },
         "value": 1
        },
        {
         "source": {
          "index": 31,
          "label": "h1,20",
          "label_display": "none",
          "px": 452.51111853060013,
          "py": 433.8924336038177,
          "shape": "circle",
          "shape_attrs": {
           "r": 15
          },
          "value": null,
          "weight": 22,
          "x": 452.53198152903235,
          "xval": 40,
          "y": 433.96970392214837,
          "yval": 4.761904761904762
         },
         "target": {
          "index": 38,
          "label": "h2,7",
          "label_display": "none",
          "px": 541.4812921164678,
          "py": 394.6419287169871,
          "shape": "circle",
          "shape_attrs": {
           "r": 15
          },
          "value": null,
          "weight": 21,
          "x": 541.5256498499048,
          "xval": 60,
          "y": 394.6711846016649,
          "yval": 36.36363636363637
         },
         "value": 1
        },
        {
         "source": {
          "index": 31,
          "label": "h1,20",
          "label_display": "none",
          "px": 452.51111853060013,
          "py": 433.8924336038177,
          "shape": "circle",
          "shape_attrs": {
           "r": 15
          },
          "value": null,
          "weight": 22,
          "x": 452.53198152903235,
          "xval": 40,
          "y": 433.96970392214837,
          "yval": 4.761904761904762
         },
         "target": {
          "index": 39,
          "label": "h2,8",
          "label_display": "none",
          "px": 539.4750872865833,
          "py": 382.06791160469925,
          "shape": "circle",
          "shape_attrs": {
           "r": 15
          },
          "value": null,
          "weight": 21,
          "x": 539.5135288298698,
          "xval": 60,
          "y": 382.05054442074044,
          "yval": 27.272727272727273
         },
         "value": 1
        },
        {
         "source": {
          "index": 31,
          "label": "h1,20",
          "label_display": "none",
          "px": 452.51111853060013,
          "py": 433.8924336038177,
          "shape": "circle",
          "shape_attrs": {
           "r": 15
          },
          "value": null,
          "weight": 22,
          "x": 452.53198152903235,
          "xval": 40,
          "y": 433.96970392214837,
          "yval": 4.761904761904762
         },
         "target": {
          "fixed": 0,
          "index": 40,
          "label": "h2,9",
          "label_display": "none",
          "px": 541.8789771051929,
          "py": 399.51769602374225,
          "shape": "circle",
          "shape_attrs": {
           "r": 15
          },
          "value": null,
          "weight": 21,
          "x": 541.8789771051929,
          "xval": 60,
          "y": 399.51769602374225,
          "yval": 18.181818181818183
         },
         "value": 1
        },
        {
         "source": {
          "index": 31,
          "label": "h1,20",
          "label_display": "none",
          "px": 452.51111853060013,
          "py": 433.8924336038177,
          "shape": "circle",
          "shape_attrs": {
           "r": 15
          },
          "value": null,
          "weight": 22,
          "x": 452.53198152903235,
          "xval": 40,
          "y": 433.96970392214837,
          "yval": 4.761904761904762
         },
         "target": {
          "index": 41,
          "label": "h2,10",
          "label_display": "none",
          "px": 540.9635353553583,
          "py": 390.2506362665784,
          "shape": "circle",
          "shape_attrs": {
           "r": 15
          },
          "value": null,
          "weight": 21,
          "x": 541.0069568340803,
          "xval": 60,
          "y": 390.2620434189789,
          "yval": 9.090909090909092
         },
         "value": 1
        },
        {
         "source": {
          "fixed": 0,
          "index": 32,
          "label": "h2,1",
          "label_display": "none",
          "px": 348.4069633574117,
          "py": 408.76281398343616,
          "shape": "circle",
          "shape_attrs": {
           "r": 15
          },
          "value": null,
          "weight": 21,
          "x": 348.4069633574117,
          "xval": 60,
          "y": 408.76281398343616,
          "yval": 90.90909090909092
         },
         "target": {
          "fixed": 0,
          "index": 42,
          "label": "y1",
          "label_display": "none",
          "px": 443.91449995168784,
          "py": 356.55700616411593,
          "shape": "circle",
          "shape_attrs": {
           "r": 15
          },
          "value": null,
          "weight": 10,
          "x": 443.91449995168784,
          "xval": 80,
          "y": 356.55700616411593,
          "yval": 50
         },
         "value": 1
        },
        {
         "source": {
          "fixed": 0,
          "index": 33,
          "label": "h2,2",
          "label_display": "none",
          "px": 348.98267226676734,
          "py": 414.2410318591959,
          "shape": "circle",
          "shape_attrs": {
           "r": 15
          },
          "value": null,
          "weight": 21,
          "x": 348.98267226676734,
          "xval": 60,
          "y": 414.2410318591959,
          "yval": 81.81818181818183
         },
         "target": {
          "fixed": 0,
          "index": 42,
          "label": "y1",
          "label_display": "none",
          "px": 443.91449995168784,
          "py": 356.55700616411593,
          "shape": "circle",
          "shape_attrs": {
           "r": 15
          },
          "value": null,
          "weight": 10,
          "x": 443.91449995168784,
          "xval": 80,
          "y": 356.55700616411593,
          "yval": 50
         },
         "value": 1
        },
        {
         "source": {
          "fixed": 0,
          "index": 34,
          "label": "h2,3",
          "label_display": "none",
          "px": 537.4603229397491,
          "py": 374.0357973649497,
          "shape": "circle",
          "shape_attrs": {
           "r": 15
          },
          "value": null,
          "weight": 21,
          "x": 537.4603229397491,
          "xval": 60,
          "y": 374.0357973649497,
          "yval": 72.72727272727273
         },
         "target": {
          "fixed": 0,
          "index": 42,
          "label": "y1",
          "label_display": "none",
          "px": 443.91449995168784,
          "py": 356.55700616411593,
          "shape": "circle",
          "shape_attrs": {
           "r": 15
          },
          "value": null,
          "weight": 10,
          "x": 443.91449995168784,
          "xval": 80,
          "y": 356.55700616411593,
          "yval": 50
         },
         "value": 1
        },
        {
         "source": {
          "index": 35,
          "label": "h2,4",
          "label_display": "none",
          "px": 538.4970595658459,
          "py": 378.0861567241818,
          "shape": "circle",
          "shape_attrs": {
           "r": 15
          },
          "value": null,
          "weight": 21,
          "x": 538.5316781024794,
          "xval": 60,
          "y": 378.0560742106646,
          "yval": 63.63636363636364
         },
         "target": {
          "fixed": 0,
          "index": 42,
          "label": "y1",
          "label_display": "none",
          "px": 443.91449995168784,
          "py": 356.55700616411593,
          "shape": "circle",
          "shape_attrs": {
           "r": 15
          },
          "value": null,
          "weight": 10,
          "x": 443.91449995168784,
          "xval": 80,
          "y": 356.55700616411593,
          "yval": 50
         },
         "value": 1
        },
        {
         "source": {
          "index": 36,
          "label": "h2,5",
          "label_display": "none",
          "px": 541.9506789452461,
          "py": 405.2045046484753,
          "shape": "circle",
          "shape_attrs": {
           "r": 15
          },
          "value": null,
          "weight": 21,
          "x": 541.9919124283681,
          "xval": 60,
          "y": 405.2694016450591,
          "yval": 54.54545454545455
         },
         "target": {
          "fixed": 0,
          "index": 42,
          "label": "y1",
          "label_display": "none",
          "px": 443.91449995168784,
          "py": 356.55700616411593,
          "shape": "circle",
          "shape_attrs": {
           "r": 15
          },
          "value": null,
          "weight": 10,
          "x": 443.91449995168784,
          "xval": 80,
          "y": 356.55700616411593,
          "yval": 50
         },
         "value": 1
        },
        {
         "source": {
          "index": 37,
          "label": "h2,6",
          "label_display": "none",
          "px": 540.2884600965493,
          "py": 386.07667443285,
          "shape": "circle",
          "shape_attrs": {
           "r": 15
          },
          "value": null,
          "weight": 21,
          "x": 540.3296107385247,
          "xval": 60,
          "y": 386.0726175500124,
          "yval": 45.45454545454546
         },
         "target": {
          "fixed": 0,
          "index": 42,
          "label": "y1",
          "label_display": "none",
          "px": 443.91449995168784,
          "py": 356.55700616411593,
          "shape": "circle",
          "shape_attrs": {
           "r": 15
          },
          "value": null,
          "weight": 10,
          "x": 443.91449995168784,
          "xval": 80,
          "y": 356.55700616411593,
          "yval": 50
         },
         "value": 1
        },
        {
         "source": {
          "index": 38,
          "label": "h2,7",
          "label_display": "none",
          "px": 541.4812921164678,
          "py": 394.6419287169871,
          "shape": "circle",
          "shape_attrs": {
           "r": 15
          },
          "value": null,
          "weight": 21,
          "x": 541.5256498499048,
          "xval": 60,
          "y": 394.6711846016649,
          "yval": 36.36363636363637
         },
         "target": {
          "fixed": 0,
          "index": 42,
          "label": "y1",
          "label_display": "none",
          "px": 443.91449995168784,
          "py": 356.55700616411593,
          "shape": "circle",
          "shape_attrs": {
           "r": 15
          },
          "value": null,
          "weight": 10,
          "x": 443.91449995168784,
          "xval": 80,
          "y": 356.55700616411593,
          "yval": 50
         },
         "value": 1
        },
        {
         "source": {
          "index": 39,
          "label": "h2,8",
          "label_display": "none",
          "px": 539.4750872865833,
          "py": 382.06791160469925,
          "shape": "circle",
          "shape_attrs": {
           "r": 15
          },
          "value": null,
          "weight": 21,
          "x": 539.5135288298698,
          "xval": 60,
          "y": 382.05054442074044,
          "yval": 27.272727272727273
         },
         "target": {
          "fixed": 0,
          "index": 42,
          "label": "y1",
          "label_display": "none",
          "px": 443.91449995168784,
          "py": 356.55700616411593,
          "shape": "circle",
          "shape_attrs": {
           "r": 15
          },
          "value": null,
          "weight": 10,
          "x": 443.91449995168784,
          "xval": 80,
          "y": 356.55700616411593,
          "yval": 50
         },
         "value": 1
        },
        {
         "source": {
          "fixed": 0,
          "index": 40,
          "label": "h2,9",
          "label_display": "none",
          "px": 541.8789771051929,
          "py": 399.51769602374225,
          "shape": "circle",
          "shape_attrs": {
           "r": 15
          },
          "value": null,
          "weight": 21,
          "x": 541.8789771051929,
          "xval": 60,
          "y": 399.51769602374225,
          "yval": 18.181818181818183
         },
         "target": {
          "fixed": 0,
          "index": 42,
          "label": "y1",
          "label_display": "none",
          "px": 443.91449995168784,
          "py": 356.55700616411593,
          "shape": "circle",
          "shape_attrs": {
           "r": 15
          },
          "value": null,
          "weight": 10,
          "x": 443.91449995168784,
          "xval": 80,
          "y": 356.55700616411593,
          "yval": 50
         },
         "value": 1
        },
        {
         "source": {
          "index": 41,
          "label": "h2,10",
          "label_display": "none",
          "px": 540.9635353553583,
          "py": 390.2506362665784,
          "shape": "circle",
          "shape_attrs": {
           "r": 15
          },
          "value": null,
          "weight": 21,
          "x": 541.0069568340803,
          "xval": 60,
          "y": 390.2620434189789,
          "yval": 9.090909090909092
         },
         "target": {
          "fixed": 0,
          "index": 42,
          "label": "y1",
          "label_display": "none",
          "px": 443.91449995168784,
          "py": 356.55700616411593,
          "shape": "circle",
          "shape_attrs": {
           "r": 15
          },
          "value": null,
          "weight": 10,
          "x": 443.91449995168784,
          "xval": 80,
          "y": 356.55700616411593,
          "yval": 50
         },
         "value": 1
        }
       ],
       "link_distance": 100,
       "link_matrix": {
        "type": "float",
        "values": [
         [
          null,
          null,
          null,
          null,
          null,
          null,
          null,
          null,
          null,
          null,
          null,
          null,
          1,
          1,
          1,
          1,
          1,
          1,
          1,
          1,
          1,
          1,
          1,
          1,
          1,
          1,
          1,
          1,
          1,
          1,
          1,
          1,
          null,
          null,
          null,
          null,
          null,
          null,
          null,
          null,
          null,
          null,
          null
         ],
         [
          null,
          null,
          null,
          null,
          null,
          null,
          null,
          null,
          null,
          null,
          null,
          null,
          1,
          1,
          1,
          1,
          1,
          1,
          1,
          1,
          1,
          1,
          1,
          1,
          1,
          1,
          1,
          1,
          1,
          1,
          1,
          1,
          null,
          null,
          null,
          null,
          null,
          null,
          null,
          null,
          null,
          null,
          null
         ],
         [
          null,
          null,
          null,
          null,
          null,
          null,
          null,
          null,
          null,
          null,
          null,
          null,
          1,
          1,
          1,
          1,
          1,
          1,
          1,
          1,
          1,
          1,
          1,
          1,
          1,
          1,
          1,
          1,
          1,
          1,
          1,
          1,
          null,
          null,
          null,
          null,
          null,
          null,
          null,
          null,
          null,
          null,
          null
         ],
         [
          null,
          null,
          null,
          null,
          null,
          null,
          null,
          null,
          null,
          null,
          null,
          null,
          1,
          1,
          1,
          1,
          1,
          1,
          1,
          1,
          1,
          1,
          1,
          1,
          1,
          1,
          1,
          1,
          1,
          1,
          1,
          1,
          null,
          null,
          null,
          null,
          null,
          null,
          null,
          null,
          null,
          null,
          null
         ],
         [
          null,
          null,
          null,
          null,
          null,
          null,
          null,
          null,
          null,
          null,
          null,
          null,
          1,
          1,
          1,
          1,
          1,
          1,
          1,
          1,
          1,
          1,
          1,
          1,
          1,
          1,
          1,
          1,
          1,
          1,
          1,
          1,
          null,
          null,
          null,
          null,
          null,
          null,
          null,
          null,
          null,
          null,
          null
         ],
         [
          null,
          null,
          null,
          null,
          null,
          null,
          null,
          null,
          null,
          null,
          null,
          null,
          1,
          1,
          1,
          1,
          1,
          1,
          1,
          1,
          1,
          1,
          1,
          1,
          1,
          1,
          1,
          1,
          1,
          1,
          1,
          1,
          null,
          null,
          null,
          null,
          null,
          null,
          null,
          null,
          null,
          null,
          null
         ],
         [
          null,
          null,
          null,
          null,
          null,
          null,
          null,
          null,
          null,
          null,
          null,
          null,
          1,
          1,
          1,
          1,
          1,
          1,
          1,
          1,
          1,
          1,
          1,
          1,
          1,
          1,
          1,
          1,
          1,
          1,
          1,
          1,
          null,
          null,
          null,
          null,
          null,
          null,
          null,
          null,
          null,
          null,
          null
         ],
         [
          null,
          null,
          null,
          null,
          null,
          null,
          null,
          null,
          null,
          null,
          null,
          null,
          1,
          1,
          1,
          1,
          1,
          1,
          1,
          1,
          1,
          1,
          1,
          1,
          1,
          1,
          1,
          1,
          1,
          1,
          1,
          1,
          null,
          null,
          null,
          null,
          null,
          null,
          null,
          null,
          null,
          null,
          null
         ],
         [
          null,
          null,
          null,
          null,
          null,
          null,
          null,
          null,
          null,
          null,
          null,
          null,
          1,
          1,
          1,
          1,
          1,
          1,
          1,
          1,
          1,
          1,
          1,
          1,
          1,
          1,
          1,
          1,
          1,
          1,
          1,
          1,
          null,
          null,
          null,
          null,
          null,
          null,
          null,
          null,
          null,
          null,
          null
         ],
         [
          null,
          null,
          null,
          null,
          null,
          null,
          null,
          null,
          null,
          null,
          null,
          null,
          1,
          1,
          1,
          1,
          1,
          1,
          1,
          1,
          1,
          1,
          1,
          1,
          1,
          1,
          1,
          1,
          1,
          1,
          1,
          1,
          null,
          null,
          null,
          null,
          null,
          null,
          null,
          null,
          null,
          null,
          null
         ],
         [
          null,
          null,
          null,
          null,
          null,
          null,
          null,
          null,
          null,
          null,
          null,
          null,
          1,
          1,
          1,
          1,
          1,
          1,
          1,
          1,
          1,
          1,
          1,
          1,
          1,
          1,
          1,
          1,
          1,
          1,
          1,
          1,
          null,
          null,
          null,
          null,
          null,
          null,
          null,
          null,
          null,
          null,
          null
         ],
         [
          null,
          null,
          null,
          null,
          null,
          null,
          null,
          null,
          null,
          null,
          null,
          null,
          1,
          1,
          1,
          1,
          1,
          1,
          1,
          1,
          1,
          1,
          1,
          1,
          1,
          1,
          1,
          1,
          1,
          1,
          1,
          1,
          null,
          null,
          null,
          null,
          null,
          null,
          null,
          null,
          null,
          null,
          null
         ],
         [
          null,
          null,
          null,
          null,
          null,
          null,
          null,
          null,
          null,
          null,
          null,
          null,
          null,
          null,
          null,
          null,
          null,
          null,
          null,
          null,
          null,
          null,
          null,
          null,
          null,
          null,
          null,
          null,
          null,
          null,
          null,
          null,
          1,
          1,
          1,
          1,
          1,
          1,
          1,
          1,
          1,
          1,
          null
         ],
         [
          null,
          null,
          null,
          null,
          null,
          null,
          null,
          null,
          null,
          null,
          null,
          null,
          null,
          null,
          null,
          null,
          null,
          null,
          null,
          null,
          null,
          null,
          null,
          null,
          null,
          null,
          null,
          null,
          null,
          null,
          null,
          null,
          1,
          1,
          1,
          1,
          1,
          1,
          1,
          1,
          1,
          1,
          null
         ],
         [
          null,
          null,
          null,
          null,
          null,
          null,
          null,
          null,
          null,
          null,
          null,
          null,
          null,
          null,
          null,
          null,
          null,
          null,
          null,
          null,
          null,
          null,
          null,
          null,
          null,
          null,
          null,
          null,
          null,
          null,
          null,
          null,
          1,
          1,
          1,
          1,
          1,
          1,
          1,
          1,
          1,
          1,
          null
         ],
         [
          null,
          null,
          null,
          null,
          null,
          null,
          null,
          null,
          null,
          null,
          null,
          null,
          null,
          null,
          null,
          null,
          null,
          null,
          null,
          null,
          null,
          null,
          null,
          null,
          null,
          null,
          null,
          null,
          null,
          null,
          null,
          null,
          1,
          1,
          1,
          1,
          1,
          1,
          1,
          1,
          1,
          1,
          null
         ],
         [
          null,
          null,
          null,
          null,
          null,
          null,
          null,
          null,
          null,
          null,
          null,
          null,
          null,
          null,
          null,
          null,
          null,
          null,
          null,
          null,
          null,
          null,
          null,
          null,
          null,
          null,
          null,
          null,
          null,
          null,
          null,
          null,
          1,
          1,
          1,
          1,
          1,
          1,
          1,
          1,
          1,
          1,
          null
         ],
         [
          null,
          null,
          null,
          null,
          null,
          null,
          null,
          null,
          null,
          null,
          null,
          null,
          null,
          null,
          null,
          null,
          null,
          null,
          null,
          null,
          null,
          null,
          null,
          null,
          null,
          null,
          null,
          null,
          null,
          null,
          null,
          null,
          1,
          1,
          1,
          1,
          1,
          1,
          1,
          1,
          1,
          1,
          null
         ],
         [
          null,
          null,
          null,
          null,
          null,
          null,
          null,
          null,
          null,
          null,
          null,
          null,
          null,
          null,
          null,
          null,
          null,
          null,
          null,
          null,
          null,
          null,
          null,
          null,
          null,
          null,
          null,
          null,
          null,
          null,
          null,
          null,
          1,
          1,
          1,
          1,
          1,
          1,
          1,
          1,
          1,
          1,
          null
         ],
         [
          null,
          null,
          null,
          null,
          null,
          null,
          null,
          null,
          null,
          null,
          null,
          null,
          null,
          null,
          null,
          null,
          null,
          null,
          null,
          null,
          null,
          null,
          null,
          null,
          null,
          null,
          null,
          null,
          null,
          null,
          null,
          null,
          1,
          1,
          1,
          1,
          1,
          1,
          1,
          1,
          1,
          1,
          null
         ],
         [
          null,
          null,
          null,
          null,
          null,
          null,
          null,
          null,
          null,
          null,
          null,
          null,
          null,
          null,
          null,
          null,
          null,
          null,
          null,
          null,
          null,
          null,
          null,
          null,
          null,
          null,
          null,
          null,
          null,
          null,
          null,
          null,
          1,
          1,
          1,
          1,
          1,
          1,
          1,
          1,
          1,
          1,
          null
         ],
         [
          null,
          null,
          null,
          null,
          null,
          null,
          null,
          null,
          null,
          null,
          null,
          null,
          null,
          null,
          null,
          null,
          null,
          null,
          null,
          null,
          null,
          null,
          null,
          null,
          null,
          null,
          null,
          null,
          null,
          null,
          null,
          null,
          1,
          1,
          1,
          1,
          1,
          1,
          1,
          1,
          1,
          1,
          null
         ],
         [
          null,
          null,
          null,
          null,
          null,
          null,
          null,
          null,
          null,
          null,
          null,
          null,
          null,
          null,
          null,
          null,
          null,
          null,
          null,
          null,
          null,
          null,
          null,
          null,
          null,
          null,
          null,
          null,
          null,
          null,
          null,
          null,
          1,
          1,
          1,
          1,
          1,
          1,
          1,
          1,
          1,
          1,
          null
         ],
         [
          null,
          null,
          null,
          null,
          null,
          null,
          null,
          null,
          null,
          null,
          null,
          null,
          null,
          null,
          null,
          null,
          null,
          null,
          null,
          null,
          null,
          null,
          null,
          null,
          null,
          null,
          null,
          null,
          null,
          null,
          null,
          null,
          1,
          1,
          1,
          1,
          1,
          1,
          1,
          1,
          1,
          1,
          null
         ],
         [
          null,
          null,
          null,
          null,
          null,
          null,
          null,
          null,
          null,
          null,
          null,
          null,
          null,
          null,
          null,
          null,
          null,
          null,
          null,
          null,
          null,
          null,
          null,
          null,
          null,
          null,
          null,
          null,
          null,
          null,
          null,
          null,
          1,
          1,
          1,
          1,
          1,
          1,
          1,
          1,
          1,
          1,
          null
         ],
         [
          null,
          null,
          null,
          null,
          null,
          null,
          null,
          null,
          null,
          null,
          null,
          null,
          null,
          null,
          null,
          null,
          null,
          null,
          null,
          null,
          null,
          null,
          null,
          null,
          null,
          null,
          null,
          null,
          null,
          null,
          null,
          null,
          1,
          1,
          1,
          1,
          1,
          1,
          1,
          1,
          1,
          1,
          null
         ],
         [
          null,
          null,
          null,
          null,
          null,
          null,
          null,
          null,
          null,
          null,
          null,
          null,
          null,
          null,
          null,
          null,
          null,
          null,
          null,
          null,
          null,
          null,
          null,
          null,
          null,
          null,
          null,
          null,
          null,
          null,
          null,
          null,
          1,
          1,
          1,
          1,
          1,
          1,
          1,
          1,
          1,
          1,
          null
         ],
         [
          null,
          null,
          null,
          null,
          null,
          null,
          null,
          null,
          null,
          null,
          null,
          null,
          null,
          null,
          null,
          null,
          null,
          null,
          null,
          null,
          null,
          null,
          null,
          null,
          null,
          null,
          null,
          null,
          null,
          null,
          null,
          null,
          1,
          1,
          1,
          1,
          1,
          1,
          1,
          1,
          1,
          1,
          null
         ],
         [
          null,
          null,
          null,
          null,
          null,
          null,
          null,
          null,
          null,
          null,
          null,
          null,
          null,
          null,
          null,
          null,
          null,
          null,
          null,
          null,
          null,
          null,
          null,
          null,
          null,
          null,
          null,
          null,
          null,
          null,
          null,
          null,
          1,
          1,
          1,
          1,
          1,
          1,
          1,
          1,
          1,
          1,
          null
         ],
         [
          null,
          null,
          null,
          null,
          null,
          null,
          null,
          null,
          null,
          null,
          null,
          null,
          null,
          null,
          null,
          null,
          null,
          null,
          null,
          null,
          null,
          null,
          null,
          null,
          null,
          null,
          null,
          null,
          null,
          null,
          null,
          null,
          1,
          1,
          1,
          1,
          1,
          1,
          1,
          1,
          1,
          1,
          null
         ],
         [
          null,
          null,
          null,
          null,
          null,
          null,
          null,
          null,
          null,
          null,
          null,
          null,
          null,
          null,
          null,
          null,
          null,
          null,
          null,
          null,
          null,
          null,
          null,
          null,
          null,
          null,
          null,
          null,
          null,
          null,
          null,
          null,
          1,
          1,
          1,
          1,
          1,
          1,
          1,
          1,
          1,
          1,
          null
         ],
         [
          null,
          null,
          null,
          null,
          null,
          null,
          null,
          null,
          null,
          null,
          null,
          null,
          null,
          null,
          null,
          null,
          null,
          null,
          null,
          null,
          null,
          null,
          null,
          null,
          null,
          null,
          null,
          null,
          null,
          null,
          null,
          null,
          1,
          1,
          1,
          1,
          1,
          1,
          1,
          1,
          1,
          1,
          null
         ],
         [
          null,
          null,
          null,
          null,
          null,
          null,
          null,
          null,
          null,
          null,
          null,
          null,
          null,
          null,
          null,
          null,
          null,
          null,
          null,
          null,
          null,
          null,
          null,
          null,
          null,
          null,
          null,
          null,
          null,
          null,
          null,
          null,
          null,
          null,
          null,
          null,
          null,
          null,
          null,
          null,
          null,
          null,
          1
         ],
         [
          null,
          null,
          null,
          null,
          null,
          null,
          null,
          null,
          null,
          null,
          null,
          null,
          null,
          null,
          null,
          null,
          null,
          null,
          null,
          null,
          null,
          null,
          null,
          null,
          null,
          null,
          null,
          null,
          null,
          null,
          null,
          null,
          null,
          null,
          null,
          null,
          null,
          null,
          null,
          null,
          null,
          null,
          1
         ],
         [
          null,
          null,
          null,
          null,
          null,
          null,
          null,
          null,
          null,
          null,
          null,
          null,
          null,
          null,
          null,
          null,
          null,
          null,
          null,
          null,
          null,
          null,
          null,
          null,
          null,
          null,
          null,
          null,
          null,
          null,
          null,
          null,
          null,
          null,
          null,
          null,
          null,
          null,
          null,
          null,
          null,
          null,
          1
         ],
         [
          null,
          null,
          null,
          null,
          null,
          null,
          null,
          null,
          null,
          null,
          null,
          null,
          null,
          null,
          null,
          null,
          null,
          null,
          null,
          null,
          null,
          null,
          null,
          null,
          null,
          null,
          null,
          null,
          null,
          null,
          null,
          null,
          null,
          null,
          null,
          null,
          null,
          null,
          null,
          null,
          null,
          null,
          1
         ],
         [
          null,
          null,
          null,
          null,
          null,
          null,
          null,
          null,
          null,
          null,
          null,
          null,
          null,
          null,
          null,
          null,
          null,
          null,
          null,
          null,
          null,
          null,
          null,
          null,
          null,
          null,
          null,
          null,
          null,
          null,
          null,
          null,
          null,
          null,
          null,
          null,
          null,
          null,
          null,
          null,
          null,
          null,
          1
         ],
         [
          null,
          null,
          null,
          null,
          null,
          null,
          null,
          null,
          null,
          null,
          null,
          null,
          null,
          null,
          null,
          null,
          null,
          null,
          null,
          null,
          null,
          null,
          null,
          null,
          null,
          null,
          null,
          null,
          null,
          null,
          null,
          null,
          null,
          null,
          null,
          null,
          null,
          null,
          null,
          null,
          null,
          null,
          1
         ],
         [
          null,
          null,
          null,
          null,
          null,
          null,
          null,
          null,
          null,
          null,
          null,
          null,
          null,
          null,
          null,
          null,
          null,
          null,
          null,
          null,
          null,
          null,
          null,
          null,
          null,
          null,
          null,
          null,
          null,
          null,
          null,
          null,
          null,
          null,
          null,
          null,
          null,
          null,
          null,
          null,
          null,
          null,
          1
         ],
         [
          null,
          null,
          null,
          null,
          null,
          null,
          null,
          null,
          null,
          null,
          null,
          null,
          null,
          null,
          null,
          null,
          null,
          null,
          null,
          null,
          null,
          null,
          null,
          null,
          null,
          null,
          null,
          null,
          null,
          null,
          null,
          null,
          null,
          null,
          null,
          null,
          null,
          null,
          null,
          null,
          null,
          null,
          1
         ],
         [
          null,
          null,
          null,
          null,
          null,
          null,
          null,
          null,
          null,
          null,
          null,
          null,
          null,
          null,
          null,
          null,
          null,
          null,
          null,
          null,
          null,
          null,
          null,
          null,
          null,
          null,
          null,
          null,
          null,
          null,
          null,
          null,
          null,
          null,
          null,
          null,
          null,
          null,
          null,
          null,
          null,
          null,
          1
         ],
         [
          null,
          null,
          null,
          null,
          null,
          null,
          null,
          null,
          null,
          null,
          null,
          null,
          null,
          null,
          null,
          null,
          null,
          null,
          null,
          null,
          null,
          null,
          null,
          null,
          null,
          null,
          null,
          null,
          null,
          null,
          null,
          null,
          null,
          null,
          null,
          null,
          null,
          null,
          null,
          null,
          null,
          null,
          1
         ],
         [
          null,
          null,
          null,
          null,
          null,
          null,
          null,
          null,
          null,
          null,
          null,
          null,
          null,
          null,
          null,
          null,
          null,
          null,
          null,
          null,
          null,
          null,
          null,
          null,
          null,
          null,
          null,
          null,
          null,
          null,
          null,
          null,
          null,
          null,
          null,
          null,
          null,
          null,
          null,
          null,
          null,
          null,
          null
         ]
        ]
       },
       "link_type": "line",
       "msg_throttle": 1,
       "node_data": [
        {
         "fixed": 0,
         "index": 0,
         "label": "x1",
         "label_display": "none",
         "px": 529.101806297863,
         "py": 355.7203247943226,
         "shape": "circle",
         "shape_attrs": {
          "r": 15
         },
         "value": null,
         "weight": 20,
         "x": 529.101806297863,
         "xval": 20,
         "y": 355.7203247943226,
         "yval": 92.3076923076923
        },
        {
         "index": 1,
         "label": "x2",
         "label_display": "none",
         "px": 531.8832380514635,
         "py": 361.09275997017016,
         "shape": "circle",
         "shape_attrs": {
          "r": 15
         },
         "value": null,
         "weight": 20,
         "x": 531.8893505016846,
         "xval": 20,
         "y": 361.0113644764516,
         "yval": 84.61538461538461
        },
        {
         "fixed": 0,
         "index": 2,
         "label": "x3",
         "label_display": "none",
         "px": 534.0063735013048,
         "py": 365.6184188767283,
         "shape": "circle",
         "shape_attrs": {
          "r": 15
         },
         "value": null,
         "weight": 20,
         "x": 534.0063735013048,
         "xval": 20,
         "y": 365.6184188767283,
         "yval": 76.92307692307692
        },
        {
         "index": 3,
         "label": "x4",
         "label_display": "none",
         "px": 535.660900262516,
         "py": 369.99225384771086,
         "shape": "circle",
         "shape_attrs": {
          "r": 15
         },
         "value": null,
         "weight": 20,
         "x": 535.6813683424843,
         "xval": 20,
         "y": 369.9379113606251,
         "yval": 69.23076923076923
        },
        {
         "index": 4,
         "label": "x5",
         "label_display": "none",
         "px": 349.27806531366787,
         "py": 419.79204133732895,
         "shape": "circle",
         "shape_attrs": {
          "r": 15
         },
         "value": null,
         "weight": 20,
         "x": 349.2334300496466,
         "xval": 20,
         "y": 419.7893909849638,
         "yval": 61.53846153846154
        },
        {
         "fixed": 0,
         "index": 5,
         "label": "x6",
         "label_display": "none",
         "px": 347.9242179952878,
         "py": 403.0316697786804,
         "shape": "circle",
         "shape_attrs": {
          "r": 15
         },
         "value": null,
         "weight": 20,
         "x": 347.87171205703646,
         "xval": 20,
         "y": 403.02724575949105,
         "yval": 53.84615384615385
        },
        {
         "index": 6,
         "label": "x7",
         "label_display": "none",
         "px": 354.2538696234675,
         "py": 438.5097584805723,
         "shape": "circle",
         "shape_attrs": {
          "r": 15
         },
         "value": null,
         "weight": 20,
         "x": 354.2313541770172,
         "xval": 20,
         "y": 438.56414739258605,
         "yval": 46.15384615384615
        },
        {
         "index": 7,
         "label": "x8",
         "label_display": "none",
         "px": 356.22057362840934,
         "py": 443.45571635538505,
         "shape": "circle",
         "shape_attrs": {
          "r": 15
         },
         "value": null,
         "weight": 20,
         "x": 356.2072062248934,
         "xval": 20,
         "y": 443.5252069713679,
         "yval": 38.46153846153846
        },
        {
         "index": 8,
         "label": "x9",
         "label_display": "none",
         "px": 358.8291461241985,
         "py": 449.07773963324667,
         "shape": "circle",
         "shape_attrs": {
          "r": 15
         },
         "value": null,
         "weight": 20,
         "x": 358.8271265687761,
         "xval": 20,
         "y": 449.1618443720512,
         "yval": 30.76923076923077
        },
        {
         "index": 9,
         "label": "x10",
         "label_display": "none",
         "px": 350.2348409036163,
         "py": 424.5967295664436,
         "shape": "circle",
         "shape_attrs": {
          "r": 15
         },
         "value": null,
         "weight": 20,
         "x": 350.1955683056573,
         "xval": 20,
         "y": 424.60863574141325,
         "yval": 23.076923076923077
        },
        {
         "index": 10,
         "label": "x11",
         "label_display": "none",
         "px": 351.34055233776166,
         "py": 429.23557739439275,
         "shape": "circle",
         "shape_attrs": {
          "r": 15
         },
         "value": null,
         "weight": 20,
         "x": 351.3057445861824,
         "xval": 20,
         "y": 429.26248221265405,
         "yval": 15.384615384615385
        },
        {
         "index": 11,
         "label": "x12",
         "label_display": "none",
         "px": 352.6686766055288,
         "py": 433.8364505361106,
         "shape": "circle",
         "shape_attrs": {
          "r": 15
         },
         "value": null,
         "weight": 20,
         "x": 352.63949182740373,
         "xval": 20,
         "y": 433.8773686865644,
         "yval": 7.6923076923076925
        },
        {
         "fixed": 0,
         "index": 12,
         "label": "h1,1",
         "label_display": "none",
         "px": 438.30653773859984,
         "py": 377.7211018453636,
         "shape": "circle",
         "shape_attrs": {
          "r": 15
         },
         "value": null,
         "weight": 22,
         "x": 438.30653773859984,
         "xval": 40,
         "y": 377.7211018453636,
         "yval": 95.23809523809524
        },
        {
         "fixed": 0,
         "index": 13,
         "label": "h1,2",
         "label_display": "none",
         "px": 445.4830710949258,
         "py": 407.40580969271514,
         "shape": "circle",
         "shape_attrs": {
          "r": 15
         },
         "value": null,
         "weight": 22,
         "x": 445.4830710949258,
         "xval": 40,
         "y": 407.40580969271514,
         "yval": 90.47619047619048
        },
        {
         "fixed": 0,
         "index": 14,
         "label": "h1,3",
         "label_display": "none",
         "px": 440.09389561772593,
         "py": 384.9913547714818,
         "shape": "circle",
         "shape_attrs": {
          "r": 15
         },
         "value": null,
         "weight": 22,
         "x": 440.09389561772593,
         "xval": 40,
         "y": 384.9913547714818,
         "yval": 85.71428571428571
        },
        {
         "index": 15,
         "label": "h1,4",
         "label_display": "none",
         "px": 442.03390585799406,
         "py": 393.18624031821906,
         "shape": "circle",
         "shape_attrs": {
          "r": 15
         },
         "value": null,
         "weight": 22,
         "x": 442.0252187451049,
         "xval": 40,
         "y": 393.18099926055953,
         "yval": 80.95238095238095
        },
        {
         "fixed": 0,
         "index": 16,
         "label": "h1,5",
         "label_display": "none",
         "px": 439.3038323400098,
         "py": 381.26898657152276,
         "shape": "circle",
         "shape_attrs": {
          "r": 15
         },
         "value": null,
         "weight": 22,
         "x": 439.3038323400098,
         "xval": 40,
         "y": 381.26898657152276,
         "yval": 76.19047619047619
        },
        {
         "index": 17,
         "label": "h1,6",
         "label_display": "none",
         "px": 436.1763853376012,
         "py": 367.0391092191069,
         "shape": "circle",
         "shape_attrs": {
          "r": 15
         },
         "value": null,
         "weight": 22,
         "x": 436.1319756129927,
         "xval": 40,
         "y": 366.9193372066237,
         "yval": 71.42857142857143
        },
        {
         "index": 18,
         "label": "h1,7",
         "label_display": "none",
         "px": 444.28747307460884,
         "py": 402.5857074144147,
         "shape": "circle",
         "shape_attrs": {
          "r": 15
         },
         "value": null,
         "weight": 22,
         "x": 444.28189322820117,
         "xval": 40,
         "y": 402.5864217166488,
         "yval": 66.66666666666667
        },
        {
         "index": 19,
         "label": "h1,8",
         "label_display": "none",
         "px": 436.96694163354766,
         "py": 370.835219648978,
         "shape": "circle",
         "shape_attrs": {
          "r": 15
         },
         "value": null,
         "weight": 22,
         "x": 436.93081668870667,
         "xval": 40,
         "y": 370.7487234007221,
         "yval": 61.904761904761905
        },
        {
         "index": 20,
         "label": "h1,9",
         "label_display": "none",
         "px": 443.12903262452926,
         "py": 397.77183731760726,
         "shape": "circle",
         "shape_attrs": {
          "r": 15
         },
         "value": null,
         "weight": 22,
         "x": 443.1225250371738,
         "xval": 40,
         "y": 397.77048960247726,
         "yval": 57.14285714285714
        },
        {
         "index": 21,
         "label": "h1,10",
         "label_display": "none",
         "px": 453.47719733511025,
         "py": 437.1791317957166,
         "shape": "circle",
         "shape_attrs": {
          "r": 15
         },
         "value": null,
         "weight": 22,
         "x": 453.50705008596486,
         "xval": 40,
         "y": 437.28186603254966,
         "yval": 52.38095238095238
        },
        {
         "index": 22,
         "label": "h1,11",
         "label_display": "none",
         "px": 450.6931880317312,
         "py": 427.36854915169533,
         "shape": "circle",
         "shape_attrs": {
          "r": 15
         },
         "value": null,
         "weight": 22,
         "x": 450.70224459711284,
         "xval": 40,
         "y": 427.40707742900895,
         "yval": 47.61904761904762
        },
        {
         "index": 23,
         "label": "h1,12",
         "label_display": "none",
         "px": 451.616956869591,
         "py": 430.68399636795544,
         "shape": "circle",
         "shape_attrs": {
          "r": 15
         },
         "value": null,
         "weight": 22,
         "x": 451.6308613454441,
         "xval": 40,
         "y": 430.73607807474326,
         "yval": 42.857142857142854
        },
        {
         "index": 24,
         "label": "h1,13",
         "label_display": "none",
         "px": 449.7701933541918,
         "py": 423.95395938325044,
         "shape": "circle",
         "shape_attrs": {
          "r": 15
         },
         "value": null,
         "weight": 22,
         "x": 449.77543161498545,
         "xval": 40,
         "y": 423.979666438766,
         "yval": 38.095238095238095
        },
        {
         "index": 25,
         "label": "h1,14",
         "label_display": "none",
         "px": 447.77652249109667,
         "py": 416.4027794386295,
         "shape": "circle",
         "shape_attrs": {
          "r": 15
         },
         "value": null,
         "weight": 22,
         "x": 447.77533228674633,
         "xval": 40,
         "y": 416.4089800756498,
         "yval": 33.333333333333336
        },
        {
         "fixed": 0,
         "index": 26,
         "label": "h1,15",
         "label_display": "none",
         "px": 437.84986949367203,
         "py": 374.25132654913494,
         "shape": "circle",
         "shape_attrs": {
          "r": 15
         },
         "value": null,
         "weight": 22,
         "x": 437.84986949367203,
         "xval": 40,
         "y": 374.25132654913494,
         "yval": 28.57142857142857
        },
        {
         "index": 27,
         "label": "h1,16",
         "label_display": "none",
         "px": 441.03312194188425,
         "py": 388.9301428056495,
         "shape": "circle",
         "shape_attrs": {
          "r": 15
         },
         "value": null,
         "weight": 22,
         "x": 441.0223311760983,
         "xval": 40,
         "y": 388.9201492326303,
         "yval": 23.80952380952381
        },
        {
         "index": 28,
         "label": "h1,17",
         "label_display": "none",
         "px": 448.80878786875905,
         "py": 420.35138343623464,
         "shape": "circle",
         "shape_attrs": {
          "r": 15
         },
         "value": null,
         "weight": 22,
         "x": 448.8091799805161,
         "xval": 40,
         "y": 420.3610019925185,
         "yval": 19.047619047619047
        },
        {
         "index": 29,
         "label": "h1,18",
         "label_display": "none",
         "px": 446.66133336839465,
         "py": 412.06746080603597,
         "shape": "circle",
         "shape_attrs": {
          "r": 15
         },
         "value": null,
         "weight": 22,
         "x": 446.65836227806636,
         "xval": 40,
         "y": 412.06979862465556,
         "yval": 14.285714285714285
        },
        {
         "index": 30,
         "label": "h1,19",
         "label_display": "none",
         "px": 454.5331839788234,
         "py": 440.7353981371751,
         "shape": "circle",
         "shape_attrs": {
          "r": 15
         },
         "value": null,
         "weight": 22,
         "x": 454.57338727966345,
         "xval": 40,
         "y": 440.870029182474,
         "yval": 9.523809523809524
        },
        {
         "index": 31,
         "label": "h1,20",
         "label_display": "none",
         "px": 452.51111853060013,
         "py": 433.8924336038177,
         "shape": "circle",
         "shape_attrs": {
          "r": 15
         },
         "value": null,
         "weight": 22,
         "x": 452.53198152903235,
         "xval": 40,
         "y": 433.96970392214837,
         "yval": 4.761904761904762
        },
        {
         "fixed": 0,
         "index": 32,
         "label": "h2,1",
         "label_display": "none",
         "px": 348.4069633574117,
         "py": 408.76281398343616,
         "shape": "circle",
         "shape_attrs": {
          "r": 15
         },
         "value": null,
         "weight": 21,
         "x": 348.4069633574117,
         "xval": 60,
         "y": 408.76281398343616,
         "yval": 90.90909090909092
        },
        {
         "fixed": 0,
         "index": 33,
         "label": "h2,2",
         "label_display": "none",
         "px": 348.98267226676734,
         "py": 414.2410318591959,
         "shape": "circle",
         "shape_attrs": {
          "r": 15
         },
         "value": null,
         "weight": 21,
         "x": 348.98267226676734,
         "xval": 60,
         "y": 414.2410318591959,
         "yval": 81.81818181818183
        },
        {
         "fixed": 0,
         "index": 34,
         "label": "h2,3",
         "label_display": "none",
         "px": 537.4603229397491,
         "py": 374.0357973649497,
         "shape": "circle",
         "shape_attrs": {
          "r": 15
         },
         "value": null,
         "weight": 21,
         "x": 537.4603229397491,
         "xval": 60,
         "y": 374.0357973649497,
         "yval": 72.72727272727273
        },
        {
         "index": 35,
         "label": "h2,4",
         "label_display": "none",
         "px": 538.4970595658459,
         "py": 378.0861567241818,
         "shape": "circle",
         "shape_attrs": {
          "r": 15
         },
         "value": null,
         "weight": 21,
         "x": 538.5316781024794,
         "xval": 60,
         "y": 378.0560742106646,
         "yval": 63.63636363636364
        },
        {
         "index": 36,
         "label": "h2,5",
         "label_display": "none",
         "px": 541.9506789452461,
         "py": 405.2045046484753,
         "shape": "circle",
         "shape_attrs": {
          "r": 15
         },
         "value": null,
         "weight": 21,
         "x": 541.9919124283681,
         "xval": 60,
         "y": 405.2694016450591,
         "yval": 54.54545454545455
        },
        {
         "index": 37,
         "label": "h2,6",
         "label_display": "none",
         "px": 540.2884600965493,
         "py": 386.07667443285,
         "shape": "circle",
         "shape_attrs": {
          "r": 15
         },
         "value": null,
         "weight": 21,
         "x": 540.3296107385247,
         "xval": 60,
         "y": 386.0726175500124,
         "yval": 45.45454545454546
        },
        {
         "index": 38,
         "label": "h2,7",
         "label_display": "none",
         "px": 541.4812921164678,
         "py": 394.6419287169871,
         "shape": "circle",
         "shape_attrs": {
          "r": 15
         },
         "value": null,
         "weight": 21,
         "x": 541.5256498499048,
         "xval": 60,
         "y": 394.6711846016649,
         "yval": 36.36363636363637
        },
        {
         "index": 39,
         "label": "h2,8",
         "label_display": "none",
         "px": 539.4750872865833,
         "py": 382.06791160469925,
         "shape": "circle",
         "shape_attrs": {
          "r": 15
         },
         "value": null,
         "weight": 21,
         "x": 539.5135288298698,
         "xval": 60,
         "y": 382.05054442074044,
         "yval": 27.272727272727273
        },
        {
         "fixed": 0,
         "index": 40,
         "label": "h2,9",
         "label_display": "none",
         "px": 541.8789771051929,
         "py": 399.51769602374225,
         "shape": "circle",
         "shape_attrs": {
          "r": 15
         },
         "value": null,
         "weight": 21,
         "x": 541.8789771051929,
         "xval": 60,
         "y": 399.51769602374225,
         "yval": 18.181818181818183
        },
        {
         "index": 41,
         "label": "h2,10",
         "label_display": "none",
         "px": 540.9635353553583,
         "py": 390.2506362665784,
         "shape": "circle",
         "shape_attrs": {
          "r": 15
         },
         "value": null,
         "weight": 21,
         "x": 541.0069568340803,
         "xval": 60,
         "y": 390.2620434189789,
         "yval": 9.090909090909092
        },
        {
         "fixed": 0,
         "index": 42,
         "label": "y1",
         "label_display": "none",
         "px": 443.91449995168784,
         "py": 356.55700616411593,
         "shape": "circle",
         "shape_attrs": {
          "r": 15
         },
         "value": null,
         "weight": 10,
         "x": 443.91449995168784,
         "xval": 80,
         "y": 356.55700616411593,
         "yval": 50
        }
       ],
       "preserve_domain": {},
       "scales": {
        "x": "IPY_MODEL_1fba8c3ad1dc44c2859297402b7539b0",
        "y": "IPY_MODEL_0ad5a8af60904e66a99cde9a11669de1"
       },
       "scales_metadata": {
        "color": {
         "dimension": "color"
        },
        "link_color": {
         "dimension": "color"
        },
        "x": {
         "dimension": "x",
         "orientation": "horizontal"
        },
        "y": {
         "dimension": "y",
         "orientation": "vertical"
        }
       },
       "selected": [],
       "selected_style": {
        "opacity": "1",
        "stroke": "red",
        "stroke-width": "2.5"
       },
       "tooltip": "IPY_MODEL_c0435348044c4dd984a24d59369f5c13",
       "tooltip_location": "mouse",
       "tooltip_style": {
        "opacity": 0.9
       },
       "unhovered_style": {
        "opacity": "0.4"
       },
       "unselected_style": {},
       "visible": true,
       "x": {
        "type": "float",
        "values": [
         20,
         20,
         20,
         20,
         20,
         20,
         20,
         20,
         20,
         20,
         20,
         20,
         40,
         40,
         40,
         40,
         40,
         40,
         40,
         40,
         40,
         40,
         40,
         40,
         40,
         40,
         40,
         40,
         40,
         40,
         40,
         40,
         60,
         60,
         60,
         60,
         60,
         60,
         60,
         60,
         60,
         60,
         80
        ]
       },
       "y": {
        "type": "float",
        "values": [
         92.3076923076923,
         84.61538461538461,
         76.92307692307692,
         69.23076923076923,
         61.53846153846154,
         53.84615384615385,
         46.15384615384615,
         38.46153846153846,
         30.76923076923077,
         23.076923076923077,
         15.384615384615385,
         7.6923076923076925,
         95.23809523809524,
         90.47619047619048,
         85.71428571428571,
         80.95238095238095,
         76.19047619047619,
         71.42857142857143,
         66.66666666666667,
         61.904761904761905,
         57.14285714285714,
         52.38095238095238,
         47.61904761904762,
         42.857142857142854,
         38.095238095238095,
         33.333333333333336,
         28.57142857142857,
         23.80952380952381,
         19.047619047619047,
         14.285714285714285,
         9.523809523809524,
         4.761904761904762,
         90.90909090909092,
         81.81818181818183,
         72.72727272727273,
         63.63636363636364,
         54.54545454545455,
         45.45454545454546,
         36.36363636363637,
         27.272727272727273,
         18.181818181818183,
         9.090909090909092,
         50
        ]
       }
      }
     },
     "5ad25e05494e461599772b49dd613b81": {
      "model_module": "bqplot",
      "model_module_version": "^0.3.0-alpha.1",
      "model_name": "AxisModel",
      "state": {
       "_model_module_version": "^0.3.0-alpha.1",
       "_view_module_version": "^0.3.0-alpha.1",
       "orientation": "vertical",
       "scale": "IPY_MODEL_db73751bcde94f5082bd4ffbaa1fd510",
       "side": "left",
       "tick_values": {
        "type": null,
        "values": null
       }
      }
     },
     "5eb9fdae65c44350bef6c4c3d7bcf898": {
      "model_module": "bqplot",
      "model_module_version": "^0.3.0-alpha.1",
      "model_name": "AxisModel",
      "state": {
       "_model_module_version": "^0.3.0-alpha.1",
       "_view_module_version": "^0.3.0-alpha.1",
       "orientation": "vertical",
       "scale": "IPY_MODEL_1908c59df4c543909ab63e1be1435050",
       "side": "left",
       "tick_values": {
        "type": null,
        "values": null
       }
      }
     },
     "62879dd0900c4a43845da32bb97b24ef": {
      "model_module": "@jupyter-widgets/controls",
      "model_module_version": "3.0.0",
      "model_name": "HBoxModel",
      "state": {
       "children": [
        "IPY_MODEL_b7572a0eac084bc6ba5871115fcab1ea",
        "IPY_MODEL_834676bba4ff4213a95ab51ee984c3b1",
        "IPY_MODEL_0324ccdf292c4a3f9b1ba2bf00975180",
        "IPY_MODEL_559f12feb29a462db4b1ea292a2b967b"
       ],
       "layout": "IPY_MODEL_818744429fc14d828e0d69207a9fd81c"
      }
     },
     "66aaccde017645bf8cdd08038f1fa009": {
      "model_module": "@jupyter-widgets/base",
      "model_module_version": "3.0.0",
      "model_name": "LayoutModel",
      "state": {
       "min_height": "1000px"
      }
     },
     "67f6192930b240629ef41c6f5dbfe2d2": {
      "model_module": "bqplot",
      "model_module_version": "^0.3.0-alpha.1",
      "model_name": "LinearScaleModel",
      "state": {
       "_model_module_version": "^0.3.0-alpha.1",
       "_view_module_version": "^0.3.0-alpha.1",
       "allow_padding": false,
       "max": 1,
       "min": 0,
       "stabilized": false
      }
     },
     "8168aaf5dfbc48699f5446bda4d500fe": {
      "model_module": "@jupyter-widgets/base",
      "model_module_version": "3.0.0",
      "model_name": "LayoutModel",
      "state": {
       "min_width": "125px"
      }
     },
     "818744429fc14d828e0d69207a9fd81c": {
      "model_module": "@jupyter-widgets/base",
      "model_module_version": "3.0.0",
      "model_name": "LayoutModel",
      "state": {}
     },
     "834676bba4ff4213a95ab51ee984c3b1": {
      "model_module": "@jupyter-widgets/controls",
      "model_module_version": "3.0.0",
      "model_name": "DropdownModel",
      "state": {
       "_options_labels": [
        "Weights",
        "Gradients"
       ],
       "description": "View",
       "index": 0,
       "layout": "IPY_MODEL_fb5ac6fb84e7429283afd04b9473a86c",
       "style": "IPY_MODEL_b1a7b0178ffa40d0880fdcfc204b7c3d"
      }
     },
     "8791f576e06c433d8c4bf8c457a4c995": {
      "model_module": "bqplot",
      "model_module_version": "^0.3.0-alpha.1",
      "model_name": "LinearScaleModel",
      "state": {
       "_model_module_version": "^0.3.0-alpha.1",
       "_view_module_version": "^0.3.0-alpha.1",
       "allow_padding": false,
       "max": 1,
       "min": 0,
       "stabilized": false
      }
     },
     "8c9f43e9285440a99d44c7939bfbf4aa": {
      "model_module": "bqplot",
      "model_module_version": "^0.3.0-alpha.1",
      "model_name": "FigureModel",
      "state": {
       "_dom_classes": [],
       "_model_module_version": "^0.3.0-alpha.1",
       "_view_module_version": "^0.3.0-alpha.1",
       "axes": [
        "IPY_MODEL_ea82e3f6e4c9455da4b33c15a817a092",
        "IPY_MODEL_5ad25e05494e461599772b49dd613b81"
       ],
       "layout": "IPY_MODEL_8168aaf5dfbc48699f5446bda4d500fe",
       "legend_location": "top-left",
       "marks": [
        "IPY_MODEL_bac96f65337148818650f081dae8a7e2"
       ],
       "max_aspect_ratio": 6,
       "scale_x": "IPY_MODEL_da5cb57925f942a9b161fa14ed373ed8",
       "scale_y": "IPY_MODEL_4281c005f9d943db951217c0a04b44cb",
       "title": "Train and Test AUC vs epoch"
      }
     },
     "8e706a43bf794d0697330b3ea3950f2e": {
      "model_module": "bqplot",
      "model_module_version": "^0.3.0-alpha.1",
      "model_name": "FigureModel",
      "state": {
       "_dom_classes": [],
       "_model_module_version": "^0.3.0-alpha.1",
       "_view_module_version": "^0.3.0-alpha.1",
       "layout": "IPY_MODEL_f91f4cf1e506418fa4eea3ede7ac362c",
       "marks": [
        "IPY_MODEL_59ceddebdda2418aa3ea33ab1f280ae7"
       ],
       "max_aspect_ratio": 6,
       "scale_x": "IPY_MODEL_67f6192930b240629ef41c6f5dbfe2d2",
       "scale_y": "IPY_MODEL_8791f576e06c433d8c4bf8c457a4c995",
       "title": "Analyzing the Trained Neural Network"
      }
     },
     "9c23708734a24c04acdc2849f31c8dc7": {
      "model_module": "@jupyter-widgets/base",
      "model_module_version": "3.0.0",
      "model_name": "LayoutModel",
      "state": {}
     },
     "a2128c2731f64514a46ccd3fe7a16ad0": {
      "model_module": "@jupyter-widgets/controls",
      "model_module_version": "3.0.0",
      "model_name": "VBoxModel",
      "state": {
       "children": [
        "IPY_MODEL_62879dd0900c4a43845da32bb97b24ef",
        "IPY_MODEL_8e706a43bf794d0697330b3ea3950f2e"
       ],
       "layout": "IPY_MODEL_66aaccde017645bf8cdd08038f1fa009"
      }
     },
     "b1a7b0178ffa40d0880fdcfc204b7c3d": {
      "model_module": "@jupyter-widgets/controls",
      "model_module_version": "3.0.0",
      "model_name": "DescriptionStyleModel",
      "state": {
       "description_width": ""
      }
     },
     "b7572a0eac084bc6ba5871115fcab1ea": {
      "model_module": "@jupyter-widgets/controls",
      "model_module_version": "3.0.0",
      "model_name": "IntSliderModel",
      "state": {
       "description": "Epoch:",
       "layout": "IPY_MODEL_e095eb4811e547b185cd1562a5595740",
       "max": 15,
       "min": 1,
       "style": "IPY_MODEL_2e3455bcc435446998fee87756cac406",
       "value": 1
      }
     },
     "bac96f65337148818650f081dae8a7e2": {
      "model_module": "bqplot",
      "model_module_version": "^0.3.0-alpha.1",
      "model_name": "LinesModel",
      "state": {
       "_model_module_version": "^0.3.0-alpha.1",
       "_view_module_version": "^0.3.0-alpha.1",
       "color": {
        "type": null,
        "values": null
       },
       "colors": [
        "DeepSkyBlue",
        "Red"
       ],
       "fill_colors": [],
       "labels": [
        "Training",
        "Test"
       ],
       "marker": "circle",
       "marker_size": 32,
       "scales": {
        "x": "IPY_MODEL_ec9dd465916e4d9386e13b6edf5932b4",
        "y": "IPY_MODEL_db73751bcde94f5082bd4ffbaa1fd510"
       },
       "selected": [],
       "x": {
        "type": "float",
        "values": [
         0,
         1,
         2,
         3,
         4,
         5,
         6,
         7,
         8,
         9,
         10,
         11,
         12,
         13,
         14
        ]
       },
       "y": {
        "type": "float",
        "values": [
         [
          0.4101919031556962,
          0.4400920929178406,
          0.5151369665498085,
          0.6041817835182144,
          0.6829390388143887,
          0.7420206851783961,
          0.7800774313593603,
          0.8007791133596932,
          0.8129562908068464,
          0.8200967118037902,
          0.8250330272769988,
          0.8286745445867628,
          0.831683344238398,
          0.8340625608768999,
          0.8363396372423317
         ],
         [
          0.4108736129260183,
          0.43972713315074197,
          0.5145143963275173,
          0.6048544414678277,
          0.6869474393932178,
          0.7472529951563722,
          0.7843739644684093,
          0.8043314924727304,
          0.8161405783535769,
          0.8231869195639595,
          0.828053458859185,
          0.831649061257362,
          0.834543166213524,
          0.8367784577381506,
          0.8390181589806366
         ]
        ]
       }
      }
     },
     "c03d44f039c04f388aa1f72c5ff5bb8e": {
      "model_module": "bqplot",
      "model_module_version": "^0.3.0-alpha.1",
      "model_name": "LinearScaleModel",
      "state": {
       "_model_module_version": "^0.3.0-alpha.1",
       "_view_module_version": "^0.3.0-alpha.1",
       "allow_padding": false,
       "max": 1,
       "min": 0,
       "stabilized": false
      }
     },
     "c0435348044c4dd984a24d59369f5c13": {
      "model_module": "bqplot",
      "model_module_version": "^0.3.0-alpha.1",
      "model_name": "FigureModel",
      "state": {
       "_dom_classes": [],
       "_model_module_version": "^0.3.0-alpha.1",
       "_view_module_version": "^0.3.0-alpha.1",
       "axes": [
        "IPY_MODEL_2948531784ba44879b8a9652addd3571",
        "IPY_MODEL_5eb9fdae65c44350bef6c4c3d7bcf898"
       ],
       "layout": "IPY_MODEL_4285dd1a6623415da266e452c1e7de63",
       "marks": [
        "IPY_MODEL_1456ebd8f87d4642bddfa5ab30dc50cc"
       ],
       "max_aspect_ratio": 6,
       "scale_x": "IPY_MODEL_c03d44f039c04f388aa1f72c5ff5bb8e",
       "scale_y": "IPY_MODEL_51c04a54892f4498984ec544cc8cc243",
       "title": "Weights for layer:1 node: 14 at epoch: 1"
      }
     },
     "da5cb57925f942a9b161fa14ed373ed8": {
      "model_module": "bqplot",
      "model_module_version": "^0.3.0-alpha.1",
      "model_name": "LinearScaleModel",
      "state": {
       "_model_module_version": "^0.3.0-alpha.1",
       "_view_module_version": "^0.3.0-alpha.1",
       "allow_padding": false,
       "max": 1,
       "min": 0,
       "stabilized": false
      }
     },
     "db73751bcde94f5082bd4ffbaa1fd510": {
      "model_module": "bqplot",
      "model_module_version": "^0.3.0-alpha.1",
      "model_name": "LinearScaleModel",
      "state": {
       "_model_module_version": "^0.3.0-alpha.1",
       "_view_module_version": "^0.3.0-alpha.1",
       "stabilized": false
      }
     },
     "e095eb4811e547b185cd1562a5595740": {
      "model_module": "@jupyter-widgets/base",
      "model_module_version": "3.0.0",
      "model_name": "LayoutModel",
      "state": {}
     },
     "ea82e3f6e4c9455da4b33c15a817a092": {
      "model_module": "bqplot",
      "model_module_version": "^0.3.0-alpha.1",
      "model_name": "AxisModel",
      "state": {
       "_model_module_version": "^0.3.0-alpha.1",
       "_view_module_version": "^0.3.0-alpha.1",
       "scale": "IPY_MODEL_ec9dd465916e4d9386e13b6edf5932b4",
       "side": "bottom",
       "tick_values": {
        "type": null,
        "values": null
       }
      }
     },
     "ec9dd465916e4d9386e13b6edf5932b4": {
      "model_module": "bqplot",
      "model_module_version": "^0.3.0-alpha.1",
      "model_name": "LinearScaleModel",
      "state": {
       "_model_module_version": "^0.3.0-alpha.1",
       "_view_module_version": "^0.3.0-alpha.1",
       "stabilized": false
      }
     },
     "f91f4cf1e506418fa4eea3ede7ac362c": {
      "model_module": "@jupyter-widgets/base",
      "model_module_version": "3.0.0",
      "model_name": "LayoutModel",
      "state": {
       "height": "800px",
       "min_width": "125px",
       "width": "900px"
      }
     },
     "fb5ac6fb84e7429283afd04b9473a86c": {
      "model_module": "@jupyter-widgets/base",
      "model_module_version": "3.0.0",
      "model_name": "LayoutModel",
      "state": {}
     }
    },
    "version_major": 2,
    "version_minor": 0
   }
  }
 },
 "nbformat": 4,
 "nbformat_minor": 2
}
